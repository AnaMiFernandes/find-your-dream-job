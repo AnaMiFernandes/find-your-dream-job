{
 "cells": [
  {
   "cell_type": "code",
   "execution_count": 1,
   "id": "empirical-watch",
   "metadata": {
    "scrolled": true
   },
   "outputs": [],
   "source": [
    "import pandas as pd\n",
    "import joblib\n",
    "from fydjob.Database import Database"
   ]
  },
  {
   "cell_type": "code",
   "execution_count": 2,
   "id": "fixed-planning",
   "metadata": {},
   "outputs": [],
   "source": [
    "from fydjob.utils import lemmatize_words, remove_stopwords, join_strings"
   ]
  },
  {
   "cell_type": "code",
   "execution_count": 3,
   "id": "legendary-broad",
   "metadata": {},
   "outputs": [],
   "source": [
    "db = Database()\n",
    "df = db.to_frame()"
   ]
  },
  {
   "cell_type": "markdown",
   "id": "enclosed-smell",
   "metadata": {},
   "source": [
    "df = joblib.load('output/indeed_proc/processed_data.joblib')"
   ]
  },
  {
   "cell_type": "code",
   "execution_count": 4,
   "id": "manual-bobby",
   "metadata": {},
   "outputs": [
    {
     "data": {
      "text/html": [
       "<div>\n",
       "<style scoped>\n",
       "    .dataframe tbody tr th:only-of-type {\n",
       "        vertical-align: middle;\n",
       "    }\n",
       "\n",
       "    .dataframe tbody tr th {\n",
       "        vertical-align: top;\n",
       "    }\n",
       "\n",
       "    .dataframe thead th {\n",
       "        text-align: right;\n",
       "    }\n",
       "</style>\n",
       "<table border=\"1\" class=\"dataframe\">\n",
       "  <thead>\n",
       "    <tr style=\"text-align: right;\">\n",
       "      <th></th>\n",
       "      <th>job_id</th>\n",
       "      <th>job_title</th>\n",
       "      <th>job_text</th>\n",
       "      <th>company</th>\n",
       "      <th>location</th>\n",
       "      <th>job_info</th>\n",
       "      <th>job_link</th>\n",
       "      <th>query_text</th>\n",
       "      <th>source</th>\n",
       "      <th>tag_language</th>\n",
       "      <th>reviews</th>\n",
       "    </tr>\n",
       "  </thead>\n",
       "  <tbody>\n",
       "    <tr>\n",
       "      <th>0</th>\n",
       "      <td>1</td>\n",
       "      <td>Data Scientist / Matching Engineer (m/w/d)</td>\n",
       "      <td>You are responsible for improvement of Taledo’...</td>\n",
       "      <td>Taledo</td>\n",
       "      <td>Berlin</td>\n",
       "      <td>Data Scientist / Matching Engineer (m/w/d)\\nTa...</td>\n",
       "      <td>data engineer</td>\n",
       "      <td>scrape_json</td>\n",
       "      <td>None</td>\n",
       "      <td>en</td>\n",
       "      <td>None</td>\n",
       "    </tr>\n",
       "    <tr>\n",
       "      <th>1</th>\n",
       "      <td>2</td>\n",
       "      <td>Senior Software Engineer - Data Platform</td>\n",
       "      <td>We are looking for a Senior Software Engineer ...</td>\n",
       "      <td>Zalando SE</td>\n",
       "      <td>Berlin</td>\n",
       "      <td>Senior Software Engineer - Data Platform\\nZala...</td>\n",
       "      <td>data engineer</td>\n",
       "      <td>scrape_json</td>\n",
       "      <td>None</td>\n",
       "      <td>en</td>\n",
       "      <td>None</td>\n",
       "    </tr>\n",
       "    <tr>\n",
       "      <th>2</th>\n",
       "      <td>3</td>\n",
       "      <td>Senior Data Engineer (m/w/t)</td>\n",
       "      <td>As a member of the Data Engineering Team, you ...</td>\n",
       "      <td>Quandoo GmbH</td>\n",
       "      <td>Berlin</td>\n",
       "      <td>Senior Data Engineer (m/w/t)\\nQuandoo GmbH17 B...</td>\n",
       "      <td>data engineer</td>\n",
       "      <td>scrape_json</td>\n",
       "      <td>None</td>\n",
       "      <td>en</td>\n",
       "      <td>None</td>\n",
       "    </tr>\n",
       "    <tr>\n",
       "      <th>3</th>\n",
       "      <td>4</td>\n",
       "      <td>Data Engineer (w/m/d)</td>\n",
       "      <td>We are digitty.io – an international start-up ...</td>\n",
       "      <td>digitty.io</td>\n",
       "      <td>Berlin</td>\n",
       "      <td>Data Engineer (w/m/d)\\ndigitty.io - Berlin</td>\n",
       "      <td>data engineer</td>\n",
       "      <td>scrape_json</td>\n",
       "      <td>None</td>\n",
       "      <td>en</td>\n",
       "      <td>None</td>\n",
       "    </tr>\n",
       "    <tr>\n",
       "      <th>4</th>\n",
       "      <td>5</td>\n",
       "      <td>Data Engineer</td>\n",
       "      <td>We activate data for our clients by using stat...</td>\n",
       "      <td>Gemma Analytics</td>\n",
       "      <td>Berlin</td>\n",
       "      <td>Data Engineer\\nGemma Analytics - Berlin</td>\n",
       "      <td>data engineer</td>\n",
       "      <td>scrape_json</td>\n",
       "      <td>None</td>\n",
       "      <td>en</td>\n",
       "      <td>None</td>\n",
       "    </tr>\n",
       "  </tbody>\n",
       "</table>\n",
       "</div>"
      ],
      "text/plain": [
       "   job_id                                   job_title  \\\n",
       "0       1  Data Scientist / Matching Engineer (m/w/d)   \n",
       "1       2    Senior Software Engineer - Data Platform   \n",
       "2       3                Senior Data Engineer (m/w/t)   \n",
       "3       4                       Data Engineer (w/m/d)   \n",
       "4       5                               Data Engineer   \n",
       "\n",
       "                                            job_text          company  \\\n",
       "0  You are responsible for improvement of Taledo’...           Taledo   \n",
       "1  We are looking for a Senior Software Engineer ...       Zalando SE   \n",
       "2  As a member of the Data Engineering Team, you ...     Quandoo GmbH   \n",
       "3  We are digitty.io – an international start-up ...       digitty.io   \n",
       "4  We activate data for our clients by using stat...  Gemma Analytics   \n",
       "\n",
       "  location                                           job_info       job_link  \\\n",
       "0   Berlin  Data Scientist / Matching Engineer (m/w/d)\\nTa...  data engineer   \n",
       "1   Berlin  Senior Software Engineer - Data Platform\\nZala...  data engineer   \n",
       "2   Berlin  Senior Data Engineer (m/w/t)\\nQuandoo GmbH17 B...  data engineer   \n",
       "3   Berlin         Data Engineer (w/m/d)\\ndigitty.io - Berlin  data engineer   \n",
       "4   Berlin            Data Engineer\\nGemma Analytics - Berlin  data engineer   \n",
       "\n",
       "    query_text source tag_language reviews  \n",
       "0  scrape_json   None           en    None  \n",
       "1  scrape_json   None           en    None  \n",
       "2  scrape_json   None           en    None  \n",
       "3  scrape_json   None           en    None  \n",
       "4  scrape_json   None           en    None  "
      ]
     },
     "execution_count": 4,
     "metadata": {},
     "output_type": "execute_result"
    }
   ],
   "source": [
    "df.head()"
   ]
  },
  {
   "cell_type": "code",
   "execution_count": 7,
   "id": "comparable-gambling",
   "metadata": {},
   "outputs": [
    {
     "data": {
      "text/plain": [
       "kaggle_1       5297\n",
       "scrape_json     625\n",
       "Name: query_text, dtype: int64"
      ]
     },
     "execution_count": 7,
     "metadata": {},
     "output_type": "execute_result"
    }
   ],
   "source": [
    "df.query_text.value_counts()"
   ]
  },
  {
   "cell_type": "code",
   "execution_count": 5,
   "id": "divided-honey",
   "metadata": {},
   "outputs": [
    {
     "data": {
      "text/plain": [
       "(5922, 11)"
      ]
     },
     "execution_count": 5,
     "metadata": {},
     "output_type": "execute_result"
    }
   ],
   "source": [
    "df.shape"
   ]
  },
  {
   "cell_type": "code",
   "execution_count": 6,
   "id": "empty-priority",
   "metadata": {},
   "outputs": [
    {
     "ename": "AttributeError",
     "evalue": "'DataFrame' object has no attribute 'job_text_tokenized'",
     "output_type": "error",
     "traceback": [
      "\u001b[0;31m---------------------------------------------------------------------------\u001b[0m",
      "\u001b[0;31mAttributeError\u001b[0m                            Traceback (most recent call last)",
      "\u001b[0;32m<ipython-input-6-739af49f7dbd>\u001b[0m in \u001b[0;36m<module>\u001b[0;34m\u001b[0m\n\u001b[0;32m----> 1\u001b[0;31m \u001b[0mdf\u001b[0m\u001b[0;34m[\u001b[0m\u001b[0;34m'clean'\u001b[0m\u001b[0;34m]\u001b[0m \u001b[0;34m=\u001b[0m \u001b[0mdf\u001b[0m\u001b[0;34m.\u001b[0m\u001b[0mjob_text_tokenized\u001b[0m\u001b[0;34m.\u001b[0m\u001b[0mapply\u001b[0m\u001b[0;34m(\u001b[0m\u001b[0mjoin_strings\u001b[0m\u001b[0;34m)\u001b[0m\u001b[0;34m.\u001b[0m\u001b[0mapply\u001b[0m\u001b[0;34m(\u001b[0m\u001b[0mlemmatize_words\u001b[0m\u001b[0;34m)\u001b[0m\u001b[0;34m.\u001b[0m\u001b[0mapply\u001b[0m\u001b[0;34m(\u001b[0m\u001b[0mremove_stopwords\u001b[0m\u001b[0;34m)\u001b[0m\u001b[0;34m\u001b[0m\u001b[0;34m\u001b[0m\u001b[0m\n\u001b[0m",
      "\u001b[0;32m~/.pyenv/versions/3.8.6/envs/fydjob/lib/python3.8/site-packages/pandas/core/generic.py\u001b[0m in \u001b[0;36m__getattr__\u001b[0;34m(self, name)\u001b[0m\n\u001b[1;32m   5460\u001b[0m             \u001b[0;32mif\u001b[0m \u001b[0mself\u001b[0m\u001b[0;34m.\u001b[0m\u001b[0m_info_axis\u001b[0m\u001b[0;34m.\u001b[0m\u001b[0m_can_hold_identifiers_and_holds_name\u001b[0m\u001b[0;34m(\u001b[0m\u001b[0mname\u001b[0m\u001b[0;34m)\u001b[0m\u001b[0;34m:\u001b[0m\u001b[0;34m\u001b[0m\u001b[0;34m\u001b[0m\u001b[0m\n\u001b[1;32m   5461\u001b[0m                 \u001b[0;32mreturn\u001b[0m \u001b[0mself\u001b[0m\u001b[0;34m[\u001b[0m\u001b[0mname\u001b[0m\u001b[0;34m]\u001b[0m\u001b[0;34m\u001b[0m\u001b[0;34m\u001b[0m\u001b[0m\n\u001b[0;32m-> 5462\u001b[0;31m             \u001b[0;32mreturn\u001b[0m \u001b[0mobject\u001b[0m\u001b[0;34m.\u001b[0m\u001b[0m__getattribute__\u001b[0m\u001b[0;34m(\u001b[0m\u001b[0mself\u001b[0m\u001b[0;34m,\u001b[0m \u001b[0mname\u001b[0m\u001b[0;34m)\u001b[0m\u001b[0;34m\u001b[0m\u001b[0;34m\u001b[0m\u001b[0m\n\u001b[0m\u001b[1;32m   5463\u001b[0m \u001b[0;34m\u001b[0m\u001b[0m\n\u001b[1;32m   5464\u001b[0m     \u001b[0;32mdef\u001b[0m \u001b[0m__setattr__\u001b[0m\u001b[0;34m(\u001b[0m\u001b[0mself\u001b[0m\u001b[0;34m,\u001b[0m \u001b[0mname\u001b[0m\u001b[0;34m:\u001b[0m \u001b[0mstr\u001b[0m\u001b[0;34m,\u001b[0m \u001b[0mvalue\u001b[0m\u001b[0;34m)\u001b[0m \u001b[0;34m->\u001b[0m \u001b[0;32mNone\u001b[0m\u001b[0;34m:\u001b[0m\u001b[0;34m\u001b[0m\u001b[0;34m\u001b[0m\u001b[0m\n",
      "\u001b[0;31mAttributeError\u001b[0m: 'DataFrame' object has no attribute 'job_text_tokenized'"
     ]
    }
   ],
   "source": [
    "df['clean'] = df.job_text_tokenized.apply(join_strings).apply(lemmatize_words).apply(remove_stopwords)"
   ]
  },
  {
   "cell_type": "code",
   "execution_count": null,
   "id": "brief-station",
   "metadata": {},
   "outputs": [],
   "source": []
  }
 ],
 "metadata": {
  "kernelspec": {
   "display_name": "Python 3",
   "language": "python",
   "name": "python3"
  },
  "language_info": {
   "codemirror_mode": {
    "name": "ipython",
    "version": 3
   },
   "file_extension": ".py",
   "mimetype": "text/x-python",
   "name": "python",
   "nbconvert_exporter": "python",
   "pygments_lexer": "ipython3",
   "version": "3.8.6"
  }
 },
 "nbformat": 4,
 "nbformat_minor": 5
}
