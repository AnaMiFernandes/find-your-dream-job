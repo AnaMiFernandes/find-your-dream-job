{
 "cells": [
  {
   "cell_type": "code",
   "execution_count": 28,
   "id": "overhead-prerequisite",
   "metadata": {},
   "outputs": [],
   "source": [
    "import pandas as pd\n",
    "import joblib"
   ]
  },
  {
   "cell_type": "code",
   "execution_count": 29,
   "id": "arbitrary-influence",
   "metadata": {},
   "outputs": [
    {
     "data": {
      "text/plain": [
       "['ip_2021-03-03.joblib']"
      ]
     },
     "execution_count": 29,
     "metadata": {},
     "output_type": "execute_result"
    }
   ],
   "source": [
    "import os\n",
    "os.listdir('../../../raw_data/indeed_proc/')"
   ]
  },
  {
   "cell_type": "code",
   "execution_count": 30,
   "id": "loving-longitude",
   "metadata": {},
   "outputs": [
    {
     "data": {
      "text/html": [
       "<div>\n",
       "<style scoped>\n",
       "    .dataframe tbody tr th:only-of-type {\n",
       "        vertical-align: middle;\n",
       "    }\n",
       "\n",
       "    .dataframe tbody tr th {\n",
       "        vertical-align: top;\n",
       "    }\n",
       "\n",
       "    .dataframe thead th {\n",
       "        text-align: right;\n",
       "    }\n",
       "</style>\n",
       "<table border=\"1\" class=\"dataframe\">\n",
       "  <thead>\n",
       "    <tr style=\"text-align: right;\">\n",
       "      <th></th>\n",
       "      <th>job_title</th>\n",
       "      <th>job_text</th>\n",
       "      <th>company</th>\n",
       "      <th>location</th>\n",
       "      <th>job_info</th>\n",
       "      <th>query_text</th>\n",
       "      <th>tag_language</th>\n",
       "      <th>job_info_tokenized</th>\n",
       "      <th>job_text_tokenized</th>\n",
       "      <th>job_text_tokenized_titlecase</th>\n",
       "      <th>job_title_tokenized</th>\n",
       "    </tr>\n",
       "  </thead>\n",
       "  <tbody>\n",
       "    <tr>\n",
       "      <th>0</th>\n",
       "      <td>Data Scientist / Matching Engineer (m/w/d)</td>\n",
       "      <td>You are responsible for improvement of Taledo’...</td>\n",
       "      <td>Taledo</td>\n",
       "      <td>Berlin</td>\n",
       "      <td>Data Scientist / Matching Engineer (m/w/d)\\nTa...</td>\n",
       "      <td>data engineer</td>\n",
       "      <td>en</td>\n",
       "      <td>[data, scientist, matching, engineer, mwd, tal...</td>\n",
       "      <td>[you, are, responsible, for, improvement, of, ...</td>\n",
       "      <td>[You, are, responsible, for, improvement, of, ...</td>\n",
       "      <td>[data, scientist, matching, engineer, mwd]</td>\n",
       "    </tr>\n",
       "    <tr>\n",
       "      <th>3</th>\n",
       "      <td>Senior Software Engineer - Data Platform</td>\n",
       "      <td>We are looking for a Senior Software Engineer ...</td>\n",
       "      <td>Zalando SE</td>\n",
       "      <td>Berlin</td>\n",
       "      <td>Senior Software Engineer - Data Platform\\nZala...</td>\n",
       "      <td>data engineer</td>\n",
       "      <td>en</td>\n",
       "      <td>[senior, software, engineer, data, platform, z...</td>\n",
       "      <td>[we, are, looking, for, a, senior, software, e...</td>\n",
       "      <td>[We, are, looking, for, a, Senior, Software, E...</td>\n",
       "      <td>[senior, software, engineer, data, platform]</td>\n",
       "    </tr>\n",
       "    <tr>\n",
       "      <th>5</th>\n",
       "      <td>Senior Software Engineer - Data Platform</td>\n",
       "      <td>We are looking for a Senior Software Engineer ...</td>\n",
       "      <td>Zalando</td>\n",
       "      <td>Berlin</td>\n",
       "      <td>Senior Software Engineer - Data Platform\\nZala...</td>\n",
       "      <td>data engineer</td>\n",
       "      <td>en</td>\n",
       "      <td>[senior, software, engineer, data, platform, z...</td>\n",
       "      <td>[we, are, looking, for, a, senior, software, e...</td>\n",
       "      <td>[We, are, looking, for, a, Senior, Software, E...</td>\n",
       "      <td>[senior, software, engineer, data, platform]</td>\n",
       "    </tr>\n",
       "    <tr>\n",
       "      <th>7</th>\n",
       "      <td>Senior Data Engineer (m/w/t)</td>\n",
       "      <td>As a member of the Data Engineering Team, you ...</td>\n",
       "      <td>Quandoo GmbH</td>\n",
       "      <td>Berlin</td>\n",
       "      <td>Senior Data Engineer (m/w/t)\\nQuandoo GmbH17 B...</td>\n",
       "      <td>data engineer</td>\n",
       "      <td>en</td>\n",
       "      <td>[senior, data, engineer, mwt, quandoo, gmbh, b...</td>\n",
       "      <td>[as, a, member, of, the, data, engineering, te...</td>\n",
       "      <td>[As, a, member, of, the, Data, Engineering, Te...</td>\n",
       "      <td>[senior, data, engineer, mwt]</td>\n",
       "    </tr>\n",
       "    <tr>\n",
       "      <th>8</th>\n",
       "      <td>Data Engineer (w/m/d)</td>\n",
       "      <td>We are digitty.io – an international start-up ...</td>\n",
       "      <td>digitty.io</td>\n",
       "      <td>Berlin</td>\n",
       "      <td>Data Engineer (w/m/d)\\ndigitty.io - Berlin</td>\n",
       "      <td>data engineer</td>\n",
       "      <td>en</td>\n",
       "      <td>[data, engineer, wmd, digittyio, berlin]</td>\n",
       "      <td>[we, are, digittyio, an, international, startu...</td>\n",
       "      <td>[We, are, digittyio, an, international, startu...</td>\n",
       "      <td>[data, engineer, wmd]</td>\n",
       "    </tr>\n",
       "  </tbody>\n",
       "</table>\n",
       "</div>"
      ],
      "text/plain": [
       "                                    job_title  \\\n",
       "0  Data Scientist / Matching Engineer (m/w/d)   \n",
       "3    Senior Software Engineer - Data Platform   \n",
       "5    Senior Software Engineer - Data Platform   \n",
       "7                Senior Data Engineer (m/w/t)   \n",
       "8                       Data Engineer (w/m/d)   \n",
       "\n",
       "                                            job_text       company location  \\\n",
       "0  You are responsible for improvement of Taledo’...        Taledo   Berlin   \n",
       "3  We are looking for a Senior Software Engineer ...    Zalando SE   Berlin   \n",
       "5  We are looking for a Senior Software Engineer ...       Zalando   Berlin   \n",
       "7  As a member of the Data Engineering Team, you ...  Quandoo GmbH   Berlin   \n",
       "8  We are digitty.io – an international start-up ...    digitty.io   Berlin   \n",
       "\n",
       "                                            job_info     query_text  \\\n",
       "0  Data Scientist / Matching Engineer (m/w/d)\\nTa...  data engineer   \n",
       "3  Senior Software Engineer - Data Platform\\nZala...  data engineer   \n",
       "5  Senior Software Engineer - Data Platform\\nZala...  data engineer   \n",
       "7  Senior Data Engineer (m/w/t)\\nQuandoo GmbH17 B...  data engineer   \n",
       "8         Data Engineer (w/m/d)\\ndigitty.io - Berlin  data engineer   \n",
       "\n",
       "  tag_language                                 job_info_tokenized  \\\n",
       "0           en  [data, scientist, matching, engineer, mwd, tal...   \n",
       "3           en  [senior, software, engineer, data, platform, z...   \n",
       "5           en  [senior, software, engineer, data, platform, z...   \n",
       "7           en  [senior, data, engineer, mwt, quandoo, gmbh, b...   \n",
       "8           en           [data, engineer, wmd, digittyio, berlin]   \n",
       "\n",
       "                                  job_text_tokenized  \\\n",
       "0  [you, are, responsible, for, improvement, of, ...   \n",
       "3  [we, are, looking, for, a, senior, software, e...   \n",
       "5  [we, are, looking, for, a, senior, software, e...   \n",
       "7  [as, a, member, of, the, data, engineering, te...   \n",
       "8  [we, are, digittyio, an, international, startu...   \n",
       "\n",
       "                        job_text_tokenized_titlecase  \\\n",
       "0  [You, are, responsible, for, improvement, of, ...   \n",
       "3  [We, are, looking, for, a, Senior, Software, E...   \n",
       "5  [We, are, looking, for, a, Senior, Software, E...   \n",
       "7  [As, a, member, of, the, Data, Engineering, Te...   \n",
       "8  [We, are, digittyio, an, international, startu...   \n",
       "\n",
       "                            job_title_tokenized  \n",
       "0    [data, scientist, matching, engineer, mwd]  \n",
       "3  [senior, software, engineer, data, platform]  \n",
       "5  [senior, software, engineer, data, platform]  \n",
       "7                 [senior, data, engineer, mwt]  \n",
       "8                         [data, engineer, wmd]  "
      ]
     },
     "execution_count": 30,
     "metadata": {},
     "output_type": "execute_result"
    }
   ],
   "source": [
    "df = joblib.load('../../../raw_data/indeed_proc/ip_2021-03-03.joblib')\n",
    "df = df[df.tag_language == 'en']\n",
    "df.head()"
   ]
  },
  {
   "cell_type": "markdown",
   "id": "proprietary-mediterranean",
   "metadata": {},
   "source": [
    "### Load all files and gather all skills. "
   ]
  },
  {
   "cell_type": "code",
   "execution_count": 31,
   "id": "worldwide-species",
   "metadata": {},
   "outputs": [
    {
     "data": {
      "text/plain": [
       "['soft_skills.csv',\n",
       " 'bus_skills.csv',\n",
       " 'tech_adjectives.csv',\n",
       " 'adjectives.csv',\n",
       " 'programming.csv',\n",
       " 'methodology.csv']"
      ]
     },
     "execution_count": 31,
     "metadata": {},
     "output_type": "execute_result"
    }
   ],
   "source": [
    "csvs = [file for file in os.listdir() if file.endswith('.csv') \n",
    "                                      and '_multi' not in file]\n",
    "csvs"
   ]
  },
  {
   "cell_type": "code",
   "execution_count": 32,
   "id": "limited-lobby",
   "metadata": {},
   "outputs": [],
   "source": [
    "all_skills = []\n",
    "\n",
    "for file in csvs:\n",
    "    all_skills += list(pd.read_csv(file, header=None).iloc[:, 0])\n",
    "\n",
    "all_skills = set(all_skills)"
   ]
  },
  {
   "cell_type": "markdown",
   "id": "animal-jenny",
   "metadata": {},
   "source": [
    "### Get all tokens with ocurrences >= 30."
   ]
  },
  {
   "cell_type": "code",
   "execution_count": 33,
   "id": "completed-designer",
   "metadata": {},
   "outputs": [],
   "source": [
    "from collections import Counter\n",
    "token_count = Counter([token \n",
    "                       for lst in df.job_text_tokenized\n",
    "                       for token in lst]).most_common()\n",
    "\n",
    "over_30 = [tup[0] for tup in token_count if tup[1] >= 30]\n"
   ]
  },
  {
   "cell_type": "markdown",
   "id": "prerequisite-unemployment",
   "metadata": {},
   "source": [
    "### Remove tokens which are skills or are English stopwords. "
   ]
  },
  {
   "cell_type": "code",
   "execution_count": 34,
   "id": "durable-protein",
   "metadata": {},
   "outputs": [],
   "source": [
    "from nltk.corpus import stopwords \n",
    "\n",
    "stop_words = set(stopwords.words('english')) \n",
    "new_tokens = [token for token in over_30\n",
    "              if token not in stop_words\n",
    "             and token not in all_skills]"
   ]
  },
  {
   "cell_type": "code",
   "execution_count": 35,
   "id": "ordinary-morgan",
   "metadata": {},
   "outputs": [
    {
     "data": {
      "text/plain": [
       "1024"
      ]
     },
     "execution_count": 35,
     "metadata": {},
     "output_type": "execute_result"
    }
   ],
   "source": [
    "len(new_tokens)"
   ]
  },
  {
   "cell_type": "code",
   "execution_count": 42,
   "id": "vital-eligibility",
   "metadata": {
    "scrolled": false
   },
   "outputs": [],
   "source": [
    "pd.Series(new_tokens).to_csv('tokens_above_30.csv', index=None)"
   ]
  },
  {
   "cell_type": "code",
   "execution_count": null,
   "id": "external-foundation",
   "metadata": {},
   "outputs": [],
   "source": []
  }
 ],
 "metadata": {
  "kernelspec": {
   "display_name": "Python 3",
   "language": "python",
   "name": "python3"
  },
  "language_info": {
   "codemirror_mode": {
    "name": "ipython",
    "version": 3
   },
   "file_extension": ".py",
   "mimetype": "text/x-python",
   "name": "python",
   "nbconvert_exporter": "python",
   "pygments_lexer": "ipython3",
   "version": "3.8.6"
  }
 },
 "nbformat": 4,
 "nbformat_minor": 5
}
