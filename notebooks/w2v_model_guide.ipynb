{
 "cells": [
  {
   "cell_type": "code",
   "execution_count": 1,
   "id": "banned-payday",
   "metadata": {},
   "outputs": [],
   "source": [
    "from gensim.models import Word2Vec\n",
    "\n",
    "'''\n",
    "instanciate a model with the .load method and select the path to the saved .model files\n",
    "'''\n",
    "\n",
    "w2v_model = Word2Vec.load(\"../fydjob/data/models/w2v_model_baseline.model\")"
   ]
  },
  {
   "cell_type": "code",
   "execution_count": 2,
   "id": "instrumental-baghdad",
   "metadata": {},
   "outputs": [
    {
     "data": {
      "text/plain": [
       "[('r', 0.9612724781036377),\n",
       " ('scala', 0.9477375149726868),\n",
       " ('java', 0.9473602771759033),\n",
       " ('perl', 0.9447371363639832),\n",
       " ('matlab', 0.9395166635513306)]"
      ]
     },
     "execution_count": 2,
     "metadata": {},
     "output_type": "execute_result"
    }
   ],
   "source": [
    "### get the most similar word based on input\n",
    "## topn argument determines the amount of output\n",
    "\n",
    "w2v_model.wv.most_similar([\"python\"],topn = 5) # works with single words\n"
   ]
  },
  {
   "cell_type": "code",
   "execution_count": 3,
   "id": "parliamentary-pointer",
   "metadata": {
    "scrolled": true
   },
   "outputs": [
    {
     "data": {
      "text/plain": [
       "[('pyspark', 0.867759108543396),\n",
       " ('mllib', 0.854099452495575),\n",
       " ('scikitlearn', 0.8507022857666016),\n",
       " ('weka', 0.8486486673355103),\n",
       " ('python', 0.8442978858947754),\n",
       " ('mahout', 0.8426533937454224),\n",
       " ('matplotlib', 0.8281667232513428),\n",
       " ('javascala', 0.8275004625320435),\n",
       " ('tensorflow', 0.8274854421615601),\n",
       " ('sparkml', 0.8237966299057007)]"
      ]
     },
     "execution_count": 3,
     "metadata": {},
     "output_type": "execute_result"
    }
   ],
   "source": [
    "w2v_model.wv.most_similar([\"r\",\"keras\", \"google\"]) # also works with list of items"
   ]
  },
  {
   "cell_type": "code",
   "execution_count": 4,
   "id": "strong-valuable",
   "metadata": {},
   "outputs": [
    {
     "data": {
      "text/plain": [
       "array([ 0.15886226, -3.3539152 , -1.9825336 , -1.7529067 ,  4.870685  ,\n",
       "        0.20570089,  1.8461772 , -0.13370927,  0.09226471,  0.7897785 ,\n",
       "       -1.6683755 ,  0.5658114 ,  1.9272265 ,  0.02071366, -2.4904628 ,\n",
       "       -0.5608443 , -1.6381192 ,  1.9760838 , -0.06006636,  1.5118777 ],\n",
       "      dtype=float32)"
      ]
     },
     "execution_count": 4,
     "metadata": {},
     "output_type": "execute_result"
    }
   ],
   "source": [
    "w2v_model.wv.__getitem__(\"python\")  # if you want to extract the vectors for whatever reason"
   ]
  },
  {
   "cell_type": "code",
   "execution_count": null,
   "id": "dirty-representation",
   "metadata": {},
   "outputs": [],
   "source": []
  }
 ],
 "metadata": {
  "kernelspec": {
   "display_name": "Python 3",
   "language": "python",
   "name": "python3"
  },
  "language_info": {
   "codemirror_mode": {
    "name": "ipython",
    "version": 3
   },
   "file_extension": ".py",
   "mimetype": "text/x-python",
   "name": "python",
   "nbconvert_exporter": "python",
   "pygments_lexer": "ipython3",
   "version": "3.8.6"
  },
  "toc": {
   "base_numbering": 1,
   "nav_menu": {},
   "number_sections": true,
   "sideBar": true,
   "skip_h1_title": false,
   "title_cell": "Table of Contents",
   "title_sidebar": "Contents",
   "toc_cell": false,
   "toc_position": {},
   "toc_section_display": true,
   "toc_window_display": false
  },
  "varInspector": {
   "cols": {
    "lenName": 16,
    "lenType": 16,
    "lenVar": 40
   },
   "kernels_config": {
    "python": {
     "delete_cmd_postfix": "",
     "delete_cmd_prefix": "del ",
     "library": "var_list.py",
     "varRefreshCmd": "print(var_dic_list())"
    },
    "r": {
     "delete_cmd_postfix": ") ",
     "delete_cmd_prefix": "rm(",
     "library": "var_list.r",
     "varRefreshCmd": "cat(var_dic_list()) "
    }
   },
   "types_to_exclude": [
    "module",
    "function",
    "builtin_function_or_method",
    "instance",
    "_Feature"
   ],
   "window_display": false
  }
 },
 "nbformat": 4,
 "nbformat_minor": 5
}
