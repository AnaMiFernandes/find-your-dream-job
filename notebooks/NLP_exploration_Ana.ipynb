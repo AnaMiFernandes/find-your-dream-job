{
 "cells": [
  {
   "cell_type": "markdown",
   "id": "floral-presentation",
   "metadata": {},
   "source": [
    "# Exploratory analysis for NLP models"
   ]
  },
  {
   "cell_type": "markdown",
   "id": "binding-surface",
   "metadata": {},
   "source": [
    "Vlad scraped glassdoor last year for job descriptions. Here is the raw data:"
   ]
  },
  {
   "cell_type": "code",
   "execution_count": 2,
   "id": "necessary-audience",
   "metadata": {},
   "outputs": [],
   "source": [
    "import pandas as pd\n",
    "import numpy as np\n",
    "import matplotlib.pyplot as plt"
   ]
  },
  {
   "cell_type": "code",
   "execution_count": 3,
   "id": "civil-sport",
   "metadata": {},
   "outputs": [],
   "source": [
    "df = pd.read_json('../../../glassdoor_scraper_output/data_scientist_in_berlin_2020-09-03.json')"
   ]
  },
  {
   "cell_type": "code",
   "execution_count": 4,
   "id": "quarterly-sherman",
   "metadata": {},
   "outputs": [
    {
     "data": {
      "text/html": [
       "<div>\n",
       "<style scoped>\n",
       "    .dataframe tbody tr th:only-of-type {\n",
       "        vertical-align: middle;\n",
       "    }\n",
       "\n",
       "    .dataframe tbody tr th {\n",
       "        vertical-align: top;\n",
       "    }\n",
       "\n",
       "    .dataframe thead th {\n",
       "        text-align: right;\n",
       "    }\n",
       "</style>\n",
       "<table border=\"1\" class=\"dataframe\">\n",
       "  <thead>\n",
       "    <tr style=\"text-align: right;\">\n",
       "      <th></th>\n",
       "      <th>position</th>\n",
       "      <th>company</th>\n",
       "      <th>description</th>\n",
       "      <th>url</th>\n",
       "    </tr>\n",
       "  </thead>\n",
       "  <tbody>\n",
       "    <tr>\n",
       "      <th>0</th>\n",
       "      <td>Data Scientist (m/f/x)</td>\n",
       "      <td>Deutsche Bank AG\\n3.6\\n★</td>\n",
       "      <td>Job Description:\\n\\n\\nTG 8\\n\\nDetails of the r...</td>\n",
       "      <td>https://www.glassdoor.de/job-listing/data-scie...</td>\n",
       "    </tr>\n",
       "    <tr>\n",
       "      <th>1</th>\n",
       "      <td>Studentische Aushilfe (m/w/d) Data Science im ...</td>\n",
       "      <td>Federal Association of the AOK\\n3.9\\n★</td>\n",
       "      <td>Vielfältige Aufgaben warten auf Sie\\nUnterstüt...</td>\n",
       "      <td>https://www.glassdoor.de/job-listing/studentis...</td>\n",
       "    </tr>\n",
       "    <tr>\n",
       "      <th>2</th>\n",
       "      <td>Data Architect (m/w/d) - Energy Management</td>\n",
       "      <td>Viessmann Werke Berlin Gmbh\\n4.0\\n★</td>\n",
       "      <td>What gets you out of bed in the morning and ke...</td>\n",
       "      <td>https://www.glassdoor.de/job-listing/data-arch...</td>\n",
       "    </tr>\n",
       "    <tr>\n",
       "      <th>3</th>\n",
       "      <td>Data Scientist Bioinformatics (m/f/d)</td>\n",
       "      <td>Centogene AG\\n2.2\\n★</td>\n",
       "      <td>Welcome at CENTOGENE!\\n\\nWe, CENTOGENE GmbH (\"...</td>\n",
       "      <td>https://www.glassdoor.de/job-listing/data-scie...</td>\n",
       "    </tr>\n",
       "    <tr>\n",
       "      <th>4</th>\n",
       "      <td>Data Scientist</td>\n",
       "      <td>Marley Spoon\\n4.0\\n★</td>\n",
       "      <td>Marley Spoon is the new way to cook. We bring ...</td>\n",
       "      <td>https://www.glassdoor.de/job-listing/data-scie...</td>\n",
       "    </tr>\n",
       "  </tbody>\n",
       "</table>\n",
       "</div>"
      ],
      "text/plain": [
       "                                            position  \\\n",
       "0                             Data Scientist (m/f/x)   \n",
       "1  Studentische Aushilfe (m/w/d) Data Science im ...   \n",
       "2         Data Architect (m/w/d) - Energy Management   \n",
       "3              Data Scientist Bioinformatics (m/f/d)   \n",
       "4                                     Data Scientist   \n",
       "\n",
       "                                  company  \\\n",
       "0                Deutsche Bank AG\\n3.6\\n★   \n",
       "1  Federal Association of the AOK\\n3.9\\n★   \n",
       "2     Viessmann Werke Berlin Gmbh\\n4.0\\n★   \n",
       "3                    Centogene AG\\n2.2\\n★   \n",
       "4                    Marley Spoon\\n4.0\\n★   \n",
       "\n",
       "                                         description  \\\n",
       "0  Job Description:\\n\\n\\nTG 8\\n\\nDetails of the r...   \n",
       "1  Vielfältige Aufgaben warten auf Sie\\nUnterstüt...   \n",
       "2  What gets you out of bed in the morning and ke...   \n",
       "3  Welcome at CENTOGENE!\\n\\nWe, CENTOGENE GmbH (\"...   \n",
       "4  Marley Spoon is the new way to cook. We bring ...   \n",
       "\n",
       "                                                 url  \n",
       "0  https://www.glassdoor.de/job-listing/data-scie...  \n",
       "1  https://www.glassdoor.de/job-listing/studentis...  \n",
       "2  https://www.glassdoor.de/job-listing/data-arch...  \n",
       "3  https://www.glassdoor.de/job-listing/data-scie...  \n",
       "4  https://www.glassdoor.de/job-listing/data-scie...  "
      ]
     },
     "execution_count": 4,
     "metadata": {},
     "output_type": "execute_result"
    }
   ],
   "source": [
    "df.head()"
   ]
  },
  {
   "cell_type": "code",
   "execution_count": 7,
   "id": "reduced-fence",
   "metadata": {},
   "outputs": [
    {
     "data": {
      "text/plain": [
       "(302, 4)"
      ]
     },
     "execution_count": 7,
     "metadata": {},
     "output_type": "execute_result"
    }
   ],
   "source": [
    "df.shape"
   ]
  },
  {
   "cell_type": "code",
   "execution_count": 5,
   "id": "integral-fifty",
   "metadata": {},
   "outputs": [
    {
     "data": {
      "text/plain": [
       "'Job Description:\\n\\n\\nTG 8\\n\\nDetails of the role and how it fits into the team:\\n\\nReporting to the Team Lead of the Data Analytics team in Berlin, the Data Analyst will be member of Group Audits Center of excellence (CoE) for Data Analytics. This CoE is responsible to support all functions of Group Audit with data analytics services and audit automation solutions. As a newly founded team, the Data Analyst will do pioneer work in projects and help Group Audit to establish innovative and effective processes which will become instrumental for the success of the function.\\n\\nKey Responsibilities:\\nEvaluate data analytics requests and work collaboratively with auditors, data owners and developers to deliver working solutions and analytics in an agile and iterative manner.\\nIdentify data analytics opportunities and use cases, liaise with the audit teams, and perform any standard or advanced/ specialized analytics work.\\nIdentify automation opportunities and develop solutions that simplify audit processes and make them more efficient.\\nPromote the adoption and integration of data science into the Group Audit organisation and inspire Group Audit colleagues by sharing background on successful adoption.\\nApply highest quality standards as your solution will become an integral part of audit execution processes.\\nSkills & Qualifications:\\nMaster or Bachelor Degree (or equivalent) from an accredited college or university (or equivalent) in a quantitative field (Mathematics, Statistics, Physics, Engineering, Computer Science, Economics, Chemistry etc.) or equivalent work experience ideally in the banking industry.\\nExperience applying data science techniques to solve real world problems (AI, machine learning, advanced statistics, text analytics, NLP etc.)\\nExperience using a broad range of tools, including Big Data, NoSQL, data preparation (SQL, ETL), Programming (Python, R), modelling packages (Pandas, Scikit Learn, NLTK, Spacy, Spark ML), reporting and Visualization (Tableau, QlikSense, matplotlib)\\nExperience in agile methodology (scrum), relevant tools (confluence, jira) and software engineering principles\\nInnovative, creative, articulate and able to work directly with a broad range of stakeholders\\nOur offer:\\nWork in dynamic and flexible environment across a diverse portfolio of projects\\nTraining opportunities in new technologies and practises as well as Group Audit methodology\\nSome opportunities to travel\\nPosting End Date: 18.08.2020, extended until further notice\\n\\nOur values define the working environment we strive to create – diverse, supportive and welcoming of different views. We embrace a culture reflecting a variety of perspectives, insights and backgrounds to drive innovation. We build talented and diverse teams to drive business results and encourage our people to develop to their full potential. Talk to us about flexible work arrangements and other initiatives we offer.\\n\\nWe promote good working relationships and encourage high standards of conduct and work performance. We welcome applications from talented people from all cultures, countries, races, genders, sexual orientations, disabilities, beliefs and generations and are committed to providing a working environment free from harassment, discrimination and retaliation.\\n\\nClick here to find out more about our diversity and inclusion policy and initiatives.'"
      ]
     },
     "execution_count": 5,
     "metadata": {},
     "output_type": "execute_result"
    }
   ],
   "source": [
    "df['description'][0]"
   ]
  },
  {
   "cell_type": "code",
   "execution_count": 15,
   "id": "optimum-study",
   "metadata": {},
   "outputs": [],
   "source": [
    "tmp = df['description'][0].split('\\n')"
   ]
  },
  {
   "cell_type": "code",
   "execution_count": 16,
   "id": "sudden-designer",
   "metadata": {},
   "outputs": [
    {
     "data": {
      "text/plain": [
       "['Job Description:',\n",
       " '',\n",
       " '',\n",
       " 'TG 8',\n",
       " '',\n",
       " 'Details of the role and how it fits into the team:',\n",
       " '',\n",
       " 'Reporting to the Team Lead of the Data Analytics team in Berlin, the Data Analyst will be member of Group Audits Center of excellence (CoE) for Data Analytics. This CoE is responsible to support all functions of Group Audit with data analytics services and audit automation solutions. As a newly founded team, the Data Analyst will do pioneer work in projects and help Group Audit to establish innovative and effective processes which will become instrumental for the success of the function.',\n",
       " '',\n",
       " 'Key Responsibilities:',\n",
       " 'Evaluate data analytics requests and work collaboratively with auditors, data owners and developers to deliver working solutions and analytics in an agile and iterative manner.',\n",
       " 'Identify data analytics opportunities and use cases, liaise with the audit teams, and perform any standard or advanced/ specialized analytics work.',\n",
       " 'Identify automation opportunities and develop solutions that simplify audit processes and make them more efficient.',\n",
       " 'Promote the adoption and integration of data science into the Group Audit organisation and inspire Group Audit colleagues by sharing background on successful adoption.',\n",
       " 'Apply highest quality standards as your solution will become an integral part of audit execution processes.',\n",
       " 'Skills & Qualifications:',\n",
       " 'Master or Bachelor Degree (or equivalent) from an accredited college or university (or equivalent) in a quantitative field (Mathematics, Statistics, Physics, Engineering, Computer Science, Economics, Chemistry etc.) or equivalent work experience ideally in the banking industry.',\n",
       " 'Experience applying data science techniques to solve real world problems (AI, machine learning, advanced statistics, text analytics, NLP etc.)',\n",
       " 'Experience using a broad range of tools, including Big Data, NoSQL, data preparation (SQL, ETL), Programming (Python, R), modelling packages (Pandas, Scikit Learn, NLTK, Spacy, Spark ML), reporting and Visualization (Tableau, QlikSense, matplotlib)',\n",
       " 'Experience in agile methodology (scrum), relevant tools (confluence, jira) and software engineering principles',\n",
       " 'Innovative, creative, articulate and able to work directly with a broad range of stakeholders',\n",
       " 'Our offer:',\n",
       " 'Work in dynamic and flexible environment across a diverse portfolio of projects',\n",
       " 'Training opportunities in new technologies and practises as well as Group Audit methodology',\n",
       " 'Some opportunities to travel',\n",
       " 'Posting End Date: 18.08.2020, extended until further notice',\n",
       " '',\n",
       " 'Our values define the working environment we strive to create – diverse, supportive and welcoming of different views. We embrace a culture reflecting a variety of perspectives, insights and backgrounds to drive innovation. We build talented and diverse teams to drive business results and encourage our people to develop to their full potential. Talk to us about flexible work arrangements and other initiatives we offer.',\n",
       " '',\n",
       " 'We promote good working relationships and encourage high standards of conduct and work performance. We welcome applications from talented people from all cultures, countries, races, genders, sexual orientations, disabilities, beliefs and generations and are committed to providing a working environment free from harassment, discrimination and retaliation.',\n",
       " '',\n",
       " 'Click here to find out more about our diversity and inclusion policy and initiatives.']"
      ]
     },
     "execution_count": 16,
     "metadata": {},
     "output_type": "execute_result"
    }
   ],
   "source": [
    "tmp"
   ]
  },
  {
   "cell_type": "code",
   "execution_count": 19,
   "id": "municipal-skill",
   "metadata": {},
   "outputs": [],
   "source": [
    "tmp2 = df['description'][2].split('\\n')"
   ]
  },
  {
   "cell_type": "code",
   "execution_count": 20,
   "id": "charitable-local",
   "metadata": {},
   "outputs": [
    {
     "data": {
      "text/plain": [
       "['What gets you out of bed in the morning and keeps you motivated throughout the day? What do you spend your most valuable asset - time - doing? If these questions are important to you, then apply for a position with Viessmann, the next-generation family business. More than 12,000 employees in 74 countries develop climate and energy solutions for customers around the world. This is where classic manufacturing and new startups combine to deliver innovation. At Viessmann, you can help to shape the living spaces for generations to come.',\n",
       " '',\n",
       " 'Sounds interesting? Then join us in Berlin!',\n",
       " '',\n",
       " 'As part of the Platforms Core Team, you will have the opportunity to influence the overall design and development of the strategy around the future products and services of Viessmann. You will be responsible for understanding the business landscape, stakeholder requirements and product strategy in order to define an overall data architecture that satisfies the current and future needs of the energy sector.',\n",
       " '',\n",
       " '…you will be responsible for',\n",
       " 'You create and improve conceptual, logical and physical data architectures and database designs, while being an integral player in data integrations across multiple systems and technology platforms',\n",
       " 'Work closely with Product Managers, Data Scientists, System Architects and Cloud Developers to define data models and schemas that combine data from various sources into a standardized data architecture that is future-proof',\n",
       " 'Provide technical expertise and recommendations on current and emerging data strategies and platform trends specific to the energy industry',\n",
       " 'Define a framework for data governance and collaborate with data stewards on identifying data retention, data quality, and access management for the overall platform',\n",
       " 'Develop processes and tools to monitor and analyze performance of databases and data stores & ensure continuous improvement',\n",
       " '... your profile and qualifications',\n",
       " \"Master's degree in Computer Science or comparable quantitative field\",\n",
       " 'At least 8 to 10 years of experience in the IT industry, with at least 3 years of demonstrable experience in the energy industry as a Solution Architect',\n",
       " 'In-depth understanding of and domain knowledge in at least two or more of the following: energy management software, smart grid and distributed generation software platforms, renewable power generation systems, and/or experience with commodity trading, especially power and natural gas',\n",
       " 'Strong background in relational and dimensional data modeling, database design and optimization',\n",
       " 'Software programming experience and familiarity with machine learning concepts & tools',\n",
       " 'Clear understanding of data warehousing concepts and technologies',\n",
       " 'Experience with agile software development methods and tools, e.g. Scrum, Git, Jira',\n",
       " 'Ability to work independently and as part of a team in a matrix environment',\n",
       " 'Very good knowledge of English and German',\n",
       " '... what we have to offer',\n",
       " 'A clear purpose: \"Creating living spaces for generations to come\", giving meaning to everything you do and the opportunity to really have an impact on our children\\'s future',\n",
       " 'An entrepreneurial and visionary leadership team of creatives, leaders, developers, designers and engineers',\n",
       " \"An unprecedented and fast strategy execution, centered around overcoming existing management practices' shortcomings\",\n",
       " 'A global \"family\" of co-creators, willing to challenge the status quo',\n",
       " 'A high-challenge, high-support culture based on values - responsible, team-oriented & entrepreneurial',\n",
       " 'A unique future offering based on a set of digital core technologies enabling real differentiation',\n",
       " 'A new set of leadership development activities with immense personal growth opportunities',\n",
       " '...interested?',\n",
       " '',\n",
       " 'We are looking forward to your application!']"
      ]
     },
     "execution_count": 20,
     "metadata": {},
     "output_type": "execute_result"
    }
   ],
   "source": [
    "tmp2"
   ]
  },
  {
   "cell_type": "code",
   "execution_count": null,
   "id": "female-springer",
   "metadata": {},
   "outputs": [],
   "source": []
  }
 ],
 "metadata": {
  "kernelspec": {
   "display_name": "Python 3",
   "language": "python",
   "name": "python3"
  },
  "language_info": {
   "codemirror_mode": {
    "name": "ipython",
    "version": 3
   },
   "file_extension": ".py",
   "mimetype": "text/x-python",
   "name": "python",
   "nbconvert_exporter": "python",
   "pygments_lexer": "ipython3",
   "version": "3.8.6"
  }
 },
 "nbformat": 4,
 "nbformat_minor": 5
}
