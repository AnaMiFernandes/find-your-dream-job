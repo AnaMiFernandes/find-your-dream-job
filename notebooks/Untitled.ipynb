{
 "cells": [
  {
   "cell_type": "code",
   "execution_count": 1,
   "id": "sunrise-hebrew",
   "metadata": {},
   "outputs": [],
   "source": [
    "%load_ext autoreload\n",
    "%autoreload 2"
   ]
  },
  {
   "cell_type": "code",
   "execution_count": 2,
   "id": "experimental-reach",
   "metadata": {},
   "outputs": [
    {
     "name": "stderr",
     "output_type": "stream",
     "text": [
      "[nltk_data] Downloading package punkt to\n",
      "[nltk_data]     /Users/alexanderherdt/nltk_data...\n",
      "[nltk_data]   Package punkt is already up-to-date!\n",
      "[nltk_data] Downloading package wordnet to\n",
      "[nltk_data]     /Users/alexanderherdt/nltk_data...\n",
      "[nltk_data]   Package wordnet is already up-to-date!\n",
      "[nltk_data] Downloading package stopwords to\n",
      "[nltk_data]     /Users/alexanderherdt/nltk_data...\n",
      "[nltk_data]   Package stopwords is already up-to-date!\n"
     ]
    },
    {
     "name": "stdout",
     "output_type": "stream",
     "text": [
      "Loaded from /Users/alexanderherdt/code/mizzle-toe/find-your-dream-job/fydjob/output/nlp_frame.joblib\n"
     ]
    },
    {
     "name": "stderr",
     "output_type": "stream",
     "text": [
      "[nltk_data] Downloading package punkt to\n",
      "[nltk_data]     /Users/alexanderherdt/nltk_data...\n",
      "[nltk_data]   Package punkt is already up-to-date!\n",
      "[nltk_data] Downloading package wordnet to\n",
      "[nltk_data]     /Users/alexanderherdt/nltk_data...\n",
      "[nltk_data]   Package wordnet is already up-to-date!\n",
      "[nltk_data] Downloading package stopwords to\n",
      "[nltk_data]     /Users/alexanderherdt/nltk_data...\n",
      "[nltk_data]   Package stopwords is already up-to-date!\n"
     ]
    },
    {
     "name": "stdout",
     "output_type": "stream",
     "text": [
      "Loaded from /Users/alexanderherdt/code/mizzle-toe/find-your-dream-job/fydjob/output/nlp_frame.joblib\n"
     ]
    },
    {
     "data": {
      "text/html": [
       "<div>\n",
       "<style scoped>\n",
       "    .dataframe tbody tr th:only-of-type {\n",
       "        vertical-align: middle;\n",
       "    }\n",
       "\n",
       "    .dataframe tbody tr th {\n",
       "        vertical-align: top;\n",
       "    }\n",
       "\n",
       "    .dataframe thead th {\n",
       "        text-align: right;\n",
       "    }\n",
       "</style>\n",
       "<table border=\"1\" class=\"dataframe\">\n",
       "  <thead>\n",
       "    <tr style=\"text-align: right;\">\n",
       "      <th></th>\n",
       "      <th>job_id</th>\n",
       "      <th>job_title</th>\n",
       "      <th>job_text</th>\n",
       "      <th>company</th>\n",
       "      <th>location</th>\n",
       "      <th>job_info</th>\n",
       "      <th>job_link</th>\n",
       "      <th>query_text</th>\n",
       "      <th>source</th>\n",
       "      <th>tag_language</th>\n",
       "      <th>reviews</th>\n",
       "      <th>job_info_tokenized</th>\n",
       "      <th>job_text_tokenized</th>\n",
       "      <th>job_text_tokenized_titlecase</th>\n",
       "      <th>job_title_tokenized</th>\n",
       "      <th>job_text_tokenized_processed</th>\n",
       "    </tr>\n",
       "  </thead>\n",
       "  <tbody>\n",
       "    <tr>\n",
       "      <th>0</th>\n",
       "      <td>1</td>\n",
       "      <td>Data Scientist / Matching Engineer (m/w/d)</td>\n",
       "      <td>You are responsible for improvement of Taledo’...</td>\n",
       "      <td>Taledo</td>\n",
       "      <td>Berlin</td>\n",
       "      <td>Data Scientist / Matching Engineer (m/w/d)\\nTa...</td>\n",
       "      <td>NULL</td>\n",
       "      <td>data engineer</td>\n",
       "      <td>scrape_json</td>\n",
       "      <td>en</td>\n",
       "      <td>NULL</td>\n",
       "      <td>[data, scientist, matching, engineer, mwd, tal...</td>\n",
       "      <td>[you, are, responsible, for, improvement, of, ...</td>\n",
       "      <td>[Data, Scientist, Matching, Engineer, mwd, Tal...</td>\n",
       "      <td>[data, scientist, matching, engineer, mwd]</td>\n",
       "      <td>[responsible, improvement, taledos, search, ma...</td>\n",
       "    </tr>\n",
       "    <tr>\n",
       "      <th>1</th>\n",
       "      <td>2</td>\n",
       "      <td>Senior Software Engineer - Data Platform</td>\n",
       "      <td>We are looking for a Senior Software Engineer ...</td>\n",
       "      <td>Zalando SE</td>\n",
       "      <td>Berlin</td>\n",
       "      <td>Senior Software Engineer - Data Platform\\nZala...</td>\n",
       "      <td>NULL</td>\n",
       "      <td>data engineer</td>\n",
       "      <td>scrape_json</td>\n",
       "      <td>en</td>\n",
       "      <td>NULL</td>\n",
       "      <td>[senior, software, engineer, data, platform, z...</td>\n",
       "      <td>[we, are, looking, for, a, senior, software, e...</td>\n",
       "      <td>[Senior, Software, Engineer, Data, Platform, Z...</td>\n",
       "      <td>[senior, software, engineer, data, platform]</td>\n",
       "      <td>[looking, senior, software, engineer, extensiv...</td>\n",
       "    </tr>\n",
       "    <tr>\n",
       "      <th>2</th>\n",
       "      <td>3</td>\n",
       "      <td>Senior Data Engineer (m/w/t)</td>\n",
       "      <td>As a member of the Data Engineering Team, you ...</td>\n",
       "      <td>Quandoo GmbH</td>\n",
       "      <td>Berlin</td>\n",
       "      <td>Senior Data Engineer (m/w/t)\\nQuandoo GmbH17 B...</td>\n",
       "      <td>NULL</td>\n",
       "      <td>data engineer</td>\n",
       "      <td>scrape_json</td>\n",
       "      <td>en</td>\n",
       "      <td>NULL</td>\n",
       "      <td>[senior, data, engineer, mwt, quandoo, gmbh, b...</td>\n",
       "      <td>[as, a, member, of, the, data, engineering, te...</td>\n",
       "      <td>[Senior, Data, Engineer, mwt, Quandoo, GmbH, B...</td>\n",
       "      <td>[senior, data, engineer, mwt]</td>\n",
       "      <td>[member, data, engineering, team, responsible,...</td>\n",
       "    </tr>\n",
       "    <tr>\n",
       "      <th>3</th>\n",
       "      <td>4</td>\n",
       "      <td>Data Engineer (w/m/d)</td>\n",
       "      <td>We are digitty.io – an international start-up ...</td>\n",
       "      <td>digitty.io</td>\n",
       "      <td>Berlin</td>\n",
       "      <td>Data Engineer (w/m/d)\\ndigitty.io - Berlin</td>\n",
       "      <td>NULL</td>\n",
       "      <td>data engineer</td>\n",
       "      <td>scrape_json</td>\n",
       "      <td>en</td>\n",
       "      <td>NULL</td>\n",
       "      <td>[data, engineer, wmd, digittyio, berlin]</td>\n",
       "      <td>[we, are, digittyio, an, international, startu...</td>\n",
       "      <td>[Data, Engineer, wmd, digittyio, Berlin]</td>\n",
       "      <td>[data, engineer, wmd]</td>\n",
       "      <td>[digittyio, international, startup, headquarte...</td>\n",
       "    </tr>\n",
       "    <tr>\n",
       "      <th>4</th>\n",
       "      <td>5</td>\n",
       "      <td>Data Engineer</td>\n",
       "      <td>We activate data for our clients by using stat...</td>\n",
       "      <td>Gemma Analytics</td>\n",
       "      <td>Berlin</td>\n",
       "      <td>Data Engineer\\nGemma Analytics - Berlin</td>\n",
       "      <td>NULL</td>\n",
       "      <td>data engineer</td>\n",
       "      <td>scrape_json</td>\n",
       "      <td>en</td>\n",
       "      <td>NULL</td>\n",
       "      <td>[data, engineer, gemma, analytics, berlin]</td>\n",
       "      <td>[we, activate, data, for, our, clients, by, us...</td>\n",
       "      <td>[Data, Engineer, Gemma, Analytics, Berlin]</td>\n",
       "      <td>[data, engineer]</td>\n",
       "      <td>[activate, data, client, using, stateoftheart,...</td>\n",
       "    </tr>\n",
       "  </tbody>\n",
       "</table>\n",
       "</div>"
      ],
      "text/plain": [
       "   job_id                                   job_title  \\\n",
       "0       1  Data Scientist / Matching Engineer (m/w/d)   \n",
       "1       2    Senior Software Engineer - Data Platform   \n",
       "2       3                Senior Data Engineer (m/w/t)   \n",
       "3       4                       Data Engineer (w/m/d)   \n",
       "4       5                               Data Engineer   \n",
       "\n",
       "                                            job_text          company  \\\n",
       "0  You are responsible for improvement of Taledo’...           Taledo   \n",
       "1  We are looking for a Senior Software Engineer ...       Zalando SE   \n",
       "2  As a member of the Data Engineering Team, you ...     Quandoo GmbH   \n",
       "3  We are digitty.io – an international start-up ...       digitty.io   \n",
       "4  We activate data for our clients by using stat...  Gemma Analytics   \n",
       "\n",
       "  location                                           job_info job_link  \\\n",
       "0   Berlin  Data Scientist / Matching Engineer (m/w/d)\\nTa...     NULL   \n",
       "1   Berlin  Senior Software Engineer - Data Platform\\nZala...     NULL   \n",
       "2   Berlin  Senior Data Engineer (m/w/t)\\nQuandoo GmbH17 B...     NULL   \n",
       "3   Berlin         Data Engineer (w/m/d)\\ndigitty.io - Berlin     NULL   \n",
       "4   Berlin            Data Engineer\\nGemma Analytics - Berlin     NULL   \n",
       "\n",
       "      query_text       source tag_language reviews  \\\n",
       "0  data engineer  scrape_json           en    NULL   \n",
       "1  data engineer  scrape_json           en    NULL   \n",
       "2  data engineer  scrape_json           en    NULL   \n",
       "3  data engineer  scrape_json           en    NULL   \n",
       "4  data engineer  scrape_json           en    NULL   \n",
       "\n",
       "                                  job_info_tokenized  \\\n",
       "0  [data, scientist, matching, engineer, mwd, tal...   \n",
       "1  [senior, software, engineer, data, platform, z...   \n",
       "2  [senior, data, engineer, mwt, quandoo, gmbh, b...   \n",
       "3           [data, engineer, wmd, digittyio, berlin]   \n",
       "4         [data, engineer, gemma, analytics, berlin]   \n",
       "\n",
       "                                  job_text_tokenized  \\\n",
       "0  [you, are, responsible, for, improvement, of, ...   \n",
       "1  [we, are, looking, for, a, senior, software, e...   \n",
       "2  [as, a, member, of, the, data, engineering, te...   \n",
       "3  [we, are, digittyio, an, international, startu...   \n",
       "4  [we, activate, data, for, our, clients, by, us...   \n",
       "\n",
       "                        job_text_tokenized_titlecase  \\\n",
       "0  [Data, Scientist, Matching, Engineer, mwd, Tal...   \n",
       "1  [Senior, Software, Engineer, Data, Platform, Z...   \n",
       "2  [Senior, Data, Engineer, mwt, Quandoo, GmbH, B...   \n",
       "3           [Data, Engineer, wmd, digittyio, Berlin]   \n",
       "4         [Data, Engineer, Gemma, Analytics, Berlin]   \n",
       "\n",
       "                            job_title_tokenized  \\\n",
       "0    [data, scientist, matching, engineer, mwd]   \n",
       "1  [senior, software, engineer, data, platform]   \n",
       "2                 [senior, data, engineer, mwt]   \n",
       "3                         [data, engineer, wmd]   \n",
       "4                              [data, engineer]   \n",
       "\n",
       "                        job_text_tokenized_processed  \n",
       "0  [responsible, improvement, taledos, search, ma...  \n",
       "1  [looking, senior, software, engineer, extensiv...  \n",
       "2  [member, data, engineering, team, responsible,...  \n",
       "3  [digittyio, international, startup, headquarte...  \n",
       "4  [activate, data, client, using, stateoftheart,...  "
      ]
     },
     "execution_count": 2,
     "metadata": {},
     "output_type": "execute_result"
    }
   ],
   "source": [
    "from fydjob.NLPFrame import NLPFrame\n",
    "df = NLPFrame().df\n",
    "\n",
    "df.head(5)\n",
    "\n"
   ]
  },
  {
   "cell_type": "code",
   "execution_count": 4,
   "id": "useful-community",
   "metadata": {},
   "outputs": [],
   "source": [
    "from fydjob.Word2VecPipeline import WordPipeline\n",
    "from fydjob.utils import category_tagger\n",
    "\n",
    "pipeline = WordPipeline()"
   ]
  },
  {
   "cell_type": "code",
   "execution_count": 4,
   "id": "muslim-riverside",
   "metadata": {},
   "outputs": [],
   "source": [
    "df_json = df.to_json()"
   ]
  },
  {
   "cell_type": "code",
   "execution_count": null,
   "id": "listed-variable",
   "metadata": {
    "scrolled": false
   },
   "outputs": [],
   "source": [
    "df_json"
   ]
  },
  {
   "cell_type": "code",
   "execution_count": 13,
   "id": "civic-container",
   "metadata": {},
   "outputs": [],
   "source": [
    "#pipeline.build_vocab(text)\n",
    "pipeline.train(text)"
   ]
  },
  {
   "cell_type": "code",
   "execution_count": 9,
   "id": "herbal-service",
   "metadata": {},
   "outputs": [],
   "source": [
    "text = pipeline.text_field"
   ]
  },
  {
   "cell_type": "code",
   "execution_count": 26,
   "id": "abstract-siemens",
   "metadata": {},
   "outputs": [],
   "source": [
    "skills = pipeline.most_similar_skills([\"python\"],n_recommendations= 10)"
   ]
  },
  {
   "cell_type": "code",
   "execution_count": 36,
   "id": "changed-asian",
   "metadata": {},
   "outputs": [
    {
     "data": {
      "text/plain": [
       "['azure',\n",
       " 'cloud',\n",
       " 'redshift',\n",
       " 'bigquery',\n",
       " 'sagemaker',\n",
       " 'gcp',\n",
       " 'lambda',\n",
       " 'docker',\n",
       " 'airflow',\n",
       " 'elasticsearch']"
      ]
     },
     "execution_count": 36,
     "metadata": {},
     "output_type": "execute_result"
    }
   ],
   "source": [
    "pipeline.most_similar_skills([\"aws\"],n_recommendations = 10)"
   ]
  },
  {
   "cell_type": "code",
   "execution_count": null,
   "id": "young-yukon",
   "metadata": {},
   "outputs": [],
   "source": []
  },
  {
   "cell_type": "code",
   "execution_count": null,
   "id": "computational-chrome",
   "metadata": {},
   "outputs": [],
   "source": []
  }
 ],
 "metadata": {
  "kernelspec": {
   "display_name": "Python 3",
   "language": "python",
   "name": "python3"
  },
  "language_info": {
   "codemirror_mode": {
    "name": "ipython",
    "version": 3
   },
   "file_extension": ".py",
   "mimetype": "text/x-python",
   "name": "python",
   "nbconvert_exporter": "python",
   "pygments_lexer": "ipython3",
   "version": "3.8.6"
  },
  "toc": {
   "base_numbering": 1,
   "nav_menu": {},
   "number_sections": true,
   "sideBar": true,
   "skip_h1_title": false,
   "title_cell": "Table of Contents",
   "title_sidebar": "Contents",
   "toc_cell": false,
   "toc_position": {},
   "toc_section_display": true,
   "toc_window_display": false
  },
  "varInspector": {
   "cols": {
    "lenName": 16,
    "lenType": 16,
    "lenVar": 40
   },
   "kernels_config": {
    "python": {
     "delete_cmd_postfix": "",
     "delete_cmd_prefix": "del ",
     "library": "var_list.py",
     "varRefreshCmd": "print(var_dic_list())"
    },
    "r": {
     "delete_cmd_postfix": ") ",
     "delete_cmd_prefix": "rm(",
     "library": "var_list.r",
     "varRefreshCmd": "cat(var_dic_list()) "
    }
   },
   "types_to_exclude": [
    "module",
    "function",
    "builtin_function_or_method",
    "instance",
    "_Feature"
   ],
   "window_display": false
  }
 },
 "nbformat": 4,
 "nbformat_minor": 5
}
