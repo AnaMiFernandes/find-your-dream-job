{
 "cells": [
  {
   "cell_type": "code",
   "execution_count": 1,
   "id": "characteristic-drama",
   "metadata": {},
   "outputs": [],
   "source": [
    "import pandas as pd\n",
    "import numpy as np"
   ]
  },
  {
   "cell_type": "code",
   "execution_count": 3,
   "id": "female-purple",
   "metadata": {},
   "outputs": [],
   "source": [
    "df = pd.read_json(\"../raw_data/glassdoor_scraper_output/data_scientist_in_berlin_2020-09-03.json\")"
   ]
  },
  {
   "cell_type": "code",
   "execution_count": 4,
   "id": "lasting-consolidation",
   "metadata": {},
   "outputs": [
    {
     "data": {
      "text/html": [
       "<div>\n",
       "<style scoped>\n",
       "    .dataframe tbody tr th:only-of-type {\n",
       "        vertical-align: middle;\n",
       "    }\n",
       "\n",
       "    .dataframe tbody tr th {\n",
       "        vertical-align: top;\n",
       "    }\n",
       "\n",
       "    .dataframe thead th {\n",
       "        text-align: right;\n",
       "    }\n",
       "</style>\n",
       "<table border=\"1\" class=\"dataframe\">\n",
       "  <thead>\n",
       "    <tr style=\"text-align: right;\">\n",
       "      <th></th>\n",
       "      <th>position</th>\n",
       "      <th>company</th>\n",
       "      <th>description</th>\n",
       "      <th>url</th>\n",
       "    </tr>\n",
       "  </thead>\n",
       "  <tbody>\n",
       "    <tr>\n",
       "      <th>0</th>\n",
       "      <td>Data Scientist (m/f/x)</td>\n",
       "      <td>Deutsche Bank AG\\n3.6\\n★</td>\n",
       "      <td>Job Description:\\n\\n\\nTG 8\\n\\nDetails of the r...</td>\n",
       "      <td>https://www.glassdoor.de/job-listing/data-scie...</td>\n",
       "    </tr>\n",
       "    <tr>\n",
       "      <th>1</th>\n",
       "      <td>Studentische Aushilfe (m/w/d) Data Science im ...</td>\n",
       "      <td>Federal Association of the AOK\\n3.9\\n★</td>\n",
       "      <td>Vielfältige Aufgaben warten auf Sie\\nUnterstüt...</td>\n",
       "      <td>https://www.glassdoor.de/job-listing/studentis...</td>\n",
       "    </tr>\n",
       "    <tr>\n",
       "      <th>2</th>\n",
       "      <td>Data Architect (m/w/d) - Energy Management</td>\n",
       "      <td>Viessmann Werke Berlin Gmbh\\n4.0\\n★</td>\n",
       "      <td>What gets you out of bed in the morning and ke...</td>\n",
       "      <td>https://www.glassdoor.de/job-listing/data-arch...</td>\n",
       "    </tr>\n",
       "    <tr>\n",
       "      <th>3</th>\n",
       "      <td>Data Scientist Bioinformatics (m/f/d)</td>\n",
       "      <td>Centogene AG\\n2.2\\n★</td>\n",
       "      <td>Welcome at CENTOGENE!\\n\\nWe, CENTOGENE GmbH (\"...</td>\n",
       "      <td>https://www.glassdoor.de/job-listing/data-scie...</td>\n",
       "    </tr>\n",
       "    <tr>\n",
       "      <th>4</th>\n",
       "      <td>Data Scientist</td>\n",
       "      <td>Marley Spoon\\n4.0\\n★</td>\n",
       "      <td>Marley Spoon is the new way to cook. We bring ...</td>\n",
       "      <td>https://www.glassdoor.de/job-listing/data-scie...</td>\n",
       "    </tr>\n",
       "  </tbody>\n",
       "</table>\n",
       "</div>"
      ],
      "text/plain": [
       "                                            position  \\\n",
       "0                             Data Scientist (m/f/x)   \n",
       "1  Studentische Aushilfe (m/w/d) Data Science im ...   \n",
       "2         Data Architect (m/w/d) - Energy Management   \n",
       "3              Data Scientist Bioinformatics (m/f/d)   \n",
       "4                                     Data Scientist   \n",
       "\n",
       "                                  company  \\\n",
       "0                Deutsche Bank AG\\n3.6\\n★   \n",
       "1  Federal Association of the AOK\\n3.9\\n★   \n",
       "2     Viessmann Werke Berlin Gmbh\\n4.0\\n★   \n",
       "3                    Centogene AG\\n2.2\\n★   \n",
       "4                    Marley Spoon\\n4.0\\n★   \n",
       "\n",
       "                                         description  \\\n",
       "0  Job Description:\\n\\n\\nTG 8\\n\\nDetails of the r...   \n",
       "1  Vielfältige Aufgaben warten auf Sie\\nUnterstüt...   \n",
       "2  What gets you out of bed in the morning and ke...   \n",
       "3  Welcome at CENTOGENE!\\n\\nWe, CENTOGENE GmbH (\"...   \n",
       "4  Marley Spoon is the new way to cook. We bring ...   \n",
       "\n",
       "                                                 url  \n",
       "0  https://www.glassdoor.de/job-listing/data-scie...  \n",
       "1  https://www.glassdoor.de/job-listing/studentis...  \n",
       "2  https://www.glassdoor.de/job-listing/data-arch...  \n",
       "3  https://www.glassdoor.de/job-listing/data-scie...  \n",
       "4  https://www.glassdoor.de/job-listing/data-scie...  "
      ]
     },
     "execution_count": 4,
     "metadata": {},
     "output_type": "execute_result"
    }
   ],
   "source": [
    "df.head(5)"
   ]
  },
  {
   "cell_type": "code",
   "execution_count": null,
   "id": "requested-silence",
   "metadata": {},
   "outputs": [],
   "source": []
  }
 ],
 "metadata": {
  "kernelspec": {
   "display_name": "Python 3",
   "language": "python",
   "name": "python3"
  },
  "language_info": {
   "codemirror_mode": {
    "name": "ipython",
    "version": 3
   },
   "file_extension": ".py",
   "mimetype": "text/x-python",
   "name": "python",
   "nbconvert_exporter": "python",
   "pygments_lexer": "ipython3",
   "version": "3.8.6"
  },
  "toc": {
   "base_numbering": 1,
   "nav_menu": {},
   "number_sections": true,
   "sideBar": true,
   "skip_h1_title": false,
   "title_cell": "Table of Contents",
   "title_sidebar": "Contents",
   "toc_cell": false,
   "toc_position": {},
   "toc_section_display": true,
   "toc_window_display": false
  },
  "varInspector": {
   "cols": {
    "lenName": 16,
    "lenType": 16,
    "lenVar": 40
   },
   "kernels_config": {
    "python": {
     "delete_cmd_postfix": "",
     "delete_cmd_prefix": "del ",
     "library": "var_list.py",
     "varRefreshCmd": "print(var_dic_list())"
    },
    "r": {
     "delete_cmd_postfix": ") ",
     "delete_cmd_prefix": "rm(",
     "library": "var_list.r",
     "varRefreshCmd": "cat(var_dic_list()) "
    }
   },
   "types_to_exclude": [
    "module",
    "function",
    "builtin_function_or_method",
    "instance",
    "_Feature"
   ],
   "window_display": false
  }
 },
 "nbformat": 4,
 "nbformat_minor": 5
}
