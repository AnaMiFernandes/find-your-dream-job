{
 "cells": [
  {
   "cell_type": "markdown",
   "id": "medium-exhibition",
   "metadata": {},
   "source": [
    "## Imports\n"
   ]
  },
  {
   "cell_type": "code",
   "execution_count": 18,
   "id": "outer-toilet",
   "metadata": {},
   "outputs": [],
   "source": [
    "import pandas as pd\n",
    "import joblib\n",
    "import altair as alt"
   ]
  },
  {
   "cell_type": "code",
   "execution_count": 3,
   "id": "laden-council",
   "metadata": {},
   "outputs": [],
   "source": [
    "data = joblib.load('/Users/jasminkazi/Downloads/ip_2021-03-03.joblib')"
   ]
  },
  {
   "cell_type": "markdown",
   "id": "palestinian-cargo",
   "metadata": {},
   "source": [
    "### Exploration\n"
   ]
  },
  {
   "cell_type": "code",
   "execution_count": 5,
   "id": "greenhouse-imperial",
   "metadata": {},
   "outputs": [
    {
     "data": {
      "text/plain": [
       "(954, 11)"
      ]
     },
     "execution_count": 5,
     "metadata": {},
     "output_type": "execute_result"
    }
   ],
   "source": [
    "data.shape"
   ]
  },
  {
   "cell_type": "code",
   "execution_count": 6,
   "id": "disturbed-kingdom",
   "metadata": {},
   "outputs": [
    {
     "data": {
      "text/html": [
       "<div>\n",
       "<style scoped>\n",
       "    .dataframe tbody tr th:only-of-type {\n",
       "        vertical-align: middle;\n",
       "    }\n",
       "\n",
       "    .dataframe tbody tr th {\n",
       "        vertical-align: top;\n",
       "    }\n",
       "\n",
       "    .dataframe thead th {\n",
       "        text-align: right;\n",
       "    }\n",
       "</style>\n",
       "<table border=\"1\" class=\"dataframe\">\n",
       "  <thead>\n",
       "    <tr style=\"text-align: right;\">\n",
       "      <th></th>\n",
       "      <th>job_title</th>\n",
       "      <th>job_text</th>\n",
       "      <th>company</th>\n",
       "      <th>location</th>\n",
       "      <th>job_info</th>\n",
       "      <th>query_text</th>\n",
       "      <th>tag_language</th>\n",
       "      <th>job_info_tokenized</th>\n",
       "      <th>job_text_tokenized</th>\n",
       "      <th>job_text_tokenized_titlecase</th>\n",
       "      <th>job_title_tokenized</th>\n",
       "    </tr>\n",
       "  </thead>\n",
       "  <tbody>\n",
       "    <tr>\n",
       "      <th>0</th>\n",
       "      <td>Data Scientist / Matching Engineer (m/w/d)</td>\n",
       "      <td>You are responsible for improvement of Taledo’...</td>\n",
       "      <td>Taledo</td>\n",
       "      <td>Berlin</td>\n",
       "      <td>Data Scientist / Matching Engineer (m/w/d)\\nTa...</td>\n",
       "      <td>data engineer</td>\n",
       "      <td>en</td>\n",
       "      <td>[data, scientist, matching, engineer, mwd, tal...</td>\n",
       "      <td>[you, are, responsible, for, improvement, of, ...</td>\n",
       "      <td>[You, are, responsible, for, improvement, of, ...</td>\n",
       "      <td>[data, scientist, matching, engineer, mwd]</td>\n",
       "    </tr>\n",
       "    <tr>\n",
       "      <th>1</th>\n",
       "      <td>(Junior) Data Engineer (f/m/x)</td>\n",
       "      <td>Über die Stelle\\nUnser Data Team braucht Unter...</td>\n",
       "      <td>Customlytics GmbH</td>\n",
       "      <td>Berlin</td>\n",
       "      <td>(Junior) Data Engineer (f/m/x)\\nCustomlytics G...</td>\n",
       "      <td>data engineer</td>\n",
       "      <td>de</td>\n",
       "      <td>[junior, data, engineer, fmx, customlytics, gm...</td>\n",
       "      <td>[über, die, stelle, unser, data, team, braucht...</td>\n",
       "      <td>[Über, die, Stelle, Unser, Data, Team, braucht...</td>\n",
       "      <td>[junior, data, engineer, fmx]</td>\n",
       "    </tr>\n",
       "    <tr>\n",
       "      <th>2</th>\n",
       "      <td>Junior Data Scientist (m/w/d) docmetric</td>\n",
       "      <td>Kennziffer:\\nreq6004\\nStandort:\\nBerlin\\nJob S...</td>\n",
       "      <td>CompuGroup Medical</td>\n",
       "      <td>Berlin</td>\n",
       "      <td>Junior Data Scientist (m/w/d) docmetric\\nCompu...</td>\n",
       "      <td>data engineer</td>\n",
       "      <td>de</td>\n",
       "      <td>[junior, data, scientist, mwd, docmetric, comp...</td>\n",
       "      <td>[kennziffer, req, standort, berlin, job, segme...</td>\n",
       "      <td>[Kennziffer, req, Standort, Berlin, Job, Segme...</td>\n",
       "      <td>[junior, data, scientist, mwd, docmetric]</td>\n",
       "    </tr>\n",
       "    <tr>\n",
       "      <th>3</th>\n",
       "      <td>Senior Software Engineer - Data Platform</td>\n",
       "      <td>We are looking for a Senior Software Engineer ...</td>\n",
       "      <td>Zalando SE</td>\n",
       "      <td>Berlin</td>\n",
       "      <td>Senior Software Engineer - Data Platform\\nZala...</td>\n",
       "      <td>data engineer</td>\n",
       "      <td>en</td>\n",
       "      <td>[senior, software, engineer, data, platform, z...</td>\n",
       "      <td>[we, are, looking, for, a, senior, software, e...</td>\n",
       "      <td>[We, are, looking, for, a, Senior, Software, E...</td>\n",
       "      <td>[senior, software, engineer, data, platform]</td>\n",
       "    </tr>\n",
       "    <tr>\n",
       "      <th>4</th>\n",
       "      <td>Werkstudent Software/Data Engineer (w/m/d) | J...</td>\n",
       "      <td>bakdata GmbH\\nDie bakdata GmbH ist ein unabhän...</td>\n",
       "      <td>bakdata GmbH</td>\n",
       "      <td>Berlin</td>\n",
       "      <td>Werkstudent Software/Data Engineer (w/m/d) | J...</td>\n",
       "      <td>data engineer</td>\n",
       "      <td>de</td>\n",
       "      <td>[werkstudent, softwaredata, engineer, wmd, jav...</td>\n",
       "      <td>[bakdata, gmbh, die, bakdata, gmbh, ist, ein, ...</td>\n",
       "      <td>[bakdata, GmbH, Die, bakdata, GmbH, ist, ein, ...</td>\n",
       "      <td>[werkstudent, softwaredata, engineer, wmd, jav...</td>\n",
       "    </tr>\n",
       "  </tbody>\n",
       "</table>\n",
       "</div>"
      ],
      "text/plain": [
       "                                           job_title  \\\n",
       "0         Data Scientist / Matching Engineer (m/w/d)   \n",
       "1                     (Junior) Data Engineer (f/m/x)   \n",
       "2            Junior Data Scientist (m/w/d) docmetric   \n",
       "3           Senior Software Engineer - Data Platform   \n",
       "4  Werkstudent Software/Data Engineer (w/m/d) | J...   \n",
       "\n",
       "                                            job_text             company  \\\n",
       "0  You are responsible for improvement of Taledo’...              Taledo   \n",
       "1  Über die Stelle\\nUnser Data Team braucht Unter...   Customlytics GmbH   \n",
       "2  Kennziffer:\\nreq6004\\nStandort:\\nBerlin\\nJob S...  CompuGroup Medical   \n",
       "3  We are looking for a Senior Software Engineer ...          Zalando SE   \n",
       "4  bakdata GmbH\\nDie bakdata GmbH ist ein unabhän...        bakdata GmbH   \n",
       "\n",
       "  location                                           job_info     query_text  \\\n",
       "0   Berlin  Data Scientist / Matching Engineer (m/w/d)\\nTa...  data engineer   \n",
       "1   Berlin  (Junior) Data Engineer (f/m/x)\\nCustomlytics G...  data engineer   \n",
       "2   Berlin  Junior Data Scientist (m/w/d) docmetric\\nCompu...  data engineer   \n",
       "3   Berlin  Senior Software Engineer - Data Platform\\nZala...  data engineer   \n",
       "4   Berlin  Werkstudent Software/Data Engineer (w/m/d) | J...  data engineer   \n",
       "\n",
       "  tag_language                                 job_info_tokenized  \\\n",
       "0           en  [data, scientist, matching, engineer, mwd, tal...   \n",
       "1           de  [junior, data, engineer, fmx, customlytics, gm...   \n",
       "2           de  [junior, data, scientist, mwd, docmetric, comp...   \n",
       "3           en  [senior, software, engineer, data, platform, z...   \n",
       "4           de  [werkstudent, softwaredata, engineer, wmd, jav...   \n",
       "\n",
       "                                  job_text_tokenized  \\\n",
       "0  [you, are, responsible, for, improvement, of, ...   \n",
       "1  [über, die, stelle, unser, data, team, braucht...   \n",
       "2  [kennziffer, req, standort, berlin, job, segme...   \n",
       "3  [we, are, looking, for, a, senior, software, e...   \n",
       "4  [bakdata, gmbh, die, bakdata, gmbh, ist, ein, ...   \n",
       "\n",
       "                        job_text_tokenized_titlecase  \\\n",
       "0  [You, are, responsible, for, improvement, of, ...   \n",
       "1  [Über, die, Stelle, Unser, Data, Team, braucht...   \n",
       "2  [Kennziffer, req, Standort, Berlin, Job, Segme...   \n",
       "3  [We, are, looking, for, a, Senior, Software, E...   \n",
       "4  [bakdata, GmbH, Die, bakdata, GmbH, ist, ein, ...   \n",
       "\n",
       "                                 job_title_tokenized  \n",
       "0         [data, scientist, matching, engineer, mwd]  \n",
       "1                      [junior, data, engineer, fmx]  \n",
       "2          [junior, data, scientist, mwd, docmetric]  \n",
       "3       [senior, software, engineer, data, platform]  \n",
       "4  [werkstudent, softwaredata, engineer, wmd, jav...  "
      ]
     },
     "execution_count": 6,
     "metadata": {},
     "output_type": "execute_result"
    }
   ],
   "source": [
    "data.head()"
   ]
  },
  {
   "cell_type": "code",
   "execution_count": 8,
   "id": "muslim-slovak",
   "metadata": {},
   "outputs": [
    {
     "data": {
      "text/plain": [
       "Index(['job_title', 'job_text', 'company', 'location', 'job_info',\n",
       "       'query_text', 'tag_language', 'job_info_tokenized',\n",
       "       'job_text_tokenized', 'job_text_tokenized_titlecase',\n",
       "       'job_title_tokenized'],\n",
       "      dtype='object')"
      ]
     },
     "execution_count": 8,
     "metadata": {},
     "output_type": "execute_result"
    }
   ],
   "source": [
    "data.columns"
   ]
  },
  {
   "cell_type": "markdown",
   "id": "loaded-coordinator",
   "metadata": {},
   "source": [
    "### No. of...\n"
   ]
  },
  {
   "cell_type": "code",
   "execution_count": 44,
   "id": "reported-blocking",
   "metadata": {},
   "outputs": [
    {
     "data": {
      "text/html": [
       "<div>\n",
       "<style scoped>\n",
       "    .dataframe tbody tr th:only-of-type {\n",
       "        vertical-align: middle;\n",
       "    }\n",
       "\n",
       "    .dataframe tbody tr th {\n",
       "        vertical-align: top;\n",
       "    }\n",
       "\n",
       "    .dataframe thead th {\n",
       "        text-align: right;\n",
       "    }\n",
       "</style>\n",
       "<table border=\"1\" class=\"dataframe\">\n",
       "  <thead>\n",
       "    <tr style=\"text-align: right;\">\n",
       "      <th></th>\n",
       "      <th>Posting Language</th>\n",
       "      <th>Count</th>\n",
       "    </tr>\n",
       "  </thead>\n",
       "  <tbody>\n",
       "    <tr>\n",
       "      <th>0</th>\n",
       "      <td>en</td>\n",
       "      <td>707</td>\n",
       "    </tr>\n",
       "    <tr>\n",
       "      <th>1</th>\n",
       "      <td>de</td>\n",
       "      <td>247</td>\n",
       "    </tr>\n",
       "  </tbody>\n",
       "</table>\n",
       "</div>"
      ],
      "text/plain": [
       "  Posting Language  Count\n",
       "0               en    707\n",
       "1               de    247"
      ]
     },
     "execution_count": 44,
     "metadata": {},
     "output_type": "execute_result"
    }
   ],
   "source": [
    "#Lanugauges\n",
    "data['tag_language'].nunique()\n",
    "source_lang = pd.DataFrame(data['tag_language'].value_counts()).reset_index()\n",
    "source_lang = source_lang.rename(columns = {'index':'Posting Language', 'tag_language':'Count'})\n",
    "#pd.DataFrame(data['tag_language'].value_counts(), columns=['language', 'count'])\n",
    "source_lang"
   ]
  },
  {
   "cell_type": "code",
   "execution_count": 51,
   "id": "distinguished-neutral",
   "metadata": {},
   "outputs": [
    {
     "data": {
      "text/html": [
       "\n",
       "<div id=\"altair-viz-bda610d6adb848e691ec2913428e2934\"></div>\n",
       "<script type=\"text/javascript\">\n",
       "  (function(spec, embedOpt){\n",
       "    let outputDiv = document.currentScript.previousElementSibling;\n",
       "    if (outputDiv.id !== \"altair-viz-bda610d6adb848e691ec2913428e2934\") {\n",
       "      outputDiv = document.getElementById(\"altair-viz-bda610d6adb848e691ec2913428e2934\");\n",
       "    }\n",
       "    const paths = {\n",
       "      \"vega\": \"https://cdn.jsdelivr.net/npm//vega@5?noext\",\n",
       "      \"vega-lib\": \"https://cdn.jsdelivr.net/npm//vega-lib?noext\",\n",
       "      \"vega-lite\": \"https://cdn.jsdelivr.net/npm//vega-lite@4.8.1?noext\",\n",
       "      \"vega-embed\": \"https://cdn.jsdelivr.net/npm//vega-embed@6?noext\",\n",
       "    };\n",
       "\n",
       "    function loadScript(lib) {\n",
       "      return new Promise(function(resolve, reject) {\n",
       "        var s = document.createElement('script');\n",
       "        s.src = paths[lib];\n",
       "        s.async = true;\n",
       "        s.onload = () => resolve(paths[lib]);\n",
       "        s.onerror = () => reject(`Error loading script: ${paths[lib]}`);\n",
       "        document.getElementsByTagName(\"head\")[0].appendChild(s);\n",
       "      });\n",
       "    }\n",
       "\n",
       "    function showError(err) {\n",
       "      outputDiv.innerHTML = `<div class=\"error\" style=\"color:red;\">${err}</div>`;\n",
       "      throw err;\n",
       "    }\n",
       "\n",
       "    function displayChart(vegaEmbed) {\n",
       "      vegaEmbed(outputDiv, spec, embedOpt)\n",
       "        .catch(err => showError(`Javascript Error: ${err.message}<br>This usually means there's a typo in your chart specification. See the javascript console for the full traceback.`));\n",
       "    }\n",
       "\n",
       "    if(typeof define === \"function\" && define.amd) {\n",
       "      requirejs.config({paths});\n",
       "      require([\"vega-embed\"], displayChart, err => showError(`Error loading script: ${err.message}`));\n",
       "    } else if (typeof vegaEmbed === \"function\") {\n",
       "      displayChart(vegaEmbed);\n",
       "    } else {\n",
       "      loadScript(\"vega\")\n",
       "        .then(() => loadScript(\"vega-lite\"))\n",
       "        .then(() => loadScript(\"vega-embed\"))\n",
       "        .catch(showError)\n",
       "        .then(() => displayChart(vegaEmbed));\n",
       "    }\n",
       "  })({\"config\": {\"view\": {\"continuousWidth\": 400, \"continuousHeight\": 300}}, \"data\": {\"name\": \"data-2508b6413d1c22513fe64d6e5c04a741\"}, \"mark\": \"bar\", \"encoding\": {\"color\": {\"type\": \"quantitative\", \"field\": \"Count\"}, \"x\": {\"type\": \"quantitative\", \"field\": \"Count\", \"stack\": \"normalize\"}}, \"$schema\": \"https://vega.github.io/schema/vega-lite/v4.8.1.json\", \"datasets\": {\"data-2508b6413d1c22513fe64d6e5c04a741\": [{\"Posting Language\": \"en\", \"Count\": 707}, {\"Posting Language\": \"de\", \"Count\": 247}]}}, {\"mode\": \"vega-lite\"});\n",
       "</script>"
      ],
      "text/plain": [
       "alt.Chart(...)"
      ]
     },
     "execution_count": 51,
     "metadata": {},
     "output_type": "execute_result"
    }
   ],
   "source": [
    "alt.Chart(source_lang).mark_bar().encode(\n",
    "    x=alt.X('Count', stack ='normalize'),\n",
    "    #y='Posting Language',\n",
    "    color = 'Count'\n",
    ")\n"
   ]
  },
  {
   "cell_type": "code",
   "execution_count": null,
   "id": "weird-commitment",
   "metadata": {},
   "outputs": [],
   "source": [
    "alt.Chart(source_lang).transform_joinaggregate(\n",
    "    Total='sum(Count)',\n",
    ").transform_calculate(\n",
    "    PercentOfTotal=\"datum.Time / datum.TotalTime\"\n",
    ").mark_bar().encode(\n",
    "    alt.X('PercentOfTotal:Q', axis=alt.Axis(format='.0%')),\n",
    "    y='Activity:N'\n",
    ")"
   ]
  },
  {
   "cell_type": "code",
   "execution_count": 15,
   "id": "alternate-disclosure",
   "metadata": {},
   "outputs": [
    {
     "data": {
      "text/plain": [
       "Zalando                          42\n",
       "Zalando SE                       35\n",
       "Delivery Hero                    34\n",
       "Amazon Development Center DEU    27\n",
       "                                 11\n",
       "                                 ..\n",
       "SRH Hochschule Berlin             1\n",
       "cognita Deutschland GmbH          1\n",
       "allmyhomes GmbH                   1\n",
       "LiveEO                            1\n",
       "Visual Meta GmbH                  1\n",
       "Name: company, Length: 454, dtype: int64"
      ]
     },
     "execution_count": 15,
     "metadata": {},
     "output_type": "execute_result"
    }
   ],
   "source": [
    "#Companies\n",
    "data['company'].nunique()\n",
    "data['company'].value_counts()\n"
   ]
  },
  {
   "cell_type": "code",
   "execution_count": null,
   "id": "approximate-disposal",
   "metadata": {},
   "outputs": [],
   "source": []
  }
 ],
 "metadata": {
  "kernelspec": {
   "display_name": "Python 3",
   "language": "python",
   "name": "python3"
  },
  "language_info": {
   "codemirror_mode": {
    "name": "ipython",
    "version": 3
   },
   "file_extension": ".py",
   "mimetype": "text/x-python",
   "name": "python",
   "nbconvert_exporter": "python",
   "pygments_lexer": "ipython3",
   "version": "3.8.6"
  }
 },
 "nbformat": 4,
 "nbformat_minor": 5
}
