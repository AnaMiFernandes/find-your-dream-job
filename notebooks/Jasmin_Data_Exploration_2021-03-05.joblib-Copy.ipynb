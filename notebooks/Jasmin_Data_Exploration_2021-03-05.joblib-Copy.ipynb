{
 "cells": [
  {
   "cell_type": "markdown",
   "id": "medium-exhibition",
   "metadata": {},
   "source": [
    "## Imports\n"
   ]
  },
  {
   "cell_type": "code",
   "execution_count": 27,
   "id": "outer-toilet",
   "metadata": {},
   "outputs": [],
   "source": [
    "import pandas as pd\n",
    "import joblib\n",
    "import altair as alt\n",
    "from gensim.models import Word2Vec\n"
   ]
  },
  {
   "cell_type": "code",
   "execution_count": 2,
   "id": "laden-council",
   "metadata": {},
   "outputs": [],
   "source": [
    "data = joblib.load('/Users/jasminkazi/code/mizzle-toe/find-your-dream-job/fydjob/output/indeed_proc/processed_data.joblib')"
   ]
  },
  {
   "cell_type": "markdown",
   "id": "palestinian-cargo",
   "metadata": {},
   "source": [
    "### Exploration\n"
   ]
  },
  {
   "cell_type": "code",
   "execution_count": 3,
   "id": "greenhouse-imperial",
   "metadata": {},
   "outputs": [
    {
     "data": {
      "text/plain": [
       "(7859, 14)"
      ]
     },
     "execution_count": 3,
     "metadata": {},
     "output_type": "execute_result"
    }
   ],
   "source": [
    "data.shape"
   ]
  },
  {
   "cell_type": "code",
   "execution_count": 4,
   "id": "disturbed-kingdom",
   "metadata": {},
   "outputs": [
    {
     "data": {
      "text/html": [
       "<div>\n",
       "<style scoped>\n",
       "    .dataframe tbody tr th:only-of-type {\n",
       "        vertical-align: middle;\n",
       "    }\n",
       "\n",
       "    .dataframe tbody tr th {\n",
       "        vertical-align: top;\n",
       "    }\n",
       "\n",
       "    .dataframe thead th {\n",
       "        text-align: right;\n",
       "    }\n",
       "</style>\n",
       "<table border=\"1\" class=\"dataframe\">\n",
       "  <thead>\n",
       "    <tr style=\"text-align: right;\">\n",
       "      <th></th>\n",
       "      <th>job_title</th>\n",
       "      <th>job_text</th>\n",
       "      <th>company</th>\n",
       "      <th>location</th>\n",
       "      <th>job_info</th>\n",
       "      <th>query_text</th>\n",
       "      <th>source</th>\n",
       "      <th>job_link</th>\n",
       "      <th>tag_language</th>\n",
       "      <th>reviews</th>\n",
       "      <th>job_info_tokenized</th>\n",
       "      <th>job_text_tokenized</th>\n",
       "      <th>job_text_tokenized_titlecase</th>\n",
       "      <th>job_title_tokenized</th>\n",
       "    </tr>\n",
       "  </thead>\n",
       "  <tbody>\n",
       "    <tr>\n",
       "      <th>0</th>\n",
       "      <td>(Junior) Data Engineer (f/m/x)</td>\n",
       "      <td>Customlytics ist die führende App Marketing Be...</td>\n",
       "      <td>Customlytics GmbH</td>\n",
       "      <td>Berlin</td>\n",
       "      <td>(Junior) Data Engineer (f/m/x)\\nCustomlytics G...</td>\n",
       "      <td>data science</td>\n",
       "      <td>scrape_json</td>\n",
       "      <td>NaN</td>\n",
       "      <td>en</td>\n",
       "      <td>NaN</td>\n",
       "      <td>[junior, data, engineer, fmx, customlytics, gm...</td>\n",
       "      <td>[customlytics, ist, die, führende, app, market...</td>\n",
       "      <td>[Customlytics, ist, die, führende, App, Market...</td>\n",
       "      <td>[junior, data, engineer, fmx]</td>\n",
       "    </tr>\n",
       "    <tr>\n",
       "      <th>1</th>\n",
       "      <td></td>\n",
       "      <td>Responsibilities\\n\\nAs working student (m/f/x)...</td>\n",
       "      <td>Aroundhome</td>\n",
       "      <td>Berlin</td>\n",
       "      <td>Aroundhome6 Bewertungen - Berlin</td>\n",
       "      <td>data science</td>\n",
       "      <td>scrape_json</td>\n",
       "      <td>NaN</td>\n",
       "      <td>en</td>\n",
       "      <td>NaN</td>\n",
       "      <td>[aroundhome, bewertungen, berlin]</td>\n",
       "      <td>[responsibilities, as, working, student, mfx, ...</td>\n",
       "      <td>[Responsibilities, As, working, student, mfx, ...</td>\n",
       "      <td>[]</td>\n",
       "    </tr>\n",
       "    <tr>\n",
       "      <th>2</th>\n",
       "      <td></td>\n",
       "      <td>Aufgaben\\nAls Werkstudent (m/w/d) IT arbeitest...</td>\n",
       "      <td>Aroundhome</td>\n",
       "      <td>Berlin</td>\n",
       "      <td>Aroundhome6 Bewertungen - Berlin\\nTeilzeit, Pr...</td>\n",
       "      <td>data science</td>\n",
       "      <td>scrape_json</td>\n",
       "      <td>NaN</td>\n",
       "      <td>de</td>\n",
       "      <td>NaN</td>\n",
       "      <td>[aroundhome, bewertungen, berlin, teilzeit, pr...</td>\n",
       "      <td>[aufgaben, als, werkstudent, mwd, it, arbeites...</td>\n",
       "      <td>[Aufgaben, Als, Werkstudent, mwd, IT, arbeites...</td>\n",
       "      <td>[]</td>\n",
       "    </tr>\n",
       "    <tr>\n",
       "      <th>3</th>\n",
       "      <td></td>\n",
       "      <td>Startdatum\\n\\nAb sofort\\n\\nDeine Aufgaben\\n\\nD...</td>\n",
       "      <td>Alexander Thamm GmbH</td>\n",
       "      <td>Berlin</td>\n",
       "      <td>Alexander Thamm GmbH - Berlin\\nFestanstellung</td>\n",
       "      <td>data science</td>\n",
       "      <td>scrape_json</td>\n",
       "      <td>NaN</td>\n",
       "      <td>de</td>\n",
       "      <td>NaN</td>\n",
       "      <td>[alexander, thamm, gmbh, berlin, festanstellung]</td>\n",
       "      <td>[startdatum, ab, sofort, deine, aufgaben, dein...</td>\n",
       "      <td>[Startdatum, Ab, sofort, Deine, Aufgaben, Dein...</td>\n",
       "      <td>[]</td>\n",
       "    </tr>\n",
       "    <tr>\n",
       "      <th>4</th>\n",
       "      <td>Full Stack Developer (m/f/d)</td>\n",
       "      <td>We’re Phiture: a leading mobile growth consult...</td>\n",
       "      <td>Phiture</td>\n",
       "      <td>BerlinKreuzberg</td>\n",
       "      <td>Full Stack Developer (m/f/d)\\nPhiture - Berlin...</td>\n",
       "      <td>data science</td>\n",
       "      <td>scrape_json</td>\n",
       "      <td>NaN</td>\n",
       "      <td>en</td>\n",
       "      <td>NaN</td>\n",
       "      <td>[full, stack, developer, mfd, phiture, berlink...</td>\n",
       "      <td>[were, phiture, a, leading, mobile, growth, co...</td>\n",
       "      <td>[Were, Phiture, a, leading, mobile, growth, co...</td>\n",
       "      <td>[full, stack, developer, mfd]</td>\n",
       "    </tr>\n",
       "  </tbody>\n",
       "</table>\n",
       "</div>"
      ],
      "text/plain": [
       "                        job_title  \\\n",
       "0  (Junior) Data Engineer (f/m/x)   \n",
       "1                                   \n",
       "2                                   \n",
       "3                                   \n",
       "4    Full Stack Developer (m/f/d)   \n",
       "\n",
       "                                            job_text               company  \\\n",
       "0  Customlytics ist die führende App Marketing Be...     Customlytics GmbH   \n",
       "1  Responsibilities\\n\\nAs working student (m/f/x)...            Aroundhome   \n",
       "2  Aufgaben\\nAls Werkstudent (m/w/d) IT arbeitest...            Aroundhome   \n",
       "3  Startdatum\\n\\nAb sofort\\n\\nDeine Aufgaben\\n\\nD...  Alexander Thamm GmbH   \n",
       "4  We’re Phiture: a leading mobile growth consult...               Phiture   \n",
       "\n",
       "          location                                           job_info  \\\n",
       "0           Berlin  (Junior) Data Engineer (f/m/x)\\nCustomlytics G...   \n",
       "1           Berlin                   Aroundhome6 Bewertungen - Berlin   \n",
       "2           Berlin  Aroundhome6 Bewertungen - Berlin\\nTeilzeit, Pr...   \n",
       "3           Berlin      Alexander Thamm GmbH - Berlin\\nFestanstellung   \n",
       "4  BerlinKreuzberg  Full Stack Developer (m/f/d)\\nPhiture - Berlin...   \n",
       "\n",
       "     query_text       source job_link tag_language  reviews  \\\n",
       "0  data science  scrape_json      NaN           en      NaN   \n",
       "1  data science  scrape_json      NaN           en      NaN   \n",
       "2  data science  scrape_json      NaN           de      NaN   \n",
       "3  data science  scrape_json      NaN           de      NaN   \n",
       "4  data science  scrape_json      NaN           en      NaN   \n",
       "\n",
       "                                  job_info_tokenized  \\\n",
       "0  [junior, data, engineer, fmx, customlytics, gm...   \n",
       "1                  [aroundhome, bewertungen, berlin]   \n",
       "2  [aroundhome, bewertungen, berlin, teilzeit, pr...   \n",
       "3   [alexander, thamm, gmbh, berlin, festanstellung]   \n",
       "4  [full, stack, developer, mfd, phiture, berlink...   \n",
       "\n",
       "                                  job_text_tokenized  \\\n",
       "0  [customlytics, ist, die, führende, app, market...   \n",
       "1  [responsibilities, as, working, student, mfx, ...   \n",
       "2  [aufgaben, als, werkstudent, mwd, it, arbeites...   \n",
       "3  [startdatum, ab, sofort, deine, aufgaben, dein...   \n",
       "4  [were, phiture, a, leading, mobile, growth, co...   \n",
       "\n",
       "                        job_text_tokenized_titlecase  \\\n",
       "0  [Customlytics, ist, die, führende, App, Market...   \n",
       "1  [Responsibilities, As, working, student, mfx, ...   \n",
       "2  [Aufgaben, Als, Werkstudent, mwd, IT, arbeites...   \n",
       "3  [Startdatum, Ab, sofort, Deine, Aufgaben, Dein...   \n",
       "4  [Were, Phiture, a, leading, mobile, growth, co...   \n",
       "\n",
       "             job_title_tokenized  \n",
       "0  [junior, data, engineer, fmx]  \n",
       "1                             []  \n",
       "2                             []  \n",
       "3                             []  \n",
       "4  [full, stack, developer, mfd]  "
      ]
     },
     "execution_count": 4,
     "metadata": {},
     "output_type": "execute_result"
    }
   ],
   "source": [
    "data.head()"
   ]
  },
  {
   "cell_type": "code",
   "execution_count": 5,
   "id": "behavioral-sitting",
   "metadata": {},
   "outputs": [],
   "source": [
    "data = data.drop(columns=['job_info_tokenized','job_text_tokenized_titlecase', 'job_title_tokenized'])"
   ]
  },
  {
   "cell_type": "code",
   "execution_count": 6,
   "id": "muslim-slovak",
   "metadata": {},
   "outputs": [
    {
     "data": {
      "text/plain": [
       "Index(['job_title', 'job_text', 'company', 'location', 'job_info',\n",
       "       'query_text', 'source', 'job_link', 'tag_language', 'reviews',\n",
       "       'job_text_tokenized'],\n",
       "      dtype='object')"
      ]
     },
     "execution_count": 6,
     "metadata": {},
     "output_type": "execute_result"
    }
   ],
   "source": [
    "data.columns"
   ]
  },
  {
   "cell_type": "markdown",
   "id": "loaded-coordinator",
   "metadata": {},
   "source": [
    "### No. of...\n"
   ]
  },
  {
   "cell_type": "code",
   "execution_count": 7,
   "id": "coordinate-massachusetts",
   "metadata": {},
   "outputs": [
    {
     "data": {
      "text/plain": [
       "7859"
      ]
     },
     "execution_count": 7,
     "metadata": {},
     "output_type": "execute_result"
    }
   ],
   "source": [
    "data['job_title'].count()"
   ]
  },
  {
   "cell_type": "code",
   "execution_count": 10,
   "id": "bridal-chair",
   "metadata": {},
   "outputs": [
    {
     "data": {
      "text/plain": [
       "array(['data science', 'business intelligence', 'data engineer',\n",
       "       'data scientist', nan], dtype=object)"
      ]
     },
     "execution_count": 10,
     "metadata": {},
     "output_type": "execute_result"
    }
   ],
   "source": [
    "data['query_text'].unique()"
   ]
  },
  {
   "cell_type": "code",
   "execution_count": 25,
   "id": "auburn-procedure",
   "metadata": {},
   "outputs": [
    {
     "name": "stdout",
     "output_type": "stream",
     "text": [
      "min:  2.0  max:  148114.0\n"
     ]
    },
    {
     "data": {
      "text/plain": [
       "<AxesSubplot:>"
      ]
     },
     "execution_count": 25,
     "metadata": {},
     "output_type": "execute_result"
    },
    {
     "data": {
      "image/png": "[encoded data removed]",
      "text/plain": [
       "<Figure size 432x288 with 1 Axes>"
      ]
     },
     "metadata": {
      "needs_background": "light"
     },
     "output_type": "display_data"
    }
   ],
   "source": [
    "print('min: ',data['reviews'].min(), ' max: ', data['reviews'].max())\n",
    "data['reviews'].plot()"
   ]
  },
  {
   "cell_type": "code",
   "execution_count": null,
   "id": "obvious-kazakhstan",
   "metadata": {},
   "outputs": [],
   "source": [
    "#trying out modifying the df so I don't have a df per chart\n",
    "source_lang = data['tag_language'].value_counts()\n",
    "type(source_lang)\n",
    "source_lang= data.groupby('tag_language')\n",
    "type(source_lang)"
   ]
  },
  {
   "cell_type": "code",
   "execution_count": null,
   "id": "reported-blocking",
   "metadata": {},
   "outputs": [],
   "source": [
    "#Lanugauges\n",
    "data['tag_language'].nunique()\n",
    "source_lang = pd.DataFrame(data['tag_language'].value_counts()).reset_index()\n",
    "source_lang = source_lang.rename(columns = {'index':'Posting Language', 'tag_language':'Count'})\n",
    "type(source_lang)"
   ]
  },
  {
   "cell_type": "code",
   "execution_count": null,
   "id": "distinguished-neutral",
   "metadata": {},
   "outputs": [],
   "source": [
    "alt.Chart(source_lang).mark_bar().encode(\n",
    "    x=alt.X('Count', stack ='normalize'),\n",
    "    #y='Posting Language',\n",
    "    color = 'Count'\n",
    ")\n"
   ]
  },
  {
   "cell_type": "code",
   "execution_count": null,
   "id": "weird-commitment",
   "metadata": {},
   "outputs": [],
   "source": [
    "alt.Chart(source_lang).transform_joinaggregate(\n",
    "    Total='sum(Count)',\n",
    ").transform_calculate(\n",
    "    Percentage=\"datum.Count / datum.Total\"\n",
    ").mark_bar().encode(\n",
    "    alt.X('Percentage:Q', axis=alt.Axis(format='.0%')),\n",
    "    y='Posting Language:N'\n",
    ")"
   ]
  },
  {
   "cell_type": "code",
   "execution_count": null,
   "id": "alternate-disclosure",
   "metadata": {},
   "outputs": [],
   "source": [
    "#Companies\n",
    "print('Hiring Companies: ', data['company'].nunique())\n",
    "source_comp = pd.DataFrame(data['company'].value_counts().reset_index())\n",
    "source_comp= source_comp.rename(columns = {'index':'Company', 'company':'Count'})\n",
    "source_comp"
   ]
  },
  {
   "cell_type": "code",
   "execution_count": null,
   "id": "approximate-disposal",
   "metadata": {},
   "outputs": [],
   "source": [
    "source_comp = source_comp.nlargest(30, 'Count')\n",
    "\n",
    "bars = alt.Chart(source_comp).mark_bar().encode(\n",
    "    x='Count:Q',\n",
    "    y=alt.Y('Company:N', sort='-x')\n",
    ")\n",
    "\n",
    "text = bars.mark_text(\n",
    "    align='left',\n",
    "    baseline='middle',\n",
    "    dx=3  # Nudges text to right so it doesn't appear on top of the bar\n",
    ").encode(\n",
    "    text='Count:Q'\n",
    ")\n",
    "\n",
    "(bars + text).properties(height=500)"
   ]
  },
  {
   "cell_type": "code",
   "execution_count": null,
   "id": "radical-bradford",
   "metadata": {},
   "outputs": [],
   "source": [
    "#query_text\n",
    "print('No of query_text: ',data['query_text'].nunique())\n",
    "source_job = pd.DataFrame(data['query_text'].value_counts().reset_index())\n",
    "source_job= source_job.rename(columns = {'index':'Job', 'query_text':'Count'})\n",
    "source_job"
   ]
  },
  {
   "cell_type": "code",
   "execution_count": null,
   "id": "junior-pavilion",
   "metadata": {},
   "outputs": [],
   "source": [
    "alt.Chart(source_job).mark_bar().encode(\n",
    "    x='Count',\n",
    "    y='Job'\n",
    ")\n",
    "#rule = alt.Chart(source_job).mark_rule(color='red').encode(\n",
    "#    x='mean(Count):Q'\n",
    "#)"
   ]
  },
  {
   "cell_type": "code",
   "execution_count": null,
   "id": "dressed-awareness",
   "metadata": {},
   "outputs": [],
   "source": [
    "type(data['job_text_tokenized'][0])"
   ]
  },
  {
   "cell_type": "code",
   "execution_count": null,
   "id": "korean-toddler",
   "metadata": {},
   "outputs": [],
   "source": [
    "from fydjob import utils\n",
    "utils.load_skills()     #loads the skills from JSON file\n"
   ]
  },
  {
   "cell_type": "code",
   "execution_count": null,
   "id": "thorough-military",
   "metadata": {},
   "outputs": [],
   "source": [
    "# get all the skill sets\n",
    "categories = utils.load_skills()\n",
    "categories.keys()\n",
    "bus_skills = set(utils.load_skills()['business'])\n",
    "knowledge_skills = set(utils.load_skills()['knowledge'])\n",
    "code_skills = set(utils.load_skills()['programming'])\n",
    "soft_skills = set(utils.load_skills()['soft_skills'])\n"
   ]
  },
  {
   "cell_type": "code",
   "execution_count": null,
   "id": "simple-going",
   "metadata": {},
   "outputs": [],
   "source": [
    "#get skill for the first token\n",
    "skill_0 = []\n",
    "\n",
    "for word in data['job_text_tokenized'][0]:\n",
    "    if word in code_skills:\n",
    "        skill_0.append(word)\n",
    "        \n",
    "skill_0"
   ]
  },
  {
   "cell_type": "code",
   "execution_count": null,
   "id": "indoor-planning",
   "metadata": {},
   "outputs": [],
   "source": [
    "# count the occurences\n",
    "from collections import Counter\n",
    "counter0 = Counter(data['job_text_tokenized'][0])\n",
    "\n",
    "#occs = {x: counter[x] for x in counter.keys() & set(skill_0)}\n",
    "\n",
    "bus_occs = {x: counter0[x] for x in counter0.keys() & set(bus_skills)}\n",
    "code_occs = {x: counter0[x] for x in counter0.keys() & set(code_skills)}\n",
    "knowledge_occs ={x: counter0[x] for x in counter0.keys() & set(knowledge_skills)}\n",
    "soft_occs ={x: counter0[x] for x in counter0.keys() & set(soft_skills)}\n",
    "    \n",
    "print(bus_occs)\n",
    "print(code_occs)\n",
    "print(knowledge_occs)\n",
    "print(soft_occs)\n"
   ]
  },
  {
   "cell_type": "code",
   "execution_count": null,
   "id": "noted-banner",
   "metadata": {},
   "outputs": [],
   "source": [
    "jd_0 = set(data['job_text_tokenized'][5])\n",
    "vacancy = data['job_text_tokenized'][5]\n",
    "jd_0"
   ]
  },
  {
   "cell_type": "code",
   "execution_count": null,
   "id": "monthly-citizen",
   "metadata": {},
   "outputs": [],
   "source": [
    "jd_0.intersection(bus_skills)"
   ]
  },
  {
   "cell_type": "code",
   "execution_count": null,
   "id": "different-branch",
   "metadata": {},
   "outputs": [],
   "source": [
    "jd_0.intersection(code_skills)"
   ]
  },
  {
   "cell_type": "code",
   "execution_count": null,
   "id": "powerful-microphone",
   "metadata": {},
   "outputs": [],
   "source": [
    "jd_0.intersection(soft_skills)"
   ]
  },
  {
   "cell_type": "code",
   "execution_count": null,
   "id": "natural-development",
   "metadata": {},
   "outputs": [],
   "source": [
    "jd_0.intersection(knowledge_skills)"
   ]
  },
  {
   "cell_type": "code",
   "execution_count": null,
   "id": "educated-sleeping",
   "metadata": {},
   "outputs": [],
   "source": [
    "for skill in categories:\n",
    "    print(skill, jd_0.intersection(categories[skill]))\n"
   ]
  },
  {
   "cell_type": "code",
   "execution_count": null,
   "id": "honest-samoa",
   "metadata": {},
   "outputs": [],
   "source": [
    "intersects_know = jd_0.intersection(knowledge_skills)\n",
    "intersects_code = jd_0.intersection(code_skills)\n",
    "intersects_soft = jd_0.intersection(soft_skills)\n",
    "intersect_bus = jd_0.intersection(bus_skills)"
   ]
  },
  {
   "cell_type": "code",
   "execution_count": null,
   "id": "common-novel",
   "metadata": {},
   "outputs": [],
   "source": [
    "vacancy.count('xgboost')"
   ]
  },
  {
   "cell_type": "code",
   "execution_count": null,
   "id": "fifth-identifier",
   "metadata": {},
   "outputs": [],
   "source": [
    "occsurrences_know ={} \n",
    "for skill in intersects_know:\n",
    "    occsurrences_know[skill] = vacancy.count(skill)\n",
    "occsurrences_know\n"
   ]
  },
  {
   "cell_type": "code",
   "execution_count": null,
   "id": "regular-israel",
   "metadata": {},
   "outputs": [],
   "source": [
    "occsurrences_code ={} \n",
    "for skill in intersects_code:\n",
    "    occsurrences_code[skill] = vacancy.count(skill)\n",
    "occsurrences_code"
   ]
  },
  {
   "cell_type": "code",
   "execution_count": null,
   "id": "owned-resource",
   "metadata": {},
   "outputs": [],
   "source": [
    "occsurrences_soft ={} \n",
    "for skill in intersects_soft:\n",
    "    occsurrences_soft[skill] = vacancy.count(skill)\n",
    "occsurrences_soft"
   ]
  },
  {
   "cell_type": "code",
   "execution_count": null,
   "id": "analyzed-interim",
   "metadata": {},
   "outputs": [],
   "source": [
    "occsurrences_bus ={} \n",
    "for skill in intersects_soft:\n",
    "    occsurrences_bus[skill] = vacancy.count(skill)\n",
    "occsurrences_bus\n"
   ]
  },
  {
   "cell_type": "code",
   "execution_count": null,
   "id": "manufactured-contest",
   "metadata": {},
   "outputs": [],
   "source": [
    "categories"
   ]
  },
  {
   "cell_type": "code",
   "execution_count": null,
   "id": "informal-green",
   "metadata": {},
   "outputs": [],
   "source": [
    "for category in categories:\n",
    "    print(category)"
   ]
  },
  {
   "cell_type": "code",
   "execution_count": null,
   "id": "successful-pathology",
   "metadata": {},
   "outputs": [],
   "source": [
    "vacancy = data['job_text_tokenized'][5]\n",
    "vacancy_set = set(vacancy)\n",
    "matching_skill_per_category = {}\n",
    "\n",
    "for category in categories:\n",
    "    matching_skill_per_category[str(category)]=vacancy_set.intersection(categories[category])\n",
    "#print(matching_skill_per_category)\n",
    "    \n",
    "occ = {}\n",
    "for category in categories:\n",
    "    occ[category] = {}\n",
    "    for s in matching_skill_per_category[str(category)]:\n",
    "        occ[category][s] =  vacancy.count(s)\n",
    "print(occ)\n"
   ]
  },
  {
   "cell_type": "code",
   "execution_count": null,
   "id": "mounted-compatibility",
   "metadata": {},
   "outputs": [],
   "source": [
    "data['job_text_tokenized']"
   ]
  },
  {
   "cell_type": "code",
   "execution_count": null,
   "id": "challenging-filename",
   "metadata": {},
   "outputs": [],
   "source": [
    "occ"
   ]
  },
  {
   "cell_type": "code",
   "execution_count": null,
   "id": "surprising-invalid",
   "metadata": {},
   "outputs": [],
   "source": [
    "for vacancy in data['job_text_tokenized'][:3]:\n",
    "    set(vacancy)"
   ]
  },
  {
   "cell_type": "code",
   "execution_count": null,
   "id": "sacred-holocaust",
   "metadata": {},
   "outputs": [],
   "source": [
    "type(data['job_text_tokenized'].values)"
   ]
  },
  {
   "cell_type": "code",
   "execution_count": null,
   "id": "professional-memphis",
   "metadata": {},
   "outputs": [],
   "source": [
    "categories"
   ]
  },
  {
   "cell_type": "code",
   "execution_count": null,
   "id": "native-marathon",
   "metadata": {},
   "outputs": [],
   "source": [
    "#vacancy = data['job_text_tokenized'][5]\n",
    "\n",
    "\n",
    "def get_skill_count(vacancy):\n",
    "    # turn the vacancy into a set to compare the words with defined dictionary\n",
    "    vacancy_set = set(vacancy)\n",
    "    # get the matching skills of a job description to the skills defined within different categories of skillsets (tech, bus, softskill...)\n",
    "    matching_skill_per_category = {}\n",
    "    for category in categories:\n",
    "        matching_skill_per_category[str(category)]=vacancy_set.intersection(categories[category])\n",
    "    \n",
    "    #count the occurences of every matching skill\n",
    "    occurrences = {}\n",
    "    for category in categories:\n",
    "        occurrences[category] = {}\n",
    "        for skill in matching_skill_per_category[str(category)]:\n",
    "            occurrences[category][skill] =  vacancy.count(skill)\n",
    "    return occurrences"
   ]
  },
  {
   "cell_type": "code",
   "execution_count": null,
   "id": "coated-accent",
   "metadata": {},
   "outputs": [],
   "source": [
    "requirement = {}\n",
    "for index, vacancy in enumerate(data['job_text_tokenized']):\n",
    "    #print(vacancy)\n",
    "    requirement[index]= get_skill_count(vacancy)\n",
    "    occurence =get_skill_count(vacancy)\n",
    "    "
   ]
  },
  {
   "cell_type": "code",
   "execution_count": null,
   "id": "developing-success",
   "metadata": {},
   "outputs": [],
   "source": [
    "requirement"
   ]
  },
  {
   "cell_type": "code",
   "execution_count": null,
   "id": "employed-diagram",
   "metadata": {},
   "outputs": [],
   "source": []
  },
  {
   "cell_type": "code",
   "execution_count": null,
   "id": "substantial-formula",
   "metadata": {},
   "outputs": [],
   "source": [
    "#things to do for streamlit\n",
    "\n",
    "# ranking of all skills for streamlit --> agregated view of each categ\n",
    "# percentage of category per job offer (10% bus, 20% tech...)"
   ]
  },
  {
   "cell_type": "code",
   "execution_count": null,
   "id": "different-rendering",
   "metadata": {},
   "outputs": [],
   "source": [
    "#put all vacancies into one huge list\n",
    "all_vacancies=[]\n",
    "for job in data['job_text_tokenized']:\n",
    "    #print(len(job))\n",
    "    all_vacancies = all_vacancies + job"
   ]
  },
  {
   "cell_type": "code",
   "execution_count": null,
   "id": "official-louisiana",
   "metadata": {},
   "outputs": [],
   "source": [
    "len(all_vacancies)"
   ]
  },
  {
   "cell_type": "code",
   "execution_count": null,
   "id": "discrete-consolidation",
   "metadata": {},
   "outputs": [],
   "source": [
    "vacancy_set = set(all_vacancies)\n",
    "len(vacancy_set)"
   ]
  },
  {
   "cell_type": "code",
   "execution_count": null,
   "id": "compressed-conjunction",
   "metadata": {},
   "outputs": [],
   "source": [
    "\n",
    "matching_skill_per_category = {}\n",
    "\n",
    "for category in categories:\n",
    "    matching_skill_per_category[str(category)]=vacancy_set.intersection(categories[category])\n",
    "#print(matching_skill_per_category)\n",
    "occ = {}\n",
    "for category in categories:\n",
    "    occ[category] = {}\n",
    "    for s in matching_skill_per_category[str(category)]:\n",
    "        occ[category][s] =  all_vacancies.count(s)\n",
    "print(occ)"
   ]
  },
  {
   "cell_type": "code",
   "execution_count": null,
   "id": "fifteen-liechtenstein",
   "metadata": {},
   "outputs": [],
   "source": [
    "def get_skill_aggr(all_vacancies):\n",
    "    \n",
    "    vacancy_set = set(all_vacancies)\n",
    "    matching_skill_per_category = {}\n",
    "\n",
    "    for category in categories:\n",
    "        matching_skill_per_category[str(category)]=vacancy_set.intersection(categories[category])\n",
    "    \n",
    "    occ = {}\n",
    "    for category in categories:\n",
    "        occ[category] = {}\n",
    "        for s in matching_skill_per_category[str(category)]:\n",
    "            occ[category][s] =  all_vacancies.count(s)\n",
    "    return occ"
   ]
  },
  {
   "cell_type": "code",
   "execution_count": null,
   "id": "adjusted-filing",
   "metadata": {},
   "outputs": [],
   "source": [
    "all_vacancies=[]\n",
    "for job in data['job_text_tokenized']:\n",
    "    #print(len(job))\n",
    "    all_vacancies = all_vacancies + job\n",
    "total_occurences = get_skill_aggr(all_vacancies)\n",
    "total_occurences"
   ]
  },
  {
   "cell_type": "code",
   "execution_count": null,
   "id": "rational-knock",
   "metadata": {},
   "outputs": [],
   "source": [
    "df = pd.DataFrame(total_occurences).reset_index()\n",
    "df= df.rename(columns = {'index':'skill'})\n",
    "\n",
    "df"
   ]
  },
  {
   "cell_type": "code",
   "execution_count": null,
   "id": "palestinian-compact",
   "metadata": {},
   "outputs": [],
   "source": [
    "if df['business'] >0:\n",
    "    df['category'] = 'business'"
   ]
  },
  {
   "cell_type": "code",
   "execution_count": null,
   "id": "acoustic-birth",
   "metadata": {},
   "outputs": [],
   "source": [
    "for category in df.columns[1:]:\n",
    "    #print(df[category])\n",
    "    if df.loc[df[category] > 0,:]:\n",
    "              df['category']=category\n",
    "#df.loc[df['a'] > 10, ['a','c']]"
   ]
  },
  {
   "cell_type": "code",
   "execution_count": null,
   "id": "compliant-mediterranean",
   "metadata": {},
   "outputs": [],
   "source": [
    "df_bus = df[['skill','business']].dropna().sort_values('business', ascending = False).rename(columns = {'business':'count'})\n",
    "df_bus['category']='business'\n",
    "df_bus"
   ]
  },
  {
   "cell_type": "code",
   "execution_count": null,
   "id": "optimum-performer",
   "metadata": {},
   "outputs": [],
   "source": [
    "df_know = df[['skill','knowledge']].dropna().sort_values('knowledge', ascending = False).rename(columns = {'knowledge':'count'})\n",
    "df_know['category']='knowledge'\n",
    "df_know"
   ]
  },
  {
   "cell_type": "code",
   "execution_count": null,
   "id": "verified-printing",
   "metadata": {},
   "outputs": [],
   "source": [
    "df_code = df[['skill','programming']].dropna().sort_values('programming', ascending = False).rename(columns = {'programming':'count'})\n",
    "df_code['category']='programming'\n",
    "df_code"
   ]
  },
  {
   "cell_type": "code",
   "execution_count": null,
   "id": "utility-raleigh",
   "metadata": {},
   "outputs": [],
   "source": [
    "df_soft = df[['skill','soft_skills']].dropna().sort_values('soft_skills', ascending = False).rename(columns = {'soft_skills':'count'})\n",
    "df_soft['category']='soft skills'\n",
    "df_soft"
   ]
  },
  {
   "cell_type": "code",
   "execution_count": null,
   "id": "enormous-budapest",
   "metadata": {},
   "outputs": [],
   "source": [
    "df_categ = df_bus.append(df_know).append(df_code).append(df_soft)\n"
   ]
  },
  {
   "cell_type": "code",
   "execution_count": null,
   "id": "comfortable-munich",
   "metadata": {},
   "outputs": [],
   "source": [
    "df_categ['category'].unique()"
   ]
  },
  {
   "cell_type": "code",
   "execution_count": null,
   "id": "found-excess",
   "metadata": {},
   "outputs": [],
   "source": [
    "import numpy as np\n",
    "source = df_categ\n",
    "category = np.array(df_bus['category'].unique())\n",
    "\n",
    "\n",
    "base= alt.Chart(source).mark_bar().encode(\n",
    "    x=alt.X('count'),\n",
    "    y=alt.Y('skill:N', sort='-x'))\n",
    "\n",
    "\n",
    "# A dropdown filter\n",
    "genre_dropdown = alt.binding_select(options=category)\n",
    "#input_dropdown = alt.binding_select(options=['Europe','Japan','USA'])\n",
    "genre_select = alt.selection_single(fields=['Skill'], bind=genre_dropdown, name=\"Genre\")\n",
    "#selection = alt.selection_single(fields=['Origin'], bind=input_dropdown, name='Country of ')\n",
    "#color = alt.condition(selection,\n",
    "#                    alt.Color('Origin:N', legend=None),\n",
    "#                    alt.value('lightgray'))\n",
    "\n",
    "filter_genres = base.add_selection(\n",
    "    genre_select\n",
    ").transform_filter(\n",
    "    genre_select\n",
    ").properties(title=\"Dropdown Filtering\")\n",
    "\n"
   ]
  },
  {
   "cell_type": "code",
   "execution_count": null,
   "id": "stuffed-copyright",
   "metadata": {},
   "outputs": [],
   "source": [
    "\n",
    "\n",
    "category"
   ]
  },
  {
   "cell_type": "code",
   "execution_count": null,
   "id": "sticky-shoot",
   "metadata": {},
   "outputs": [],
   "source": [
    "source = df_categ.nlargest(100, 'count')\n",
    "categs = np.array(df_categ['category'].unique())\n",
    "category = np.insert(categs, 0, 'all')\n",
    "\n",
    "\n",
    "#Dropdownbox\n",
    "input_dropdown = alt.binding_select(options = category)\n",
    "selection = alt.selection_single(fields = ['category'], bind = input_dropdown, name= 'Professional ')\n",
    "\n",
    "alt.Chart(source).mark_bar().encode(\n",
    "x = ('count:Q'),\n",
    "y = alt.Y('skill',sort='-x'),\n",
    ").add_selection(selection).transform_filter(\n",
    "    selection)\n"
   ]
  },
  {
   "cell_type": "code",
   "execution_count": null,
   "id": "eastern-andrew",
   "metadata": {},
   "outputs": [],
   "source": [
    "from vega_datasets import data\n",
    "movies = alt.UrlData(\n",
    "    data.movies.url,\n",
    "    format=alt.DataFormat(parse={\"Release_Date\":\"date\"})\n",
    ")\n",
    "movies"
   ]
  },
  {
   "cell_type": "code",
   "execution_count": null,
   "id": "vertical-jewel",
   "metadata": {},
   "outputs": [],
   "source": [
    "movies_df = pd.read_json('https://cdn.jsdelivr.net/npm/vega-datasets@v1.29.0/data/movies.json')"
   ]
  },
  {
   "cell_type": "code",
   "execution_count": null,
   "id": "responsible-dylan",
   "metadata": {},
   "outputs": [],
   "source": [
    "movies_df\n"
   ]
  },
  {
   "cell_type": "code",
   "execution_count": null,
   "id": "weekly-ordering",
   "metadata": {},
   "outputs": [],
   "source": [
    "ratings = ['G', 'NC-17', 'PG', 'PG-13', 'R']\n",
    "genres = ['Action', 'Adventure', 'Black Comedy', 'Comedy',\n",
    "       'Concert/Performance', 'Documentary', 'Drama', 'Horror', 'Musical',\n",
    "       'Romantic Comedy', 'Thriller/Suspense', 'Western']\n",
    "\n",
    "base = alt.Chart(movies, width=200, height=200).mark_point(filled=True).transform_calculate(\n",
    "    Rounded_IMDB_Rating = \"floor(datum.IMDB_Rating)\",\n",
    "    Hundred_Million_Production =  \"datum.Production_Budget > 100000000.0 ? 100 : 10\",\n",
    "    Release_Year = \"year(datum.Release_Date)\"\n",
    ").transform_filter(\n",
    "    alt.datum.IMDB_Rating > 0\n",
    ").transform_filter(\n",
    "    alt.FieldOneOfPredicate(field='MPAA_Rating', oneOf=ratings)\n",
    ").encode(\n",
    "    x=alt.X('Worldwide_Gross:Q', scale=alt.Scale(domain=(100000,10**9), clamp=True)),\n",
    "    y='IMDB_Rating:Q',\n",
    "    tooltip=\"Title:N\"\n",
    ")\n",
    "\n",
    "genre_dropdown = alt.binding_select(options=genres)\n",
    "genre_select = alt.selection_single(fields=['Major_Genre'], bind=genre_dropdown, name=\"Genre\")\n",
    "\n",
    "filter_genres = base.add_selection(\n",
    "    genre_select\n",
    ").transform_filter(\n",
    "    genre_select\n",
    ").properties(title=\"Dropdown Filtering\")\n",
    "\n",
    "filter_genres"
   ]
  },
  {
   "cell_type": "markdown",
   "id": "endless-wells",
   "metadata": {},
   "source": [
    "## Vectorizer\n"
   ]
  },
  {
   "cell_type": "code",
   "execution_count": 28,
   "id": "contrary-health",
   "metadata": {},
   "outputs": [],
   "source": [
    "\n",
    "'''\n",
    "instanciate a model with the .load method and select the path to the saved .model files\n",
    "'''\n",
    "\n",
    "w2v_model = Word2Vec.load(\"../fydjob/data/models/w2v_model_baseline.model\")\n",
    "\n"
   ]
  },
  {
   "cell_type": "code",
   "execution_count": 51,
   "id": "light-scientist",
   "metadata": {},
   "outputs": [
    {
     "data": {
      "text/html": [
       "<div>\n",
       "<style scoped>\n",
       "    .dataframe tbody tr th:only-of-type {\n",
       "        vertical-align: middle;\n",
       "    }\n",
       "\n",
       "    .dataframe tbody tr th {\n",
       "        vertical-align: top;\n",
       "    }\n",
       "\n",
       "    .dataframe thead th {\n",
       "        text-align: right;\n",
       "    }\n",
       "</style>\n",
       "<table border=\"1\" class=\"dataframe\">\n",
       "  <thead>\n",
       "    <tr style=\"text-align: right;\">\n",
       "      <th></th>\n",
       "      <th>Similar word</th>\n",
       "      <th>distance</th>\n",
       "    </tr>\n",
       "  </thead>\n",
       "  <tbody>\n",
       "    <tr>\n",
       "      <th>0</th>\n",
       "      <td>metrics</td>\n",
       "      <td>0.780442</td>\n",
       "    </tr>\n",
       "    <tr>\n",
       "      <th>1</th>\n",
       "      <td>selfservice</td>\n",
       "      <td>0.776556</td>\n",
       "    </tr>\n",
       "    <tr>\n",
       "      <th>2</th>\n",
       "      <td>crosschannel</td>\n",
       "      <td>0.767714</td>\n",
       "    </tr>\n",
       "    <tr>\n",
       "      <th>3</th>\n",
       "      <td>dashboards</td>\n",
       "      <td>0.749835</td>\n",
       "    </tr>\n",
       "    <tr>\n",
       "      <th>4</th>\n",
       "      <td>reporting</td>\n",
       "      <td>0.737683</td>\n",
       "    </tr>\n",
       "    <tr>\n",
       "      <th>5</th>\n",
       "      <td>analytics</td>\n",
       "      <td>0.724615</td>\n",
       "    </tr>\n",
       "    <tr>\n",
       "      <th>6</th>\n",
       "      <td>kpis</td>\n",
       "      <td>0.724004</td>\n",
       "    </tr>\n",
       "    <tr>\n",
       "      <th>7</th>\n",
       "      <td>marketing</td>\n",
       "      <td>0.717334</td>\n",
       "    </tr>\n",
       "    <tr>\n",
       "      <th>8</th>\n",
       "      <td>recommendations</td>\n",
       "      <td>0.714178</td>\n",
       "    </tr>\n",
       "    <tr>\n",
       "      <th>9</th>\n",
       "      <td>insights</td>\n",
       "      <td>0.713545</td>\n",
       "    </tr>\n",
       "  </tbody>\n",
       "</table>\n",
       "</div>"
      ],
      "text/plain": [
       "      Similar word  distance\n",
       "0          metrics  0.780442\n",
       "1      selfservice  0.776556\n",
       "2     crosschannel  0.767714\n",
       "3       dashboards  0.749835\n",
       "4        reporting  0.737683\n",
       "5        analytics  0.724615\n",
       "6             kpis  0.724004\n",
       "7        marketing  0.717334\n",
       "8  recommendations  0.714178\n",
       "9         insights  0.713545"
      ]
     },
     "execution_count": 51,
     "metadata": {},
     "output_type": "execute_result"
    }
   ],
   "source": [
    "word = ['business', 'dashboard']\n",
    "df_words= pd.DataFrame(w2v_model.wv.most_similar(word), columns=['Similar word', 'distance']) # works with single words\n",
    "df_words"
   ]
  },
  {
   "cell_type": "code",
   "execution_count": null,
   "id": "architectural-delhi",
   "metadata": {},
   "outputs": [],
   "source": []
  }
 ],
 "metadata": {
  "kernelspec": {
   "display_name": "Python 3",
   "language": "python",
   "name": "python3"
  },
  "language_info": {
   "codemirror_mode": {
    "name": "ipython",
    "version": 3
   },
   "file_extension": ".py",
   "mimetype": "text/x-python",
   "name": "python",
   "nbconvert_exporter": "python",
   "pygments_lexer": "ipython3",
   "version": "3.8.6"
  }
 },
 "nbformat": 4,
 "nbformat_minor": 5
}
