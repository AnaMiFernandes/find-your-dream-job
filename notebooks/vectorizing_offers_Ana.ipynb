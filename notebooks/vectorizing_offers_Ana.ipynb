{
 "cells": [
  {
   "cell_type": "markdown",
   "id": "fancy-naples",
   "metadata": {},
   "source": [
    "# vectorizing job offers"
   ]
  },
  {
   "cell_type": "markdown",
   "id": "swiss-blond",
   "metadata": {},
   "source": [
    "## aim\n",
    "- cluster job offeres by similarity based on a dictionary of skills\n",
    "\n",
    "## outline\n",
    "- preprocess doc2vec with full job offers\n",
    "- train model\n",
    "- test similarity of job descriptions\n",
    "- cluster offers (Kmeans, KNN)\n",
    "\n",
    "## outcome\n",
    "unicorns in a meadow"
   ]
  },
  {
   "cell_type": "code",
   "execution_count": 3,
   "id": "ordinary-timber",
   "metadata": {},
   "outputs": [],
   "source": [
    "import pandas as pd\n",
    "import numpy as np\n",
    "import matplotlib.pyplot as plt\n",
    "from nltk.corpus import stopwords \n",
    "from nltk.tokenize import word_tokenize\n",
    "from nltk.stem import WordNetLemmatizer\n",
    "import gensim\n",
    "import joblib\n",
    "from gensim.models.doc2vec import Doc2Vec, TaggedDocument\n",
    "from pprint import pprint\n",
    "import math\n",
    "import multiprocessing\n",
    "import gensim.models.doc2vec\n",
    "import time\n",
    "\n",
    "%matplotlib inline"
   ]
  },
  {
   "cell_type": "code",
   "execution_count": 4,
   "id": "familiar-olympus",
   "metadata": {},
   "outputs": [],
   "source": [
    "df = joblib.load('../../../raw_data/processed_data.joblib')"
   ]
  },
  {
   "cell_type": "code",
   "execution_count": 5,
   "id": "sustained-velvet",
   "metadata": {},
   "outputs": [
    {
     "data": {
      "text/plain": [
       "(7859, 14)"
      ]
     },
     "execution_count": 5,
     "metadata": {},
     "output_type": "execute_result"
    }
   ],
   "source": [
    "df.shape"
   ]
  },
  {
   "cell_type": "code",
   "execution_count": 6,
   "id": "physical-leone",
   "metadata": {},
   "outputs": [],
   "source": [
    "df['tag_language'] = df['tag_language'].fillna(value='en')"
   ]
  },
  {
   "cell_type": "code",
   "execution_count": 7,
   "id": "allied-subscription",
   "metadata": {},
   "outputs": [
    {
     "data": {
      "text/html": [
       "<div>\n",
       "<style scoped>\n",
       "    .dataframe tbody tr th:only-of-type {\n",
       "        vertical-align: middle;\n",
       "    }\n",
       "\n",
       "    .dataframe tbody tr th {\n",
       "        vertical-align: top;\n",
       "    }\n",
       "\n",
       "    .dataframe thead th {\n",
       "        text-align: right;\n",
       "    }\n",
       "</style>\n",
       "<table border=\"1\" class=\"dataframe\">\n",
       "  <thead>\n",
       "    <tr style=\"text-align: right;\">\n",
       "      <th></th>\n",
       "      <th>job_title</th>\n",
       "      <th>job_text</th>\n",
       "      <th>company</th>\n",
       "      <th>location</th>\n",
       "      <th>job_info</th>\n",
       "      <th>query_text</th>\n",
       "      <th>source</th>\n",
       "      <th>job_link</th>\n",
       "      <th>tag_language</th>\n",
       "      <th>reviews</th>\n",
       "      <th>job_info_tokenized</th>\n",
       "      <th>job_text_tokenized</th>\n",
       "      <th>job_text_tokenized_titlecase</th>\n",
       "      <th>job_title_tokenized</th>\n",
       "    </tr>\n",
       "  </thead>\n",
       "  <tbody>\n",
       "    <tr>\n",
       "      <th>0</th>\n",
       "      <td>(Junior) Data Engineer (f/m/x)</td>\n",
       "      <td>Customlytics ist die führende App Marketing Be...</td>\n",
       "      <td>Customlytics GmbH</td>\n",
       "      <td>Berlin</td>\n",
       "      <td>(Junior) Data Engineer (f/m/x)\\nCustomlytics G...</td>\n",
       "      <td>data science</td>\n",
       "      <td>scrape_json</td>\n",
       "      <td>NaN</td>\n",
       "      <td>en</td>\n",
       "      <td>NaN</td>\n",
       "      <td>[junior, data, engineer, fmx, customlytics, gm...</td>\n",
       "      <td>[customlytics, ist, die, führende, app, market...</td>\n",
       "      <td>[Customlytics, ist, die, führende, App, Market...</td>\n",
       "      <td>[junior, data, engineer, fmx]</td>\n",
       "    </tr>\n",
       "    <tr>\n",
       "      <th>1</th>\n",
       "      <td></td>\n",
       "      <td>Responsibilities\\n\\nAs working student (m/f/x)...</td>\n",
       "      <td>Aroundhome</td>\n",
       "      <td>Berlin</td>\n",
       "      <td>Aroundhome6 Bewertungen - Berlin</td>\n",
       "      <td>data science</td>\n",
       "      <td>scrape_json</td>\n",
       "      <td>NaN</td>\n",
       "      <td>en</td>\n",
       "      <td>NaN</td>\n",
       "      <td>[aroundhome, bewertungen, berlin]</td>\n",
       "      <td>[responsibilities, as, working, student, mfx, ...</td>\n",
       "      <td>[Responsibilities, As, working, student, mfx, ...</td>\n",
       "      <td>[]</td>\n",
       "    </tr>\n",
       "    <tr>\n",
       "      <th>2</th>\n",
       "      <td></td>\n",
       "      <td>Aufgaben\\nAls Werkstudent (m/w/d) IT arbeitest...</td>\n",
       "      <td>Aroundhome</td>\n",
       "      <td>Berlin</td>\n",
       "      <td>Aroundhome6 Bewertungen - Berlin\\nTeilzeit, Pr...</td>\n",
       "      <td>data science</td>\n",
       "      <td>scrape_json</td>\n",
       "      <td>NaN</td>\n",
       "      <td>de</td>\n",
       "      <td>NaN</td>\n",
       "      <td>[aroundhome, bewertungen, berlin, teilzeit, pr...</td>\n",
       "      <td>[aufgaben, als, werkstudent, mwd, it, arbeites...</td>\n",
       "      <td>[Aufgaben, Als, Werkstudent, mwd, IT, arbeites...</td>\n",
       "      <td>[]</td>\n",
       "    </tr>\n",
       "  </tbody>\n",
       "</table>\n",
       "</div>"
      ],
      "text/plain": [
       "                        job_title  \\\n",
       "0  (Junior) Data Engineer (f/m/x)   \n",
       "1                                   \n",
       "2                                   \n",
       "\n",
       "                                            job_text            company  \\\n",
       "0  Customlytics ist die führende App Marketing Be...  Customlytics GmbH   \n",
       "1  Responsibilities\\n\\nAs working student (m/f/x)...         Aroundhome   \n",
       "2  Aufgaben\\nAls Werkstudent (m/w/d) IT arbeitest...         Aroundhome   \n",
       "\n",
       "  location                                           job_info    query_text  \\\n",
       "0   Berlin  (Junior) Data Engineer (f/m/x)\\nCustomlytics G...  data science   \n",
       "1   Berlin                   Aroundhome6 Bewertungen - Berlin  data science   \n",
       "2   Berlin  Aroundhome6 Bewertungen - Berlin\\nTeilzeit, Pr...  data science   \n",
       "\n",
       "        source job_link tag_language  reviews  \\\n",
       "0  scrape_json      NaN           en      NaN   \n",
       "1  scrape_json      NaN           en      NaN   \n",
       "2  scrape_json      NaN           de      NaN   \n",
       "\n",
       "                                  job_info_tokenized  \\\n",
       "0  [junior, data, engineer, fmx, customlytics, gm...   \n",
       "1                  [aroundhome, bewertungen, berlin]   \n",
       "2  [aroundhome, bewertungen, berlin, teilzeit, pr...   \n",
       "\n",
       "                                  job_text_tokenized  \\\n",
       "0  [customlytics, ist, die, führende, app, market...   \n",
       "1  [responsibilities, as, working, student, mfx, ...   \n",
       "2  [aufgaben, als, werkstudent, mwd, it, arbeites...   \n",
       "\n",
       "                        job_text_tokenized_titlecase  \\\n",
       "0  [Customlytics, ist, die, führende, App, Market...   \n",
       "1  [Responsibilities, As, working, student, mfx, ...   \n",
       "2  [Aufgaben, Als, Werkstudent, mwd, IT, arbeites...   \n",
       "\n",
       "             job_title_tokenized  \n",
       "0  [junior, data, engineer, fmx]  \n",
       "1                             []  \n",
       "2                             []  "
      ]
     },
     "execution_count": 7,
     "metadata": {},
     "output_type": "execute_result"
    }
   ],
   "source": [
    "df.head(3)"
   ]
  },
  {
   "cell_type": "code",
   "execution_count": 8,
   "id": "sweet-maple",
   "metadata": {},
   "outputs": [],
   "source": [
    "# select english jobs\n",
    "df_eng = df.copy()\n",
    "df_eng = df_eng[df_eng['tag_language'] == 'en']\n",
    "df_eng.reset_index(inplace=True)\n",
    "df_eng.drop(columns='index', inplace=True)"
   ]
  },
  {
   "cell_type": "code",
   "execution_count": 9,
   "id": "numerous-forestry",
   "metadata": {},
   "outputs": [
    {
     "data": {
      "text/html": [
       "<div>\n",
       "<style scoped>\n",
       "    .dataframe tbody tr th:only-of-type {\n",
       "        vertical-align: middle;\n",
       "    }\n",
       "\n",
       "    .dataframe tbody tr th {\n",
       "        vertical-align: top;\n",
       "    }\n",
       "\n",
       "    .dataframe thead th {\n",
       "        text-align: right;\n",
       "    }\n",
       "</style>\n",
       "<table border=\"1\" class=\"dataframe\">\n",
       "  <thead>\n",
       "    <tr style=\"text-align: right;\">\n",
       "      <th></th>\n",
       "      <th>job_title</th>\n",
       "      <th>job_text</th>\n",
       "      <th>company</th>\n",
       "      <th>location</th>\n",
       "      <th>job_info</th>\n",
       "      <th>query_text</th>\n",
       "      <th>source</th>\n",
       "      <th>job_link</th>\n",
       "      <th>tag_language</th>\n",
       "      <th>reviews</th>\n",
       "      <th>job_info_tokenized</th>\n",
       "      <th>job_text_tokenized</th>\n",
       "      <th>job_text_tokenized_titlecase</th>\n",
       "      <th>job_title_tokenized</th>\n",
       "    </tr>\n",
       "  </thead>\n",
       "  <tbody>\n",
       "    <tr>\n",
       "      <th>0</th>\n",
       "      <td>(Junior) Data Engineer (f/m/x)</td>\n",
       "      <td>Customlytics ist die führende App Marketing Be...</td>\n",
       "      <td>Customlytics GmbH</td>\n",
       "      <td>Berlin</td>\n",
       "      <td>(Junior) Data Engineer (f/m/x)\\nCustomlytics G...</td>\n",
       "      <td>data science</td>\n",
       "      <td>scrape_json</td>\n",
       "      <td>NaN</td>\n",
       "      <td>en</td>\n",
       "      <td>NaN</td>\n",
       "      <td>[junior, data, engineer, fmx, customlytics, gm...</td>\n",
       "      <td>[customlytics, ist, die, führende, app, market...</td>\n",
       "      <td>[Customlytics, ist, die, führende, App, Market...</td>\n",
       "      <td>[junior, data, engineer, fmx]</td>\n",
       "    </tr>\n",
       "    <tr>\n",
       "      <th>1</th>\n",
       "      <td></td>\n",
       "      <td>Responsibilities\\n\\nAs working student (m/f/x)...</td>\n",
       "      <td>Aroundhome</td>\n",
       "      <td>Berlin</td>\n",
       "      <td>Aroundhome6 Bewertungen - Berlin</td>\n",
       "      <td>data science</td>\n",
       "      <td>scrape_json</td>\n",
       "      <td>NaN</td>\n",
       "      <td>en</td>\n",
       "      <td>NaN</td>\n",
       "      <td>[aroundhome, bewertungen, berlin]</td>\n",
       "      <td>[responsibilities, as, working, student, mfx, ...</td>\n",
       "      <td>[Responsibilities, As, working, student, mfx, ...</td>\n",
       "      <td>[]</td>\n",
       "    </tr>\n",
       "    <tr>\n",
       "      <th>2</th>\n",
       "      <td>Full Stack Developer (m/f/d)</td>\n",
       "      <td>We’re Phiture: a leading mobile growth consult...</td>\n",
       "      <td>Phiture</td>\n",
       "      <td>BerlinKreuzberg</td>\n",
       "      <td>Full Stack Developer (m/f/d)\\nPhiture - Berlin...</td>\n",
       "      <td>data science</td>\n",
       "      <td>scrape_json</td>\n",
       "      <td>NaN</td>\n",
       "      <td>en</td>\n",
       "      <td>NaN</td>\n",
       "      <td>[full, stack, developer, mfd, phiture, berlink...</td>\n",
       "      <td>[were, phiture, a, leading, mobile, growth, co...</td>\n",
       "      <td>[Were, Phiture, a, leading, mobile, growth, co...</td>\n",
       "      <td>[full, stack, developer, mfd]</td>\n",
       "    </tr>\n",
       "    <tr>\n",
       "      <th>3</th>\n",
       "      <td></td>\n",
       "      <td>We are 18,000+ employees strong, operating in ...</td>\n",
       "      <td>PRA Health Sciences</td>\n",
       "      <td>Berlin</td>\n",
       "      <td>PRA Health Sciences - Berlin</td>\n",
       "      <td>data science</td>\n",
       "      <td>scrape_json</td>\n",
       "      <td>NaN</td>\n",
       "      <td>en</td>\n",
       "      <td>NaN</td>\n",
       "      <td>[pra, health, sciences, berlin]</td>\n",
       "      <td>[we, are, employees, strong, operating, in, mo...</td>\n",
       "      <td>[We, are, employees, strong, operating, in, mo...</td>\n",
       "      <td>[]</td>\n",
       "    </tr>\n",
       "    <tr>\n",
       "      <th>4</th>\n",
       "      <td>Head of Finance</td>\n",
       "      <td>Head of Finance (m/f/d)\\nAt Home our mission i...</td>\n",
       "      <td>Home HT GmbH</td>\n",
       "      <td>Berlin</td>\n",
       "      <td>Head of Finance\\nHome HT GmbH2 Bewertungen - B...</td>\n",
       "      <td>data science</td>\n",
       "      <td>scrape_json</td>\n",
       "      <td>NaN</td>\n",
       "      <td>en</td>\n",
       "      <td>NaN</td>\n",
       "      <td>[head, of, finance, home, ht, gmbh, bewertunge...</td>\n",
       "      <td>[head, of, finance, mfd, at, home, our, missio...</td>\n",
       "      <td>[Head, of, Finance, mfd, At, Home, our, missio...</td>\n",
       "      <td>[head, of, finance]</td>\n",
       "    </tr>\n",
       "  </tbody>\n",
       "</table>\n",
       "</div>"
      ],
      "text/plain": [
       "                        job_title  \\\n",
       "0  (Junior) Data Engineer (f/m/x)   \n",
       "1                                   \n",
       "2    Full Stack Developer (m/f/d)   \n",
       "3                                   \n",
       "4                 Head of Finance   \n",
       "\n",
       "                                            job_text              company  \\\n",
       "0  Customlytics ist die führende App Marketing Be...    Customlytics GmbH   \n",
       "1  Responsibilities\\n\\nAs working student (m/f/x)...           Aroundhome   \n",
       "2  We’re Phiture: a leading mobile growth consult...              Phiture   \n",
       "3  We are 18,000+ employees strong, operating in ...  PRA Health Sciences   \n",
       "4  Head of Finance (m/f/d)\\nAt Home our mission i...         Home HT GmbH   \n",
       "\n",
       "          location                                           job_info  \\\n",
       "0           Berlin  (Junior) Data Engineer (f/m/x)\\nCustomlytics G...   \n",
       "1           Berlin                   Aroundhome6 Bewertungen - Berlin   \n",
       "2  BerlinKreuzberg  Full Stack Developer (m/f/d)\\nPhiture - Berlin...   \n",
       "3           Berlin                       PRA Health Sciences - Berlin   \n",
       "4           Berlin  Head of Finance\\nHome HT GmbH2 Bewertungen - B...   \n",
       "\n",
       "     query_text       source job_link tag_language  reviews  \\\n",
       "0  data science  scrape_json      NaN           en      NaN   \n",
       "1  data science  scrape_json      NaN           en      NaN   \n",
       "2  data science  scrape_json      NaN           en      NaN   \n",
       "3  data science  scrape_json      NaN           en      NaN   \n",
       "4  data science  scrape_json      NaN           en      NaN   \n",
       "\n",
       "                                  job_info_tokenized  \\\n",
       "0  [junior, data, engineer, fmx, customlytics, gm...   \n",
       "1                  [aroundhome, bewertungen, berlin]   \n",
       "2  [full, stack, developer, mfd, phiture, berlink...   \n",
       "3                    [pra, health, sciences, berlin]   \n",
       "4  [head, of, finance, home, ht, gmbh, bewertunge...   \n",
       "\n",
       "                                  job_text_tokenized  \\\n",
       "0  [customlytics, ist, die, führende, app, market...   \n",
       "1  [responsibilities, as, working, student, mfx, ...   \n",
       "2  [were, phiture, a, leading, mobile, growth, co...   \n",
       "3  [we, are, employees, strong, operating, in, mo...   \n",
       "4  [head, of, finance, mfd, at, home, our, missio...   \n",
       "\n",
       "                        job_text_tokenized_titlecase  \\\n",
       "0  [Customlytics, ist, die, führende, App, Market...   \n",
       "1  [Responsibilities, As, working, student, mfx, ...   \n",
       "2  [Were, Phiture, a, leading, mobile, growth, co...   \n",
       "3  [We, are, employees, strong, operating, in, mo...   \n",
       "4  [Head, of, Finance, mfd, At, Home, our, missio...   \n",
       "\n",
       "             job_title_tokenized  \n",
       "0  [junior, data, engineer, fmx]  \n",
       "1                             []  \n",
       "2  [full, stack, developer, mfd]  \n",
       "3                             []  \n",
       "4            [head, of, finance]  "
      ]
     },
     "execution_count": 9,
     "metadata": {},
     "output_type": "execute_result"
    }
   ],
   "source": [
    "df_eng.head()"
   ]
  },
  {
   "cell_type": "code",
   "execution_count": 10,
   "id": "neutral-genome",
   "metadata": {},
   "outputs": [
    {
     "data": {
      "text/plain": [
       "(7547, 14)"
      ]
     },
     "execution_count": 10,
     "metadata": {},
     "output_type": "execute_result"
    }
   ],
   "source": [
    "df_eng.shape"
   ]
  },
  {
   "cell_type": "code",
   "execution_count": 11,
   "id": "verified-junior",
   "metadata": {},
   "outputs": [],
   "source": [
    "# join strings\n",
    "def join_strings(text):\n",
    "    return ' '.join(text)"
   ]
  },
  {
   "cell_type": "code",
   "execution_count": 12,
   "id": "european-cosmetic",
   "metadata": {},
   "outputs": [],
   "source": [
    "# lemmatize\n",
    "def lemmatize_words(word):\n",
    "    lemmatizer = WordNetLemmatizer()\n",
    "    lemmatized = lemmatizer.lemmatize(word)\n",
    "\n",
    "    return lemmatized"
   ]
  },
  {
   "cell_type": "code",
   "execution_count": 13,
   "id": "included-border",
   "metadata": {},
   "outputs": [],
   "source": [
    "# remove stopwords\n",
    "def remove_stopwords(text):\n",
    "\n",
    "    stop_words = set(stopwords.words('english'))\n",
    "    word_tokens = word_tokenize(text) \n",
    "    text = [w for w in word_tokens if not w in stop_words] \n",
    "  \n",
    "    return text\n",
    "\n",
    "#['heute', 'weiter', 'zur', 'bewerbung', 'diesen', 'job', 'melden']"
   ]
  },
  {
   "cell_type": "code",
   "execution_count": 14,
   "id": "humanitarian-kentucky",
   "metadata": {},
   "outputs": [],
   "source": [
    "# process text\n",
    "df_eng['clean'] = df_eng['job_text_tokenized'].apply(join_strings).apply(lemmatize_words)\\\n",
    "    .apply(remove_stopwords)"
   ]
  },
  {
   "cell_type": "markdown",
   "id": "partial-kinase",
   "metadata": {},
   "source": [
    "## model doc2vec 1"
   ]
  },
  {
   "cell_type": "markdown",
   "id": "completed-plasma",
   "metadata": {},
   "source": [
    "Conclusions :)\n",
    "- ~ 700 offers - 100 epocs\n",
    "    - model performs ok, but tends to cluster according to company\n",
    "    - texts with very high similarity (> 0.90) are likely to be duplicated job adds\n",
    "    - looks like the model first shows offers based on duplicates, then company, then position (probably because of semantics)\n",
    "\n",
    "\n",
    "- 2500 offers - 150 epocs\n",
    "    - still clusters by company\n",
    "    - add more data? or try bigrams"
   ]
  },
  {
   "cell_type": "code",
   "execution_count": 17,
   "id": "confidential-postcard",
   "metadata": {
    "scrolled": true,
    "tags": []
   },
   "outputs": [
    {
     "data": {
      "text/plain": [
       "TaggedDocument(words=['customlytics', 'ist', 'die', 'führende', 'app', 'marketing', 'beratungsagentur', 'aus', 'berlin', 'wir', 'bieten', 'consulting', 'und', 'handson', 'support', 'rund', 'um', 'app', 'marketing', 'strategie', 'produktmanagement', 'analytics', 'crm', 'unser', 'team', 'erarbeitet', 'mit', 'unternehmen', 'jeder', 'größe', 'konzepte', 'zur', 'erfolgreichen', 'vermarktung', 'von', 'mobilen', 'apps', 'dabei', 'decken', 'wir', 'nicht', 'nur', 'das', 'gesamte', 'spektrum', 'infrastruktureller', 'marketingthemen', 'ab', 'wir', 'konzipieren', 'planen', 'und', 'steuern', 'sowohl', 'das', 'ui', 'ux', 'design', 'von', 'mobilen', 'apps', 'als', 'auch', 'performance', 'marketing', 'kampagnen', 'für', 'alle', 'app', 'verticals', 'über', 'uns', 'unser', 'data', 'team', 'braucht', 'unterstützung', 'du', 'bist', 'motiviert', 'und', 'von', 'der', 'mobile', 'industry', 'begeistert', 'dann', 'suchen', 'wir', 'dich', 'um', 'die', 'data', 'warehouselösungen', 'für', 'unsere', 'kunden', 'aus', 'der', 'app', 'industrie', 'zu', 'entwickeln', 'und', 'implementieren', 'zusammen', 'mit', 'unserem', 'biteam', 'arbeitest', 'du', 'kundenprojekten', 'der', 'entwicklung', 'implementierung', 'und', 'optimierung', 'von', 'data', 'warehouse', 'projekten', 'du', 'arbeitest', 'hierbei', 'eng', 'mit', 'unserem', 'big', 'data', 'engineer', 'und', 'data', 'analyst', 'zusammen', 'der', 'entwicklung', 'von', 'dashboards', 'und', 'data', 'visualisierungen', 'talent', 'technologieaffinität', 'und', 'eigenverantwortung', 'für', 'deine', 'arbeit', 'zu', 'übernehmen', 'sind', 'die', 'basis', 'unserer', 'teamkultur', 'für', 'uns', 'ist', 'es', 'zweitrangig', 'ob', 'du', 'erst', 'anfang', 'deiner', 'beruflichen', 'laufbahn', 'stehst', 'oder', 'bereits', 'mehrjährige', 'berufserfahrung', 'hast', 'der', 'spirit', 'und', 'die', 'motivation', 'zählen', 'deine', 'aufgaben', 'du', 'berätst', 'unsere', 'teams', 'hinsichtlich', 'der', 'datenanforderungen', 'und', 'bist', 'die', 'schnittstelle', 'zwischen', 'marketingprodukt', 'consultants', 'und', 'dem', 'data', 'engineering', 'bi', 'team', 'du', 'unterstützt', 'bei', 'der', 'analyse', 'von', 'datenströmen', 'unserer', 'kunden', 'aus', 'der', 'mobilen', 'app', 'branche', 'dem', 'aufbereiten', 'von', 'daten', 'und', 'dem', 'entwickeln', 'von', 'datenmodellen', 'du', 'unterstützt', 'unser', 'consultingteam', 'und', 'interne', 'abteilungen', 'als', 'experte', 'bei', 'der', 'vorverarbeitung', 'und', 'auswertung', 'großer', 'datenmengen', 'du', 'versetzt', 'dich', 'die', 'lage', 'deiner', 'externen', 'und', 'internen', 'stakeholder', 'verstehst', 'ihre', 'ziele', 'und', 'anforderungen', 'und', 'übersetzt', 'diese', 'lösungen', 'entwicklung', 'von', 'data', 'warehousingprodukten', 'die', 'unseren', 'wettbewerbsvorteil', 'langfristig', 'sichern', 'und', 'ausbauen', 'dein', 'profil', 'du', 'arbeitet', 'gerne', 'auf', 'englisch', 'mit', 'internationalen', 'kolleginnen', 'du', 'hast', 'erste', 'erfahrung', 'im', 'data', 'oder', 'bo', 'bereich', 'und', 'hast', 'ein', 'abgeschlossenes', 'studium', 'im', 'bereich', 'information', 'systems', 'analytics', 'wirtschaftsinformatik', 'mathematik', 'oder', 'statistik', 'mit', 'affinität', 'zu', 'betriebswirtschaftlichen', 'themen', 'wie', 'zb', 'online', 'marketing', 'du', 'begeisterst', 'dich', 'für', 'die', 'mobile', 'apptechnologiebranche', 'und', 'hast', 'großes', 'interesse', 'technischen', 'lösungen', 'und', 'wie', 'apps', 'unter', 'der', 'haube', 'funktionieren', 'basiswissen', 'sql', 'python', 'und', 'git', 'grundkenntnisse', 'redshift', 'undoder', 'bigquery', 'routinierter', 'umgang', 'mit', 'gängigen', 'anwendungen', 'wie', 'google', 'drive', 'microsoft', 'office', 'mac', 'os', 'und', 'keine', 'scheu', 'sich', 'schnell', 'verschiedene', 'projektmanagement', 'analyse', 'und', 'marketingtools', 'einzuarbeiten', 'du', 'überzeugst', 'mit', 'proaktivität', 'und', 'lösungsorientierter', 'denkweise', 'bonus', 'points', 'agentur', 'undoder', 'startup', 'erfahrung', 'erste', 'erfahrungen', 'mit', 'reporting', 'tools', 'wie', 'google', 'data', 'studio', 'und', 'der', 'google', 'cloud', 'platform', 'aws', 'wir', 'bieten', 'mehr', 'als', 'app', 'store', 'optimization', 'wir', 'sind', 'die', 'einzige', 'fullstack', 'beratungsagentur', 'im', 'deutschen', 'raum', 'und', 'beraten', 'kunden', 'zu', 'vielfältigen', 'app', 'marketing', 'produktmanagement', 'und', 'analytics', 'themen', 'bvg', 'jobticket', 'für', 'den', 'ab', 'bereich', 'highend', 'hardware', 'die', 'du', 'für', 'deine', 'perfekte', 'arbeitsumgebung', 'im', 'büro', 'und', 'remote', 'benötigst', 'frei', 'verfügbare', 'anzahl', 'von', 'remote', 'work', 'tagen', 'ob', 'du', 'im', 'büro', 'arbeitest', 'oder', 'woanders', 'produktiver', 'bist', 'es', 'dir', 'selbst', 'aus', 'early', 'bird', 'oder', 'eule', 'flexible', 'arbeitszeiten', 'erlauben', 'es', 'dir', 'deine', 'arbeitszeit', 'individuell', 'zu', 'planen', 'regelmäßige', 'learning', 'sessions', 'mit', 'unserem', 'team', 'und', 'branchenexperten', 'sichern', 'dir', 'eine', 'steile', 'lernkurve', 'und', 'stetige', 'weiterentwicklung', 'smoothes', 'onboarding', 'mit', 'unserem', 'buddy', 'system', 'neben', 'dem', 'obligatorischen', 'müsli', 'haben', 'wir', 'eine', 'pastapesto', 'flatrate', 'im', 'büro', 'startupmentalität', 'findest', 'du', 'bei', 'uns', 'natürlich', 'auch', 'aber', 'mit', 'der', 'nötigen', 'vision', 'und', 'professionalität', 'um', 'zum', 'marktführer', 'unter', 'den', 'beratungsunternehmen', 'europa', 'zu', 'werden', 'die', 'sich', 'auf', 'mobile', 'marketing', 'spezialisiert', 'haben', 'gute', 'performance', 'und', 'drive', 'werden', 'bei', 'uns', 'belohnt', 'und', 'führen', 'zu', 'kompetitiven', 'gehältern', 'über', 'dem', 'branchendurchschnitt', 'ein', 'motiviertes', 'team', 'mit', 'flachen', 'hierarchien', 'regelmäßig', 'stattfindende', 'team', 'events', 'und', 'company', 'offsites', 'nimm', 'unseren', 'meetups', 'teil', 'und', 'vernetze', 'dich', 'mit', 'berlins', 'mobiler', 'marketing', 'startup', 'szene', 'junior', 'data', 'engineer', 'fmx', 'role', 'junior', 'data', 'engineer', 'responsible', 'improving', 'maintaining', 'data', 'warehouse', 'solutions', 'developing', 'implementing', 'data', 'warehouse', 'solutions', 'clients', 'working', 'within', 'business', 'intelligence', 'team', 'data', 'bi', 'analyst', 'big', 'data', 'engineer', 'act', 'point', 'contact', 'clients', 'projects', 'evolved', 'upon', 'joining', 'get', 'know', 'customlytics', 'services', 'clients', 'getting', 'sense', 'headed', 'familiarise', 'quickly', 'expected', 'roll', 'sleeves', 'take', 'action', 'addition', 'working', 'friendly', 'modern', 'work', 'atmosphere', 'right', 'prenzlauer', 'berg', 'one', 'liveliest', 'central', 'places', 'berlin', 'responsibilities', 'support', 'area', 'data', 'engineering', 'enable', 'team', 'focus', 'delivering', 'insights', 'clients', 'app', 'businesses', 'consult', 'teams', 'data', 'needs', 'serve', 'liaison', 'marketingproduct', 'teams', 'data', 'engineering', 'team', 'responsible', 'providing', 'insightful', 'data', 'deep', 'dives', 'analytical', 'assistance', 'clientfacing', 'business', 'development', 'accounting', 'teams', 'understand', 'challenges', 'clients', 'facing', 'today', 'tomorrow', 'analyzing', 'trends', 'clients', 'data', 'providing', 'insight', 'explanation', 'improve', 'operations', 'run', 'ad', 'hoc', 'analysis', 'build', 'data', 'visualizations', 'continue', 'developing', 'clients', 'data', 'warehouse', 'infrastructure', 'data', 'engineering', 'team', 'help', 'foster', 'datadriven', 'culture', 'throughout', 'whole', 'team', 'apply', 'best', 'practices', 'profile', 'gained', 'first', 'experiences', 'data', 'bi', 'field', 'degree', 'related', 'field', 'like', 'information', 'systems', 'analytics', 'economics', 'computer', 'science', 'statistics', 'another', 'similar', 'quantitative', 'field', 'techsavvy', 'enthusiastic', 'mobile', 'industry', 'fluent', 'english', 'working', 'englishspeaking', 'team', 'sound', 'good', 'great', 'analytical', 'skills', 'ability', 'make', 'reasonable', 'use', 'data', 'working', 'clients', 'first', 'knowledge', 'sql', 'python', 'familiar', 'git', 'basic', 'knowledge', 'redshift', 'andor', 'bigquery', 'plus', 'businessminded', 'passionate', 'diving', 'making', 'sense', 'large', 'diverse', 'datasets', 'bonus', 'points', 'agency', 'experience', 'german', 'language', 'skills', 'knowledge', 'reporting', 'tools', 'like', 'google', 'data', 'studio', 'knowledge', 'google', 'cloud', 'platform', 'aws', 'ecosystem', 'offer', 'app', 'store', 'optimization', 'fullstack', 'consulting', 'agency', 'germany', 'advise', 'clients', 'wide', 'range', 'app', 'marketing', 'product', 'management', 'analytics', 'topics', 'bvg', 'job', 'ticket', 'ab', 'area', 'highend', 'hardware', 'need', 'perfect', 'working', 'environment', 'office', 'remote', 'unlimited', 'number', 'remote', 'workdays', 'whether', 'work', 'office', 'productive', 'somewhere', 'else', 'choose', 'early', 'bird', 'owl', 'flexible', 'working', 'hours', 'allow', 'plan', 'working', 'time', 'individually', 'regular', 'learning', 'sessions', 'team', 'industry', 'experts', 'ensure', 'steep', 'learning', 'curve', 'continuous', 'development', 'smooth', 'onboarding', 'buddy', 'system', 'addition', 'obligatory', 'muesli', 'pastapesto', 'flat', 'rate', 'office', 'course', 'also', 'find', 'startup', 'mentality', 'us', 'necessary', 'vision', 'professionalism', 'become', 'market', 'leader', 'among', 'consultancies', 'europe', 'specializing', 'mobile', 'marketing', 'good', 'performance', 'drive', 'rewarded', 'us', 'lead', 'competitive', 'salaries', 'industry', 'average', 'motivated', 'team', 'flat', 'hierarchies', 'regular', 'team', 'events', 'company', 'offsites', 'take', 'part', 'meetups', 'network', 'berlins', 'mobile', 'marketing', 'startup', 'scene', 'vertragsdauer', 'monate', 'art', 'der', 'stelle', 'vollzeit', 'befristet', 'arbeitszeiten', 'keine', 'wochenenden', 'montag', 'bis', 'freitag', 'leistungen', 'betriebliche', 'altersvorsorge', 'betriebliche', 'weiterbildung', 'flexible', 'arbeitszeiten', 'homeoffice', 'kostenlose', 'getränke', 'kostenloses', 'oder', 'vergünstigtes', 'essen', 'berufserfahrung', 'aws', 'jahr', 'bevorzugt', 'sql', 'jahr', 'bevorzugt', 'google', 'data', 'studio', 'jahr', 'bevorzugt', 'homeoffice', 'ja', 'gerade', 'geschaltet', 'diesen', 'job', 'melden'], tags=['tag_0'])"
      ]
     },
     "execution_count": 17,
     "metadata": {},
     "output_type": "execute_result"
    }
   ],
   "source": [
    "# tag texts\n",
    "texts = df_eng['clean']\n",
    "texts_tagged = [TaggedDocument(text, tags=['tag_'+str(tag)]) for tag, text in enumerate(texts)]\n",
    "texts_tagged[0]"
   ]
  },
  {
   "cell_type": "code",
   "execution_count": 26,
   "id": "brown-budget",
   "metadata": {},
   "outputs": [],
   "source": [
    "# reduced dataset\n",
    "texts_tagged_small = texts_tagged[:3000]"
   ]
  },
  {
   "cell_type": "code",
   "execution_count": 27,
   "id": "stunning-wilderness",
   "metadata": {
    "tags": []
   },
   "outputs": [],
   "source": [
    "data_to_train = texts_tagged_small # texts_tagged_small, texts_tagged\n",
    "\n",
    "# build vocabulary with CBOW (dm=0)\n",
    "cores = multiprocessing.cpu_count()\n",
    "model_dbow = Doc2Vec(documents=data_to_train,\n",
    "                     dm=0,\n",
    "                     alpha=0.025,\n",
    "                     vector_size=len(data_to_train), \n",
    "                     min_count=1,\n",
    "                     workers=cores)\n",
    "\n",
    "# train the model\n",
    "model_dbow.train(data_to_train, total_examples=model_dbow.corpus_count, epochs=15)"
   ]
  },
  {
   "cell_type": "code",
   "execution_count": 28,
   "id": "spiritual-witness",
   "metadata": {},
   "outputs": [],
   "source": [
    "model_dbow.save('../../../models/doc2vec_3000_15_epochs')\n",
    "#joblib.dump(model_dbow, filename='../../../models/doc2vec_3000_20_epochs.joblib' )"
   ]
  },
  {
   "cell_type": "code",
   "execution_count": null,
   "id": "metric-circus",
   "metadata": {},
   "outputs": [],
   "source": [
    "model_dbow.corpus_count"
   ]
  },
  {
   "cell_type": "markdown",
   "id": "static-miniature",
   "metadata": {},
   "source": [
    "### test the model by hand"
   ]
  },
  {
   "cell_type": "code",
   "execution_count": null,
   "id": "oriented-password",
   "metadata": {},
   "outputs": [],
   "source": [
    "\"\"\"About the job\n",
    "Bonial helps you save time, money and paper.\n",
    "\n",
    "We are digital advertising partner for offline business - we support retailers in their marketing activities and help them find a new audience.Would you like to join and be a part of digitalization of retail?\n",
    "\n",
    "At Bonial, the Data Team is one of the hubs between Online Marketing, Product, IT, Operations and Sales. It's a unique position as we can explore data from different aspects and bring valuable insights to the company. Our mission is to transform data into the source of truth and thereby enable Bonial employees to make smarter decisions. We turn data into information then into knowledge, help teams understand their capabilities, support teams in shaping the right questions for their challenges and teach them how to use the tools we provide. Our success would be to transform Bonial decision making process from gut feeling into scientific approach.\n",
    "\n",
    "We're looking for an experienced Data Scientist with a curious analytical mindset and strong product intuition to join our Data team. You will be able to consult different teams on both technical and non-technical applications of data science.\n",
    "\n",
    "You Will Be Responsible For\n",
    "Designing and building production-ready predictive models or machine learning algorithms;\n",
    "Optimizing our personalization algorithms;\n",
    "Crunching, analyzing and investigating large amount of data to discover trends and patterns;\n",
    "Investigating new machine learning techniques and tools, educating others on the possible applications of these techniques;\n",
    "Visualizing your analysis in a way that everyone gets it at first glance;\n",
    "Collaborating with different teams/departments to proactively suggest improvement points, using your initiative to develop new topics.\n",
    "\n",
    "What You Should Bring To The Table\n",
    "A ‘can-do’ attitude with a passion for analytics and the insight it can provide;\n",
    "At least 2 years of experience as a data scientist or data analyst;\n",
    "A degree in Mathematics, Statistic or Computer Science; graduate degree in Data Science or other quantitative field is preferred;\n",
    "Good knowledge of Python, SQL or R;\n",
    "Experience in practical application of machine learning or predictive analytics;\n",
    "Ability to convey complex issues to a non-technical audience with a high level of abstraction;\n",
    "Experience in data visualization.\n",
    "\n",
    "It Would Be a Plus If You Have\n",
    "Experience with PySpark or SparkR;\n",
    "Experience building APIs;\n",
    "Experience using Git, Docker, Airflow, AWS.\n",
    "Keep in mind that this is just an ideal requirements’ list; we look for potential!\n",
    "\n",
    "What We Can Offer You\n",
    "\n",
    "Diversity - international, multicultural and inclusive community with colleagues from over 40 different countries where you can grow personally and professionally. We do not only embrace diversity - we cherish it.\n",
    "\n",
    "Development - strong support for your professional development with both company sponsored activities and a dedicated budget you can decide on, also English and German language courses in house.\n",
    "\n",
    "Sustainability - the opportunity to engage in projects that promote sustainability, environmental development and the impact that we make on our planet.\n",
    "\n",
    "Modern Office with interior design handcrafted by our creative team: fully stocked Kids' Room for when your kita bails on you; Zen Rooms where employees can pray, relax or simply have some quiet time; fully equipped gym in the office; and Roof terrace for amazing Friday events.\n",
    "\n",
    "Social Culture that encourages people to start conversations, build relationships and participate together in the community through regular team events in a lounge perfect for socializing.\n",
    "\n",
    "If you think you could fit the bill, we'd love to hear from you!\n",
    "\n",
    "You can check out our Bonial people Instagram or read more about Bonial culture here.\n",
    "\n",
    "About The Company\n",
    "\n",
    "Bonial is part of Axel Springer SE and is the leading \"Drive to Store\" platform in Germany and France. Every day we inspire millions of users by connecting them to their favorite shops and brands via our platforms \"kaufDA\" and \"MeinProspekt\" in Germany, and “Bonial” in France.\n",
    "\n",
    "More than 1500 retailers and brands across all sectors rely on our tailor-made, data driven marketing solutions to promote their offers and reach measurable business results with maximized return on investment.\n",
    "\n",
    "Our more than 300 employees come from all over the world joining together to strengthen their skills and work towards creating innovative digital marketing products for clients and users. We believe in the power of each individual to own their impact and drive meaningful results every day. Our diverse and open culture is the secret sauce to our success and ensures we truly put people at the center of everything we do. Our data-driven decision making empowers our mission and how we work\"\"\""
   ]
  },
  {
   "cell_type": "code",
   "execution_count": null,
   "id": "split-training",
   "metadata": {},
   "outputs": [],
   "source": []
  },
  {
   "cell_type": "code",
   "execution_count": null,
   "id": "anticipated-rubber",
   "metadata": {},
   "outputs": [],
   "source": []
  },
  {
   "cell_type": "code",
   "execution_count": 16,
   "id": "broad-banana",
   "metadata": {},
   "outputs": [
    {
     "ename": "NameError",
     "evalue": "name 'texts_tagged' is not defined",
     "output_type": "error",
     "traceback": [
      "\u001b[0;31m----------------------------------------------------------------------\u001b[0m",
      "\u001b[0;31mNameError\u001b[0m                            Traceback (most recent call last)",
      "\u001b[0;32m<ipython-input-16-cc68a9d12674>\u001b[0m in \u001b[0;36m<module>\u001b[0;34m\u001b[0m\n\u001b[1;32m      1\u001b[0m \u001b[0;31m# reduced dataset\u001b[0m\u001b[0;34m\u001b[0m\u001b[0;34m\u001b[0m\u001b[0;34m\u001b[0m\u001b[0m\n\u001b[0;32m----> 2\u001b[0;31m \u001b[0mtexts_tagged_small\u001b[0m \u001b[0;34m=\u001b[0m \u001b[0mtexts_tagged\u001b[0m\u001b[0;34m[\u001b[0m\u001b[0;34m:\u001b[0m\u001b[0;36m3000\u001b[0m\u001b[0;34m]\u001b[0m\u001b[0;34m\u001b[0m\u001b[0;34m\u001b[0m\u001b[0m\n\u001b[0m",
      "\u001b[0;31mNameError\u001b[0m: name 'texts_tagged' is not defined"
     ]
    }
   ],
   "source": []
  },
  {
   "cell_type": "code",
   "execution_count": 22,
   "id": "complete-minnesota",
   "metadata": {},
   "outputs": [],
   "source": [
    "# load model\n",
    "model_loaded = Doc2Vec.load('../../../models/doc2vec_3000_20_epochs')"
   ]
  },
  {
   "cell_type": "code",
   "execution_count": 44,
   "id": "prescribed-wyoming",
   "metadata": {},
   "outputs": [],
   "source": [
    "def similar_jobs(tokenized_job, offers):\n",
    "    ''' input: tokenized job offers, number of offers \n",
    "        returns tags of top x most similar job offers and similarity probabilities\n",
    "    '''\n",
    "\n",
    "    # infer vector from text \n",
    "    infer_vector = model_loaded.infer_vector(tokenized_job)\n",
    "    # find similar offers\n",
    "    similar_documents = model_loaded.docvecs.most_similar([infer_vector], topn = offers)\n",
    "\n",
    "    return similar_documents"
   ]
  },
  {
   "cell_type": "code",
   "execution_count": 62,
   "id": "classified-reach",
   "metadata": {},
   "outputs": [],
   "source": [
    "def print_top_jobs(text, offers=5):\n",
    "    \n",
    "    \"\"\" input: index of text in dataframe and number of offers we want to see\n",
    "        prints text of the offers\n",
    "    \"\"\"\n",
    "    \n",
    "    tags = similar_jobs(text, offers)\n",
    "    tags = [list(i) for i in tags]\n",
    "    \n",
    "    print(f\"{tags}\\n\")\n",
    "    print(f\"{df_eng['job_title'][text_index], df_eng['company'][text_index], df_eng['job_text'][text_index]} \\\n",
    "        \\n-------------END------------\\n \")\n",
    "    \n",
    "    for tag in tags: \n",
    "        num = int(tag[0].strip('tag_'))\n",
    "        \n",
    "        print(f\"{df_eng['job_title'][num], df_eng['company'][num], df_eng['job_text'][num]} \\\n",
    "        \\n-------------END------------\\n \") \n",
    "    "
   ]
  },
  {
   "cell_type": "code",
   "execution_count": 44,
   "id": "retained-toner",
   "metadata": {
    "tags": []
   },
   "outputs": [],
   "source": [
    "# print_top_jobs(400, 10) # duplicates 3050; 2020; 400\n",
    "# #print_top_jobs(5000) "
   ]
  },
  {
   "cell_type": "markdown",
   "id": "dutch-nelson",
   "metadata": {},
   "source": [
    "## improve the model 1\n",
    "Steps:\n",
    "- filter out duplicates\n",
    "- filter out jobs from same company\n",
    "- get output and see if it's better"
   ]
  },
  {
   "cell_type": "code",
   "execution_count": 48,
   "id": "nutritional-distinction",
   "metadata": {},
   "outputs": [],
   "source": [
    "## change case to lower\n",
    "def to_lower(text):\n",
    "    return text.lower()\n",
    "\n",
    "## remove numbers from the corpus\n",
    "def remove_number(text):\n",
    "    text = ''.join(word for word in text if not word.isdigit())\n",
    "    \n",
    "    return text\n",
    "\n",
    "## remove special puncutation from text\n",
    "def remove_punctuation(text):\n",
    "    for punctuation in string.punctuation:\n",
    "        text = text.replace(punctuation, '')\n",
    "    \n",
    "    return text"
   ]
  },
  {
   "cell_type": "code",
   "execution_count": 105,
   "id": "thorough-salmon",
   "metadata": {},
   "outputs": [],
   "source": [
    "offer = \"\"\"\n",
    "Agoda is an online travel booking platform for accommodation, flights, and more. We build and deploy cutting edge technology that connects travelers with more than 2.5 million accommodations globally. Based in Asia and part of Booking Holdings, our 4,000+ talents coming from 90+ different nationalities foster a work environment rich in diversity, creativity, and collaboration. We innovate through a culture of experimentation and ownership, enabling our customers to experience the world.\n",
    "\n",
    "Get To Know Our Team\n",
    "\n",
    "The Performance Marketing Team of Agoda is a world leader in online marketing. This department is highly data-driven and focused on developing at-scale marketing programs that improve the lifetime value of Agoda customers through measurable marketing programs and channels. The team is a blend of the best analysts, marketing strategists, and data scientists in the world. The marketing leadership at Agoda have deep experience in data science, product, strategy, and other marketing fields and have built an organization that thrives on data, creative ideas, and technology. The Performance Marketing Team also fosters a great learning environment. You will be able to learn and grow by working closely with experts from a variety of backgrounds from all over the world.\n",
    "\n",
    "In This Role, You’ll Get To\n",
    "Search: Experiment with text ads, bidding, and campaign structures on Google, Bing, Baidu, Naver, and other search engines. Adapt to new product features and roll out changes from successful tests.\n",
    "Display: Test, analyze, and optimize campaigns on Facebook, Twitter, Instagram, and others.\n",
    "Modeling: Analyze the vast amounts of data generated by experiments, develop models we can use for optimization, and build dashboards for account managers.\n",
    "\n",
    "\n",
    "What You’ll Need To Succeed\n",
    "Bachelor’s Degree or higher from top university in a quantitative subject (computer science, mathematics, engineering, statistics or science)\n",
    "Ability to communicate fluently in English\n",
    "Good numerical reasoning skills\n",
    "Proficiency in Excel\n",
    "Intellectual curiosity\n",
    "\n",
    "\n",
    "It’s Great If You Have\n",
    "Exposure to one or more data analysis packages or databases, e.g., SAS, R, SPSS, Python, VBA, SQL\n",
    "Experience in digital marketing\n",
    "Academic research experience\n",
    "#STRA #ANLS #MRKT #3 #hongkong #kualalumpur #mumbai #newdelhi #delhi #bangalore #hochiminh #jakarta #manila #hongkong #beijing #toronto #vancouver #berlin #paris #barcelona #london #madrid #bangkok data representation data analysis SQL data analytics analytics python (programming language) data mining data science r (programming language) tableau analytical skills data visualization databases business analysis business intelligence (bi) microsoft sql server machine learning statistics microsoft power bi java finance shopee traveloka google facebook ctrip trip.com makemytrip grab amazon pandas (software) artificial intelligence (ai) information technology capital one accenture upwork deloitte mckinsey bain microsoft uber lyft gojek lazada alibaba shopify expedia skyscanner\n",
    "\n",
    "Equal Opportunity Employer\n",
    "\n",
    "At Agoda, we pride ourselves on being a company represented by people of all different backgrounds and orientations. We prioritize attracting diverse talent and cultivating an inclusive environment that encourages collaboration and innovation. Employment at Agoda is based solely on a person’s merit and qualifications. We are committed to providing equal employment opportunity regardless of sex, age, race, color, national origin, religion, marital status, pregnancy, sexual orientation, gender identity, disability, citizenship, veteran or military status, and other legally protected characteristics.\n",
    "\n",
    "We will keep your application on file in accordance with our privacy policy so that we can consider you for future vacancies. You can always ask to have your details removed from the file by contacting us at [email protected]\n",
    "\n",
    "To all recruitment agencies: Agoda does not accept third party resumes. Please do not send resumes to our jobs alias, Agoda employees or any other organization location. Agoda is not responsible for any fees related to unsolicited resumes.\"\"\""
   ]
  },
  {
   "cell_type": "code",
   "execution_count": 106,
   "id": "inappropriate-textbook",
   "metadata": {},
   "outputs": [
    {
     "data": {
      "text/plain": [
       "['Agoda',\n",
       " 'online',\n",
       " 'travel',\n",
       " 'booking',\n",
       " 'platform',\n",
       " 'accommodation',\n",
       " ',',\n",
       " 'flights',\n",
       " ',',\n",
       " '.']"
      ]
     },
     "execution_count": 106,
     "metadata": {},
     "output_type": "execute_result"
    }
   ],
   "source": [
    "token_offer = to_lower(offer)\n",
    "token_offer = remove_number(offer)\n",
    "token_offer = remove_punctuation(offer)\n",
    "token_offer = lemmatize_words(offer)\n",
    "token_offer = remove_stopwords(offer)\n",
    "#offer\n",
    "token_offer[:10]"
   ]
  },
  {
   "cell_type": "code",
   "execution_count": 107,
   "id": "enclosed-thriller",
   "metadata": {},
   "outputs": [
    {
     "data": {
      "text/plain": [
       "array([ 0.05938027,  0.1751192 , -0.09508178, ...,  0.01733588,\n",
       "        0.04081504, -0.0244547 ], dtype=float32)"
      ]
     },
     "execution_count": 107,
     "metadata": {},
     "output_type": "execute_result"
    }
   ],
   "source": [
    "infer_vector = model_loaded.infer_vector(token_offer)\n",
    "infer_vector"
   ]
  },
  {
   "cell_type": "code",
   "execution_count": 108,
   "id": "worthy-brunswick",
   "metadata": {},
   "outputs": [],
   "source": [
    "similar_documents = model_loaded.docvecs.most_similar([infer_vector], topn = 5)"
   ]
  },
  {
   "cell_type": "code",
   "execution_count": 103,
   "id": "earlier-ozone",
   "metadata": {
    "scrolled": true,
    "tags": []
   },
   "outputs": [
    {
     "name": "stdout",
     "output_type": "stream",
     "text": [
      "('Bonial helps you save time, money and paper.We are digital advertising '\n",
      " 'partner for offline business - we support retailers in their marketing '\n",
      " 'activities and help them find a new audience.Would you like to join and be a '\n",
      " 'part of digitalization of retail?At Bonial, the Data Team is one of the hubs '\n",
      " \"between Online Marketing, Product, IT, Operations and Sales. It's a unique \"\n",
      " 'position as we can explore data from different aspects and bring valuable '\n",
      " 'insights to the company. Our mission is to transform data into the source of '\n",
      " 'truth and thereby enable Bonial employees to make smarter decisions. We turn '\n",
      " 'data into information then into knowledge, help teams understand their '\n",
      " 'capabilities, support teams in shaping the right questions for their '\n",
      " 'challenges and teach them how to use the tools we provide. Our success would '\n",
      " 'be to transform Bonial decision making process from gut feeling into '\n",
      " \"scientific approach.We're looking for an experienced Data Scientist with a \"\n",
      " 'curious analytical mindset and strong product intuition to join our Data '\n",
      " 'team. You will be able to consult different teams on both technical and '\n",
      " 'non-technical applications of data science.You Will Be Responsible '\n",
      " 'ForDesigning and building production-ready predictive models or machine '\n",
      " 'learning algorithms;Optimizing our personalization algorithms;Crunching, '\n",
      " 'analyzing and investigating large amount of data to discover trends and '\n",
      " 'patterns;Investigating new machine learning techniques and tools, educating '\n",
      " 'others on the possible applications of these techniques;Visualizing your '\n",
      " 'analysis in a way that everyone gets it at first glance;Collaborating with '\n",
      " 'different teams/departments to proactively suggest improvement points, using '\n",
      " 'your initiative to develop new topics.What You Should Bring To The TableA '\n",
      " '‘can-do’ attitude with a passion for analytics and the insight it can '\n",
      " 'provide;At least 2 years of experience as a data scientist or data analyst;A '\n",
      " 'degree in Mathematics, Statistic or Computer Science; graduate degree in '\n",
      " 'Data Science or other quantitative field is preferred;Good knowledge of '\n",
      " 'Python, SQL or R;Experience in practical application of machine learning or '\n",
      " 'predictive analytics;Ability to convey complex issues to a non-technical '\n",
      " 'audience with a high level of abstraction;Experience in data '\n",
      " 'visualization.It Would Be a Plus If You HaveExperience with PySpark or '\n",
      " 'SparkR;Experience building APIs;Experience using Git, Docker, Airflow, '\n",
      " 'AWS.Keep in mind that this is just an ideal requirements’ list; we look for '\n",
      " 'potential!What We Can Offer YouDiversity - international, multicultural and '\n",
      " 'inclusive community with colleagues from over 40 different countries where '\n",
      " 'you can grow personally and professionally. We do not only embrace diversity '\n",
      " '- we cherish it.Development - strong support for your professional '\n",
      " 'development with both company sponsored activities and a dedicated budget '\n",
      " 'you can decide on, also English and German language courses in '\n",
      " 'house.Sustainability - the opportunity to engage in projects that promote '\n",
      " 'sustainability, environmental development and the impact that we make on our '\n",
      " 'planet.Modern Office with interior design handcrafted by our creative team: '\n",
      " \"fully stocked Kids' Room for when your kita bails on you; Zen Rooms where \"\n",
      " 'employees can pray, relax or simply have some quiet time; fully equipped gym '\n",
      " 'in the office; and Roof terrace for amazing Friday events.Social Culture '\n",
      " 'that encourages people to start conversations, build relationships and '\n",
      " 'participate together in the community through regular team events in a '\n",
      " \"lounge perfect for socializing.If you think you could fit the bill, we'd \"\n",
      " 'love to hear from you!You can check out our Bonial people Instagram or read '\n",
      " 'more about Bonial culture here.About The CompanyBonial is part of Axel '\n",
      " 'Springer SE and is the leading \"Drive to Store\" platform in Germany and '\n",
      " 'France. Every day we inspire millions of users by connecting them to their '\n",
      " 'favorite shops and brands via our platforms \"kaufDA\" and \"MeinProspekt\" in '\n",
      " 'Germany, and “Bonial” in France.More than 1500 retailers and brands across '\n",
      " 'all sectors rely on our tailor-made, data driven marketing solutions to '\n",
      " 'promote their offers and reach measurable business results with maximized '\n",
      " 'return on investment.Our more than 300 employees come from all over the '\n",
      " 'world joining together to strengthen their skills and work towards creating '\n",
      " 'innovative digital marketing products for clients and users. We believe in '\n",
      " 'the power of each individual to own their impact and drive meaningful '\n",
      " 'results every day. Our diverse and open culture is the secret sauce to our '\n",
      " 'success and ensures we truly put people at the center of everything we do. '\n",
      " 'Our data-driven decision making empowers our mission and how we work')\n"
     ]
    }
   ],
   "source": [
    "pprint(offer)"
   ]
  },
  {
   "cell_type": "code",
   "execution_count": 109,
   "id": "efficient-custom",
   "metadata": {},
   "outputs": [
    {
     "name": "stdout",
     "output_type": "stream",
     "text": [
      "[['tag_239', 0.47019219398498535], ['tag_2536', 0.4570488929748535], ['tag_259', 0.452234148979187], ['tag_520', 0.447274386882782], ['tag_2524', 0.4398900866508484]]\n",
      "\n",
      "('', 'Salesforce', 'To get the best candidate experience, please consider applying for a maximum of 3 roles within 12 months to ensure you are not duplicating efforts.\\nOur Futureforce University Recruiting program is dedicated to attracting, retaining and cultivating talent. Our interns and new graduates work on real projects that affect how our business runs, giving them the opportunity to make a tangible impact on the future of our company. With offices all over the world, our recruits have the chance to collaborate and connect with fellow employees on a global scale. We offer job shadowing, mentorship programs, talent development courses, and much more.\\nJob Category\\nIntern\\nJob Details\\nMuleSoft Summer 2021 Intern - Technical Consultant\\n\\nStart date: 16th June 2021\\nDuration: 10 weeks\\nLocation: Amsterdam, Brussels, Munich, Düsseldorf, Berlin, Frankfurt (working from home)\\n\\nAbout MuleSoft, a Salesforce Company\\nOur mission is to help organisations change and innovate faster by making it easy to connect the world’s applications, data, and devices. Companies like Spotify, McDonald’s, and Unilever rely on MuleSoft to stay agile, deliver faster, and make the most of their IT investment with API-led connectivity. Hiring exceptional people who want to build a great company together is our number one priority, and we’re committed to providing an equal opportunity workplace where everyone is supported and inspired to do their best work. We work tirelessly to build this culture, and we’re proud to have been named the #1 Top Workplace in Europe for the third time in a row!\\n\\nRole overview and impact\\nThis is your time to shine! Salesforce is now hiring top students for our Summer 2021 Internship Program. Develop your technology and consulting skills and build your career with Salesforce! In this role y ou will join the team as a Technical Consultant Intern at MuleSoft, a Salesforce company. We are the integration product platform of Salesforce - the leader in the iPaaS product space. In this role you are responsible for crafting and developing solutions in the integration space and the implementation of MuleSoft into the customer landscape, gather customer requirements and challenge them within large-scale Salesforce / MuleSoft implementation projects. You will also learn the business impact of integrated solutions and environment for the success of the customer.\\n\\nYour Responsibilities\\nWe are the most successful cloud company and your skills, dedication, and curiosity will help us continue to innovate and grow. While working at Salesforce you will have the opportunity to significantly impact how we deliver customer success.\\nYou will acquire official industry standard Salesforce certifications.\\nYou will gain knowledge and invaluable international experience leading to both professional and personal development.\\nDepending on your profile, a strong emphasis will be placed on learning skills related to the areas of technical consulting, business acumen and how to engage with customers.\\nThrough our strong coaching culture, we aim to develop you into a world-class professional, poised to grow your career anywhere at Salesforce.\\n\\nYour Qualifications\\nCurrently enrolled in a university degree (Master, no MBA) in the fields of Computer Science or similar\\nGraduating in 2021 or 2022\\nFirst experience with Java and System Architecture\\nPassionate about the impact technology can have on the world\\nCreative problem-solver\\nAmbitious, curious and self-motivated\\nComfortable adapting to new opportunities and change\\nFluency in English (German or Dutch skills would be a plus)\\n\\nSalesforce is very diverse, and people from lots of different backgrounds thrive and succeed here. While hiring the next generation of talent at MuleSoft we are looking for people who share our 4 Core Values: Trust, Customer Success, Innovation & Equality. We look for people of character, who keep their promises and bring an amazing attitude. We look for smart people, who can understand others, communicate effectively and get things done.\\n\\n\\n\\nTimeline:\\nCV and Application screening will commence in March\\nInterviews will run from March - April\\n\\n\\nAbout Salesforce\\nSalesforce, the Customer Success Platform and world\\'s #1 CRM, empowers companies to connect with their customers in a whole new way. The company was founded on three disruptive ideas: a new technology model in cloud computing, a pay-as-you-go business model, and a new integrated corporate philanthropy model. These founding principles have taken our company to great heights, including being named one of Forbes’s “World’s Most Innovative Company” six years in a row and one of Fortune’s “100 Best Companies to Work For” nine years in a row. We are the fastest growing of the top 10 enterprise software companies, and this level of growth equals incredible opportunities to grow a career at Salesforce. Together, with our whole Ohana (Hawaiian for \"family\") made up of our employees, customers, partners and communities, we are working to improve the state of the world.\\nAccommodations - If you require assistance due to a disability applying for open positions please submit a request via this Accommodations Request Form.\\nPosting Statement\\nAt Salesforce we believe that the business of business is to improve the state of our world. Each of us has a responsibility to drive Equality in our communities and workplaces. We are committed to creating a workforce that reflects society through inclusive programs and initiatives such as equal pay, employee resource groups, inclusive benefits, and more. Learn more about Equality at Salesforce and explore our benefits.\\nSalesforce.com and Salesforce.org are Equal Employment Opportunity and Affirmative Action Employers. Qualified applicants will receive consideration for employment without regard to race, color, religion, sex, sexual orientation, gender perception or identity, national origin, age, marital status, protected veteran status, or disability status. Salesforce.com and Salesforce.org do not accept unsolicited headhunter and agency resumes. Salesforce.com and Salesforce.org will not pay any third-party agency or company that does not have a signed agreement with Salesfore.com or Salesforce.org.\\nSalesforce welcomes all.\\nvor 12 Tagen\\n- Weiter zur Bewerbung\\nDiesen Job melden')     \n",
      "-------------END------------\n",
      " \n",
      "('Senior Statistical Analyst', 'US Cellular', '-\\nFIN000826\\n\\nAs part of the Finance department, the U.S. Cellular® Shared Analytical and Data Services team (SANDS) is comprised of highly technical resources with diverse backgrounds in data warehousing, business intelligence, analytics, forecasting, an')     \n",
      "-------------END------------\n",
      " \n",
      "('', 'Blinkist', \"DESCRIPTION\\nTeam: Business Intelligence\\nReporting Line: Holger Seim, CEO\\nLocation: Berlin, Limited Remote\\nContract: Unlimited, Full Time\\n\\nAt Blinkist, we don’t just accept our differences — we celebrate and support them. We are committed to provide equal employment opportunity and strongly encourage you to apply regardless of race, colour, ancestry, religion, sex, national origin, sexual orientation, age, citizenship, marital status, disability, or gender identity. If you need reasonable accommodation at any point after applying, please let us know.\\n\\nBlinkist is the quick-hit nonfiction learning app that's made in Berlin! We believe in innovation, collaboration, and diversity. We inspire people to keep learning.\\nHeute\\n- Weiter zur Bewerbung\\nDiesen Job melden\")     \n",
      "-------------END------------\n",
      " \n",
      "('Senior Data Engineer – Growth', 'Blinkist', \"DESCRIPTION\\nTeam: Engineering & Data, Data Engineering\\nLocation: Berlin or Remotely within similar Time Zone\\nContract: Unlimited, Full Time\\nApply by: Mar 8, 2021\\n\\nAt Blinkist, we don’t just accept our differences — we celebrate and support them. We are committed to provide equal employment opportunity and strongly encourage you to apply regardless of race, colour, ancestry, religion, sex, national origin, sexual orientation, age, citizenship, marital status, disability, or gender identity. If you need reasonable accommodation at any point after applying, please let us know.\\n\\nBlinkist is the quick-hit nonfiction learning app that's made in Berlin! We believe in innovation, collaboration, and diversity. We inspire people to keep learning.\\nHeute\\n- Weiter zur Bewerbung\\nDiesen Job melden\")     \n",
      "-------------END------------\n",
      " \n",
      "('BI Architect', 'NCSA - Next College Student Athlete', \"Business Intelligence Architect\\n\\n\\nABOUT NEXT COLLEGE STUDENT ATHLETE (NCSA)\\nNCSA is the world's largest and most successful collegiate athletic recruiting network. A wholly-owned subsidiary of Reigning Champs LLC (www.reigningchamps.com), NCSA's 700 teammates leverage exclusive data, proprietary matching algorithms, and personal relationships built over nearly two decades as the industry leader to connect tens of thousands of college-bound student-athletes to more than 35,000 college coaches nationwide across 34 sports every year. You can learn more about NCSA at www.ncsasports.org.\\n\\nBusiness Intelligence Architect Job Details\\nNCSA (Next College Student Athlete) transforms the lives of high school athletes and we need an amazing BI Architect to own and advance our data, reporting and visualization abilities.\\n\\nYou will be working across an organization of former athletes, coaches and other people passionate about helping student athletes make the right college choice. Show leaders across all areas of the business what actionable data really is and help them drive out the right insights.\\n\\nWe are poised to take a big step in how we use data, both internally and within external products, you can build that practice and lead us to the next level.\\n\\nIf you love making data dance and helping the right decision come to light, we are looking for you to evangelize and grow our data practice.\\n\\nWhat you will be doing:\\nYou will build the data practices of our business\\nYou will evangelize the power of data and change how decisions are made\\nYou will work directly with a talented group of scientists, analysts, engineers and leaders\\nYou will be engaged with all levels of a team that is dedicated to empowering athletes and coaches\\nYou will uncover the real data needs and create visualizations that bring the right answers to light\\n\\n\\nQualifications:\\nBachelor’s degree in a quantitative discipline (Mathematics, Statistics, Economics)\\n3+ years of experience in Data Visualization and Business Intelligence\\n2+ years of experience in Tableau (Desktop Certification a plus)\\nStrong proficiency in SQL, Microsoft Excel and statistical analysis tools\\nSolid understanding of relational, NoSQL and columnar databases\\nExperience with a scripting or programming language (R, Ruby, Python, Java, etc.)\\n\\n\\nPreferred Qualifications:\\nExperience with AWS Cloud Services: Redshift, EC2, EMR, RDS, etc.\\nUn-afraid to manage up or sideways\\nA team-player, always looking to make things better and easier for a co-worker\\n\\n\\nBenefits\\nComprehensive Medical, Dental, &amp; Life Insurance\\nPre-Tax Flex Spending Account\\n401(k) Match Up to 3%\\nParental Leave\\nWellness Reimbursement Program\\nOnline Health Assessments\\nEAP\\n\\n\\nNational Collegiate Scouting Association LLC is committed to providing equal employment opportunities to all employees and applicants without regard to race, religion, color, sex, national origin, citizenship status, uniform service member status, age, disability, sexual and gender orientation, genetic information or any other protected status in accordance with all applicable federal, state, and local laws.\")     \n",
      "-------------END------------\n",
      " \n"
     ]
    }
   ],
   "source": [
    "tags = similar_documents\n",
    "tags = [list(i) for i in tags]\n",
    "\n",
    "print(f\"{tags}\\n\")\n",
    "# print(f\"{df_eng['job_title'][text_index], df_eng['company'][text_index], df_eng['job_text'][text_index]} \\\n",
    "#     \\n-------------END------------\\n \")\n",
    "\n",
    "for tag in tags: \n",
    "    num = int(tag[0].strip('tag_'))\n",
    "\n",
    "    print(f\"{df_eng['job_title'][num], df_eng['company'][num], df_eng['job_text'][num]} \\\n",
    "    \\n-------------END------------\\n \") \n"
   ]
  },
  {
   "cell_type": "code",
   "execution_count": null,
   "id": "stone-communication",
   "metadata": {},
   "outputs": [],
   "source": [
    "#def filter_duplicates(text):\n",
    "    "
   ]
  },
  {
   "cell_type": "code",
   "execution_count": 46,
   "id": "bizarre-doctor",
   "metadata": {},
   "outputs": [],
   "source": [
    "#similar_jobs(400, 10)"
   ]
  },
  {
   "cell_type": "code",
   "execution_count": 65,
   "id": "northern-calculator",
   "metadata": {},
   "outputs": [],
   "source": []
  },
  {
   "cell_type": "code",
   "execution_count": null,
   "id": "ideal-porter",
   "metadata": {},
   "outputs": [],
   "source": []
  },
  {
   "cell_type": "code",
   "execution_count": null,
   "id": "julian-pride",
   "metadata": {},
   "outputs": [],
   "source": []
  },
  {
   "cell_type": "markdown",
   "id": "senior-census",
   "metadata": {},
   "source": [
    "## Improve the model - 2\n",
    "\n",
    "- try bigrams instead ot unigrams"
   ]
  },
  {
   "cell_type": "code",
   "execution_count": null,
   "id": "honest-consciousness",
   "metadata": {},
   "outputs": [],
   "source": [
    "texts_small = df_eng['clean'][:2500]"
   ]
  },
  {
   "cell_type": "code",
   "execution_count": null,
   "id": "aquatic-active",
   "metadata": {},
   "outputs": [],
   "source": [
    "texts_small.head()"
   ]
  },
  {
   "cell_type": "code",
   "execution_count": null,
   "id": "automatic-pavilion",
   "metadata": {},
   "outputs": [],
   "source": [
    "from gensim.models import Phrases\n",
    "from gensim.models.phrases import Phraser\n",
    "from gensim import models"
   ]
  },
  {
   "cell_type": "code",
   "execution_count": null,
   "id": "internal-singing",
   "metadata": {},
   "outputs": [],
   "source": [
    "bigram = Phrases(texts_small, min_count=1, threshold=2, delimiter=b' ')\n",
    "\n",
    "bigram_phraser = Phraser(bigram)\n"
   ]
  },
  {
   "cell_type": "code",
   "execution_count": null,
   "id": "nasty-connection",
   "metadata": {
    "scrolled": true,
    "tags": []
   },
   "outputs": [],
   "source": [
    "bigram_token = []\n",
    "for sent in texts_small:\n",
    "    bigram_token.append(bigram_phraser[sent])\n",
    "    \n",
    "bigram_token[:20]"
   ]
  },
  {
   "cell_type": "code",
   "execution_count": null,
   "id": "immediate-healthcare",
   "metadata": {},
   "outputs": [],
   "source": []
  }
 ],
 "metadata": {
  "kernelspec": {
   "display_name": "Python 3",
   "language": "python",
   "name": "python3"
  },
  "language_info": {
   "codemirror_mode": {
    "name": "ipython",
    "version": 3
   },
   "file_extension": ".py",
   "mimetype": "text/x-python",
   "name": "python",
   "nbconvert_exporter": "python",
   "pygments_lexer": "ipython3",
   "version": "3.8.6"
  }
 },
 "nbformat": 4,
 "nbformat_minor": 5
}
