{
 "cells": [
  {
   "cell_type": "markdown",
   "id": "retired-douglas",
   "metadata": {},
   "source": [
    "# vectorizing job offers"
   ]
  },
  {
   "cell_type": "markdown",
   "id": "blessed-correlation",
   "metadata": {},
   "source": [
    "## aim\n",
    "- cluster job offeres by similarity based on a dictionary of skills\n",
    "\n",
    "## outline\n",
    "- preprocess doc2vec with full job offers\n",
    "- train model\n",
    "- test similarity of job descriptions\n",
    "- cluster offers (Kmeans, KNN)\n",
    "\n",
    "## outcome\n",
    "unicorns in a meadow"
   ]
  },
  {
   "cell_type": "code",
   "execution_count": 1,
   "id": "saved-implement",
   "metadata": {},
   "outputs": [],
   "source": [
    "import pandas as pd\n",
    "import numpy as np\n",
    "import matplotlib.pyplot as plt\n",
    "from nltk.corpus import stopwords \n",
    "from nltk.tokenize import word_tokenize\n",
    "from nltk.stem import WordNetLemmatizer\n",
    "import gensim\n",
    "import joblib\n",
    "from gensim.models.doc2vec import Doc2Vec, TaggedDocument\n",
    "from pprint import pprint\n",
    "import math\n",
    "import multiprocessing\n",
    "import gensim.models.doc2vec\n",
    "import time\n",
    "import json\n",
    "\n",
    "%matplotlib inline"
   ]
  },
  {
   "cell_type": "code",
   "execution_count": 2,
   "id": "demographic-clinic",
   "metadata": {},
   "outputs": [],
   "source": [
    "df = joblib.load('../../../raw_data/processed_data.joblib')"
   ]
  },
  {
   "cell_type": "code",
   "execution_count": 3,
   "id": "prospective-patrick",
   "metadata": {},
   "outputs": [
    {
     "data": {
      "text/plain": [
       "(7859, 14)"
      ]
     },
     "execution_count": 3,
     "metadata": {},
     "output_type": "execute_result"
    }
   ],
   "source": [
    "df.shape"
   ]
  },
  {
   "cell_type": "code",
   "execution_count": 4,
   "id": "artificial-duplicate",
   "metadata": {},
   "outputs": [],
   "source": [
    "df['tag_language'] = df['tag_language'].fillna(value='en')"
   ]
  },
  {
   "cell_type": "code",
   "execution_count": 5,
   "id": "behavioral-botswana",
   "metadata": {},
   "outputs": [
    {
     "data": {
      "text/html": [
       "<div>\n",
       "<style scoped>\n",
       "    .dataframe tbody tr th:only-of-type {\n",
       "        vertical-align: middle;\n",
       "    }\n",
       "\n",
       "    .dataframe tbody tr th {\n",
       "        vertical-align: top;\n",
       "    }\n",
       "\n",
       "    .dataframe thead th {\n",
       "        text-align: right;\n",
       "    }\n",
       "</style>\n",
       "<table border=\"1\" class=\"dataframe\">\n",
       "  <thead>\n",
       "    <tr style=\"text-align: right;\">\n",
       "      <th></th>\n",
       "      <th>job_title</th>\n",
       "      <th>job_text</th>\n",
       "      <th>company</th>\n",
       "      <th>location</th>\n",
       "      <th>job_info</th>\n",
       "      <th>query_text</th>\n",
       "      <th>source</th>\n",
       "      <th>job_link</th>\n",
       "      <th>tag_language</th>\n",
       "      <th>reviews</th>\n",
       "      <th>job_info_tokenized</th>\n",
       "      <th>job_text_tokenized</th>\n",
       "      <th>job_text_tokenized_titlecase</th>\n",
       "      <th>job_title_tokenized</th>\n",
       "    </tr>\n",
       "  </thead>\n",
       "  <tbody>\n",
       "    <tr>\n",
       "      <th>0</th>\n",
       "      <td>(Junior) Data Engineer (f/m/x)</td>\n",
       "      <td>Customlytics ist die führende App Marketing Be...</td>\n",
       "      <td>Customlytics GmbH</td>\n",
       "      <td>Berlin</td>\n",
       "      <td>(Junior) Data Engineer (f/m/x)\\nCustomlytics G...</td>\n",
       "      <td>data science</td>\n",
       "      <td>scrape_json</td>\n",
       "      <td>NaN</td>\n",
       "      <td>en</td>\n",
       "      <td>NaN</td>\n",
       "      <td>[junior, data, engineer, fmx, customlytics, gm...</td>\n",
       "      <td>[customlytics, ist, die, führende, app, market...</td>\n",
       "      <td>[Customlytics, ist, die, führende, App, Market...</td>\n",
       "      <td>[junior, data, engineer, fmx]</td>\n",
       "    </tr>\n",
       "    <tr>\n",
       "      <th>1</th>\n",
       "      <td></td>\n",
       "      <td>Responsibilities\\n\\nAs working student (m/f/x)...</td>\n",
       "      <td>Aroundhome</td>\n",
       "      <td>Berlin</td>\n",
       "      <td>Aroundhome6 Bewertungen - Berlin</td>\n",
       "      <td>data science</td>\n",
       "      <td>scrape_json</td>\n",
       "      <td>NaN</td>\n",
       "      <td>en</td>\n",
       "      <td>NaN</td>\n",
       "      <td>[aroundhome, bewertungen, berlin]</td>\n",
       "      <td>[responsibilities, as, working, student, mfx, ...</td>\n",
       "      <td>[Responsibilities, As, working, student, mfx, ...</td>\n",
       "      <td>[]</td>\n",
       "    </tr>\n",
       "    <tr>\n",
       "      <th>2</th>\n",
       "      <td></td>\n",
       "      <td>Aufgaben\\nAls Werkstudent (m/w/d) IT arbeitest...</td>\n",
       "      <td>Aroundhome</td>\n",
       "      <td>Berlin</td>\n",
       "      <td>Aroundhome6 Bewertungen - Berlin\\nTeilzeit, Pr...</td>\n",
       "      <td>data science</td>\n",
       "      <td>scrape_json</td>\n",
       "      <td>NaN</td>\n",
       "      <td>de</td>\n",
       "      <td>NaN</td>\n",
       "      <td>[aroundhome, bewertungen, berlin, teilzeit, pr...</td>\n",
       "      <td>[aufgaben, als, werkstudent, mwd, it, arbeites...</td>\n",
       "      <td>[Aufgaben, Als, Werkstudent, mwd, IT, arbeites...</td>\n",
       "      <td>[]</td>\n",
       "    </tr>\n",
       "  </tbody>\n",
       "</table>\n",
       "</div>"
      ],
      "text/plain": [
       "                        job_title  \\\n",
       "0  (Junior) Data Engineer (f/m/x)   \n",
       "1                                   \n",
       "2                                   \n",
       "\n",
       "                                            job_text            company  \\\n",
       "0  Customlytics ist die führende App Marketing Be...  Customlytics GmbH   \n",
       "1  Responsibilities\\n\\nAs working student (m/f/x)...         Aroundhome   \n",
       "2  Aufgaben\\nAls Werkstudent (m/w/d) IT arbeitest...         Aroundhome   \n",
       "\n",
       "  location                                           job_info    query_text  \\\n",
       "0   Berlin  (Junior) Data Engineer (f/m/x)\\nCustomlytics G...  data science   \n",
       "1   Berlin                   Aroundhome6 Bewertungen - Berlin  data science   \n",
       "2   Berlin  Aroundhome6 Bewertungen - Berlin\\nTeilzeit, Pr...  data science   \n",
       "\n",
       "        source job_link tag_language  reviews  \\\n",
       "0  scrape_json      NaN           en      NaN   \n",
       "1  scrape_json      NaN           en      NaN   \n",
       "2  scrape_json      NaN           de      NaN   \n",
       "\n",
       "                                  job_info_tokenized  \\\n",
       "0  [junior, data, engineer, fmx, customlytics, gm...   \n",
       "1                  [aroundhome, bewertungen, berlin]   \n",
       "2  [aroundhome, bewertungen, berlin, teilzeit, pr...   \n",
       "\n",
       "                                  job_text_tokenized  \\\n",
       "0  [customlytics, ist, die, führende, app, market...   \n",
       "1  [responsibilities, as, working, student, mfx, ...   \n",
       "2  [aufgaben, als, werkstudent, mwd, it, arbeites...   \n",
       "\n",
       "                        job_text_tokenized_titlecase  \\\n",
       "0  [Customlytics, ist, die, führende, App, Market...   \n",
       "1  [Responsibilities, As, working, student, mfx, ...   \n",
       "2  [Aufgaben, Als, Werkstudent, mwd, IT, arbeites...   \n",
       "\n",
       "             job_title_tokenized  \n",
       "0  [junior, data, engineer, fmx]  \n",
       "1                             []  \n",
       "2                             []  "
      ]
     },
     "execution_count": 5,
     "metadata": {},
     "output_type": "execute_result"
    }
   ],
   "source": [
    "df.head(3)"
   ]
  },
  {
   "cell_type": "code",
   "execution_count": 6,
   "id": "joint-pilot",
   "metadata": {},
   "outputs": [],
   "source": [
    "# select english jobs\n",
    "df_eng = df.copy()\n",
    "df_eng = df_eng[df_eng['tag_language'] == 'en']\n",
    "df_eng.reset_index(inplace=True)\n",
    "df_eng.drop(columns='index', inplace=True)"
   ]
  },
  {
   "cell_type": "code",
   "execution_count": 7,
   "id": "documented-orleans",
   "metadata": {},
   "outputs": [
    {
     "data": {
      "text/html": [
       "<div>\n",
       "<style scoped>\n",
       "    .dataframe tbody tr th:only-of-type {\n",
       "        vertical-align: middle;\n",
       "    }\n",
       "\n",
       "    .dataframe tbody tr th {\n",
       "        vertical-align: top;\n",
       "    }\n",
       "\n",
       "    .dataframe thead th {\n",
       "        text-align: right;\n",
       "    }\n",
       "</style>\n",
       "<table border=\"1\" class=\"dataframe\">\n",
       "  <thead>\n",
       "    <tr style=\"text-align: right;\">\n",
       "      <th></th>\n",
       "      <th>job_title</th>\n",
       "      <th>job_text</th>\n",
       "      <th>company</th>\n",
       "      <th>location</th>\n",
       "      <th>job_info</th>\n",
       "      <th>query_text</th>\n",
       "      <th>source</th>\n",
       "      <th>job_link</th>\n",
       "      <th>tag_language</th>\n",
       "      <th>reviews</th>\n",
       "      <th>job_info_tokenized</th>\n",
       "      <th>job_text_tokenized</th>\n",
       "      <th>job_text_tokenized_titlecase</th>\n",
       "      <th>job_title_tokenized</th>\n",
       "    </tr>\n",
       "  </thead>\n",
       "  <tbody>\n",
       "    <tr>\n",
       "      <th>0</th>\n",
       "      <td>(Junior) Data Engineer (f/m/x)</td>\n",
       "      <td>Customlytics ist die führende App Marketing Be...</td>\n",
       "      <td>Customlytics GmbH</td>\n",
       "      <td>Berlin</td>\n",
       "      <td>(Junior) Data Engineer (f/m/x)\\nCustomlytics G...</td>\n",
       "      <td>data science</td>\n",
       "      <td>scrape_json</td>\n",
       "      <td>NaN</td>\n",
       "      <td>en</td>\n",
       "      <td>NaN</td>\n",
       "      <td>[junior, data, engineer, fmx, customlytics, gm...</td>\n",
       "      <td>[customlytics, ist, die, führende, app, market...</td>\n",
       "      <td>[Customlytics, ist, die, führende, App, Market...</td>\n",
       "      <td>[junior, data, engineer, fmx]</td>\n",
       "    </tr>\n",
       "    <tr>\n",
       "      <th>1</th>\n",
       "      <td></td>\n",
       "      <td>Responsibilities\\n\\nAs working student (m/f/x)...</td>\n",
       "      <td>Aroundhome</td>\n",
       "      <td>Berlin</td>\n",
       "      <td>Aroundhome6 Bewertungen - Berlin</td>\n",
       "      <td>data science</td>\n",
       "      <td>scrape_json</td>\n",
       "      <td>NaN</td>\n",
       "      <td>en</td>\n",
       "      <td>NaN</td>\n",
       "      <td>[aroundhome, bewertungen, berlin]</td>\n",
       "      <td>[responsibilities, as, working, student, mfx, ...</td>\n",
       "      <td>[Responsibilities, As, working, student, mfx, ...</td>\n",
       "      <td>[]</td>\n",
       "    </tr>\n",
       "    <tr>\n",
       "      <th>2</th>\n",
       "      <td>Full Stack Developer (m/f/d)</td>\n",
       "      <td>We’re Phiture: a leading mobile growth consult...</td>\n",
       "      <td>Phiture</td>\n",
       "      <td>BerlinKreuzberg</td>\n",
       "      <td>Full Stack Developer (m/f/d)\\nPhiture - Berlin...</td>\n",
       "      <td>data science</td>\n",
       "      <td>scrape_json</td>\n",
       "      <td>NaN</td>\n",
       "      <td>en</td>\n",
       "      <td>NaN</td>\n",
       "      <td>[full, stack, developer, mfd, phiture, berlink...</td>\n",
       "      <td>[were, phiture, a, leading, mobile, growth, co...</td>\n",
       "      <td>[Were, Phiture, a, leading, mobile, growth, co...</td>\n",
       "      <td>[full, stack, developer, mfd]</td>\n",
       "    </tr>\n",
       "    <tr>\n",
       "      <th>3</th>\n",
       "      <td></td>\n",
       "      <td>We are 18,000+ employees strong, operating in ...</td>\n",
       "      <td>PRA Health Sciences</td>\n",
       "      <td>Berlin</td>\n",
       "      <td>PRA Health Sciences - Berlin</td>\n",
       "      <td>data science</td>\n",
       "      <td>scrape_json</td>\n",
       "      <td>NaN</td>\n",
       "      <td>en</td>\n",
       "      <td>NaN</td>\n",
       "      <td>[pra, health, sciences, berlin]</td>\n",
       "      <td>[we, are, employees, strong, operating, in, mo...</td>\n",
       "      <td>[We, are, employees, strong, operating, in, mo...</td>\n",
       "      <td>[]</td>\n",
       "    </tr>\n",
       "    <tr>\n",
       "      <th>4</th>\n",
       "      <td>Head of Finance</td>\n",
       "      <td>Head of Finance (m/f/d)\\nAt Home our mission i...</td>\n",
       "      <td>Home HT GmbH</td>\n",
       "      <td>Berlin</td>\n",
       "      <td>Head of Finance\\nHome HT GmbH2 Bewertungen - B...</td>\n",
       "      <td>data science</td>\n",
       "      <td>scrape_json</td>\n",
       "      <td>NaN</td>\n",
       "      <td>en</td>\n",
       "      <td>NaN</td>\n",
       "      <td>[head, of, finance, home, ht, gmbh, bewertunge...</td>\n",
       "      <td>[head, of, finance, mfd, at, home, our, missio...</td>\n",
       "      <td>[Head, of, Finance, mfd, At, Home, our, missio...</td>\n",
       "      <td>[head, of, finance]</td>\n",
       "    </tr>\n",
       "  </tbody>\n",
       "</table>\n",
       "</div>"
      ],
      "text/plain": [
       "                        job_title  \\\n",
       "0  (Junior) Data Engineer (f/m/x)   \n",
       "1                                   \n",
       "2    Full Stack Developer (m/f/d)   \n",
       "3                                   \n",
       "4                 Head of Finance   \n",
       "\n",
       "                                            job_text              company  \\\n",
       "0  Customlytics ist die führende App Marketing Be...    Customlytics GmbH   \n",
       "1  Responsibilities\\n\\nAs working student (m/f/x)...           Aroundhome   \n",
       "2  We’re Phiture: a leading mobile growth consult...              Phiture   \n",
       "3  We are 18,000+ employees strong, operating in ...  PRA Health Sciences   \n",
       "4  Head of Finance (m/f/d)\\nAt Home our mission i...         Home HT GmbH   \n",
       "\n",
       "          location                                           job_info  \\\n",
       "0           Berlin  (Junior) Data Engineer (f/m/x)\\nCustomlytics G...   \n",
       "1           Berlin                   Aroundhome6 Bewertungen - Berlin   \n",
       "2  BerlinKreuzberg  Full Stack Developer (m/f/d)\\nPhiture - Berlin...   \n",
       "3           Berlin                       PRA Health Sciences - Berlin   \n",
       "4           Berlin  Head of Finance\\nHome HT GmbH2 Bewertungen - B...   \n",
       "\n",
       "     query_text       source job_link tag_language  reviews  \\\n",
       "0  data science  scrape_json      NaN           en      NaN   \n",
       "1  data science  scrape_json      NaN           en      NaN   \n",
       "2  data science  scrape_json      NaN           en      NaN   \n",
       "3  data science  scrape_json      NaN           en      NaN   \n",
       "4  data science  scrape_json      NaN           en      NaN   \n",
       "\n",
       "                                  job_info_tokenized  \\\n",
       "0  [junior, data, engineer, fmx, customlytics, gm...   \n",
       "1                  [aroundhome, bewertungen, berlin]   \n",
       "2  [full, stack, developer, mfd, phiture, berlink...   \n",
       "3                    [pra, health, sciences, berlin]   \n",
       "4  [head, of, finance, home, ht, gmbh, bewertunge...   \n",
       "\n",
       "                                  job_text_tokenized  \\\n",
       "0  [customlytics, ist, die, führende, app, market...   \n",
       "1  [responsibilities, as, working, student, mfx, ...   \n",
       "2  [were, phiture, a, leading, mobile, growth, co...   \n",
       "3  [we, are, employees, strong, operating, in, mo...   \n",
       "4  [head, of, finance, mfd, at, home, our, missio...   \n",
       "\n",
       "                        job_text_tokenized_titlecase  \\\n",
       "0  [Customlytics, ist, die, führende, App, Market...   \n",
       "1  [Responsibilities, As, working, student, mfx, ...   \n",
       "2  [Were, Phiture, a, leading, mobile, growth, co...   \n",
       "3  [We, are, employees, strong, operating, in, mo...   \n",
       "4  [Head, of, Finance, mfd, At, Home, our, missio...   \n",
       "\n",
       "             job_title_tokenized  \n",
       "0  [junior, data, engineer, fmx]  \n",
       "1                             []  \n",
       "2  [full, stack, developer, mfd]  \n",
       "3                             []  \n",
       "4            [head, of, finance]  "
      ]
     },
     "execution_count": 7,
     "metadata": {},
     "output_type": "execute_result"
    }
   ],
   "source": [
    "df_eng.head()"
   ]
  },
  {
   "cell_type": "code",
   "execution_count": 8,
   "id": "certified-arena",
   "metadata": {},
   "outputs": [
    {
     "data": {
      "text/plain": [
       "(7547, 14)"
      ]
     },
     "execution_count": 8,
     "metadata": {},
     "output_type": "execute_result"
    }
   ],
   "source": [
    "df_eng.shape"
   ]
  },
  {
   "cell_type": "code",
   "execution_count": 9,
   "id": "innocent-johnson",
   "metadata": {},
   "outputs": [],
   "source": [
    "# join strings\n",
    "def join_strings(text):\n",
    "    return ' '.join(text)"
   ]
  },
  {
   "cell_type": "code",
   "execution_count": 10,
   "id": "civic-garden",
   "metadata": {},
   "outputs": [],
   "source": [
    "# lemmatize\n",
    "def lemmatize_words(word):\n",
    "    lemmatizer = WordNetLemmatizer()\n",
    "    lemmatized = lemmatizer.lemmatize(word)\n",
    "\n",
    "    return lemmatized"
   ]
  },
  {
   "cell_type": "code",
   "execution_count": 11,
   "id": "hindu-eleven",
   "metadata": {},
   "outputs": [],
   "source": [
    "# remove stopwords\n",
    "def remove_stopwords(text):\n",
    "\n",
    "    stop_words = set(stopwords.words('english'))\n",
    "    word_tokens = word_tokenize(text) \n",
    "    text = [w for w in word_tokens if not w in stop_words] \n",
    "  \n",
    "    return text\n",
    "\n",
    "#['heute', 'weiter', 'zur', 'bewerbung', 'diesen', 'job', 'melden']"
   ]
  },
  {
   "cell_type": "code",
   "execution_count": 12,
   "id": "worth-irish",
   "metadata": {},
   "outputs": [],
   "source": [
    "# process text\n",
    "df_eng['clean'] = df_eng['job_text_tokenized'].apply(join_strings).apply(lemmatize_words)\\\n",
    "    .apply(remove_stopwords)"
   ]
  },
  {
   "cell_type": "markdown",
   "id": "satisfactory-modification",
   "metadata": {},
   "source": [
    "## model doc2vec 1"
   ]
  },
  {
   "cell_type": "markdown",
   "id": "right-shape",
   "metadata": {},
   "source": [
    "Conclusions :)\n",
    "- ~ 700 offers - 100 epocs\n",
    "    - model performs ok, but tends to cluster according to company\n",
    "    - texts with very high similarity (> 0.90) are likely to be duplicated job adds\n",
    "    - looks like the model first shows offers based on duplicates, then company, then position (probably because of semantics)\n",
    "\n",
    "\n",
    "- 2500 offers - 150 epocs\n",
    "    - still clusters by company\n",
    "    - add more data? or try bigrams"
   ]
  },
  {
   "cell_type": "code",
   "execution_count": 13,
   "id": "derived-fault",
   "metadata": {
    "scrolled": true,
    "tags": []
   },
   "outputs": [
    {
     "data": {
      "text/plain": [
       "TaggedDocument(words=['customlytics', 'ist', 'die', 'führende', 'app', 'marketing', 'beratungsagentur', 'aus', 'berlin', 'wir', 'bieten', 'consulting', 'und', 'handson', 'support', 'rund', 'um', 'app', 'marketing', 'strategie', 'produktmanagement', 'analytics', 'crm', 'unser', 'team', 'erarbeitet', 'mit', 'unternehmen', 'jeder', 'größe', 'konzepte', 'zur', 'erfolgreichen', 'vermarktung', 'von', 'mobilen', 'apps', 'dabei', 'decken', 'wir', 'nicht', 'nur', 'das', 'gesamte', 'spektrum', 'infrastruktureller', 'marketingthemen', 'ab', 'wir', 'konzipieren', 'planen', 'und', 'steuern', 'sowohl', 'das', 'ui', 'ux', 'design', 'von', 'mobilen', 'apps', 'als', 'auch', 'performance', 'marketing', 'kampagnen', 'für', 'alle', 'app', 'verticals', 'über', 'uns', 'unser', 'data', 'team', 'braucht', 'unterstützung', 'du', 'bist', 'motiviert', 'und', 'von', 'der', 'mobile', 'industry', 'begeistert', 'dann', 'suchen', 'wir', 'dich', 'um', 'die', 'data', 'warehouselösungen', 'für', 'unsere', 'kunden', 'aus', 'der', 'app', 'industrie', 'zu', 'entwickeln', 'und', 'implementieren', 'zusammen', 'mit', 'unserem', 'biteam', 'arbeitest', 'du', 'kundenprojekten', 'der', 'entwicklung', 'implementierung', 'und', 'optimierung', 'von', 'data', 'warehouse', 'projekten', 'du', 'arbeitest', 'hierbei', 'eng', 'mit', 'unserem', 'big', 'data', 'engineer', 'und', 'data', 'analyst', 'zusammen', 'der', 'entwicklung', 'von', 'dashboards', 'und', 'data', 'visualisierungen', 'talent', 'technologieaffinität', 'und', 'eigenverantwortung', 'für', 'deine', 'arbeit', 'zu', 'übernehmen', 'sind', 'die', 'basis', 'unserer', 'teamkultur', 'für', 'uns', 'ist', 'es', 'zweitrangig', 'ob', 'du', 'erst', 'anfang', 'deiner', 'beruflichen', 'laufbahn', 'stehst', 'oder', 'bereits', 'mehrjährige', 'berufserfahrung', 'hast', 'der', 'spirit', 'und', 'die', 'motivation', 'zählen', 'deine', 'aufgaben', 'du', 'berätst', 'unsere', 'teams', 'hinsichtlich', 'der', 'datenanforderungen', 'und', 'bist', 'die', 'schnittstelle', 'zwischen', 'marketingprodukt', 'consultants', 'und', 'dem', 'data', 'engineering', 'bi', 'team', 'du', 'unterstützt', 'bei', 'der', 'analyse', 'von', 'datenströmen', 'unserer', 'kunden', 'aus', 'der', 'mobilen', 'app', 'branche', 'dem', 'aufbereiten', 'von', 'daten', 'und', 'dem', 'entwickeln', 'von', 'datenmodellen', 'du', 'unterstützt', 'unser', 'consultingteam', 'und', 'interne', 'abteilungen', 'als', 'experte', 'bei', 'der', 'vorverarbeitung', 'und', 'auswertung', 'großer', 'datenmengen', 'du', 'versetzt', 'dich', 'die', 'lage', 'deiner', 'externen', 'und', 'internen', 'stakeholder', 'verstehst', 'ihre', 'ziele', 'und', 'anforderungen', 'und', 'übersetzt', 'diese', 'lösungen', 'entwicklung', 'von', 'data', 'warehousingprodukten', 'die', 'unseren', 'wettbewerbsvorteil', 'langfristig', 'sichern', 'und', 'ausbauen', 'dein', 'profil', 'du', 'arbeitet', 'gerne', 'auf', 'englisch', 'mit', 'internationalen', 'kolleginnen', 'du', 'hast', 'erste', 'erfahrung', 'im', 'data', 'oder', 'bo', 'bereich', 'und', 'hast', 'ein', 'abgeschlossenes', 'studium', 'im', 'bereich', 'information', 'systems', 'analytics', 'wirtschaftsinformatik', 'mathematik', 'oder', 'statistik', 'mit', 'affinität', 'zu', 'betriebswirtschaftlichen', 'themen', 'wie', 'zb', 'online', 'marketing', 'du', 'begeisterst', 'dich', 'für', 'die', 'mobile', 'apptechnologiebranche', 'und', 'hast', 'großes', 'interesse', 'technischen', 'lösungen', 'und', 'wie', 'apps', 'unter', 'der', 'haube', 'funktionieren', 'basiswissen', 'sql', 'python', 'und', 'git', 'grundkenntnisse', 'redshift', 'undoder', 'bigquery', 'routinierter', 'umgang', 'mit', 'gängigen', 'anwendungen', 'wie', 'google', 'drive', 'microsoft', 'office', 'mac', 'os', 'und', 'keine', 'scheu', 'sich', 'schnell', 'verschiedene', 'projektmanagement', 'analyse', 'und', 'marketingtools', 'einzuarbeiten', 'du', 'überzeugst', 'mit', 'proaktivität', 'und', 'lösungsorientierter', 'denkweise', 'bonus', 'points', 'agentur', 'undoder', 'startup', 'erfahrung', 'erste', 'erfahrungen', 'mit', 'reporting', 'tools', 'wie', 'google', 'data', 'studio', 'und', 'der', 'google', 'cloud', 'platform', 'aws', 'wir', 'bieten', 'mehr', 'als', 'app', 'store', 'optimization', 'wir', 'sind', 'die', 'einzige', 'fullstack', 'beratungsagentur', 'im', 'deutschen', 'raum', 'und', 'beraten', 'kunden', 'zu', 'vielfältigen', 'app', 'marketing', 'produktmanagement', 'und', 'analytics', 'themen', 'bvg', 'jobticket', 'für', 'den', 'ab', 'bereich', 'highend', 'hardware', 'die', 'du', 'für', 'deine', 'perfekte', 'arbeitsumgebung', 'im', 'büro', 'und', 'remote', 'benötigst', 'frei', 'verfügbare', 'anzahl', 'von', 'remote', 'work', 'tagen', 'ob', 'du', 'im', 'büro', 'arbeitest', 'oder', 'woanders', 'produktiver', 'bist', 'es', 'dir', 'selbst', 'aus', 'early', 'bird', 'oder', 'eule', 'flexible', 'arbeitszeiten', 'erlauben', 'es', 'dir', 'deine', 'arbeitszeit', 'individuell', 'zu', 'planen', 'regelmäßige', 'learning', 'sessions', 'mit', 'unserem', 'team', 'und', 'branchenexperten', 'sichern', 'dir', 'eine', 'steile', 'lernkurve', 'und', 'stetige', 'weiterentwicklung', 'smoothes', 'onboarding', 'mit', 'unserem', 'buddy', 'system', 'neben', 'dem', 'obligatorischen', 'müsli', 'haben', 'wir', 'eine', 'pastapesto', 'flatrate', 'im', 'büro', 'startupmentalität', 'findest', 'du', 'bei', 'uns', 'natürlich', 'auch', 'aber', 'mit', 'der', 'nötigen', 'vision', 'und', 'professionalität', 'um', 'zum', 'marktführer', 'unter', 'den', 'beratungsunternehmen', 'europa', 'zu', 'werden', 'die', 'sich', 'auf', 'mobile', 'marketing', 'spezialisiert', 'haben', 'gute', 'performance', 'und', 'drive', 'werden', 'bei', 'uns', 'belohnt', 'und', 'führen', 'zu', 'kompetitiven', 'gehältern', 'über', 'dem', 'branchendurchschnitt', 'ein', 'motiviertes', 'team', 'mit', 'flachen', 'hierarchien', 'regelmäßig', 'stattfindende', 'team', 'events', 'und', 'company', 'offsites', 'nimm', 'unseren', 'meetups', 'teil', 'und', 'vernetze', 'dich', 'mit', 'berlins', 'mobiler', 'marketing', 'startup', 'szene', 'junior', 'data', 'engineer', 'fmx', 'role', 'junior', 'data', 'engineer', 'responsible', 'improving', 'maintaining', 'data', 'warehouse', 'solutions', 'developing', 'implementing', 'data', 'warehouse', 'solutions', 'clients', 'working', 'within', 'business', 'intelligence', 'team', 'data', 'bi', 'analyst', 'big', 'data', 'engineer', 'act', 'point', 'contact', 'clients', 'projects', 'evolved', 'upon', 'joining', 'get', 'know', 'customlytics', 'services', 'clients', 'getting', 'sense', 'headed', 'familiarise', 'quickly', 'expected', 'roll', 'sleeves', 'take', 'action', 'addition', 'working', 'friendly', 'modern', 'work', 'atmosphere', 'right', 'prenzlauer', 'berg', 'one', 'liveliest', 'central', 'places', 'berlin', 'responsibilities', 'support', 'area', 'data', 'engineering', 'enable', 'team', 'focus', 'delivering', 'insights', 'clients', 'app', 'businesses', 'consult', 'teams', 'data', 'needs', 'serve', 'liaison', 'marketingproduct', 'teams', 'data', 'engineering', 'team', 'responsible', 'providing', 'insightful', 'data', 'deep', 'dives', 'analytical', 'assistance', 'clientfacing', 'business', 'development', 'accounting', 'teams', 'understand', 'challenges', 'clients', 'facing', 'today', 'tomorrow', 'analyzing', 'trends', 'clients', 'data', 'providing', 'insight', 'explanation', 'improve', 'operations', 'run', 'ad', 'hoc', 'analysis', 'build', 'data', 'visualizations', 'continue', 'developing', 'clients', 'data', 'warehouse', 'infrastructure', 'data', 'engineering', 'team', 'help', 'foster', 'datadriven', 'culture', 'throughout', 'whole', 'team', 'apply', 'best', 'practices', 'profile', 'gained', 'first', 'experiences', 'data', 'bi', 'field', 'degree', 'related', 'field', 'like', 'information', 'systems', 'analytics', 'economics', 'computer', 'science', 'statistics', 'another', 'similar', 'quantitative', 'field', 'techsavvy', 'enthusiastic', 'mobile', 'industry', 'fluent', 'english', 'working', 'englishspeaking', 'team', 'sound', 'good', 'great', 'analytical', 'skills', 'ability', 'make', 'reasonable', 'use', 'data', 'working', 'clients', 'first', 'knowledge', 'sql', 'python', 'familiar', 'git', 'basic', 'knowledge', 'redshift', 'andor', 'bigquery', 'plus', 'businessminded', 'passionate', 'diving', 'making', 'sense', 'large', 'diverse', 'datasets', 'bonus', 'points', 'agency', 'experience', 'german', 'language', 'skills', 'knowledge', 'reporting', 'tools', 'like', 'google', 'data', 'studio', 'knowledge', 'google', 'cloud', 'platform', 'aws', 'ecosystem', 'offer', 'app', 'store', 'optimization', 'fullstack', 'consulting', 'agency', 'germany', 'advise', 'clients', 'wide', 'range', 'app', 'marketing', 'product', 'management', 'analytics', 'topics', 'bvg', 'job', 'ticket', 'ab', 'area', 'highend', 'hardware', 'need', 'perfect', 'working', 'environment', 'office', 'remote', 'unlimited', 'number', 'remote', 'workdays', 'whether', 'work', 'office', 'productive', 'somewhere', 'else', 'choose', 'early', 'bird', 'owl', 'flexible', 'working', 'hours', 'allow', 'plan', 'working', 'time', 'individually', 'regular', 'learning', 'sessions', 'team', 'industry', 'experts', 'ensure', 'steep', 'learning', 'curve', 'continuous', 'development', 'smooth', 'onboarding', 'buddy', 'system', 'addition', 'obligatory', 'muesli', 'pastapesto', 'flat', 'rate', 'office', 'course', 'also', 'find', 'startup', 'mentality', 'us', 'necessary', 'vision', 'professionalism', 'become', 'market', 'leader', 'among', 'consultancies', 'europe', 'specializing', 'mobile', 'marketing', 'good', 'performance', 'drive', 'rewarded', 'us', 'lead', 'competitive', 'salaries', 'industry', 'average', 'motivated', 'team', 'flat', 'hierarchies', 'regular', 'team', 'events', 'company', 'offsites', 'take', 'part', 'meetups', 'network', 'berlins', 'mobile', 'marketing', 'startup', 'scene', 'vertragsdauer', 'monate', 'art', 'der', 'stelle', 'vollzeit', 'befristet', 'arbeitszeiten', 'keine', 'wochenenden', 'montag', 'bis', 'freitag', 'leistungen', 'betriebliche', 'altersvorsorge', 'betriebliche', 'weiterbildung', 'flexible', 'arbeitszeiten', 'homeoffice', 'kostenlose', 'getränke', 'kostenloses', 'oder', 'vergünstigtes', 'essen', 'berufserfahrung', 'aws', 'jahr', 'bevorzugt', 'sql', 'jahr', 'bevorzugt', 'google', 'data', 'studio', 'jahr', 'bevorzugt', 'homeoffice', 'ja', 'gerade', 'geschaltet', 'diesen', 'job', 'melden'], tags=['tag_0'])"
      ]
     },
     "execution_count": 13,
     "metadata": {},
     "output_type": "execute_result"
    }
   ],
   "source": [
    "# tag texts\n",
    "texts = df_eng['clean']\n",
    "\n",
    "def tag_texts(texts):\n",
    "    texts_tagged = [TaggedDocument(text, tags=['tag_'+str(tag)]) for tag, text in enumerate(texts)]\n",
    "\n",
    "    return texts_tagged\n",
    "\n",
    "texts_tagged = tag_texts(texts)\n",
    "texts_tagged[0]"
   ]
  },
  {
   "cell_type": "code",
   "execution_count": 14,
   "id": "disciplinary-print",
   "metadata": {},
   "outputs": [],
   "source": [
    "# reduced dataset\n",
    "texts_tagged_small = texts_tagged[:3000]"
   ]
  },
  {
   "cell_type": "code",
   "execution_count": null,
   "id": "pending-memorial",
   "metadata": {
    "jupyter": {
     "source_hidden": true
    },
    "tags": []
   },
   "outputs": [],
   "source": [
    "data_to_train = texts_tagged_small # texts_tagged_small, texts_tagged\n",
    "\n",
    "# build vocabulary with CBOW (dm=0)\n",
    "cores = multiprocessing.cpu_count()\n",
    "model_dbow = Doc2Vec(documents=data_to_train,\n",
    "                     dm=0,\n",
    "                     alpha=0.025,\n",
    "                     vector_size=len(data_to_train), \n",
    "                     min_count=1,\n",
    "                     workers=cores)\n",
    "\n",
    "# train the model\n",
    "model_dbow.train(data_to_train, total_examples=model_dbow.corpus_count, epochs=15)"
   ]
  },
  {
   "cell_type": "code",
   "execution_count": null,
   "id": "secure-praise",
   "metadata": {
    "tags": []
   },
   "outputs": [],
   "source": [
    "model_dbow.save('../../../models/doc2vec_3000_15_epochs')\n",
    "#joblib.dump(model_dbow, filename='../../../models/doc2vec_3000_20_epochs.joblib' )"
   ]
  },
  {
   "cell_type": "code",
   "execution_count": null,
   "id": "numerous-delhi",
   "metadata": {
    "jupyter": {
     "source_hidden": true
    },
    "tags": []
   },
   "outputs": [],
   "source": [
    "model_dbow.corpus_count"
   ]
  },
  {
   "cell_type": "markdown",
   "id": "dirty-briefs",
   "metadata": {},
   "source": [
    "### test the model by hand and with copy-pasted text\n",
    "\n",
    "**test model with texts in the database**"
   ]
  },
  {
   "cell_type": "code",
   "execution_count": 69,
   "id": "motivated-ceramic",
   "metadata": {},
   "outputs": [],
   "source": [
    "# load model\n",
    "model_loaded = Doc2Vec.load('../../../models/doc2vec_3000_15_epochs')"
   ]
  },
  {
   "cell_type": "code",
   "execution_count": 17,
   "id": "infectious-skirt",
   "metadata": {
    "jupyter": {
     "source_hidden": true
    },
    "tags": []
   },
   "outputs": [],
   "source": [
    "def similar_jobs(tokenized_job, offers):\n",
    "    ''' input: tokenized job offers, number of offers \n",
    "        returns tags of top x most similar job offers and similarity probabilities\n",
    "    '''\n",
    "\n",
    "    # infer vector from text \n",
    "    infer_vector = model_loaded.infer_vector(tokenized_job)\n",
    "    # find similar offers\n",
    "    similar_documents = model_loaded.docvecs.most_similar([infer_vector], topn = offers)\n",
    "\n",
    "    return similar_documents\n",
    "\n",
    "\n",
    "def print_top_jobs(text, offers=5):\n",
    "    \n",
    "    \"\"\" input: index of text in dataframe and number of offers we want to see\n",
    "        prints text of the offers\n",
    "    \"\"\"\n",
    "    \n",
    "    tags = similar_jobs(text, offers)\n",
    "    indices = [int(tag[0].replace('tag_', '')) for tag in tags]  \n",
    "    \n",
    "    #print(text)\n",
    "    print(f\"{tags}\\n\")\n",
    "    for num in indices:\n",
    "        print(f\"{df_eng['job_title'][num], df_eng['company'][num], df_eng['job_text'][num]}\\n {filtered_texts[num]} -------------END------------\\n \") "
   ]
  },
  {
   "cell_type": "markdown",
   "id": "dimensional-separation",
   "metadata": {},
   "source": [
    "**test model with copy-pasted job**"
   ]
  },
  {
   "cell_type": "code",
   "execution_count": 55,
   "id": "velvet-visit",
   "metadata": {
    "tags": []
   },
   "outputs": [],
   "source": [
    "## change case to lower\n",
    "import string\n",
    "def to_lower(text):\n",
    "    return text.lower()\n",
    "\n",
    "## remove numbers from the corpus\n",
    "def remove_number(text):\n",
    "    text = ''.join(word for word in text if not word.isdigit())\n",
    "    \n",
    "    return text\n",
    "\n",
    "## remove special puncutation from text\n",
    "def remove_punctuation(text):\n",
    "    for punctuation in string.punctuation:\n",
    "        text = text.replace(punctuation, '')\n",
    "    \n",
    "    return text"
   ]
  },
  {
   "cell_type": "code",
   "execution_count": 65,
   "id": "auburn-meditation",
   "metadata": {},
   "outputs": [],
   "source": [
    "offer = \"\"\"\n",
    "The Data Science team at OLX Group is responsible for building algorithmic solutions to facilitate transactions between buyers and sellers. We are developing personalization technologies and optimization strategies that have a direct impact on OLX’s users as well as the company's bottom line.\n",
    "\n",
    "You will be encouraged to research state-of-the-art machine learning, in the areas of user segmentation, image metadata extraction (including multi-label classification and tagging with deep learning), semi-supervised learning, recommender systems, and more. Applying these methods to core OLX product platforms deployed in the cloud that are affecting the user experience for millions of visitors per month, rolling your solutions to production, analysing model results offline and online, and measuring site impact.\n",
    "\n",
    "What you will be doing:\n",
    "\n",
    "Work in multi-functional teams with people from different backgrounds\n",
    "Find opportunities where data science will make an impact\n",
    "Help to translate business requirements into machine learning models\n",
    "Build effective solutions with machine learning\n",
    "Bring machine learning services to productions together with engineers\n",
    "Measure the impact of your models on company goals\n",
    "Collaborate with internal and external stakeholders\n",
    "\n",
    "\n",
    "Who we’re looking for someone who has:\n",
    "\n",
    "Strong analytical and software development background\n",
    "At least 2 to 3 years of professional data science experience or equivalent time in PhD studies.\n",
    "Experience with at least one of the following machine learning frameworks: Scikit-Learn, TensorFlow, PyTorch, (or similar)\n",
    "Hands-on experience in SQL\n",
    "Strong engineering background: good knowledge of Python and good understanding of best engineering practices\n",
    "Proficient in English with excellent written and oral communication skills\n",
    "Position based in Poznan or Warsaw\n",
    "\n",
    "\n",
    "Nice to have\n",
    "\n",
    "Experience bringing models in production and serving models at scale\n",
    "Experience using AWS for deploying machine learning solutions\n",
    "Experience with building data pipelines using tools like Spark and Airflow\n",
    "Exposure to other programming languages such as Kotlin, Java, Scala, etc\n",
    "Exposure to production infrastructure and DevOps practices: monitoring, alerting, CI/CD, container-orchestrating platforms, and infrastructure-as-code tools (Grafana, Prometheus, Kubernetes, Terraform)\n",
    "\n",
    "What we’ll give you:\n",
    "\n",
    "Competitive compensation and benefits\n",
    "Contributing to the global OLX Group\n",
    "A passionate and diverse team of data scientists spanning several tech hubs across the globe.\n",
    "The opportunity to learn from each other and become better every day\n",
    "Competitive salary and good benefits\n",
    "Company Mobile phone, laptop of your choice: Laptop MacBook Pro, Windows or Linux, Notebook, PC, any tool you might need\n",
    "\n",
    "\n",
    "What you need to know about us:\n",
    "\n",
    "OLX is the world’s leading classifieds platform in high-growth markets. It’s available in more than 40 countries and in over 50 languages. The platform makes it so easy to connect people to buy, sell or exchange used goods and services.\n",
    "OLX is part of the OLX Group, a global product and tech company with 19 brands, +40 countries, +5000 people and one mindset.\n",
    "Our mission is to make it super easy for people to buy and sell almost anything, boosting local economies.\n",
    "We are proud to be different, and we work differently too. We combine the spirit and agility of a start-up with the maturity that comes from being part of a 100 year-old company.\n",
    "We are curious, ambitious and allergic to corporate interference. We improvise, experiment and push each other further, embracing uncertainty and driving change.\n",
    "\n",
    "\"\"\""
   ]
  },
  {
   "cell_type": "code",
   "execution_count": 70,
   "id": "metric-constitution",
   "metadata": {
    "scrolled": true,
    "tags": []
   },
   "outputs": [
    {
     "data": {
      "text/plain": [
       "['data',\n",
       " 'science',\n",
       " 'team',\n",
       " 'olx',\n",
       " 'group',\n",
       " 'responsible',\n",
       " 'building',\n",
       " 'algorithmic',\n",
       " 'solutions',\n",
       " 'facilitate',\n",
       " 'transactions',\n",
       " 'buyers',\n",
       " 'sellers',\n",
       " 'developing',\n",
       " 'personalization',\n",
       " 'technologies',\n",
       " 'optimization',\n",
       " 'strategies',\n",
       " 'direct',\n",
       " 'impact',\n",
       " 'olx',\n",
       " '’',\n",
       " 'users',\n",
       " 'well',\n",
       " 'companys',\n",
       " 'bottom',\n",
       " 'line',\n",
       " 'encouraged',\n",
       " 'research',\n",
       " 'stateoftheart',\n",
       " 'machine',\n",
       " 'learning',\n",
       " 'areas',\n",
       " 'user',\n",
       " 'segmentation',\n",
       " 'image',\n",
       " 'metadata',\n",
       " 'extraction',\n",
       " 'including',\n",
       " 'multilabel',\n",
       " 'classification',\n",
       " 'tagging',\n",
       " 'deep',\n",
       " 'learning',\n",
       " 'semisupervised',\n",
       " 'learning',\n",
       " 'recommender',\n",
       " 'systems',\n",
       " 'applying',\n",
       " 'methods',\n",
       " 'core',\n",
       " 'olx',\n",
       " 'product',\n",
       " 'platforms',\n",
       " 'deployed',\n",
       " 'cloud',\n",
       " 'affecting',\n",
       " 'user',\n",
       " 'experience',\n",
       " 'millions',\n",
       " 'visitors',\n",
       " 'per',\n",
       " 'month',\n",
       " 'rolling',\n",
       " 'solutions',\n",
       " 'production',\n",
       " 'analysing',\n",
       " 'model',\n",
       " 'results',\n",
       " 'offline',\n",
       " 'online',\n",
       " 'measuring',\n",
       " 'site',\n",
       " 'impact',\n",
       " 'work',\n",
       " 'multifunctional',\n",
       " 'teams',\n",
       " 'people',\n",
       " 'different',\n",
       " 'backgrounds',\n",
       " 'find',\n",
       " 'opportunities',\n",
       " 'data',\n",
       " 'science',\n",
       " 'make',\n",
       " 'impact',\n",
       " 'help',\n",
       " 'translate',\n",
       " 'business',\n",
       " 'requirements',\n",
       " 'machine',\n",
       " 'learning',\n",
       " 'models',\n",
       " 'build',\n",
       " 'effective',\n",
       " 'solutions',\n",
       " 'machine',\n",
       " 'learning',\n",
       " 'bring',\n",
       " 'machine',\n",
       " 'learning',\n",
       " 'services',\n",
       " 'productions',\n",
       " 'together',\n",
       " 'engineers',\n",
       " 'measure',\n",
       " 'impact',\n",
       " 'models',\n",
       " 'company',\n",
       " 'goals',\n",
       " 'collaborate',\n",
       " 'internal',\n",
       " 'external',\n",
       " 'stakeholders',\n",
       " '’',\n",
       " 'looking',\n",
       " 'someone',\n",
       " 'strong',\n",
       " 'analytical',\n",
       " 'software',\n",
       " 'development',\n",
       " 'background',\n",
       " 'least',\n",
       " 'years',\n",
       " 'professional',\n",
       " 'data',\n",
       " 'science',\n",
       " 'experience',\n",
       " 'equivalent',\n",
       " 'time',\n",
       " 'phd',\n",
       " 'studies',\n",
       " 'experience',\n",
       " 'least',\n",
       " 'one',\n",
       " 'following',\n",
       " 'machine',\n",
       " 'learning',\n",
       " 'frameworks',\n",
       " 'scikitlearn',\n",
       " 'tensorflow',\n",
       " 'pytorch',\n",
       " 'similar',\n",
       " 'handson',\n",
       " 'experience',\n",
       " 'sql',\n",
       " 'strong',\n",
       " 'engineering',\n",
       " 'background',\n",
       " 'good',\n",
       " 'knowledge',\n",
       " 'python',\n",
       " 'good',\n",
       " 'understanding',\n",
       " 'best',\n",
       " 'engineering',\n",
       " 'practices',\n",
       " 'proficient',\n",
       " 'english',\n",
       " 'excellent',\n",
       " 'written',\n",
       " 'oral',\n",
       " 'communication',\n",
       " 'skills',\n",
       " 'position',\n",
       " 'based',\n",
       " 'poznan',\n",
       " 'warsaw',\n",
       " 'nice',\n",
       " 'experience',\n",
       " 'bringing',\n",
       " 'models',\n",
       " 'production',\n",
       " 'serving',\n",
       " 'models',\n",
       " 'scale',\n",
       " 'experience',\n",
       " 'using',\n",
       " 'aws',\n",
       " 'deploying',\n",
       " 'machine',\n",
       " 'learning',\n",
       " 'solutions',\n",
       " 'experience',\n",
       " 'building',\n",
       " 'data',\n",
       " 'pipelines',\n",
       " 'using',\n",
       " 'tools',\n",
       " 'like',\n",
       " 'spark',\n",
       " 'airflow',\n",
       " 'exposure',\n",
       " 'programming',\n",
       " 'languages',\n",
       " 'kotlin',\n",
       " 'java',\n",
       " 'scala',\n",
       " 'etc',\n",
       " 'exposure',\n",
       " 'production',\n",
       " 'infrastructure',\n",
       " 'devops',\n",
       " 'practices',\n",
       " 'monitoring',\n",
       " 'alerting',\n",
       " 'cicd',\n",
       " 'containerorchestrating',\n",
       " 'platforms',\n",
       " 'infrastructureascode',\n",
       " 'tools',\n",
       " 'grafana',\n",
       " 'prometheus',\n",
       " 'kubernetes',\n",
       " 'terraform',\n",
       " '’',\n",
       " 'give',\n",
       " 'competitive',\n",
       " 'compensation',\n",
       " 'benefits',\n",
       " 'contributing',\n",
       " 'global',\n",
       " 'olx',\n",
       " 'group',\n",
       " 'passionate',\n",
       " 'diverse',\n",
       " 'team',\n",
       " 'data',\n",
       " 'scientists',\n",
       " 'spanning',\n",
       " 'several',\n",
       " 'tech',\n",
       " 'hubs',\n",
       " 'across',\n",
       " 'globe',\n",
       " 'opportunity',\n",
       " 'learn',\n",
       " 'become',\n",
       " 'better',\n",
       " 'every',\n",
       " 'day',\n",
       " 'competitive',\n",
       " 'salary',\n",
       " 'good',\n",
       " 'benefits',\n",
       " 'company',\n",
       " 'mobile',\n",
       " 'phone',\n",
       " 'laptop',\n",
       " 'choice',\n",
       " 'laptop',\n",
       " 'macbook',\n",
       " 'pro',\n",
       " 'windows',\n",
       " 'linux',\n",
       " 'notebook',\n",
       " 'pc',\n",
       " 'tool',\n",
       " 'might',\n",
       " 'need',\n",
       " 'need',\n",
       " 'know',\n",
       " 'us',\n",
       " 'olx',\n",
       " 'world',\n",
       " '’',\n",
       " 'leading',\n",
       " 'classifieds',\n",
       " 'platform',\n",
       " 'highgrowth',\n",
       " 'markets',\n",
       " '’',\n",
       " 'available',\n",
       " 'countries',\n",
       " 'languages',\n",
       " 'platform',\n",
       " 'makes',\n",
       " 'easy',\n",
       " 'connect',\n",
       " 'people',\n",
       " 'buy',\n",
       " 'sell',\n",
       " 'exchange',\n",
       " 'used',\n",
       " 'goods',\n",
       " 'services',\n",
       " 'olx',\n",
       " 'part',\n",
       " 'olx',\n",
       " 'group',\n",
       " 'global',\n",
       " 'product',\n",
       " 'tech',\n",
       " 'company',\n",
       " 'brands',\n",
       " 'countries',\n",
       " 'people',\n",
       " 'one',\n",
       " 'mindset',\n",
       " 'mission',\n",
       " 'make',\n",
       " 'super',\n",
       " 'easy',\n",
       " 'people',\n",
       " 'buy',\n",
       " 'sell',\n",
       " 'almost',\n",
       " 'anything',\n",
       " 'boosting',\n",
       " 'local',\n",
       " 'economies',\n",
       " 'proud',\n",
       " 'different',\n",
       " 'work',\n",
       " 'differently',\n",
       " 'combine',\n",
       " 'spirit',\n",
       " 'agility',\n",
       " 'startup',\n",
       " 'maturity',\n",
       " 'comes',\n",
       " 'part',\n",
       " 'yearold',\n",
       " 'company',\n",
       " 'curious',\n",
       " 'ambitious',\n",
       " 'allergic',\n",
       " 'corporate',\n",
       " 'interference',\n",
       " 'improvise',\n",
       " 'experiment',\n",
       " 'push',\n",
       " 'embracing',\n",
       " 'uncertainty',\n",
       " 'driving',\n",
       " 'change']"
      ]
     },
     "execution_count": 70,
     "metadata": {},
     "output_type": "execute_result"
    }
   ],
   "source": [
    "token_offer = to_lower(offer)\n",
    "token_offer = remove_number(token_offer)\n",
    "token_offer = remove_punctuation(token_offer)\n",
    "token_offer = lemmatize_words(token_offer)\n",
    "token_offer = remove_stopwords(token_offer)\n",
    "\n",
    "# #offer\n",
    "token_offer[:]"
   ]
  },
  {
   "cell_type": "code",
   "execution_count": 71,
   "id": "present-taylor",
   "metadata": {},
   "outputs": [
    {
     "data": {
      "text/plain": [
       "array([-0.13759367,  0.2742238 , -0.2100286 , ...,  0.0649856 ,\n",
       "        0.0510233 ,  0.09979452], dtype=float32)"
      ]
     },
     "execution_count": 71,
     "metadata": {},
     "output_type": "execute_result"
    }
   ],
   "source": [
    "infer_vector = model_loaded.infer_vector(token_offer)\n",
    "infer_vector"
   ]
  },
  {
   "cell_type": "code",
   "execution_count": 72,
   "id": "indirect-identification",
   "metadata": {},
   "outputs": [
    {
     "data": {
      "text/plain": [
       "[('tag_592', 0.6292097568511963),\n",
       " ('tag_1659', 0.6249509453773499),\n",
       " ('tag_77', 0.6143335103988647),\n",
       " ('tag_666', 0.6120050549507141),\n",
       " ('tag_396', 0.6006832718849182)]"
      ]
     },
     "execution_count": 72,
     "metadata": {},
     "output_type": "execute_result"
    }
   ],
   "source": [
    "similar_documents = model_loaded.docvecs.most_similar([infer_vector], topn = 5)\n",
    "similar_documents"
   ]
  },
  {
   "cell_type": "code",
   "execution_count": 73,
   "id": "advance-mentor",
   "metadata": {},
   "outputs": [],
   "source": [
    "# top_index = [text[0].replace('tag_', '') for text in similar_documents]\n",
    "# top_offers = pd.DataFrame(df_eng.iloc[top_index]['job_text'])\n",
    "# top_offers['similarities'] = [text[1] for text in similar_documents]"
   ]
  },
  {
   "cell_type": "code",
   "execution_count": 74,
   "id": "virtual-jimmy",
   "metadata": {},
   "outputs": [],
   "source": [
    "#top_offers.head()"
   ]
  },
  {
   "cell_type": "code",
   "execution_count": 75,
   "id": "international-classroom",
   "metadata": {
    "scrolled": true,
    "tags": []
   },
   "outputs": [
    {
     "name": "stdout",
     "output_type": "stream",
     "text": [
      "[['tag_592', 0.6292097568511963], ['tag_1659', 0.6249509453773499], ['tag_77', 0.6143335103988647], ['tag_666', 0.6120050549507141], ['tag_396', 0.6006832718849182]]\n",
      "\n",
      "('Machine Learning Engineer (f/m/x)', 'AUTO1', \"Our Tech department is the driving force behind one of the most successful start-ups in Europe in the last 7 years. Based in Berlin, we have an innovative and driven team that is using cutting-edge technologies to redefine the used car market.\\nYou will be part of a committed and enthusiastic team of Data Scientists, working with machine learning modeling and dealing with challenging problems. As a Machine Learning Engineer (job titled Data Scientist) at AUTO1 Group, you have the opportunity to design, build, and productionize ML models to solve business challenges in advanced topics (pricing, recommendation systems, etc). Together with data scientists, business analysts and production teams, you will help to revolutionize the process and user experience of how people sell and buy cars online and make a real impact on the market.\\nYour role\\nMonitor, optimize and maintain ML solutions\\nPartner with engineering and product teams to architect ML solutions\\nPrepare and process large amounts of data\\nGuide junior engineers and data scientists and promote best practices in engineering\\nWork in close collaboration with data scientists to frame business needs as ML models\\nYour skills\\nProven practical experience as a Machine Learning Engineer or similar role\\nExperience in deploying, maintaining and updating ML models in production. Knowledge of the OOP and the best practices in engineering\\nHands-on experience with a broad range of machine learning techniques and the ability to identify the appropriate technique in different scenarios\\nExperience in effective collaboration, you are a natural team player and communicate fluently in English\\nProficient in SQL, Python and specialized ML libraries (PyTorch, Sklearn, LightGBM, etc). Experience in AWS MLOps is a plus.\\nOur offer\\nColleagues who strive for excellence while using the latest technologies. See what we do in our Tech-Blog: https://auto1.tech\\nRelocation support to Germany which includes visa assistance, apartment search and help with costs\\nEducational budget for your personal growth\\nTeam and company events like Hackathons, International Nights, Company Party, Football and more\\nJoin more than 70 different nationalities in a truly international and diverse working environment\\nApply by uploading your CV with a note of your salary expectations.\\nContact: Kasia Karwacka\\nAUTO1 Group is Europe's leading digital automotive platform. As a dynamic tech company, we are revolutionizing the used car market with our brands wirkaufendeinauto.de, AUTO1.com and Autohero. Our strong team of 4.200 people is dedicated to making Europe-wide car trading and transport as fast, easy, and stress-free as possible for our customers. Grow personally and shape the future of car trading with us.\\nAt AUTO1 Group we live an open culture, believe in direct communication, and value diversity. We welcome every applicant; regardless of gender, ethnic origin, religion, age, sexual identity, disability, or any other non-merit factor.\\nAUTO1 Group\\nVor mehr als 30 Tagen\\n- Weiter zur Bewerbung\\nDiesen Job melden\")     \n",
      "-------------END------------\n",
      " \n",
      "('Machine Learning Engineer', 'Spotify', 'What you’ll do\\nCollaborate with a cross functional agile team spanning user research, design, data science, product management, and engineering to build new product features that advance our mission to connect artists and fans in personalized and relevant ways\\nPrototype new approaches and production-ize solutions at scale for our hundreds of millions of active users\\nHelp drive optimization, testing, and tooling to improve quality\\nBe part of an active group of machine learning practitioners in Boston (and across Spotify) collaborating with one another\\nWho you are\\nYou have a strong background in machine learning, preferably with experience and expertise in personalized machine learning algorithms, especially recommender systems.\\nYou have hands-on experience implementing production machine learning systems at scale in Java, Scala, Python, or similar languages.\\nYou preferably have experience with data pipeline tools like Apache Beam or even our open source API for it, Scio. Experience with XGBoost, TensorFlow, or Google Cloud Platform is also a plus.\\nYou care about agile software processes, data-driven development, reliability, and disciplined experimentation\\nYou love your customers even more than your code\\nWe are proud to foster a workplace free from discrimination. We strongly believe that diversity of experience, perspectives, and background will lead to a better environment for our employees and a better product for our users and our creators. This is something we value deeply and we encourage everyone to come be a part of changing the way the world listens to music.\\n\\nPsst! If this job is your perfect match and you want some inside tips before you apply, read this blog post by our Head of Talent Acquisition Fredrik Johnsson.')     \n",
      "-------------END------------\n",
      " \n",
      "('Senior Platform Software Engineer (m/f/d)', 'Smartfrog & Canary', \"A little bit about us:\\n\\nSmartfrog & Canary is an international IoT tech company focused on making everyday objects and places more intelligent and connected by enabling our users to access them from anywhere at any time. We want the latest technologies to be affordable and user-friendly so that our everyday lives become more comfortable, efficient and secure. Are you the kind of person who gets excited by new challenges? Do you want to help us find innovative solutions to those challenges? If so, we look forward to hearing from you.\\nTo make our system work, we use a large scale, massively concurrent, high reliability cloud based system. Our cloud system has multiple advanced segments – video streaming, analytics, big-data store, IoT communication pipelines, and more.\\n\\nWhat you'll be up to:\\n\\nAs a Software Engineer on the Platform team you’ll be at the heart of the platform team activities – growing, enhancing, and adding functionality to the cloud platform. Improving stability and scalability of the system, while introducing new technologies and methods to the system.\\n\\nWhat you'll need to have:\\n\\nBS/MS in Computer Science\\n4+ years of work experience within a backend-focused software engineering team\\nBackground in building distributed, scalable backend systems\\nUnderstanding of data streaming architectures and methodologies\\nProficiency in Python or Go\\nExperience working with the AWS stack, understanding of how the different services fit together, and when to use each one.\\nExposure to a diverse set of data stores such as Cassandra, Redis, MySQL, and DynamoDB\\nExperience designing RESTful APIs\\nGood attitude\\n\\nBonus points:\\n\\nHands on experience with K8S and Kafka\\nInterest in connected devices and home automation\\nExposure to machine learning systems deployed at scale\\nPrior startup experience\\n\\nWhat can we give you?\\n\\nA dynamic office environment at an international tech company in the heart of Berlin\\nThe exciting chance to help building an international brand and to develop new products\\nFlexible, agile and young company with a flat hierarchy and the associated excellent developmental prospects\\nFull time 40h/week\\nFree fruits and drinks\\nRegular company events\\n\\nLocation: Berlin\\nStart Date: As soon as possible\\nvor 3 Tagen\\n- Weiter zur Bewerbung\\nDiesen Job melden\")     \n",
      "-------------END------------\n",
      " \n",
      "('Senior Data Scientist (NLP)', 'Orange Quarter', \"Orange Quarter are working with an exciting start-up who backed by global leaders in manufacturing and tech. They have developed a Cloud-based SaaS platform that uses data to unleash the full potential of buildings. Their data insights empower stakeholders to make their buildings much more sustainable, save endless amounts of money and increase the value of their assets. Building owners can then access all data collected in one 360° building management tool which functions as the foundation for a digital building ecosystem.\\n\\nIndustry:\\nInternet of Things\\nReal Estate\\n\\nWhat to expect:\\nYou will collaborate with the tech and product teams to design and create end-to-end NLP solutions for the platform. You will help the company to use documents and languages as a key data asset. You will work on defining data and tech requirements to ensure scalable and efficient solutions are implemented, and the data collected will be used for meaningful insights. You will use your NLP expertise to advise other team members on best practices, tools and technologies.\\n\\nPerks:\\nWork on a completely green-field cutting edge product\\nThe flexibility of a startup with the security of two huge parent companies\\nAn extremely flat hierarchy with room for growth and clear learning pathways\\nEnjoy a high level of autonomy and responsibility with the ability to heavily influence the future of the product\\nGreat salary, 30 days holiday and a nice bonus at the end of it\\n\\nRequirements:\\n3+ years of experience with data-driven NLP applications\\nYou know how to take ideas and prototypes and turn them into Data-driven products\\nKnowledge of modern AI frameworks/toolkits (sklearn, pytorch, NLTK, spacy)\\nSolid experience working with modern AI methods in the context of NLP, including Deep Learning (LSTM, RNN, BERT), Embeddings (Word2Vec, FastText), and Language Translation\\nYou're proactive, self-reliant, problem-oriented and customer focussed\\nVor mehr als 30 Tagen\\n- Weiter zur Bewerbung\\nDiesen Job melden\")     \n",
      "-------------END------------\n",
      " \n",
      "('Senior Data Engineer (m/f/d)', 'DCMN', 'Sebastian, Team Lead, says: \"Team Red is a cross-functional team owning the DC Analytics platform, which not only powers our internal agency business but also is actively used by customers worldwide. We are a driven team which enjoys a good round of Mario Kart once in a while.\"\\n\\nYou will be working in:\\nEnglish (fluency required) - as we are an international team, this is our team (and company) language.\\n\\nOur tech stack:\\nWe have a diverse tech stack and make use of a lot of AWS services like ECS, EMR, Lambda, Cloudfront, etc.\\nOur servers are powered by Ubuntu Linux and we make use of containerisation whenever useful.\\nLanguages we currently use are: Scala, Python, Javascript, PHP\\n\\nHow you will make an impact:\\nYou are designing, developing, deploying, operating & improving our tracking and analysis technology for TV campaigns.\\nYou take ownership for the whole development cycle, from architecture design to testing to implementation & maintenance.\\nYou and your team own your code, and decide on technologies and tools as well. You operate on distributed data processing architectures.\\n\\nSkills you will need to be successful:\\nYou are proficient in a functional and at least one other programming language\\nYou have a deep understanding of RDBMS as well as NoSQL solutions.\\nYou have experience in building distributed data processing architectures.\\nYou have experience with AWS cloud services and stream-processing systems.\\nYou bring with you a passion for simple, pragmatic, and robust system design.\\nYou write clean, modular and testable code accompanied with proper, meaningful tests.\\nYou have gained experience in operating and monitoring production environments.\\n\\nSounds like you? To start your application, simply click on the \"Apply\" button. For any questions, please don’t hesitate to reach out to us at hireme@dcmn.com.\\nDCMN is an equal opportunity employer and committed to hiring talented and qualified individuals with diverse backgrounds. We believe that the celebration of diversity, unique backgrounds, qualities, and cultures enrich the learning and productivity within our business, and encourage that this is always the case.\\nVor mehr als 30 Tagen\\n- Weiter zur Bewerbung\\nDiesen Job melden')     \n",
      "-------------END------------\n",
      " \n"
     ]
    }
   ],
   "source": [
    "tags = similar_documents\n",
    "tags = [list(i) for i in tags]\n",
    "\n",
    "print(f\"{tags}\\n\")\n",
    "# print(f\"{df_eng['job_title'][text_index], df_eng['company'][text_index], df_eng['job_text'][text_index]} \\\n",
    "#     \\n-------------END------------\\n \")\n",
    "\n",
    "for tag in tags: \n",
    "    num = int(tag[0].strip('tag_'))\n",
    "\n",
    "    print(f\"{df_eng['job_title'][num], df_eng['company'][num], df_eng['job_text'][num]} \\\n",
    "    \\n-------------END------------\\n \") \n"
   ]
  },
  {
   "cell_type": "markdown",
   "id": "latin-favorite",
   "metadata": {},
   "source": [
    "## improve the model 1\n",
    "Steps:\n",
    "- filter out all words not in dictionary \n",
    "- train model\n",
    "- get output and see if it's better"
   ]
  },
  {
   "cell_type": "code",
   "execution_count": 39,
   "id": "several-greece",
   "metadata": {
    "scrolled": true,
    "tags": []
   },
   "outputs": [],
   "source": [
    "# import dictionary\n",
    "\n",
    "with open('../fydjob/data/dicts/skills_dict.json') as json_file:\n",
    "    dictionary = json.load(json_file)\n",
    "\n",
    "# collapse dictionary into list\n",
    "skills_list = [item for key, value in dictionary.items() for item in value]\n",
    "#print(sorted(skills_list))"
   ]
  },
  {
   "cell_type": "code",
   "execution_count": 40,
   "id": "exterior-membrane",
   "metadata": {
    "scrolled": true,
    "tags": []
   },
   "outputs": [],
   "source": [
    "# filter tokens for skill\n",
    "filtered_texts = [[word for word in text if word in skills_list] for text in texts]"
   ]
  },
  {
   "cell_type": "code",
   "execution_count": 41,
   "id": "rocky-accent",
   "metadata": {},
   "outputs": [],
   "source": [
    "# tag documents\n",
    "filtered_texts_tag = tag_texts(filtered_texts)\n",
    "filtered_texts_tag_small = filtered_texts_tag[:5000]"
   ]
  },
  {
   "cell_type": "code",
   "execution_count": null,
   "id": "forward-challenge",
   "metadata": {
    "jupyter": {
     "source_hidden": true
    },
    "tags": []
   },
   "outputs": [],
   "source": [
    "# train model # train_model.train(alldocs, total_examples=len(alldocs), epochs=epochs, start_alpha=0.025, end_alpha=0.001)\n",
    "\n",
    "data_to_train = filtered_texts_tag_small # texts_tagged_small, texts_tagged, filtered_texts_tag_small\n",
    "\n",
    "# build vocabulary with CBOW (dm=0)\n",
    "cores = multiprocessing.cpu_count()\n",
    "model_dbow = Doc2Vec(documents=data_to_train,\n",
    "                     dm=0,\n",
    "                     alpha=0.025,\n",
    "                     vector_size=len(data_to_train), \n",
    "                     min_count=1,\n",
    "                     workers=cores)\n",
    "\n",
    "# train the model\n",
    "model_dbow.train(data_to_train, total_examples=model_dbow.corpus_count, epochs=50)"
   ]
  },
  {
   "cell_type": "code",
   "execution_count": null,
   "id": "tested-compact",
   "metadata": {
    "jupyter": {
     "source_hidden": true
    },
    "tags": []
   },
   "outputs": [],
   "source": [
    "# save model\n",
    "model_dbow.save('../../../models/doc2vec_filtered_5000_50_epochs')"
   ]
  },
  {
   "cell_type": "code",
   "execution_count": 61,
   "id": "automatic-shoulder",
   "metadata": {},
   "outputs": [],
   "source": [
    "# test model\n",
    "model_loaded = Doc2Vec.load('../../../models/doc2vec_filtered_5000_50_epochs')"
   ]
  },
  {
   "cell_type": "code",
   "execution_count": 43,
   "id": "opponent-amazon",
   "metadata": {
    "collapsed": true,
    "jupyter": {
     "outputs_hidden": true,
     "source_hidden": true
    },
    "scrolled": true,
    "tags": []
   },
   "outputs": [
    {
     "name": "stdout",
     "output_type": "stream",
     "text": [
      "('Senior Backend Engineer', 'IPlytics', 'IPlytics is seeking a Senior Backend Engineer who is able to jump in and contribute to its platform. If you’re a Java software engineer with a passion for software architecture, cutting-edge technologies, building performant / scalable systems, and solving challenging problems, this career opportunity is for you!\\nAbout Us\\nIPlytics is an innovative market intelligence company headed up by a team of economists, computer engineers and data scientists. We are a tech company in its core. We use data engineering, data science and machine learning to change the way companies are interacting with business-critical data.\\nAs a backend engineer, you work hand in hand with frontend & product to design solutions that supports our platform product. You understand, own and are responsible for the application architecture that best serves the product in its functional and non-functional needs. You identify and drive architectural changes to accelerate feature development and/or improve the quality of service. You have deep and broad engineering skills and are capable of standing up an architecture in its whole on your own. You influence your team by acting as a “force multiplier”.\\nWhat You Will Do:\\nWork as a member of a product team which builds features that impact the bottom line for IPlytics.\\nContribute to our Java / Spring Boot backend application by designing and implementing the best solutions to consume and expose the data exposed by the Data-Engineering team.\\nImplement design patterns to make our code highly scalable and performant.\\nWrite unit and functional testing efforts to certify your work is good. Always thinking forward of what components can fail, and how to enhance our testing practices.\\nFlexibility to learn and grow your knowledge in new frameworks, tools ( ex: spark etc..).\\nContinuously work to improve self and team through pair programming and pull request reviews.\\nInitiate and facilitate necessary cross-organization communication to complete work.\\nContribute to the design of our full system architecture.\\nAbout You:\\n4+ years of software development experience.\\nBachelor in computer science or equivalent.\\nProficient with Java (Java 8 or above).\\nGreat understanding of Spring-Boot. Deep knowledge in the details of the spring container and its configuration.\\nProficient Experience with JPA, SQL & no-SQL databases.\\nAbility to structure your code using different spring components (you’re able to keep them nicely decoupled).\\nAdherence to the use of Design Patterns, knowing when and when not to use them.\\nExperience working with Lucene based text search engines (Solr / Elastic Search) is a big plus.\\nGraphQL design experience is a plus.\\nExperience working with TDD.\\nExperience working with Git, Docker, DevOps tools like Spinnaker, Jenkins or Gitlab.\\nExperience working as a member of an Agile software development team.\\nHigh degree of emotional intelligence, including the ability to both effectively engage and inspire one’s team members.\\nCritical thinker. You’re willing to purpose continuous improvements to the existing applications. Receiving constructive feedback is always appreciated by other members of the team.\\nWhat We Offer:\\nOpen door culture, we progress and learn together and from each other\\nNo Top-Down-Only approaches, we value your thoughts and ideas and improve by everyone’s input\\nUrban Sports Membership options\\nA steep learning curve and cross-departmental insight\\nA modern workspace within an international tech community office\\nInterested? Awesome, just send an email to career@iplytics.com. We’re looking forward to hearing from you!\\nAt IPlytics we embrace diversity and inclusion. We are an equal opportunities employer and believe in our value driven and open minded mindset that promotes a fair and inclusive culture.\\nBerlinStartupJobs.com\\nvor 1 Tag\\n- Weiter zur Bewerbung\\nDiesen Job melden')\n",
      " ['backend', 'java', 'architecture', 'scalable', 'innovative', 'science', 'backend', 'frontend', 'responsible', 'architecture', 'capable', 'architecture', 'java', 'backend', 'scalable', 'flexibility', 'spark', 'communication', 'architecture', 'science', 'java', 'java', 'sql', 'nosql', 'databases', 'solr', 'git', 'docker', 'devops', 'agile', 'emotional', 'constructive', 'driven', 'inclusive'] -------------END------------\n",
      " \n"
     ]
    }
   ],
   "source": [
    "num = 770\n",
    "print(f\"{df_eng['job_title'][num], df_eng['company'][num], df_eng['job_text'][num]}\\n {filtered_texts[num]} -------------END------------\\n \") "
   ]
  },
  {
   "cell_type": "code",
   "execution_count": 44,
   "id": "sticky-affiliate",
   "metadata": {
    "collapsed": true,
    "jupyter": {
     "outputs_hidden": true,
     "source_hidden": true
    },
    "scrolled": true,
    "tags": []
   },
   "outputs": [
    {
     "name": "stdout",
     "output_type": "stream",
     "text": [
      "[('tag_41', 0.9434404373168945), ('tag_770', 0.9354736804962158), ('tag_284', 0.9338719248771667), ('tag_771', 0.6907916069030762), ('tag_42', 0.6760987639427185), ('tag_285', 0.6699650287628174), ('tag_3165', 0.6130332946777344), ('tag_3755', 0.5891849994659424), ('tag_2216', 0.5699130296707153), ('tag_2071', 0.5681405067443848)]\n",
      "\n",
      "('Senior Backend Engineer', 'IPlytics', 'IPlytics is seeking a Senior Backend Engineer who is able to jump in and contribute to its platform. If you’re a Java software engineer with a passion for software architecture, cutting-edge technologies, building performant / scalable systems, and solving challenging problems, this career opportunity is for you!\\nAbout Us\\nIPlytics is an innovative market intelligence company headed up by a team of economists, computer engineers and data scientists. We are a tech company in its core. We use data engineering, data science and machine learning to change the way companies are interacting with business-critical data.\\nAs a backend engineer, you work hand in hand with frontend & product to design solutions that supports our platform product. You understand, own and are responsible for the application architecture that best serves the product in its functional and non-functional needs. You identify and drive architectural changes to accelerate feature development and/or improve the quality of service. You have deep and broad engineering skills and are capable of standing up an architecture in its whole on your own. You influence your team by acting as a “force multiplier”.\\nWhat You Will Do:\\nWork as a member of a product team which builds features that impact the bottom line for IPlytics.\\nContribute to our Java / Spring Boot backend application by designing and implementing the best solutions to consume and expose the data exposed by the Data-Engineering team.\\nImplement design patterns to make our code highly scalable and performant.\\nWrite unit and functional testing efforts to certify your work is good. Always thinking forward of what components can fail, and how to enhance our testing practices.\\nFlexibility to learn and grow your knowledge in new frameworks, tools ( ex: spark etc..).\\nContinuously work to improve self and team through pair programming and pull request reviews.\\nInitiate and facilitate necessary cross-organization communication to complete work.\\nContribute to the design of our full system architecture.\\nAbout You:\\n4+ years of software development experience.\\nBachelor in computer science or equivalent.\\nProficient with Java (Java 8 or above).\\nGreat understanding of Spring-Boot. Deep knowledge in the details of the spring container and its configuration.\\nProficient Experience with JPA, SQL & no-SQL databases.\\nAbility to structure your code using different spring components (you’re able to keep them nicely decoupled).\\nAdherence to the use of Design Patterns, knowing when and when not to use them.\\nExperience working with Lucene based text search engines (Solr / Elastic Search) is a big plus.\\nGraphQL design experience is a plus.\\nExperience working with TDD.\\nExperience working with Git, Docker, DevOps tools like Spinnaker, Jenkins or Gitlab.\\nExperience working as a member of an Agile software development team.\\nHigh degree of emotional intelligence, including the ability to both effectively engage and inspire one’s team members.\\nCritical thinker. You’re willing to purpose continuous improvements to the existing applications. Receiving constructive feedback is always appreciated by other members of the team.\\nWhat We Offer:\\nOpen door culture, we progress and learn together and from each other\\nNo Top-Down-Only approaches, we value your thoughts and ideas and improve by everyone’s input\\nUrban Sports Membership options\\nA steep learning curve and cross-departmental insight\\nA modern workspace within an international tech community office\\nInterested? Awesome, just send an email to career@iplytics.com. We’re looking forward to hearing from you!\\nAt IPlytics we embrace diversity and inclusion. We are an equal opportunities employer and believe in our value driven and open minded mindset that promotes a fair and inclusive culture.\\nBerlinStartupJobs.com\\nHeute\\n- Weiter zur Bewerbung\\nDiesen Job melden')\n",
      " ['backend', 'java', 'architecture', 'scalable', 'innovative', 'science', 'backend', 'frontend', 'responsible', 'architecture', 'capable', 'architecture', 'java', 'backend', 'scalable', 'flexibility', 'spark', 'communication', 'architecture', 'science', 'java', 'java', 'sql', 'nosql', 'databases', 'solr', 'git', 'docker', 'devops', 'agile', 'emotional', 'constructive', 'driven', 'inclusive'] -------------END------------\n",
      " \n",
      "('Senior Backend Engineer', 'IPlytics', 'IPlytics is seeking a Senior Backend Engineer who is able to jump in and contribute to its platform. If you’re a Java software engineer with a passion for software architecture, cutting-edge technologies, building performant / scalable systems, and solving challenging problems, this career opportunity is for you!\\nAbout Us\\nIPlytics is an innovative market intelligence company headed up by a team of economists, computer engineers and data scientists. We are a tech company in its core. We use data engineering, data science and machine learning to change the way companies are interacting with business-critical data.\\nAs a backend engineer, you work hand in hand with frontend & product to design solutions that supports our platform product. You understand, own and are responsible for the application architecture that best serves the product in its functional and non-functional needs. You identify and drive architectural changes to accelerate feature development and/or improve the quality of service. You have deep and broad engineering skills and are capable of standing up an architecture in its whole on your own. You influence your team by acting as a “force multiplier”.\\nWhat You Will Do:\\nWork as a member of a product team which builds features that impact the bottom line for IPlytics.\\nContribute to our Java / Spring Boot backend application by designing and implementing the best solutions to consume and expose the data exposed by the Data-Engineering team.\\nImplement design patterns to make our code highly scalable and performant.\\nWrite unit and functional testing efforts to certify your work is good. Always thinking forward of what components can fail, and how to enhance our testing practices.\\nFlexibility to learn and grow your knowledge in new frameworks, tools ( ex: spark etc..).\\nContinuously work to improve self and team through pair programming and pull request reviews.\\nInitiate and facilitate necessary cross-organization communication to complete work.\\nContribute to the design of our full system architecture.\\nAbout You:\\n4+ years of software development experience.\\nBachelor in computer science or equivalent.\\nProficient with Java (Java 8 or above).\\nGreat understanding of Spring-Boot. Deep knowledge in the details of the spring container and its configuration.\\nProficient Experience with JPA, SQL & no-SQL databases.\\nAbility to structure your code using different spring components (you’re able to keep them nicely decoupled).\\nAdherence to the use of Design Patterns, knowing when and when not to use them.\\nExperience working with Lucene based text search engines (Solr / Elastic Search) is a big plus.\\nGraphQL design experience is a plus.\\nExperience working with TDD.\\nExperience working with Git, Docker, DevOps tools like Spinnaker, Jenkins or Gitlab.\\nExperience working as a member of an Agile software development team.\\nHigh degree of emotional intelligence, including the ability to both effectively engage and inspire one’s team members.\\nCritical thinker. You’re willing to purpose continuous improvements to the existing applications. Receiving constructive feedback is always appreciated by other members of the team.\\nWhat We Offer:\\nOpen door culture, we progress and learn together and from each other\\nNo Top-Down-Only approaches, we value your thoughts and ideas and improve by everyone’s input\\nUrban Sports Membership options\\nA steep learning curve and cross-departmental insight\\nA modern workspace within an international tech community office\\nInterested? Awesome, just send an email to career@iplytics.com. We’re looking forward to hearing from you!\\nAt IPlytics we embrace diversity and inclusion. We are an equal opportunities employer and believe in our value driven and open minded mindset that promotes a fair and inclusive culture.\\nBerlinStartupJobs.com\\nvor 1 Tag\\n- Weiter zur Bewerbung\\nDiesen Job melden')\n",
      " ['backend', 'java', 'architecture', 'scalable', 'innovative', 'science', 'backend', 'frontend', 'responsible', 'architecture', 'capable', 'architecture', 'java', 'backend', 'scalable', 'flexibility', 'spark', 'communication', 'architecture', 'science', 'java', 'java', 'sql', 'nosql', 'databases', 'solr', 'git', 'docker', 'devops', 'agile', 'emotional', 'constructive', 'driven', 'inclusive'] -------------END------------\n",
      " \n",
      "('Senior Backend Engineer', 'IPlytics', 'IPlytics is seeking a Senior Backend Engineer who is able to jump in and contribute to its platform. If you’re a Java software engineer with a passion for software architecture, cutting-edge technologies, building performant / scalable systems, and solving challenging problems, this career opportunity is for you!\\nAbout Us\\nIPlytics is an innovative market intelligence company headed up by a team of economists, computer engineers and data scientists. We are a tech company in its core. We use data engineering, data science and machine learning to change the way companies are interacting with business-critical data.\\nAs a backend engineer, you work hand in hand with frontend & product to design solutions that supports our platform product. You understand, own and are responsible for the application architecture that best serves the product in its functional and non-functional needs. You identify and drive architectural changes to accelerate feature development and/or improve the quality of service. You have deep and broad engineering skills and are capable of standing up an architecture in its whole on your own. You influence your team by acting as a “force multiplier”.\\nWhat You Will Do:\\nWork as a member of a product team which builds features that impact the bottom line for IPlytics.\\nContribute to our Java / Spring Boot backend application by designing and implementing the best solutions to consume and expose the data exposed by the Data-Engineering team.\\nImplement design patterns to make our code highly scalable and performant.\\nWrite unit and functional testing efforts to certify your work is good. Always thinking forward of what components can fail, and how to enhance our testing practices.\\nFlexibility to learn and grow your knowledge in new frameworks, tools ( ex: spark etc..).\\nContinuously work to improve self and team through pair programming and pull request reviews.\\nInitiate and facilitate necessary cross-organization communication to complete work.\\nContribute to the design of our full system architecture.\\nAbout You:\\n4+ years of software development experience.\\nBachelor in computer science or equivalent.\\nProficient with Java (Java 8 or above).\\nGreat understanding of Spring-Boot. Deep knowledge in the details of the spring container and its configuration.\\nProficient Experience with JPA, SQL & no-SQL databases.\\nAbility to structure your code using different spring components (you’re able to keep them nicely decoupled).\\nAdherence to the use of Design Patterns, knowing when and when not to use them.\\nExperience working with Lucene based text search engines (Solr / Elastic Search) is a big plus.\\nGraphQL design experience is a plus.\\nExperience working with TDD.\\nExperience working with Git, Docker, DevOps tools like Spinnaker, Jenkins or Gitlab.\\nExperience working as a member of an Agile software development team.\\nHigh degree of emotional intelligence, including the ability to both effectively engage and inspire one’s team members.\\nCritical thinker. You’re willing to purpose continuous improvements to the existing applications. Receiving constructive feedback is always appreciated by other members of the team.\\nWhat We Offer:\\nOpen door culture, we progress and learn together and from each other\\nNo Top-Down-Only approaches, we value your thoughts and ideas and improve by everyone’s input\\nUrban Sports Membership options\\nA steep learning curve and cross-departmental insight\\nA modern workspace within an international tech community office\\nInterested? Awesome, just send an email to career@iplytics.com. We’re looking forward to hearing from you!\\nAt IPlytics we embrace diversity and inclusion. We are an equal opportunities employer and believe in our value driven and open minded mindset that promotes a fair and inclusive culture.\\nBerlinStartupJobs.com\\nvor 2 Tagen\\n- Weiter zur Bewerbung\\nDiesen Job melden')\n",
      " ['backend', 'java', 'architecture', 'scalable', 'innovative', 'science', 'backend', 'frontend', 'responsible', 'architecture', 'capable', 'architecture', 'java', 'backend', 'scalable', 'flexibility', 'spark', 'communication', 'architecture', 'science', 'java', 'java', 'sql', 'nosql', 'databases', 'solr', 'git', 'docker', 'devops', 'agile', 'emotional', 'constructive', 'driven', 'inclusive'] -------------END------------\n",
      " \n",
      "('Technical Lead', 'IPlytics', 'IPlytics is seeking a Technical Lead for its Platform team. If problem solving is your cup of tea, have advanced knowledge and immense passion for building performant, scalable and top of the class web applications, this career opportunity is for you!\\nAbout Us\\nIPlytics is an innovative market intelligence company headed up by a team of economists, computer engineers and data scientists. We are a tech company in its core. We use data engineering, data science and machine learning to change the way companies are interacting with business-critical data.\\nAs a Technical Lead, you serve as the technical anchor for the engineering team that supports our platform product. You create, own and are responsible for the application architecture that best serves the product in its functional and non-functional needs. You identify and drive architectural changes to accelerate feature development or improve the quality of service (or both). You have deep and broad engineering skills and are capable of standing up an architecture in its whole on your own, but you choose to influence a wider team by acting as a “force multiplier”.\\nWhat You Will Do:\\nWork as a member of a product team which builds features that impact the bottom line for IPlytics.\\nContribute to our JavaScript, React and Spring Boot applications.\\nContinuously work to improve self and team through pair programming and pull request reviews.\\nImplement design patterns to make our applications highly scalable and performant.\\nContribute to the design of our full system architecture.\\nLead continuous improvement projects within the team and mentor other engineers.\\nCultivate an inclusive and rich engineering culture.\\nResponsible for quality and stability of delivered work.\\nLead unit and functional testing efforts to certify the team’s work is good.\\nAccountable for leading engineering efforts from inception to delivery.\\nInitiate and facilitate necessary cross-organization communication to complete work.\\nProvide technical expertise to product teams, advising best practices and highlighting risks.\\nAbout You:\\n7+ years of software development experience.\\n3 year degree or equivalent experience.\\nComputer Science foundational knowledge including competencies working with design patterns, data structures, and algorithms.\\nProficient with JavaScript and React ( incl. Redux / Sagas / Context ).\\nExperience building accessible web user interfaces.\\nExperience utilizing modern web style libraries (e.g. Sass, styled-components).\\nExperience performance tuning web client applications.\\nExperience automated testing and proficient with a testing framework (e.g. Jest, Cypress, Cucumber).\\nExperience building dashboards, charts, graphs or representing complex hierarchical data using D3.js or equivalent libraries.\\nFamiliarity with build tools (e.g. Webpack, Rollup, NPM Scripts, Gulp).\\nExperience working on projects orchestrating containerization (e.g. Docker).\\nExtensive hands on experience integrating with REST APIs.\\nKnowledgeable of micro-service design patterns.\\nExposure to DevOps tools, processes, and culture (e.g. Spinnaker, Drone, Jenkins, Git, etc.).\\nExperience working with Git.\\nExperience with Search engines tools like Solr or Elastic search is a big plus.\\nExperience with Java 8 or above, Spring Boot, JPA and databases is a big plus.\\nExperience with GRAPHQL is a plus.\\nAwareness of new and emerging technologies.\\nExperience working as a member of an Agile software development team.\\nStrong verbal and written communication skills demonstrating technical leadership.\\nStrong analytical and troubleshooting skills.\\nHigh degree of emotional intelligence, including the ability to both effectively engage and inspire one’s team members.\\nWhat We Offer:\\nOpen door culture, we progress and learn together and from each other\\nNo Top-Down-Only approaches, we value your thoughts and ideas and improve by everyone’s input\\nUrban Sports Membership options\\nA steep learning curve and cross-departmental insight\\nA modern workspace within an international tech community office\\nInterested? Awesome, just send an email to career@iplytics.com. We’re looking forward to hearing from you!\\nAt IPlytics we embrace diversity and inclusion. We are an equal opportunities employer and believe in our value driven and open minded mindset that promotes a fair and inclusive culture\\nBerlinStartupJobs.com\\nvor 1 Tag\\n- Weiter zur Bewerbung\\nDiesen Job melden')\n",
      " ['scalable', 'innovative', 'science', 'responsible', 'architecture', 'capable', 'architecture', 'javascript', 'react', 'scalable', 'architecture', 'inclusive', 'responsible', 'accountable', 'communication', 'science', 'algorithms', 'javascript', 'react', 'tuning', 'client', 'dashboards', 'docker', 'devops', 'git', 'git', 'solr', 'java', 'databases', 'agile', 'verbal', 'communication', 'leadership', 'analytical', 'emotional', 'driven', 'inclusive'] -------------END------------\n",
      " \n",
      "('Technical Lead', 'IPlytics', 'IPlytics is seeking a Technical Lead for its Platform team. If problem solving is your cup of tea, have advanced knowledge and immense passion for building performant, scalable and top of the class web applications, this career opportunity is for you!\\nAbout Us\\nIPlytics is an innovative market intelligence company headed up by a team of economists, computer engineers and data scientists. We are a tech company in its core. We use data engineering, data science and machine learning to change the way companies are interacting with business-critical data.\\nAs a Technical Lead, you serve as the technical anchor for the engineering team that supports our platform product. You create, own and are responsible for the application architecture that best serves the product in its functional and non-functional needs. You identify and drive architectural changes to accelerate feature development or improve the quality of service (or both). You have deep and broad engineering skills and are capable of standing up an architecture in its whole on your own, but you choose to influence a wider team by acting as a “force multiplier”.\\nWhat You Will Do:\\nWork as a member of a product team which builds features that impact the bottom line for IPlytics.\\nContribute to our JavaScript, React and Spring Boot applications.\\nContinuously work to improve self and team through pair programming and pull request reviews.\\nImplement design patterns to make our applications highly scalable and performant.\\nContribute to the design of our full system architecture.\\nLead continuous improvement projects within the team and mentor other engineers.\\nCultivate an inclusive and rich engineering culture.\\nResponsible for quality and stability of delivered work.\\nLead unit and functional testing efforts to certify the team’s work is good.\\nAccountable for leading engineering efforts from inception to delivery.\\nInitiate and facilitate necessary cross-organization communication to complete work.\\nProvide technical expertise to product teams, advising best practices and highlighting risks.\\nAbout You:\\n7+ years of software development experience.\\n3 year degree or equivalent experience.\\nComputer Science foundational knowledge including competencies working with design patterns, data structures, and algorithms.\\nProficient with JavaScript and React ( incl. Redux / Sagas / Context ).\\nExperience building accessible web user interfaces.\\nExperience utilizing modern web style libraries (e.g. Sass, styled-components).\\nExperience performance tuning web client applications.\\nExperience automated testing and proficient with a testing framework (e.g. Jest, Cypress, Cucumber).\\nExperience building dashboards, charts, graphs or representing complex hierarchical data using D3.js or equivalent libraries.\\nFamiliarity with build tools (e.g. Webpack, Rollup, NPM Scripts, Gulp).\\nExperience working on projects orchestrating containerization (e.g. Docker).\\nExtensive hands on experience integrating with REST APIs.\\nKnowledgeable of micro-service design patterns.\\nExposure to DevOps tools, processes, and culture (e.g. Spinnaker, Drone, Jenkins, Git, etc.).\\nExperience working with Git.\\nExperience with Search engines tools like Solr or Elastic search is a big plus.\\nExperience with Java 8 or above, Spring Boot, JPA and databases is a big plus.\\nExperience with GRAPHQL is a plus.\\nAwareness of new and emerging technologies.\\nExperience working as a member of an Agile software development team.\\nStrong verbal and written communication skills demonstrating technical leadership.\\nStrong analytical and troubleshooting skills.\\nHigh degree of emotional intelligence, including the ability to both effectively engage and inspire one’s team members.\\nWhat We Offer:\\nOpen door culture, we progress and learn together and from each other\\nNo Top-Down-Only approaches, we value your thoughts and ideas and improve by everyone’s input\\nUrban Sports Membership options\\nA steep learning curve and cross-departmental insight\\nA modern workspace within an international tech community office\\nInterested? Awesome, just send an email to career@iplytics.com. We’re looking forward to hearing from you!\\nAt IPlytics we embrace diversity and inclusion. We are an equal opportunities employer and believe in our value driven and open minded mindset that promotes a fair and inclusive culture\\nBerlinStartupJobs.com\\nHeute\\n- Weiter zur Bewerbung\\nDiesen Job melden')\n",
      " ['scalable', 'innovative', 'science', 'responsible', 'architecture', 'capable', 'architecture', 'javascript', 'react', 'scalable', 'architecture', 'inclusive', 'responsible', 'accountable', 'communication', 'science', 'algorithms', 'javascript', 'react', 'tuning', 'client', 'dashboards', 'docker', 'devops', 'git', 'git', 'solr', 'java', 'databases', 'agile', 'verbal', 'communication', 'leadership', 'analytical', 'emotional', 'driven', 'inclusive'] -------------END------------\n",
      " \n",
      "('Technical Lead', 'IPlytics', 'IPlytics is seeking a Technical Lead for its Platform team. If problem solving is your cup of tea, have advanced knowledge and immense passion for building performant, scalable and top of the class web applications, this career opportunity is for you!\\nAbout Us\\nIPlytics is an innovative market intelligence company headed up by a team of economists, computer engineers and data scientists. We are a tech company in its core. We use data engineering, data science and machine learning to change the way companies are interacting with business-critical data.\\nAs a Technical Lead, you serve as the technical anchor for the engineering team that supports our platform product. You create, own and are responsible for the application architecture that best serves the product in its functional and non-functional needs. You identify and drive architectural changes to accelerate feature development or improve the quality of service (or both). You have deep and broad engineering skills and are capable of standing up an architecture in its whole on your own, but you choose to influence a wider team by acting as a “force multiplier”.\\nWhat You Will Do:\\nWork as a member of a product team which builds features that impact the bottom line for IPlytics.\\nContribute to our JavaScript, React and Spring Boot applications.\\nContinuously work to improve self and team through pair programming and pull request reviews.\\nImplement design patterns to make our applications highly scalable and performant.\\nContribute to the design of our full system architecture.\\nLead continuous improvement projects within the team and mentor other engineers.\\nCultivate an inclusive and rich engineering culture.\\nResponsible for quality and stability of delivered work.\\nLead unit and functional testing efforts to certify the team’s work is good.\\nAccountable for leading engineering efforts from inception to delivery.\\nInitiate and facilitate necessary cross-organization communication to complete work.\\nProvide technical expertise to product teams, advising best practices and highlighting risks.\\nAbout You:\\n7+ years of software development experience.\\n3 year degree or equivalent experience.\\nComputer Science foundational knowledge including competencies working with design patterns, data structures, and algorithms.\\nProficient with JavaScript and React ( incl. Redux / Sagas / Context ).\\nExperience building accessible web user interfaces.\\nExperience utilizing modern web style libraries (e.g. Sass, styled-components).\\nExperience performance tuning web client applications.\\nExperience automated testing and proficient with a testing framework (e.g. Jest, Cypress, Cucumber).\\nExperience building dashboards, charts, graphs or representing complex hierarchical data using D3.js or equivalent libraries.\\nFamiliarity with build tools (e.g. Webpack, Rollup, NPM Scripts, Gulp).\\nExperience working on projects orchestrating containerization (e.g. Docker).\\nExtensive hands on experience integrating with REST APIs.\\nKnowledgeable of micro-service design patterns.\\nExposure to DevOps tools, processes, and culture (e.g. Spinnaker, Drone, Jenkins, Git, etc.).\\nExperience working with Git.\\nExperience with Search engines tools like Solr or Elastic search is a big plus.\\nExperience with Java 8 or above, Spring Boot, JPA and databases is a big plus.\\nExperience with GRAPHQL is a plus.\\nAwareness of new and emerging technologies.\\nExperience working as a member of an Agile software development team.\\nStrong verbal and written communication skills demonstrating technical leadership.\\nStrong analytical and troubleshooting skills.\\nHigh degree of emotional intelligence, including the ability to both effectively engage and inspire one’s team members.\\nWhat We Offer:\\nOpen door culture, we progress and learn together and from each other\\nNo Top-Down-Only approaches, we value your thoughts and ideas and improve by everyone’s input\\nUrban Sports Membership options\\nA steep learning curve and cross-departmental insight\\nA modern workspace within an international tech community office\\nInterested? Awesome, just send an email to career@iplytics.com. We’re looking forward to hearing from you!\\nAt IPlytics we embrace diversity and inclusion. We are an equal opportunities employer and believe in our value driven and open minded mindset that promotes a fair and inclusive culture\\nBerlinStartupJobs.com\\nvor 2 Tagen\\n- Weiter zur Bewerbung\\nDiesen Job melden')\n",
      " ['scalable', 'innovative', 'science', 'responsible', 'architecture', 'capable', 'architecture', 'javascript', 'react', 'scalable', 'architecture', 'inclusive', 'responsible', 'accountable', 'communication', 'science', 'algorithms', 'javascript', 'react', 'tuning', 'client', 'dashboards', 'docker', 'devops', 'git', 'git', 'solr', 'java', 'databases', 'agile', 'verbal', 'communication', 'leadership', 'analytical', 'emotional', 'driven', 'inclusive'] -------------END------------\n",
      " \n",
      "('Front End Engineer', 'Oath Inc', \"Take Yahoo and AOL, fuse them and you get a media and technology company operating at massive global scale. It takes powerful technology to connect our combined media brands and partners with an audience of 1 billion. Nearly half of Oath’s employees are building the code and platforms that help us achieve that. And we’re only getting bigger. Whether you’re looking to write mobile app code, engineer the servers behind our massive ad tech stacks, or develop algorithms to help us process 4 trillion data points a day, what you do here will have a huge impact on our business—and the world. Want in? Yahoo Sports connects fans to the sports and fantasy games they love most and is the first screen for the next generation of sports fans worldwide,who crave real-time personalized quality content and superior fan experiences every day.\\n\\n\\nThe Area: Software Engineering / Web Development\\n\\nYahoo! Media delivers segment leading experiences to over half a billion people worldwide. We are number one in News, Sports, Finance and several Entertainment sites as well. Delivering entertaining and informative relevant content to so many people quickly and beautifully at scale is a huge challenge. We use everything from big data (Hadoop and other grid/cloud technologies) to cutting edge HTML5/CSS/JS experiences at a level of complexity few companies do. If you eat, sleep and breathe current and next-gen web technologies, if you play around with them in your own time and learn new technologies like React, node.JS and or MongoDB because you can't help yourself, then we need you to come help us build the next generation of Yahoo! sites.\\n\\nThe Role: Front End Engineer (Technical)\\n\\nAs a Front End Software Engineer at Yahoo Sports, you will specialize in building high performance, scalable, cross-browser compatible, accessible and elegant web applications with HTML5, CSS3, JS and other technologies. You will work hand in hand with world-class teams of other software engineers and architects as well as backend engineers, cloud data experts and computer scientists to build amazing and emotional experiences that will delight our users.\\n\\nResponsibilities:\\n\\nBuild next generation applications for desktop and mobile browsers with an emphasis on emotional experiences and constant attention to scalability, performance, accessibility and cross-browser compatibility.\\nPartner with Product and Design to redesign and implement user interfaces\\n\\nMinimum Requirements:\\n\\nB.S. in Computer Science or equivalent (e.g. 4+ years work experience or IED/HID degree)\\nExperience in web development and Front End engineering (or M.S. CS and 0)\\nProficiency in one or more Front End engineering skills including Javascript (React.js), AJAX, CSS3, HTML5, PHP\\nFamiliarity with JavaScript frameworks and libraries (e.g. React.js or jQuery)\\nCustomer-focused, react well to changes, work with teams.\\nSelf-starter, team player\\n\\nPreferred Qualifications:\\n\\nExperience with JavaScript templating (mustache, handlebars)\\nExperience with CVS, SVN, GIT, Hudson, jUnit, phpUnit\\nExperience with node.js, React.js,\\nSports or digital media fan\\n\\n\\n\\nOath is proud to be an equal opportunity workplace. All qualified applicants will receive consideration for employment without regard to, and will not be discriminated against based on, age, race, gender, color, religion, national origin, sexual orientation, gender identity, veteran status, disability or any other protected category. Oath is dedicated to providing an accessible environment for all candidates during the application process and for employees during their employment. Please let us know if you need a reasonable accommodation to apply for a job or participate in the application process.\\n\\n\\nCurrently work for Oath? Please apply on our internal career site.\")\n",
      " ['algorithms', 'hadoop', 'time', 'react', 'nodejs', 'mongodb', 'scalable', 'backend', 'cloud', 'emotional', 'emotional', 'science', 'javascript', 'php', 'javascript', 'jquery', 'react', 'javascript', 'git', 'nodejs'] -------------END------------\n",
      " \n",
      "('Back-end Developer', 'Freebird', \"About Freebird:\\nWe are a fun, passionate team tackling a $60B pain point in travel. Freebird’s founding principle is simple: GETTING THERE MATTERS. Whatever the reason for travel, it’s critical travelers reach their destination. Unfortunately, flight disruptions can wreak havoc on travel plans. We employ cutting-edge data science, machine-learning, deep domain expertise, and great mobile product design to delight our customers.\\n\\nWe’ve got a working product with real customers and big partners, and we’ve raised $8.5M from top-tier investors including General Catalyst and Accomplice. We are growing the team -- we need thought partners and smart leaders to help us improve travel for everyone. Come join our team!\\n\\nAbout the Role:\\nWe’re looking for a back-end developer to join our growing engineering team in Cambridge, MA. You’ll be working with our data scientists, data engineers and platform engineering team to build and maintain Freebird’s enterprise software platform and APIs. Your time will be split between learning the in’s and out’s of our platform to build and maintain new features that our multi-million (sometimes billion dollar) travel clients will use every day!\\n\\nResponsibilities:\\n\\nHelp develop Freebird’s traveler-facing and B2B partner software platform\\nDesign, create, and maintain a responsive and scalable infrastructure\\n\\nSound like you?\\n\\n\\nYou have 3+ years' experience working as a full-stack or back-end developer and are looking for a big challenge to tackle\\nYou're excited about working on a consumer tech app\\nYou’re fluent in one of the following languages and would be excited to pick up a second: Ruby/Python/Java/Scala\\nYou have an insatiable curiosity and are always reading blogs or experimenting with the newest technologies in your spare time\\nYou have a successful track record of building and shipping products in a fast-paced startup environment\\nBachelor’s degree in Computer Science or related work experience\\n\\nAbout Our Culture:\\nWe’re a small team of product, technology, and travel enthusiasts that are passionate about building a delightful customer experience. We believe that empowering customers starts with empowering employees, and share common values of trust, transparency, empathy. If you’re an ambitious, smart, natural collaborator who likes learning new technologies and is interested in working with a small, core team, we’d love to talk to you about joining Freebird.\\n\\nInterested? Send us your resume and a short note letting us know why you’d be a great fit for our team.\")\n",
      " ['science', 'backend', 'time', 'scalable', 'backend', 'time', 'science', 'empathy'] -------------END------------\n",
      " \n",
      "('Full Stack JavaScript Engineer', 'PSM Partners', \"About the job\\nOur team of front-end developers work on a wide variety of projects across the business. They collaborate with server-focused engineers, product designers and researchers, and data scientists to create amazing experiences for users both inside and outside of our company. Our web applications are used in fulfillment centers, on the computers of every one of our stylists, and by nearly every customer out there.\\nWho You Are\\nYou have sizable experience architecting customer-facing single-page Javascript applications (with or without frameworks, such as React, Angular, or Ember.js).\\nYou have sizable experience working with designers to create and maintain style guides &amp; CSS standards across different applications.\\nYou appreciate and advocate for web standards and accessibility (e.g. WCAG Standards, screenreader support, semantic HTML).\\nYou have a solid understanding of JavaScript.\\nYou get excited about functional programming, Redux, React, Flux, ES6+, CSS Modules, and Webpack. You'd love to talk about these over lunch. This is what excites us too, and what we use everyday.\")\n",
      " ['frontend', 'business', 'javascript', 'react', 'angular', 'javascript', 'react'] -------------END------------\n",
      " \n",
      "('Backend Engineer (Core App)', 'DataRobot', 'Job Summary\\n\\nDataRobot accelerates the process of building predictive models to get the most out of valuable data. We work hard to create tools that nascent data scientists can use effectively while also exposing the rich detail and control that data science veterans rely on. Our headquarters is in Boston, with offices in Kiev, Singapore, and Tokyo.\\n\\nIn order to keep up with the demand for new features in DataRobot, we are looking to grow our backend engineering team. Primary responsibilities of this team include developing new data science tools, designing and supporting our APIs, and instrumenting DataRobot to integrate with enterprise IT infrastructure. Our team uses the following technology on a routine basis: flask, docker, pytest, MongoDB, redis, nginx, OpenSSL and LDAP, among many others.\\n\\nResponsibilities\\n\\n\\nDevelop, test, and support features of DataRobot\\nCreate and maintain automated unit tests and functional tests\\nDesign infrastructure for new features with the input of peers\\nManage individual projects and milestones with abundant communication of progress\\nSeek, give, and receive critical feedback in a constructive manner, including but not limited to code review\\n\\nRequirements\\n\\n\\n3+ years development experience in Python\\nDemonstrable knowledge of computer science fundamentals, whether by degree or otherwise\\nPersonal drive to get things finished\\nEffective communication behavior\\n\\nCandidates can distinguish themselves with the following criteria:\\n\\n\\n8+ years development experience\\nPublicly reviewable contributions to interesting development projects\\nExperience with both python 2 and 3\\nExperience with R\\nExperience supporting user-facing code and APIs\\nData Science experience\\n\\nIndividuals seeking employment at DataRobot are considered without regards to race, color, religion, national origin, age, sex, marital status, ancestry, physical or mental disability, veteran status, gender identity, or sexual orientation.')\n",
      " ['science', 'backend', 'science', 'integrate', 'flask', 'docker', 'mongodb', 'nginx', 'ldap', 'communication', 'constructive', 'python', 'science', 'communication', 'python', 'r', 'science'] -------------END------------\n",
      " \n"
     ]
    }
   ],
   "source": [
    "print_top_jobs(filtered_texts[num], 5)"
   ]
  },
  {
   "cell_type": "code",
   "execution_count": 62,
   "id": "certified-treaty",
   "metadata": {
    "scrolled": true,
    "tags": []
   },
   "outputs": [],
   "source": [
    "offer = '''Description\n",
    "\n",
    "Would you like to join the team that protects the global AWS platform from fraud? Do you enjoy thinking like a fraudster and using your technical skills to help detect & mitigate AWS accounts from being compromised? If so, AWS Fraud Prevention has an exciting opportunity for you.\n",
    "\n",
    "AWS has the most services and more features within those services, than any other cloud provider–from infrastructure technologies like compute, storage, and databases–to emerging technologies, such as machine learning and artificial intelligence, data lakes and analytics, and Internet of Things. AWS Platform is the glue that holds the AWS ecosystem together. Whether its Identity features such as access management and sign on, cryptography, console, builder & developer tools, and even projects like automating all of our contractual billing systems, AWS Platform is always innovating with the customer in mind. The AWS Platform team sustains over 750 million transactions per second.\n",
    "\n",
    "The AWS Fraud Prevention Compromise vertical is responsible for detecting & mitigating AWS account compromise. You’ll be part of a team of Data Scientists, Investigations Analysts, and Technical & non-Technical Program Managers. The team’s goal is to identify and neutralize fraudsters from compromising AWS customers’ accounts.\n",
    "\n",
    "As a Data Scientist, you will work directly with Business Analysts and Software Development Engineers to monitor the flavor/ trend of compromise on AWS worldwide and design appropriate solutions to respond in a collaborative environment. There are no walls, and success is determined by your ability to dive deep, and understand the subtle demands new and complex services will place upon systems and teams.\n",
    "\n",
    "As a Data Scientist Your Responsibilities Will Include\n",
    "Apply state-of-the-art Machine Learning methods to large amounts of data from different sources to build and productionalize fraud prevention, detection and mitigation solutions\n",
    "Deep dive on the problems using SQL and scripting languages like Python/R to drive short term and long term solutions leveraging Statistical Analysis\n",
    "Analyze data (past customer behavior, sales inputs, and other sources) to figure out trends, create compromise prevention and mitigation solutions and output reports with clear recommendations\n",
    "Collaborate closely with the development team to recommend and build innovations based on Data Science\n",
    "Manage your own process: identify and execute on high impact projects, triage external requests, and make sure you bring projects to conclusion in time for the results to be useful\n",
    "Learn and Be Curious. We have a formal mentor search application that lets you find a mentor that works best for you based on location, job family, job level etc. Your manager can also help you find a mentor or two, because two is better than one. In addition to formal mentors, we work and train together so that we are always learning from one another, and we celebrate and support the career progression of our team members.\n",
    "\n",
    "Inclusion and Diversity. Our team is diverse! We drive towards an inclusive culture and work environment. We are intentional about attracting, developing, and retaining amazing talent from diverse backgrounds. Team members are active in Amazon’s 10+ affinity groups, sometimes known as employee resource groups, which bring employees together across businesses and locations around the world. These range from groups such as the Black Employee Network, Latinos at Amazon, Indigenous at Amazon, Families at Amazon, Amazon Women and Engineering, LGBTQ+, Warriors at Amazon (Military), Amazon People With Disabilities, and more.\n",
    "\n",
    "Learn more about Amazon on our Day 1 Blog: https://blog.aboutamazon.com\n",
    "\n",
    "\n",
    "Basic Qualifications\n",
    "Master’s degree in Mathematics, Statistics, Computer Science or in another related field\n",
    "Several years of hands-on relevant experience using programming/scripting languages such as Python or equivalent\n",
    "Proven understanding of Statistical Analysis, Modeling and Machine Learning techniques\n",
    "Experience in designing and deploying ML modeling and prediction pipelines\n",
    "Ability to leverage SQL or Spark for Ad-hoc analyses and building out ETL pipelines on heterogeneous data sources\n",
    "Experience performing statistical analysis and using tools such as R, pandas, or equivalent\n",
    "Preferred Qualifications\n",
    "Experience and proficiency with AWS technologies (EC2, CloudTrail, S3, SageMaker, Lambda, DynamoDB, RDS, etc.), and Big Data technologies\n",
    "Familiarity with AWS Redshift, Spark or other distributed computing technologies\n",
    "Previous work as a Data Scientist in the context of fraud analytics or risk scoring\n",
    "Ability to work in a fast-paced, ambiguous environment while prioritizing and managing multiple responsibilities\n",
    "Excellent written and verbal communication skills\n",
    "Excellent problem solving skills with a attention to detail\n",
    "Amazon is an equal opportunities employer. We believe passionately that employing a diverse workforce is central to our success. We make recruiting decisions based on your experience and skills. We value your passion to discover, invent, simplify and build. Protecting your privacy and the security of your data is a longstanding top priority for Amazon. Please consult our Privacy Notice to know more about how we collect, use and transfer the personal data of our candidates.\n",
    "'''"
   ]
  },
  {
   "cell_type": "code",
   "execution_count": 63,
   "id": "superior-bhutan",
   "metadata": {},
   "outputs": [
    {
     "name": "stdout",
     "output_type": "stream",
     "text": [
      "['aws', 'aws', 'aws', 'aws', 'cloud', 'artificial', 'analytics', 'aws', 'aws', 'management', 'aws', 'aws', 'aws', 'responsible', 'aws', 'aws', 'business', 'aws', 'collaborative', 'determined', 'sql', 'analysis', 'analyze', 'sales', 'recommendations', 'science', 'time', 'inclusive', 'mathematics', 'statistics', 'science', 'python', 'analysis', 'modeling', 'modeling', 'prediction', 'pipelines', 'sql', 'spark', 'etl', 'pipelines', 'analysis', 'r', 'pandas', 'aws', 'sagemaker', 'lambda', 'aws', 'redshift', 'spark', 'analytics', 'managing', 'verbal', 'communication', 'security', 'consult']\n"
     ]
    }
   ],
   "source": [
    "token_offer = to_lower(offer)\n",
    "token_offer = remove_number(token_offer)\n",
    "token_offer = remove_punctuation(token_offer)\n",
    "token_offer = lemmatize_words(token_offer)\n",
    "token_offer = remove_stopwords(token_offer)\n",
    "token_offer = [word for word in token_offer if word in skills_list]\n",
    "print(token_offer)"
   ]
  },
  {
   "cell_type": "code",
   "execution_count": 64,
   "id": "educational-lafayette",
   "metadata": {},
   "outputs": [
    {
     "name": "stdout",
     "output_type": "stream",
     "text": [
      "[('tag_2327', 0.49259254336357117), ('tag_3065', 0.46403101086616516), ('tag_197', 0.4555904269218445), ('tag_533', 0.45538389682769775), ('tag_2242', 0.4528801143169403)]\n",
      "\n",
      "('Manager, Data Science', 'E*TRADE FINANCIAL', 'Overview\\nE*TRADE is a leading financial services company and a pioneer in the online brokerage industry. Having executed the first-ever electronic trade by an individual investor more than 30 years ago, the company has long been at the forefront of the digital revolution, offering easy-to-use solutions for individual investors and stock participants. Founded on the principle of innovation and determined to level the playing field for individual investors, E*TRADE delivers digital platforms, tools, and professional assistance to help investors and traders meet their near-and long-term investing goals. The Company provides these services both online and through its network of customer service representatives and financial consultants – over the phone at two national branches and in-person at 30 E*TRADE branches.\\nAbout the Role\\nLeaders in Data Science can see different angles of a product or business opportunity, and you know how to connect the dots and interact with people in various roles and functions. You have substantial experience with analytical tools and techniques, and bring a solid skill-set in analyzing data and communicating recommendations. You will deepen your skill-set by working with analytical thought leaders across the company.\\n\\nData Scientists are changing the world one technological achievement after another.\\n\\nExperimentation is at the core of what you do. In this role, you will work to effectively turn business questions into data analysis, and provide meaningful recommendations on strategy. This is a unique hybrid role that will focus on your knowledge of data infrastructure and your ability to drive insights.\\n\\nAs Manager of Data Science, you will lead the design, development, and implementation of predictive-models and experiments to help drive insights for our customer experience, product, and brokerage teams. You will be responsible for leading a team of data scientists that leverage data to drive business results. You will combine quantitative rigor and business acumen to shape and execute the modeling strategy that drives our programmatic framework. You will work cross-functionally with teams across E*TRADE, get exposure and visibility to senior executives and be sought out as a trusted advisor by partner teams.\\n\\nResponsibilities\\nConduct data analysis to make business recommendations (cost-benefit, invest-divest, forecasting, impact analysis).\\nCollaborate with cross-functional partners to understand their business needs, formulate and complete end-to-end analysis that includes data gathering, analysis, ongoing scaled deliverables and presentations.\\nDevelop a vision and roadmap for analytics across a product or functional group.\\nOwn relationships with executive stakeholders across E*TRADE product and brokerage.\\nDesign an appropriate Machine Learning modeling architecture to support the Product and Brokerage department needs.\\nResearch new ways of modeling data proactively to unlock actionable insights or improve business processes.\\nContribute to the development of the analytical frameworks, tools, skills and culture for the team and wider organization.\\nQualifications\\n\\nMinimum qualifications:\\nBA/BS degree or equivalent practical experience.\\n4+ years of experience leading data science projects including managing contributions of other analysts/data scientists.\\nExperience with statistical software (e.g., R, MATLAB, pandas) and data base languages (e.g., SQL) as well as machine learning applications and packages.\\nExperience with articulating product questions, pulling data from datasets (SQL) and using statistics to arrive at an answer\\nExperience with ETL, data mining and processing with multiple datasets using distributed computing\\n4 years of relevant work experience, including deep expertise and experience with statistical data analysis such as linear models, multivariate analysis, stochastic models, sampling methods.\\n\\nPreferred qualifications:\\nMasters of PhD degree with emphasis on coursework of a quantitative natures (e.g., Statistics, Computer Science, Engineering, Mathematics, Data Sciences)\\nDistinctive problem solving skills and impeccable business judgment.\\nCapable of translating analysis results into business recommendations. Strong written and verbal communication skills.\\nDemonstrated leadership and self-direction. Demonstrated willingness to both teach others and learn new techniques.\\n\\nWe offer a competitive and comprehensive benefits package. Please visit https://www.etradecareers.com/why-work-at-etrade/employee-benefits/ to learn more about the opportunities.\\nE*TRADE Financial is an Equal Opportunity Employer who encourages diversity in the workplace. All qualified applicants will receive consideration for employment without regard to race, color, national origin, religion, sex, age, disability, citizenship, marital status, sexual orientation, gender identity, military or protected veteran status, or any other characteristic protected by applicable law.')\n",
      " ['industry', 'innovation', 'determined', 'professional', 'science', 'business', 'analytical', 'recommendations', 'analytical', 'business', 'analysis', 'recommendations', 'strategy', 'science', 'responsible', 'business', 'quantitative', 'business', 'modeling', 'strategy', 'analysis', 'business', 'recommendations', 'forecasting', 'analysis', 'business', 'analysis', 'analysis', 'vision', 'analytics', 'modeling', 'architecture', 'research', 'modeling', 'business', 'analytical', 'organization', 'science', 'managing', 'r', 'matlab', 'pandas', 'sql', 'sql', 'statistics', 'etl', 'analysis', 'analysis', 'stochastic', 'quantitative', 'statistics', 'science', 'mathematics', 'business', 'capable', 'analysis', 'business', 'recommendations', 'verbal', 'communication', 'leadership'] -------------END------------\n",
      " \n",
      "('Machine Learning Engineer', 'Velocity', 'Machine Learning Engineer EV / AVVelocity is the world’s first staffing agency 100% focused on the development and manufacturing of Electric Vehicles and Autonomous transportation. We have secured contracts with some of the world’s leading designers and engineers.If you are looking to join a company that is truly changing the automotive industry and want to be recognized for your contribution to the next industrial revolution get in contact with us now!Help create new deep learning approaches and apply them to tackle a plethora of real-world problems, such as large-scale scene understanding, semantic segmentation, action recognition, etc.Engineer big-data tools and pipelines to train, evaluate and deploy deep neural networks across clients datasetsDesign and implement features for distributed machine learning infrastructureWork on creating new pathways through clients machine learning data stack utilizing AWS and other compute platformsBuild smarter, more efficient ways of automating deep learning processes, including labeling, training, testing and visualizationEvaluate, adapt and apply popular deep learning frameworks for global, petabyte-scale useBS in Computer Science or related field with 3+ years of meaningful work experienceProven software engineering skills in Python and/or C++Job Type: Full-timeExperience:meaningful: 3 yearsMachine Learning: 2 yearsRequired work authorization:United States')\n",
      " ['industry', 'segmentation', 'pipelines', 'aws', 'training', 'science', 'python'] -------------END------------\n",
      " \n",
      "('', 'Delivery Hero', 'Want to be a hero? - Join the #1 Global Leader in online food ordering and delivery!\\nWe are looking for a Data Scientist (f/m/d) who can help Delivery Hero build a new Ad Tech revenue stream. Delivery Hero has a variety of advertising revenue streams, and you would be at the center of their technical strategy, design and execution. As a result, you would help restaurants to grow their business through targeted advertising campaigns. If you have experience with data science, personalization algorithms and want to have a big impact on the global food delivery market, this is the right position for you.\\nYour mission:\\nDesign, together with business and product managers, Delivery Hero’s next generation Ad Tech engine\\nBuild optimization algorithms that drive success of customer campaigns as well as Delivery Hero’s internal goals\\nDevelop models that enhance personalization for paid marketing channels, ensuring the right customer experience and optimal use of restaurant’s resources.\\nCreate and develop key metrics that allow for Delivery Hero and its partner restaurants to track the success of ad campaigns\\nEnsure Delivery Hero’s Ad Tech is delivering value to customers and business partners, proactively identifying issues and solving technical problems when needed\\nImprove the efficiency and agility of machine learning, computational, and data processing pipelines.\\nCollaborate with data scientists, data engineers, product managers and business stakeholders to build well-crafted, pragmatic data products.\\nYour heroic skills:\\nPh.D., M.S. or Bachelors degree; ideally in Statistics, Mathematics, Computer Science, or similar fields, but significant work experience in the subject is equally desirable\\nExperience with both designing and implementing Ad Tech engines, including but not limited to predictive modeling (black box and white box), collaborative filtering, and A/B testing\\nGreat communication and presentation skills in English\\nAbility to operate well in a team environment, managing expectations of different teams\\nProficiency in Python and Pandas is a must\\nProficiency in SQL\\nNice to have:\\nExperience in pyspark\\nExperience with Google Analytics\\nExperience managing business and product stakeholders is a strong plus\\nWhy Delivery Hero?\\nExchange ideas and meet colleagues from different teams in our active guilds and through our global tech & product community.\\nWe offer visa & relocation support globally to our permanent employees.\\nEnjoy our free online yoga classes and a subsidized Urban Sports Club or Gympass membership.\\nTake care of your mental and emotional well-being with our free Headspace subscription and unlimited access to our confidential Employee Assistance Program.\\nParticipate in our health campaigns such as seasonal flu vaccines.\\nBenefit from subsidised products e.g. BVG ticket, meal vouchers, fruit or vegetable box or our bike rental program\\nWe support child care needs where we partner with an external service to support tasks such as Kita search and application, Au Pair or childminder search\\nJoin the global market leader and a publicly listed company with a competitive remuneration package.\\nDevelop your skills with your personal educational budget for conferences and external trainings.\\nAccess our e-learning platform MyAcademy and participate in our various inhouse trainings, including German learning options.\\nSave responsibly with our attractive corporate pension options.\\nJoin company parties, team, cultural and sports events - due to the current situation on a virtual basis.\\nAnd much more…\\nHave we caught your attention? If you are looking for an environment where our company DNA is defined by our values and People Leadership Principles, please send us your CV.\\nWe’re looking forward to your application!\\nAbout us:\\nDelivery Hero is building the next generation global on-demand delivery platform. We have grown rapidly from inception in 2011 to become one of the leading global online food ordering and delivery platforms and are now innovating and creating new services such as groceries, pharmacies, and other convenience articles in multiple markets.\\n\\nOur awesome international team already operates in 40+ countries worldwide and we are looking for the most talented people to join us on our mission to ‘always deliver an amazing experience.\\nAt Delivery Hero, we believe diversity and representation is key to creating not only an exciting product, but also an amazing customer and employee experience. Fostering this starts with hiring - therefore we do not discriminate on the basis of race, religion, color, national origin, gender, sexual orientation, age, marital status, or any other aspect that makes you, you.\\nvor 8 Tagen\\n- Weiter zur Bewerbung\\nDiesen Job melden')\n",
      " ['advertising', 'strategy', 'business', 'advertising', 'science', 'algorithms', 'business', 'optimization', 'algorithms', 'marketing', 'business', 'efficiency', 'pipelines', 'business', 'statistics', 'mathematics', 'science', 'modeling', 'collaborative', 'communication', 'presentation', 'managing', 'python', 'pandas', 'sql', 'pyspark', 'google', 'analytics', 'managing', 'business', 'emotional', 'leadership'] -------------END------------\n",
      " \n",
      "('Senior Data Scientist - Adtech (f/m/d)', 'Delivery Hero', 'Want to be a hero? - Join the #1 Global Leader in online food ordering and delivery!\\nWe are looking for a Data Scientist (f/m/d) who can help Delivery Hero build a new Ad Tech revenue stream. Delivery Hero has a variety of advertising revenue streams, and you would be at the center of their technical strategy, design and execution. As a result, you would help restaurants to grow their business through targeted advertising campaigns. If you have experience with data science, personalization algorithms and want to have a big impact on the global food delivery market, this is the right position for you.\\nYour mission:\\nDesign, together with business and product managers, Delivery Hero’s next generation Ad Tech engine\\nBuild optimization algorithms that drive success of customer campaigns as well as Delivery Hero’s internal goals\\nDevelop models that enhance personalization for paid marketing channels, ensuring the right customer experience and optimal use of restaurant’s resources.\\nCreate and develop key metrics that allow for Delivery Hero and its partner restaurants to track the success of ad campaigns\\nEnsure Delivery Hero’s Ad Tech is delivering value to customers and business partners, proactively identifying issues and solving technical problems when needed\\nImprove the efficiency and agility of machine learning, computational, and data processing pipelines.\\nCollaborate with data scientists, data engineers, product managers and business stakeholders to build well-crafted, pragmatic data products.\\nYour heroic skills:\\nPh.D., M.S. or Bachelors degree; ideally in Statistics, Mathematics, Computer Science, or similar fields, but significant work experience in the subject is equally desirable\\nExperience with both designing and implementing Ad Tech engines, including but not limited to predictive modeling (black box and white box), collaborative filtering, and A/B testing\\nGreat communication and presentation skills in English\\nAbility to operate well in a team environment, managing expectations of different teams\\nProficiency in Python and Pandas is a must\\nProficiency in SQL\\nNice to have:\\nExperience in pyspark\\nExperience with Google Analytics\\nExperience managing business and product stakeholders is a strong plus\\nWhy Delivery Hero?\\nExchange ideas and meet colleagues from different teams in our active guilds and through our global tech & product community.\\nWe offer visa & relocation support globally to our permanent employees.\\nEnjoy our free online yoga classes and a subsidized Urban Sports Club or Gympass membership.\\nTake care of your mental and emotional well-being with our free Headspace subscription and unlimited access to our confidential Employee Assistance Program.\\nParticipate in our health campaigns such as seasonal flu vaccines.\\nBenefit from subsidised products e.g. BVG ticket, meal vouchers, fruit or vegetable box or our bike rental program\\nWe support child care needs where we partner with an external service to support tasks such as Kita search and application, Au Pair or childminder search\\nJoin the global market leader and a publicly listed company with a competitive remuneration package.\\nDevelop your skills with your personal educational budget for conferences and external trainings.\\nAccess our e-learning platform MyAcademy and participate in our various inhouse trainings, including German learning options.\\nSave responsibly with our attractive corporate pension options.\\nJoin company parties, team, cultural and sports events - due to the current situation on a virtual basis.\\nAnd much more…\\nHave we caught your attention? If you are looking for an environment where our company DNA is defined by our values and People Leadership Principles, please send us your CV.\\nWe’re looking forward to your application!\\nAbout us:\\nDelivery Hero is building the next generation global on-demand delivery platform. We have grown rapidly from inception in 2011 to become one of the leading global online food ordering and delivery platforms and are now innovating and creating new services such as groceries, pharmacies, and other convenience articles in multiple markets.\\n\\nOur awesome international team already operates in 40+ countries worldwide and we are looking for the most talented people to join us on our mission to ‘always deliver an amazing experience.\\nAt Delivery Hero, we believe diversity and representation is key to creating not only an exciting product, but also an amazing customer and employee experience. Fostering this starts with hiring - therefore we do not discriminate on the basis of race, religion, color, national origin, gender, sexual orientation, age, marital status, or any other aspect that makes you, you.\\nvor 10 Tagen\\n- Weiter zur Bewerbung\\nDiesen Job melden')\n",
      " ['advertising', 'strategy', 'business', 'advertising', 'science', 'algorithms', 'business', 'optimization', 'algorithms', 'marketing', 'business', 'efficiency', 'pipelines', 'business', 'statistics', 'mathematics', 'science', 'modeling', 'collaborative', 'communication', 'presentation', 'managing', 'python', 'pandas', 'sql', 'pyspark', 'google', 'analytics', 'managing', 'business', 'emotional', 'leadership'] -------------END------------\n",
      " \n",
      "('Data Scientist, Data Science', 'E*TRADE FINANCIAL', 'Overview\\nE*TRADE is a leading financial services company and a pioneer in the online brokerage industry. Having executed the first-ever electronic trade by an individual investor more than 30 years ago, the company has long been at the forefront of the digital revolution, offering easy-to-use solutions for individual investors and stock participants. Founded on the principle of innovation and determined to level the playing field for individual investors, E*TRADE delivers digital platforms, tools, and professional assistance to help investors and traders meet their near-and long-term investing goals. The Company provides these services both online and through its network of customer service representatives and financial consultants – over the phone at two national branches and in-person at 30 E*TRADE branches.\\nAbout the Role\\nLeaders in Data Science can see different angles of a product or business opportunity, and you know how to connect the dots and interact with people in various roles and functions. You have substantial experience with analytical tools and techniques, and bring a solid skill-set in analyzing data and communicating recommendations. You will deepen your skill-set by working with analytical thought leaders across the company.\\n\\nData Scientists are changing the world one technological achievement after another.\\n\\nExperimentation is at the core of what you do. In this role, you will work to effectively turn business questions into data analysis, and provide meaningful recommendations on strategy. This is a unique hybrid role that will focus on your knowledge of data infrastructure and your ability to drive insights.\\n\\nAs a Data Scientist, you will evaluate and improve E*TRADEs products. You will collaborate with a multi-disciplinary team of engineers and analysts on a wide range of problems. This position will bring analytical rigor and statistical methods to the challenges of measuring quality, improving customer products, and understanding the behavior of end-users, advertisers, and publishers.\\n\\nResponsibilities\\nWork with complex data sets. Solve difficult, non-routine analysis problems, applying advanced analytical methods as needed. Conduct end-to-end analysis that includes data gathering and requirements specification, processing, analysis, ongoing deliverables, and presentations.\\nBuild and prototype analysis pipelines iteratively to provide insights at scale. Develop comprehensive understanding of E*TRADE data structure and metrics, advocating for changes where needed for both products development and strategy.\\nInteract cross-functionally with a wide variety of people and teams.\\nMake business recommendations with effective presentations of findings at multiple levels of stakeholders through visual displays of quantitative information.\\nResearch and develop analysis, forecasting, and optimization methods to improve the quality of E*TRADE’s user facing products; example application areas include end-user behavioral modeling and customer segmentation.\\nQualifications\\nMinimum qualifications:\\nBA/BS degree in quantitative discipline (e.g., statistics, operations research, economics, computer science, mathematics, physics, electrical engineering, inducstrial engineering).\\n2 years of relevant work experience in data analysis or related field. (e.g., as a statistician, data scientist, or economist)\\nExperience with statistical software (e.g., R, MATLAB, pandas) and data base languages (e.g., SQL).\\n\\nPreferred qualifications:\\nMasters or PhD degree in quantitative discipline as listed in Minimum Qualifications.\\nExperience programming in Python.\\n4 years of relevant work experience, including deep expertise and experience with statistical data analysis such as linear models, multivariate analysis, stochastic models, sampling methods.\\nApplied experience with machine learning on large datasets.\\nDemonstrated leadership and self-direction. Demonstrated willingness to both teach others and learn new techniques.\\n\\nWe offer a competitive and comprehensive benefits package. Please visit https://www.etradecareers.com/why-work-at-etrade/employee-benefits/ to learn more about the opportunities.\\nE*TRADE Financial is an Equal Opportunity Employer who encourages diversity in the workplace. All qualified applicants will receive consideration for employment without regard to race, color, national origin, religion, sex, age, disability, citizenship, marital status, sexual orientation, gender identity, military or protected veteran status, or any other characteristic protected by applicable law.')\n",
      " ['industry', 'innovation', 'determined', 'professional', 'science', 'business', 'analytical', 'recommendations', 'analytical', 'business', 'analysis', 'recommendations', 'strategy', 'analytical', 'analysis', 'analytical', 'analysis', 'analysis', 'analysis', 'pipelines', 'strategy', 'business', 'recommendations', 'quantitative', 'research', 'analysis', 'forecasting', 'optimization', 'modeling', 'segmentation', 'quantitative', 'statistics', 'research', 'science', 'mathematics', 'physics', 'analysis', 'r', 'matlab', 'pandas', 'sql', 'quantitative', 'python', 'analysis', 'analysis', 'stochastic', 'leadership'] -------------END------------\n",
      " \n"
     ]
    }
   ],
   "source": [
    "# offer needs to b masked as well!!\n",
    "\n",
    "print_top_jobs(token_offer, 5)"
   ]
  },
  {
   "cell_type": "code",
   "execution_count": null,
   "id": "wrong-relief",
   "metadata": {},
   "outputs": [],
   "source": []
  },
  {
   "cell_type": "markdown",
   "id": "healthy-smoke",
   "metadata": {},
   "source": [
    "## Improve the model - 2\n",
    "\n",
    "- try bigrams instead ot unigrams"
   ]
  },
  {
   "cell_type": "code",
   "execution_count": null,
   "id": "sonic-camping",
   "metadata": {},
   "outputs": [],
   "source": [
    "texts_small = df_eng['clean'][:2500]"
   ]
  },
  {
   "cell_type": "code",
   "execution_count": null,
   "id": "smaller-guard",
   "metadata": {},
   "outputs": [],
   "source": [
    "texts_small.head()"
   ]
  },
  {
   "cell_type": "code",
   "execution_count": null,
   "id": "neutral-messenger",
   "metadata": {},
   "outputs": [],
   "source": [
    "from gensim.models import Phrases\n",
    "from gensim.models.phrases import Phraser\n",
    "from gensim import models"
   ]
  },
  {
   "cell_type": "code",
   "execution_count": null,
   "id": "copyrighted-pennsylvania",
   "metadata": {},
   "outputs": [],
   "source": [
    "bigram = Phrases(texts_small, min_count=1, threshold=2, delimiter=b' ')\n",
    "\n",
    "bigram_phraser = Phraser(bigram)\n"
   ]
  },
  {
   "cell_type": "code",
   "execution_count": null,
   "id": "powerful-growth",
   "metadata": {
    "scrolled": true,
    "tags": []
   },
   "outputs": [],
   "source": [
    "bigram_token = []\n",
    "for sent in texts_small:\n",
    "    bigram_token.append(bigram_phraser[sent])\n",
    "    \n",
    "bigram_token[:20]"
   ]
  },
  {
   "cell_type": "code",
   "execution_count": null,
   "id": "proprietary-sense",
   "metadata": {},
   "outputs": [],
   "source": []
  }
 ],
 "metadata": {
  "kernelspec": {
   "display_name": "Python 3",
   "language": "python",
   "name": "python3"
  },
  "language_info": {
   "codemirror_mode": {
    "name": "ipython",
    "version": 3
   },
   "file_extension": ".py",
   "mimetype": "text/x-python",
   "name": "python",
   "nbconvert_exporter": "python",
   "pygments_lexer": "ipython3",
   "version": "3.8.6"
  }
 },
 "nbformat": 4,
 "nbformat_minor": 5
}
