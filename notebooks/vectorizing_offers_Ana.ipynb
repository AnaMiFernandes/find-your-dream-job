{
 "cells": [
  {
   "cell_type": "markdown",
   "id": "geological-desperate",
   "metadata": {},
   "source": [
    "# vectorizing job offers"
   ]
  },
  {
   "cell_type": "markdown",
   "id": "valued-rover",
   "metadata": {},
   "source": [
    "## aim\n",
    "- cluster job offeres by similarity based on a dictionary of skills\n",
    "\n",
    "## outline\n",
    "- preprocess doc2vec with full job offers\n",
    "- train model\n",
    "- test similarity of job descriptions\n",
    "- cluster offers (Kmeans, KNN)\n",
    "\n",
    "## outcome\n",
    "unicorns in a meadow"
   ]
  },
  {
   "cell_type": "code",
   "execution_count": 1,
   "id": "angry-sigma",
   "metadata": {},
   "outputs": [],
   "source": [
    "import pandas as pd\n",
    "import numpy as np\n",
    "import matplotlib.pyplot as plt\n",
    "from nltk.corpus import stopwords \n",
    "from nltk.tokenize import word_tokenize\n",
    "from nltk.stem import WordNetLemmatizer\n",
    "import gensim\n",
    "import joblib\n",
    "from gensim.models.doc2vec import Doc2Vec, TaggedDocument\n",
    "from pprint import pprint\n",
    "\n",
    "\n",
    "%matplotlib inline"
   ]
  },
  {
   "cell_type": "code",
   "execution_count": 2,
   "id": "southern-bulgaria",
   "metadata": {},
   "outputs": [],
   "source": [
    "df = joblib.load('../../../raw_data/indeed/ip_2021-03-03.joblib')"
   ]
  },
  {
   "cell_type": "code",
   "execution_count": 3,
   "id": "verbal-newport",
   "metadata": {},
   "outputs": [
    {
     "data": {
      "text/plain": [
       "(954, 11)"
      ]
     },
     "execution_count": 3,
     "metadata": {},
     "output_type": "execute_result"
    }
   ],
   "source": [
    "df.shape"
   ]
  },
  {
   "cell_type": "code",
   "execution_count": 4,
   "id": "loose-replication",
   "metadata": {},
   "outputs": [
    {
     "data": {
      "text/html": [
       "<div>\n",
       "<style scoped>\n",
       "    .dataframe tbody tr th:only-of-type {\n",
       "        vertical-align: middle;\n",
       "    }\n",
       "\n",
       "    .dataframe tbody tr th {\n",
       "        vertical-align: top;\n",
       "    }\n",
       "\n",
       "    .dataframe thead th {\n",
       "        text-align: right;\n",
       "    }\n",
       "</style>\n",
       "<table border=\"1\" class=\"dataframe\">\n",
       "  <thead>\n",
       "    <tr style=\"text-align: right;\">\n",
       "      <th></th>\n",
       "      <th>job_title</th>\n",
       "      <th>job_text</th>\n",
       "      <th>company</th>\n",
       "      <th>location</th>\n",
       "      <th>job_info</th>\n",
       "      <th>query_text</th>\n",
       "      <th>tag_language</th>\n",
       "      <th>job_info_tokenized</th>\n",
       "      <th>job_text_tokenized</th>\n",
       "      <th>job_text_tokenized_titlecase</th>\n",
       "      <th>job_title_tokenized</th>\n",
       "    </tr>\n",
       "  </thead>\n",
       "  <tbody>\n",
       "    <tr>\n",
       "      <th>0</th>\n",
       "      <td>Data Scientist / Matching Engineer (m/w/d)</td>\n",
       "      <td>You are responsible for improvement of Taledo’...</td>\n",
       "      <td>Taledo</td>\n",
       "      <td>Berlin</td>\n",
       "      <td>Data Scientist / Matching Engineer (m/w/d)\\nTa...</td>\n",
       "      <td>data engineer</td>\n",
       "      <td>en</td>\n",
       "      <td>[data, scientist, matching, engineer, mwd, tal...</td>\n",
       "      <td>[you, are, responsible, for, improvement, of, ...</td>\n",
       "      <td>[You, are, responsible, for, improvement, of, ...</td>\n",
       "      <td>[data, scientist, matching, engineer, mwd]</td>\n",
       "    </tr>\n",
       "    <tr>\n",
       "      <th>1</th>\n",
       "      <td>(Junior) Data Engineer (f/m/x)</td>\n",
       "      <td>Über die Stelle\\nUnser Data Team braucht Unter...</td>\n",
       "      <td>Customlytics GmbH</td>\n",
       "      <td>Berlin</td>\n",
       "      <td>(Junior) Data Engineer (f/m/x)\\nCustomlytics G...</td>\n",
       "      <td>data engineer</td>\n",
       "      <td>de</td>\n",
       "      <td>[junior, data, engineer, fmx, customlytics, gm...</td>\n",
       "      <td>[über, die, stelle, unser, data, team, braucht...</td>\n",
       "      <td>[Über, die, Stelle, Unser, Data, Team, braucht...</td>\n",
       "      <td>[junior, data, engineer, fmx]</td>\n",
       "    </tr>\n",
       "    <tr>\n",
       "      <th>2</th>\n",
       "      <td>Junior Data Scientist (m/w/d) docmetric</td>\n",
       "      <td>Kennziffer:\\nreq6004\\nStandort:\\nBerlin\\nJob S...</td>\n",
       "      <td>CompuGroup Medical</td>\n",
       "      <td>Berlin</td>\n",
       "      <td>Junior Data Scientist (m/w/d) docmetric\\nCompu...</td>\n",
       "      <td>data engineer</td>\n",
       "      <td>de</td>\n",
       "      <td>[junior, data, scientist, mwd, docmetric, comp...</td>\n",
       "      <td>[kennziffer, req, standort, berlin, job, segme...</td>\n",
       "      <td>[Kennziffer, req, Standort, Berlin, Job, Segme...</td>\n",
       "      <td>[junior, data, scientist, mwd, docmetric]</td>\n",
       "    </tr>\n",
       "  </tbody>\n",
       "</table>\n",
       "</div>"
      ],
      "text/plain": [
       "                                    job_title  \\\n",
       "0  Data Scientist / Matching Engineer (m/w/d)   \n",
       "1              (Junior) Data Engineer (f/m/x)   \n",
       "2     Junior Data Scientist (m/w/d) docmetric   \n",
       "\n",
       "                                            job_text             company  \\\n",
       "0  You are responsible for improvement of Taledo’...              Taledo   \n",
       "1  Über die Stelle\\nUnser Data Team braucht Unter...   Customlytics GmbH   \n",
       "2  Kennziffer:\\nreq6004\\nStandort:\\nBerlin\\nJob S...  CompuGroup Medical   \n",
       "\n",
       "  location                                           job_info     query_text  \\\n",
       "0   Berlin  Data Scientist / Matching Engineer (m/w/d)\\nTa...  data engineer   \n",
       "1   Berlin  (Junior) Data Engineer (f/m/x)\\nCustomlytics G...  data engineer   \n",
       "2   Berlin  Junior Data Scientist (m/w/d) docmetric\\nCompu...  data engineer   \n",
       "\n",
       "  tag_language                                 job_info_tokenized  \\\n",
       "0           en  [data, scientist, matching, engineer, mwd, tal...   \n",
       "1           de  [junior, data, engineer, fmx, customlytics, gm...   \n",
       "2           de  [junior, data, scientist, mwd, docmetric, comp...   \n",
       "\n",
       "                                  job_text_tokenized  \\\n",
       "0  [you, are, responsible, for, improvement, of, ...   \n",
       "1  [über, die, stelle, unser, data, team, braucht...   \n",
       "2  [kennziffer, req, standort, berlin, job, segme...   \n",
       "\n",
       "                        job_text_tokenized_titlecase  \\\n",
       "0  [You, are, responsible, for, improvement, of, ...   \n",
       "1  [Über, die, Stelle, Unser, Data, Team, braucht...   \n",
       "2  [Kennziffer, req, Standort, Berlin, Job, Segme...   \n",
       "\n",
       "                          job_title_tokenized  \n",
       "0  [data, scientist, matching, engineer, mwd]  \n",
       "1               [junior, data, engineer, fmx]  \n",
       "2   [junior, data, scientist, mwd, docmetric]  "
      ]
     },
     "execution_count": 4,
     "metadata": {},
     "output_type": "execute_result"
    }
   ],
   "source": [
    "df.head(3)"
   ]
  },
  {
   "cell_type": "code",
   "execution_count": 5,
   "id": "buried-closing",
   "metadata": {},
   "outputs": [],
   "source": [
    "# select english jobs\n",
    "df_eng = df.copy()\n",
    "df_eng = df_eng[df_eng['tag_language'] == 'en']\n",
    "df_eng.reset_index(inplace=True)\n",
    "df_eng.drop(columns='index', inplace=True)"
   ]
  },
  {
   "cell_type": "code",
   "execution_count": 6,
   "id": "proved-grass",
   "metadata": {},
   "outputs": [
    {
     "data": {
      "text/html": [
       "<div>\n",
       "<style scoped>\n",
       "    .dataframe tbody tr th:only-of-type {\n",
       "        vertical-align: middle;\n",
       "    }\n",
       "\n",
       "    .dataframe tbody tr th {\n",
       "        vertical-align: top;\n",
       "    }\n",
       "\n",
       "    .dataframe thead th {\n",
       "        text-align: right;\n",
       "    }\n",
       "</style>\n",
       "<table border=\"1\" class=\"dataframe\">\n",
       "  <thead>\n",
       "    <tr style=\"text-align: right;\">\n",
       "      <th></th>\n",
       "      <th>job_title</th>\n",
       "      <th>job_text</th>\n",
       "      <th>company</th>\n",
       "      <th>location</th>\n",
       "      <th>job_info</th>\n",
       "      <th>query_text</th>\n",
       "      <th>tag_language</th>\n",
       "      <th>job_info_tokenized</th>\n",
       "      <th>job_text_tokenized</th>\n",
       "      <th>job_text_tokenized_titlecase</th>\n",
       "      <th>job_title_tokenized</th>\n",
       "    </tr>\n",
       "  </thead>\n",
       "  <tbody>\n",
       "    <tr>\n",
       "      <th>0</th>\n",
       "      <td>Data Scientist / Matching Engineer (m/w/d)</td>\n",
       "      <td>You are responsible for improvement of Taledo’...</td>\n",
       "      <td>Taledo</td>\n",
       "      <td>Berlin</td>\n",
       "      <td>Data Scientist / Matching Engineer (m/w/d)\\nTa...</td>\n",
       "      <td>data engineer</td>\n",
       "      <td>en</td>\n",
       "      <td>[data, scientist, matching, engineer, mwd, tal...</td>\n",
       "      <td>[you, are, responsible, for, improvement, of, ...</td>\n",
       "      <td>[You, are, responsible, for, improvement, of, ...</td>\n",
       "      <td>[data, scientist, matching, engineer, mwd]</td>\n",
       "    </tr>\n",
       "    <tr>\n",
       "      <th>1</th>\n",
       "      <td>Senior Software Engineer - Data Platform</td>\n",
       "      <td>We are looking for a Senior Software Engineer ...</td>\n",
       "      <td>Zalando SE</td>\n",
       "      <td>Berlin</td>\n",
       "      <td>Senior Software Engineer - Data Platform\\nZala...</td>\n",
       "      <td>data engineer</td>\n",
       "      <td>en</td>\n",
       "      <td>[senior, software, engineer, data, platform, z...</td>\n",
       "      <td>[we, are, looking, for, a, senior, software, e...</td>\n",
       "      <td>[We, are, looking, for, a, Senior, Software, E...</td>\n",
       "      <td>[senior, software, engineer, data, platform]</td>\n",
       "    </tr>\n",
       "    <tr>\n",
       "      <th>2</th>\n",
       "      <td>Senior Software Engineer - Data Platform</td>\n",
       "      <td>We are looking for a Senior Software Engineer ...</td>\n",
       "      <td>Zalando</td>\n",
       "      <td>Berlin</td>\n",
       "      <td>Senior Software Engineer - Data Platform\\nZala...</td>\n",
       "      <td>data engineer</td>\n",
       "      <td>en</td>\n",
       "      <td>[senior, software, engineer, data, platform, z...</td>\n",
       "      <td>[we, are, looking, for, a, senior, software, e...</td>\n",
       "      <td>[We, are, looking, for, a, Senior, Software, E...</td>\n",
       "      <td>[senior, software, engineer, data, platform]</td>\n",
       "    </tr>\n",
       "    <tr>\n",
       "      <th>3</th>\n",
       "      <td>Senior Data Engineer (m/w/t)</td>\n",
       "      <td>As a member of the Data Engineering Team, you ...</td>\n",
       "      <td>Quandoo GmbH</td>\n",
       "      <td>Berlin</td>\n",
       "      <td>Senior Data Engineer (m/w/t)\\nQuandoo GmbH17 B...</td>\n",
       "      <td>data engineer</td>\n",
       "      <td>en</td>\n",
       "      <td>[senior, data, engineer, mwt, quandoo, gmbh, b...</td>\n",
       "      <td>[as, a, member, of, the, data, engineering, te...</td>\n",
       "      <td>[As, a, member, of, the, Data, Engineering, Te...</td>\n",
       "      <td>[senior, data, engineer, mwt]</td>\n",
       "    </tr>\n",
       "    <tr>\n",
       "      <th>4</th>\n",
       "      <td>Data Engineer (w/m/d)</td>\n",
       "      <td>We are digitty.io – an international start-up ...</td>\n",
       "      <td>digitty.io</td>\n",
       "      <td>Berlin</td>\n",
       "      <td>Data Engineer (w/m/d)\\ndigitty.io - Berlin</td>\n",
       "      <td>data engineer</td>\n",
       "      <td>en</td>\n",
       "      <td>[data, engineer, wmd, digittyio, berlin]</td>\n",
       "      <td>[we, are, digittyio, an, international, startu...</td>\n",
       "      <td>[We, are, digittyio, an, international, startu...</td>\n",
       "      <td>[data, engineer, wmd]</td>\n",
       "    </tr>\n",
       "  </tbody>\n",
       "</table>\n",
       "</div>"
      ],
      "text/plain": [
       "                                    job_title  \\\n",
       "0  Data Scientist / Matching Engineer (m/w/d)   \n",
       "1    Senior Software Engineer - Data Platform   \n",
       "2    Senior Software Engineer - Data Platform   \n",
       "3                Senior Data Engineer (m/w/t)   \n",
       "4                       Data Engineer (w/m/d)   \n",
       "\n",
       "                                            job_text       company location  \\\n",
       "0  You are responsible for improvement of Taledo’...        Taledo   Berlin   \n",
       "1  We are looking for a Senior Software Engineer ...    Zalando SE   Berlin   \n",
       "2  We are looking for a Senior Software Engineer ...       Zalando   Berlin   \n",
       "3  As a member of the Data Engineering Team, you ...  Quandoo GmbH   Berlin   \n",
       "4  We are digitty.io – an international start-up ...    digitty.io   Berlin   \n",
       "\n",
       "                                            job_info     query_text  \\\n",
       "0  Data Scientist / Matching Engineer (m/w/d)\\nTa...  data engineer   \n",
       "1  Senior Software Engineer - Data Platform\\nZala...  data engineer   \n",
       "2  Senior Software Engineer - Data Platform\\nZala...  data engineer   \n",
       "3  Senior Data Engineer (m/w/t)\\nQuandoo GmbH17 B...  data engineer   \n",
       "4         Data Engineer (w/m/d)\\ndigitty.io - Berlin  data engineer   \n",
       "\n",
       "  tag_language                                 job_info_tokenized  \\\n",
       "0           en  [data, scientist, matching, engineer, mwd, tal...   \n",
       "1           en  [senior, software, engineer, data, platform, z...   \n",
       "2           en  [senior, software, engineer, data, platform, z...   \n",
       "3           en  [senior, data, engineer, mwt, quandoo, gmbh, b...   \n",
       "4           en           [data, engineer, wmd, digittyio, berlin]   \n",
       "\n",
       "                                  job_text_tokenized  \\\n",
       "0  [you, are, responsible, for, improvement, of, ...   \n",
       "1  [we, are, looking, for, a, senior, software, e...   \n",
       "2  [we, are, looking, for, a, senior, software, e...   \n",
       "3  [as, a, member, of, the, data, engineering, te...   \n",
       "4  [we, are, digittyio, an, international, startu...   \n",
       "\n",
       "                        job_text_tokenized_titlecase  \\\n",
       "0  [You, are, responsible, for, improvement, of, ...   \n",
       "1  [We, are, looking, for, a, Senior, Software, E...   \n",
       "2  [We, are, looking, for, a, Senior, Software, E...   \n",
       "3  [As, a, member, of, the, Data, Engineering, Te...   \n",
       "4  [We, are, digittyio, an, international, startu...   \n",
       "\n",
       "                            job_title_tokenized  \n",
       "0    [data, scientist, matching, engineer, mwd]  \n",
       "1  [senior, software, engineer, data, platform]  \n",
       "2  [senior, software, engineer, data, platform]  \n",
       "3                 [senior, data, engineer, mwt]  \n",
       "4                         [data, engineer, wmd]  "
      ]
     },
     "execution_count": 6,
     "metadata": {},
     "output_type": "execute_result"
    }
   ],
   "source": [
    "df_eng.head()"
   ]
  },
  {
   "cell_type": "code",
   "execution_count": 7,
   "id": "unauthorized-keyboard",
   "metadata": {},
   "outputs": [],
   "source": [
    "# join strings\n",
    "def join_strings(text):\n",
    "    return ' '.join(text)"
   ]
  },
  {
   "cell_type": "code",
   "execution_count": 8,
   "id": "superb-infection",
   "metadata": {},
   "outputs": [],
   "source": [
    "# lemmatize\n",
    "def lemmatize_words(word):\n",
    "    lemmatizer = WordNetLemmatizer()\n",
    "    lemmatized = lemmatizer.lemmatize(word)\n",
    "\n",
    "    return lemmatized"
   ]
  },
  {
   "cell_type": "code",
   "execution_count": 9,
   "id": "sought-emergency",
   "metadata": {},
   "outputs": [],
   "source": [
    "# remove stopwords\n",
    "def remove_stopwords(text):\n",
    "\n",
    "    stop_words = set(stopwords.words('english'))\n",
    "    word_tokens = word_tokenize(text) \n",
    "    text = [w for w in word_tokens if not w in stop_words] \n",
    "  \n",
    "    return text\n",
    "\n",
    "#['heute', 'weiter', 'zur', 'bewerbung', 'diesen', 'job', 'melden']"
   ]
  },
  {
   "cell_type": "code",
   "execution_count": 10,
   "id": "express-compiler",
   "metadata": {},
   "outputs": [],
   "source": [
    "# process text\n",
    "df_eng['clean'] = df_eng['job_text_tokenized'].apply(join_strings).apply(lemmatize_words)\\\n",
    "    .apply(remove_stopwords)"
   ]
  },
  {
   "cell_type": "code",
   "execution_count": 11,
   "id": "basic-reconstruction",
   "metadata": {},
   "outputs": [
    {
     "data": {
      "text/plain": [
       "0      [responsible, improvement, taledos, search, ma...\n",
       "1      [looking, senior, software, engineer, extensiv...\n",
       "2      [looking, senior, software, engineer, extensiv...\n",
       "3      [member, data, engineering, team, responsible,...\n",
       "4      [digittyio, international, startup, headquarte...\n",
       "                             ...                        \n",
       "702    [zalando, fulfillment, solutions, team, lookin...\n",
       "703    [caya, digitizes, small, mediumsized, business...\n",
       "704    [position, youll, first, point, contact, comes...\n",
       "705    [position, youll, first, point, contact, comes...\n",
       "706    [digitize, logistics, industry, bn, market, eu...\n",
       "Name: clean, Length: 707, dtype: object"
      ]
     },
     "execution_count": 11,
     "metadata": {},
     "output_type": "execute_result"
    }
   ],
   "source": [
    "df_eng['clean']"
   ]
  },
  {
   "cell_type": "markdown",
   "id": "hollow-rebel",
   "metadata": {},
   "source": [
    "## model doc2vec"
   ]
  },
  {
   "cell_type": "markdown",
   "id": "packed-evans",
   "metadata": {},
   "source": [
    "Conclusions :)\n",
    "- model performs ok, but tends to cluster according to company\n",
    "- texts with very high similarity (> 0.90) are likely to be duplicated job adds\n",
    "- looks like the model first shows offers based on duplicates, then company, then position (probably because of semantics)"
   ]
  },
  {
   "cell_type": "code",
   "execution_count": 12,
   "id": "industrial-excellence",
   "metadata": {},
   "outputs": [
    {
     "data": {
      "text/plain": [
       "TaggedDocument(words=['responsible', 'improvement', 'taledos', 'search', 'matching', 'engine', 'candidates', 'jobs', 'business', 'drivers', 'data', 'science', 'develop', 'compare', 'different', 'algorithmic', 'approaches', 'andor', 'ml', 'models', 'monitor', 'production', 'performance', 'measure', 'success', 'work', 'update', 'outdated', 'models', 'research', 'discuss', 'algorithmical', 'well', 'model', 'improvements', 'regularly', 'knowledgeable', 'developed', 'ai', 'community', 'propose', 'whats', 'applicable', 'taledo', 'expect', 'curious', 'nature', 'like', 'solve', 'challenging', 'problems', 'proficient', 'python', 'worked', 'relevant', 'libraries', 'know', 'use', 'data', 'handling', 'numpy', 'pandas', 'dask', 'psycopg', 'mldl', 'scikitlearn', 'xgboost', 'keras', 'pytorch', 'spacy', 'visualization', 'seaborn', 'matplotlib', 'experience', 'evaluating', 'different', 'approaches', 'choosing', 'appropriate', 'metric', 'worked', 'search', 'matching', 'nlp', 'using', 'various', 'approaches', 'mldl', 'besides', 'success', 'stories', 'also', 'know', 'hasnt', 'worked', 'experience', 'elasticsearch', 'plus', 'translate', 'user', 'talk', 'observed', 'behaviour', 'algorithmic', 'approach', 'switch', 'fluently', 'levels', 'details', 'big', 'picture', 'algorithmical', 'details', 'creative', 'generate', 'ideas', 'revolutionizing', 'industry', 'wed', 'love', 'see', 'exceptional', 'ideas', 'youve', 'handson', 'like', 'get', 'things', 'done', 'work', 'autonomously', 'proactive', 'speak', 'fluent', 'english', 'berlin', 'plus', 'offer', 'work', 'challenging', 'domain', 'matching', 'candidates', 'jobs', 'work', 'mission', 'real', 'impact', 'people', 'direct', 'impact', 'candidates', 'career', 'development', 'work', 'decides', 'put', 'cv', 'furthermore', 'support', 'companies', 'important', 'asset', 'people', 'responsibility', 'start', 'flat', 'hierarchy', 'environment', 'doer', 'maker', 'mindset', 'contribute', 'directly', 'taledos', 'growth', 'story', 'leave', 'footprint', 'trustful', 'environment', 'open', 'conversations', 'transparency', 'blame', 'shame', 'culture', 'team', 'personal', 'development', 'plan', 'discussed', 'manager', 'individually', 'frequent', 'feedback', 'manager', 'knowledge', 'sharing', 'constant', 'learning', 'eg', 'educational', 'budget', 'hackathons', 'flexible', 'working', 'hours', 'home', 'office', 'maybe', 'attractive', 'corona', 'office', 'additional', 'vacation', 'days', 'based', 'tenure', 'seniority', 'international', 'team', 'team', 'events', 'socializing', 'activities', 'taledo', 'allinone', 'suite', 'talent', 'acquisition', 'relations', 'offer', 'talent', 'marketing', 'recruiting', 'service', 'candidate', 'management', 'single', 'platform', 'part', 'solution', 'matching', 'top', 'candidates', 'best', 'companies', 'germany', 'received', 'funding', 'eu', 'besides', 'technology', 'team', 'recruiting', 'experts', 'dont', 'lose', 'human', 'touch', 'oftentimes', 'missing', 'recruiting', 'solutions', 'heute', 'weiter', 'zur', 'bewerbung', 'diesen', 'job', 'melden'], tags=['tag_0'])"
      ]
     },
     "execution_count": 12,
     "metadata": {},
     "output_type": "execute_result"
    }
   ],
   "source": [
    "# tag texts\n",
    "texts = df_eng['clean']\n",
    "texts_tagged = [TaggedDocument(text, tags=['tag_'+str(tag)]) for tag, text in enumerate(texts)]\n",
    "texts_tagged[0]"
   ]
  },
  {
   "cell_type": "code",
   "execution_count": 13,
   "id": "vertical-button",
   "metadata": {},
   "outputs": [
    {
     "data": {
      "text/plain": [
       "707"
      ]
     },
     "execution_count": 13,
     "metadata": {},
     "output_type": "execute_result"
    }
   ],
   "source": [
    "len(texts_tagged)"
   ]
  },
  {
   "cell_type": "code",
   "execution_count": 14,
   "id": "criminal-intranet",
   "metadata": {},
   "outputs": [],
   "source": [
    "# build vocabulary with CBOW (dm=0) - instanciate model\n",
    "model_dbow = Doc2Vec(documents=texts_tagged,\n",
    "                     dm=0,\n",
    "                     alpha=0.025,\n",
    "                     vector_size=len(texts_tagged), \n",
    "                     min_count=1)"
   ]
  },
  {
   "cell_type": "code",
   "execution_count": 15,
   "id": "periodic-circuit",
   "metadata": {},
   "outputs": [
    {
     "data": {
      "text/plain": [
       "707"
      ]
     },
     "execution_count": 15,
     "metadata": {},
     "output_type": "execute_result"
    }
   ],
   "source": [
    "model_dbow.corpus_count"
   ]
  },
  {
   "cell_type": "code",
   "execution_count": 16,
   "id": "maritime-despite",
   "metadata": {},
   "outputs": [
    {
     "name": "stdout",
     "output_type": "stream",
     "text": [
      "training epoch 0\n",
      "training epoch 2\n",
      "training epoch 4\n",
      "training epoch 6\n",
      "training epoch 8\n",
      "training epoch 10\n",
      "training epoch 12\n",
      "training epoch 14\n",
      "training epoch 16\n",
      "training epoch 18\n"
     ]
    }
   ],
   "source": [
    "# train the model\n",
    "for epoch in range(20):\n",
    "    if epoch % 2 == 0:\n",
    "        print(f'training epoch {epoch}')\n",
    "    model_dbow.train(texts_tagged, total_examples=model_dbow.corpus_count, epochs=10)\n",
    "#     model_dbow.alpha -= 0.002 # decreases learning rate\n",
    "#     model_dbow.min_alpha = model_dbow.alpha # fix learning rate, no decay"
   ]
  },
  {
   "cell_type": "code",
   "execution_count": 21,
   "id": "quarterly-longer",
   "metadata": {},
   "outputs": [],
   "source": [
    "def find_similar_jobs(tokenized_job):\n",
    "    ''' input: tokenized job offers \n",
    "        returns tags of top 5 most similar job offers and similarity probabilities\n",
    "    '''\n",
    "    \n",
    "    # infer vector from text\n",
    "    infer_vector = model_dbow.infer_vector(tokenized_job)\n",
    "    # finds similar texts\n",
    "    similar_documents = model_dbow.docvecs.most_similar([infer_vector], topn = 5)\n",
    "    \n",
    "    return similar_documents"
   ]
  },
  {
   "cell_type": "code",
   "execution_count": 22,
   "id": "opponent-masters",
   "metadata": {},
   "outputs": [
    {
     "data": {
      "text/plain": [
       "[('tag_0', 0.9782083630561829),\n",
       " ('tag_192', 0.7719480991363525),\n",
       " ('tag_277', 0.2962290346622467),\n",
       " ('tag_273', 0.28655844926834106),\n",
       " ('tag_139', 0.2817284166812897)]"
      ]
     },
     "execution_count": 22,
     "metadata": {},
     "output_type": "execute_result"
    }
   ],
   "source": [
    "input_text_index = 0\n",
    "find_similar_jobs(texts[input_text_index])"
   ]
  },
  {
   "cell_type": "code",
   "execution_count": 23,
   "id": "republican-ethernet",
   "metadata": {
    "scrolled": true,
    "tags": []
   },
   "outputs": [
    {
     "data": {
      "text/plain": [
       "('Senior Software Engineer - Data Platform',\n",
       " 'Zalando SE',\n",
       " 'We are looking for a Senior Software Engineer with extensive experience in creating JVM REST API and who is interested in learning how to manage the Cloud Data Platform of an online fashion retailer. You will use your expertise to create the automation and the services needed to achieve compliance, operational excellence, cost efficiency and data practitioner productivity.\\nWHERE YOUR EXPERTISE IS NEEDED\\nAs part of a data infrastructure platform team, you and your team will own your code, and decide on the technologies and tools to deliver as well as operate large-scale applications and services on PaaS/SaaS cloud (AWS and Google Cloud)\\nConsult and help our teams to develop, implement and maintain sustainable, high-performance, growth-ready data-processing and data integration systems\\nAdding value by leveraging and setting new trends in software engineering through design, architecture and implementation of highly used data services\\nSupport our strategy and come up with innovating ideas to build world class data integration systems one step ahead of the industry\\nWHAT WE’RE LOOKING FOR\\nExpert in Java/Scala and experienced in Python\\nExpert in Spring, Play or equivalent\\nAbility and interest in translating business requirements into technological visions, and reimagining data-processing technologies\\nAmbitious in further optimizing and researching how distributed systems like Presto, Hive and Spark, and serverless technology like AWS Lambda work at scale\\nNice to have:\\nData Engineering experience in Spark\\nCloud Engineering experience in AWS and Google\\nAWS Serverless experience\\nExperience in operating at scale BigQuery, Presto, and Exasol.\\nPERKS AT WORK\\nCulture of trust, empowerment and constructive feedback, open source commitment, meetups, game nights, 70+ internal technical and fun guilds, knowledge sharing through tech talks, internal tech academy and blogs , product demos, parties & events\\nCompetitive salary, employee share shop, 40% Zalando shopping discount, discounts from external partners, centrally located offices, public transport discounts, municipality services, great IT equipment, flexible working times, additional holidays and volunteering time off, free beverages and fruits, diverse sports and health offerings\\nExtensive onboarding, mentoring and personal development opportunities and an international team of experts\\nRelocation assistance for internationals, PME family service and parent & child rooms* (*available in select locations)\\nWe celebrate diversity and are committed to building teams that represent a variety of backgrounds, perspectives and skills. All employment is decided on the basis of qualifications, merit and business need.\\nZalando\\nHeute\\n- Weiter zur Bewerbung\\nDiesen Job melden')"
      ]
     },
     "execution_count": 23,
     "metadata": {},
     "output_type": "execute_result"
    }
   ],
   "source": [
    "num = 1\n",
    "df_eng['job_title'][num], df_eng['company'][num], df_eng['job_text'][num]"
   ]
  },
  {
   "cell_type": "code",
   "execution_count": 24,
   "id": "loved-diesel",
   "metadata": {
    "scrolled": true,
    "tags": []
   },
   "outputs": [
    {
     "data": {
      "text/plain": [
       "('Senior Software Engineer - Data Platform',\n",
       " 'Zalando',\n",
       " \"We are looking for a Senior Software Engineer with extensive experience in creating JVM REST API and who is interested in learning how to manage the Cloud Data Platform of an online fashion retailer. You will use your expertise to create the automation and the services needed to achieve compliance, operational excellence, cost efficiency and data practitioner productivity.\\nWHERE YOUR EXPERTISE IS NEEDED\\nAs part of a data infrastructure platform team, you and your team will own your code, and decide on the technologies and tools to deliver as well as operate large-scale applications and services on PaaS/SaaS cloud (AWS and Google Cloud)\\nConsult and help our teams to develop, implement and maintain sustainable, high-performance, growth-ready data-processing and data integration systems\\nAdding value by leveraging and setting new trends in software engineering through design, architecture and implementation of highly used data services\\nSupport our strategy and come up with innovating ideas to build world class data integration systems one step ahead of the industry\\nWHAT WE'RE LOOKING FOR\\nExpert in Java/Scala and experienced in Python\\nExpert in Spring, Play or equivalent\\nAbility and interest in translating business requirements into technological visions, and reimagining data-processing technologies\\nAmbitious in further optimizing and researching how distributed systems like Presto, Hive and Spark, and serverless technology like AWS Lambda work at scale\\nNice to have:\\nData Engineering experience in Spark\\nCloud Engineering experience in AWS and Google\\nAWS Serverless experience\\nExperience in operating at scale BigQuery, Presto, and Exasol.\\nPERKS AT WORK\\nCulture of trust, empowerment and constructive feedback, open source commitment, meetups, game nights, 70+ internal technical and fun guilds, knowledge sharing through tech talks, internal tech academy and blogs, product demos, parties & events\\nCompetitive salary, employee share shop, 40% Zalando shopping discount, discounts from external partners, centrally located offices, public transport discounts, municipality services, great IT equipment, flexible working times, additional holidays and volunteering time off, free beverages and fruits, diverse sports and health offerings\\nExtensive onboarding, mentoring and personal development opportunities and an international team of experts\\nRelocation assistance for internationals, PME family service and parent & child rooms* (*available in select locations)\\nWe celebrate diversity and are committed to building teams that represent a variety of backgrounds, perspectives and skills. All employment is decided on the basis of qualifications, merit and business need.\\nHeute\\n- Weiter zur Bewerbung\\nDiesen Job melden\")"
      ]
     },
     "execution_count": 24,
     "metadata": {},
     "output_type": "execute_result"
    }
   ],
   "source": [
    "num = 2\n",
    "df_eng['job_title'][num], df_eng['company'][num], df_eng['job_text'][num]"
   ]
  },
  {
   "cell_type": "code",
   "execution_count": 25,
   "id": "interior-conviction",
   "metadata": {
    "scrolled": true,
    "tags": []
   },
   "outputs": [
    {
     "data": {
      "text/plain": [
       "('Senior Data Engineer - Data Platform',\n",
       " 'Zalando',\n",
       " \"As a Senior Data Engineer at Zalando, you'll act as a connector between our data teams and the rest of our diverse engineering department to create high-performance data processing solutions that scale.\\nWHERE YOUR EXPERTISE IS NEEDED\\nAs part of a data infrastructure platform team, you and your team will own your code, and decide on the technologies and tools to deliver as well as operate large-scale applications and data pipelines on PaaS/SaaS cloud (AWS and Google Cloud)\\nConsult and help our teams to develop, implement and maintain sustainable, high-performance, growth-ready data-processing and data integration systems\\nAdding value by leveraging and setting new trends in data engineering through design, architecture and implementation of highly used data services\\nSupport our strategy and come up with innovating ideas to build world class data integration systems one step ahead of the industry\\nWHAT WE'RE LOOKING FOR\\nGood knowledge in Big Data technologies (e.g. Presto, Hive, Spark)\\nCloud Engineering and Cloud Service background (Google BigQuery, AWS S3, Lambda)\\nExperienced in Java, Scala, or Python\\nAbility and interest in translating business requirements into technological visions, and reimagining data-processing technologies\\nAmbitious in further optimizing and researching how distributed systems like Presto, Hive and Spark, and serverless technology like AWS Lambda work at scale\\nPERKS AT WORK\\nCulture of trust, empowerment and constructive feedback, open source commitment, meetups, game nights, 70+ internal technical and fun guilds, knowledge sharing through tech talks, internal tech academy and blogs, product demos, parties & events\\nCompetitive salary, employee share shop, 40% Zalando shopping discount, discounts from external partners, centrally located offices, public transport discounts, municipality services, great IT equipment, flexible working times, additional holidays and volunteering time off, free beverages and fruits, diverse sports and health offerings\\nExtensive onboarding, mentoring and personal development opportunities and an international team of experts\\nRelocation assistance for internationals, PME family service and parent & child rooms* (*available in select locations)\\nWe celebrate diversity and are committed to building teams that represent a variety of backgrounds, perspectives and skills. All employment is decided on the basis of qualifications, merit and business need.\\nVor mehr als 30 Tagen\\n- Weiter zur Bewerbung\\nDiesen Job melden\")"
      ]
     },
     "execution_count": 25,
     "metadata": {},
     "output_type": "execute_result"
    }
   ],
   "source": [
    "num = 173\n",
    "df_eng['job_title'][num], df_eng['company'][num], df_eng['job_text'][num]"
   ]
  },
  {
   "cell_type": "code",
   "execution_count": null,
   "id": "arabic-picture",
   "metadata": {
    "scrolled": true,
    "tags": []
   },
   "outputs": [],
   "source": [
    "num = 174\n",
    "df_eng['job_title'][num], df_eng['company'][num], df_eng['job_text'][num]"
   ]
  },
  {
   "cell_type": "code",
   "execution_count": null,
   "id": "tamil-tanzania",
   "metadata": {
    "scrolled": true,
    "tags": []
   },
   "outputs": [],
   "source": [
    "num = 140\n",
    "df_eng['job_title'][num], df_eng['company'][num], df_eng['job_text'][num]"
   ]
  },
  {
   "cell_type": "code",
   "execution_count": null,
   "id": "architectural-occasion",
   "metadata": {},
   "outputs": [],
   "source": []
  },
  {
   "cell_type": "code",
   "execution_count": null,
   "id": "vietnamese-beach",
   "metadata": {},
   "outputs": [],
   "source": [
    "\"The Purchase Risk Management team is working on the real world highly impactful problem of securing purchasing transactions of Zalando customers by analyzing and mitigating risks during checkout, order processing and return experiences.\""
   ]
  }
 ],
 "metadata": {
  "kernelspec": {
   "display_name": "Python 3",
   "language": "python",
   "name": "python3"
  },
  "language_info": {
   "codemirror_mode": {
    "name": "ipython",
    "version": 3
   },
   "file_extension": ".py",
   "mimetype": "text/x-python",
   "name": "python",
   "nbconvert_exporter": "python",
   "pygments_lexer": "ipython3",
   "version": "3.8.6"
  }
 },
 "nbformat": 4,
 "nbformat_minor": 5
}
