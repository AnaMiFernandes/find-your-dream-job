{
 "cells": [
  {
   "cell_type": "markdown",
   "id": "premium-worship",
   "metadata": {},
   "source": [
    "# vectorizing job offers"
   ]
  },
  {
   "cell_type": "markdown",
   "id": "absolute-canon",
   "metadata": {},
   "source": [
    "## aim\n",
    "- cluster job offeres by similarity based on a dictionary of skills\n",
    "\n",
    "## outline\n",
    "- preprocess doc2vec with full job offers\n",
    "- train model\n",
    "- test similarity of job descriptions\n",
    "- cluster offers (Kmeans, KNN)\n",
    "\n",
    "## outcome\n",
    "unicorns in a meadow"
   ]
  },
  {
   "cell_type": "code",
   "execution_count": 1,
   "id": "general-harmony",
   "metadata": {},
   "outputs": [],
   "source": [
    "import pandas as pd\n",
    "import numpy as np\n",
    "import matplotlib.pyplot as plt\n",
    "from nltk.corpus import stopwords \n",
    "from nltk.tokenize import word_tokenize\n",
    "from nltk.stem import WordNetLemmatizer\n",
    "import gensim\n",
    "import joblib\n",
    "from gensim.models.doc2vec import Doc2Vec, TaggedDocument\n",
    "\n",
    "\n",
    "%matplotlib inline"
   ]
  },
  {
   "cell_type": "code",
   "execution_count": 2,
   "id": "conventional-details",
   "metadata": {},
   "outputs": [],
   "source": [
    "df = joblib.load('../../../raw_data/indeed/ip_2021-03-03.joblib')"
   ]
  },
  {
   "cell_type": "code",
   "execution_count": 3,
   "id": "available-shadow",
   "metadata": {},
   "outputs": [
    {
     "data": {
      "text/plain": [
       "(954, 11)"
      ]
     },
     "execution_count": 3,
     "metadata": {},
     "output_type": "execute_result"
    }
   ],
   "source": [
    "df.shape"
   ]
  },
  {
   "cell_type": "code",
   "execution_count": 4,
   "id": "adjustable-brick",
   "metadata": {},
   "outputs": [
    {
     "data": {
      "text/html": [
       "<div>\n",
       "<style scoped>\n",
       "    .dataframe tbody tr th:only-of-type {\n",
       "        vertical-align: middle;\n",
       "    }\n",
       "\n",
       "    .dataframe tbody tr th {\n",
       "        vertical-align: top;\n",
       "    }\n",
       "\n",
       "    .dataframe thead th {\n",
       "        text-align: right;\n",
       "    }\n",
       "</style>\n",
       "<table border=\"1\" class=\"dataframe\">\n",
       "  <thead>\n",
       "    <tr style=\"text-align: right;\">\n",
       "      <th></th>\n",
       "      <th>job_title</th>\n",
       "      <th>job_text</th>\n",
       "      <th>company</th>\n",
       "      <th>location</th>\n",
       "      <th>job_info</th>\n",
       "      <th>query_text</th>\n",
       "      <th>tag_language</th>\n",
       "      <th>job_info_tokenized</th>\n",
       "      <th>job_text_tokenized</th>\n",
       "      <th>job_text_tokenized_titlecase</th>\n",
       "      <th>job_title_tokenized</th>\n",
       "    </tr>\n",
       "  </thead>\n",
       "  <tbody>\n",
       "    <tr>\n",
       "      <th>0</th>\n",
       "      <td>Data Scientist / Matching Engineer (m/w/d)</td>\n",
       "      <td>You are responsible for improvement of Taledo’...</td>\n",
       "      <td>Taledo</td>\n",
       "      <td>Berlin</td>\n",
       "      <td>Data Scientist / Matching Engineer (m/w/d)\\nTa...</td>\n",
       "      <td>data engineer</td>\n",
       "      <td>en</td>\n",
       "      <td>[data, scientist, matching, engineer, mwd, tal...</td>\n",
       "      <td>[you, are, responsible, for, improvement, of, ...</td>\n",
       "      <td>[You, are, responsible, for, improvement, of, ...</td>\n",
       "      <td>[data, scientist, matching, engineer, mwd]</td>\n",
       "    </tr>\n",
       "    <tr>\n",
       "      <th>1</th>\n",
       "      <td>(Junior) Data Engineer (f/m/x)</td>\n",
       "      <td>Über die Stelle\\nUnser Data Team braucht Unter...</td>\n",
       "      <td>Customlytics GmbH</td>\n",
       "      <td>Berlin</td>\n",
       "      <td>(Junior) Data Engineer (f/m/x)\\nCustomlytics G...</td>\n",
       "      <td>data engineer</td>\n",
       "      <td>de</td>\n",
       "      <td>[junior, data, engineer, fmx, customlytics, gm...</td>\n",
       "      <td>[über, die, stelle, unser, data, team, braucht...</td>\n",
       "      <td>[Über, die, Stelle, Unser, Data, Team, braucht...</td>\n",
       "      <td>[junior, data, engineer, fmx]</td>\n",
       "    </tr>\n",
       "    <tr>\n",
       "      <th>2</th>\n",
       "      <td>Junior Data Scientist (m/w/d) docmetric</td>\n",
       "      <td>Kennziffer:\\nreq6004\\nStandort:\\nBerlin\\nJob S...</td>\n",
       "      <td>CompuGroup Medical</td>\n",
       "      <td>Berlin</td>\n",
       "      <td>Junior Data Scientist (m/w/d) docmetric\\nCompu...</td>\n",
       "      <td>data engineer</td>\n",
       "      <td>de</td>\n",
       "      <td>[junior, data, scientist, mwd, docmetric, comp...</td>\n",
       "      <td>[kennziffer, req, standort, berlin, job, segme...</td>\n",
       "      <td>[Kennziffer, req, Standort, Berlin, Job, Segme...</td>\n",
       "      <td>[junior, data, scientist, mwd, docmetric]</td>\n",
       "    </tr>\n",
       "  </tbody>\n",
       "</table>\n",
       "</div>"
      ],
      "text/plain": [
       "                                    job_title  \\\n",
       "0  Data Scientist / Matching Engineer (m/w/d)   \n",
       "1              (Junior) Data Engineer (f/m/x)   \n",
       "2     Junior Data Scientist (m/w/d) docmetric   \n",
       "\n",
       "                                            job_text             company  \\\n",
       "0  You are responsible for improvement of Taledo’...              Taledo   \n",
       "1  Über die Stelle\\nUnser Data Team braucht Unter...   Customlytics GmbH   \n",
       "2  Kennziffer:\\nreq6004\\nStandort:\\nBerlin\\nJob S...  CompuGroup Medical   \n",
       "\n",
       "  location                                           job_info     query_text  \\\n",
       "0   Berlin  Data Scientist / Matching Engineer (m/w/d)\\nTa...  data engineer   \n",
       "1   Berlin  (Junior) Data Engineer (f/m/x)\\nCustomlytics G...  data engineer   \n",
       "2   Berlin  Junior Data Scientist (m/w/d) docmetric\\nCompu...  data engineer   \n",
       "\n",
       "  tag_language                                 job_info_tokenized  \\\n",
       "0           en  [data, scientist, matching, engineer, mwd, tal...   \n",
       "1           de  [junior, data, engineer, fmx, customlytics, gm...   \n",
       "2           de  [junior, data, scientist, mwd, docmetric, comp...   \n",
       "\n",
       "                                  job_text_tokenized  \\\n",
       "0  [you, are, responsible, for, improvement, of, ...   \n",
       "1  [über, die, stelle, unser, data, team, braucht...   \n",
       "2  [kennziffer, req, standort, berlin, job, segme...   \n",
       "\n",
       "                        job_text_tokenized_titlecase  \\\n",
       "0  [You, are, responsible, for, improvement, of, ...   \n",
       "1  [Über, die, Stelle, Unser, Data, Team, braucht...   \n",
       "2  [Kennziffer, req, Standort, Berlin, Job, Segme...   \n",
       "\n",
       "                          job_title_tokenized  \n",
       "0  [data, scientist, matching, engineer, mwd]  \n",
       "1               [junior, data, engineer, fmx]  \n",
       "2   [junior, data, scientist, mwd, docmetric]  "
      ]
     },
     "execution_count": 4,
     "metadata": {},
     "output_type": "execute_result"
    }
   ],
   "source": [
    "df.head(3)"
   ]
  },
  {
   "cell_type": "code",
   "execution_count": 5,
   "id": "coral-refrigerator",
   "metadata": {},
   "outputs": [],
   "source": [
    "# select english jobs\n",
    "df_eng = df.copy()\n",
    "df_eng = df_eng[df_eng['tag_language'] == 'en']\n",
    "df_eng.reset_index(inplace=True)\n",
    "df_eng.drop(columns='index', inplace=True)"
   ]
  },
  {
   "cell_type": "code",
   "execution_count": 6,
   "id": "serial-handling",
   "metadata": {},
   "outputs": [
    {
     "data": {
      "text/html": [
       "<div>\n",
       "<style scoped>\n",
       "    .dataframe tbody tr th:only-of-type {\n",
       "        vertical-align: middle;\n",
       "    }\n",
       "\n",
       "    .dataframe tbody tr th {\n",
       "        vertical-align: top;\n",
       "    }\n",
       "\n",
       "    .dataframe thead th {\n",
       "        text-align: right;\n",
       "    }\n",
       "</style>\n",
       "<table border=\"1\" class=\"dataframe\">\n",
       "  <thead>\n",
       "    <tr style=\"text-align: right;\">\n",
       "      <th></th>\n",
       "      <th>job_title</th>\n",
       "      <th>job_text</th>\n",
       "      <th>company</th>\n",
       "      <th>location</th>\n",
       "      <th>job_info</th>\n",
       "      <th>query_text</th>\n",
       "      <th>tag_language</th>\n",
       "      <th>job_info_tokenized</th>\n",
       "      <th>job_text_tokenized</th>\n",
       "      <th>job_text_tokenized_titlecase</th>\n",
       "      <th>job_title_tokenized</th>\n",
       "    </tr>\n",
       "  </thead>\n",
       "  <tbody>\n",
       "    <tr>\n",
       "      <th>0</th>\n",
       "      <td>Data Scientist / Matching Engineer (m/w/d)</td>\n",
       "      <td>You are responsible for improvement of Taledo’...</td>\n",
       "      <td>Taledo</td>\n",
       "      <td>Berlin</td>\n",
       "      <td>Data Scientist / Matching Engineer (m/w/d)\\nTa...</td>\n",
       "      <td>data engineer</td>\n",
       "      <td>en</td>\n",
       "      <td>[data, scientist, matching, engineer, mwd, tal...</td>\n",
       "      <td>[you, are, responsible, for, improvement, of, ...</td>\n",
       "      <td>[You, are, responsible, for, improvement, of, ...</td>\n",
       "      <td>[data, scientist, matching, engineer, mwd]</td>\n",
       "    </tr>\n",
       "    <tr>\n",
       "      <th>1</th>\n",
       "      <td>Senior Software Engineer - Data Platform</td>\n",
       "      <td>We are looking for a Senior Software Engineer ...</td>\n",
       "      <td>Zalando SE</td>\n",
       "      <td>Berlin</td>\n",
       "      <td>Senior Software Engineer - Data Platform\\nZala...</td>\n",
       "      <td>data engineer</td>\n",
       "      <td>en</td>\n",
       "      <td>[senior, software, engineer, data, platform, z...</td>\n",
       "      <td>[we, are, looking, for, a, senior, software, e...</td>\n",
       "      <td>[We, are, looking, for, a, Senior, Software, E...</td>\n",
       "      <td>[senior, software, engineer, data, platform]</td>\n",
       "    </tr>\n",
       "    <tr>\n",
       "      <th>2</th>\n",
       "      <td>Senior Software Engineer - Data Platform</td>\n",
       "      <td>We are looking for a Senior Software Engineer ...</td>\n",
       "      <td>Zalando</td>\n",
       "      <td>Berlin</td>\n",
       "      <td>Senior Software Engineer - Data Platform\\nZala...</td>\n",
       "      <td>data engineer</td>\n",
       "      <td>en</td>\n",
       "      <td>[senior, software, engineer, data, platform, z...</td>\n",
       "      <td>[we, are, looking, for, a, senior, software, e...</td>\n",
       "      <td>[We, are, looking, for, a, Senior, Software, E...</td>\n",
       "      <td>[senior, software, engineer, data, platform]</td>\n",
       "    </tr>\n",
       "    <tr>\n",
       "      <th>3</th>\n",
       "      <td>Senior Data Engineer (m/w/t)</td>\n",
       "      <td>As a member of the Data Engineering Team, you ...</td>\n",
       "      <td>Quandoo GmbH</td>\n",
       "      <td>Berlin</td>\n",
       "      <td>Senior Data Engineer (m/w/t)\\nQuandoo GmbH17 B...</td>\n",
       "      <td>data engineer</td>\n",
       "      <td>en</td>\n",
       "      <td>[senior, data, engineer, mwt, quandoo, gmbh, b...</td>\n",
       "      <td>[as, a, member, of, the, data, engineering, te...</td>\n",
       "      <td>[As, a, member, of, the, Data, Engineering, Te...</td>\n",
       "      <td>[senior, data, engineer, mwt]</td>\n",
       "    </tr>\n",
       "    <tr>\n",
       "      <th>4</th>\n",
       "      <td>Data Engineer (w/m/d)</td>\n",
       "      <td>We are digitty.io – an international start-up ...</td>\n",
       "      <td>digitty.io</td>\n",
       "      <td>Berlin</td>\n",
       "      <td>Data Engineer (w/m/d)\\ndigitty.io - Berlin</td>\n",
       "      <td>data engineer</td>\n",
       "      <td>en</td>\n",
       "      <td>[data, engineer, wmd, digittyio, berlin]</td>\n",
       "      <td>[we, are, digittyio, an, international, startu...</td>\n",
       "      <td>[We, are, digittyio, an, international, startu...</td>\n",
       "      <td>[data, engineer, wmd]</td>\n",
       "    </tr>\n",
       "  </tbody>\n",
       "</table>\n",
       "</div>"
      ],
      "text/plain": [
       "                                    job_title  \\\n",
       "0  Data Scientist / Matching Engineer (m/w/d)   \n",
       "1    Senior Software Engineer - Data Platform   \n",
       "2    Senior Software Engineer - Data Platform   \n",
       "3                Senior Data Engineer (m/w/t)   \n",
       "4                       Data Engineer (w/m/d)   \n",
       "\n",
       "                                            job_text       company location  \\\n",
       "0  You are responsible for improvement of Taledo’...        Taledo   Berlin   \n",
       "1  We are looking for a Senior Software Engineer ...    Zalando SE   Berlin   \n",
       "2  We are looking for a Senior Software Engineer ...       Zalando   Berlin   \n",
       "3  As a member of the Data Engineering Team, you ...  Quandoo GmbH   Berlin   \n",
       "4  We are digitty.io – an international start-up ...    digitty.io   Berlin   \n",
       "\n",
       "                                            job_info     query_text  \\\n",
       "0  Data Scientist / Matching Engineer (m/w/d)\\nTa...  data engineer   \n",
       "1  Senior Software Engineer - Data Platform\\nZala...  data engineer   \n",
       "2  Senior Software Engineer - Data Platform\\nZala...  data engineer   \n",
       "3  Senior Data Engineer (m/w/t)\\nQuandoo GmbH17 B...  data engineer   \n",
       "4         Data Engineer (w/m/d)\\ndigitty.io - Berlin  data engineer   \n",
       "\n",
       "  tag_language                                 job_info_tokenized  \\\n",
       "0           en  [data, scientist, matching, engineer, mwd, tal...   \n",
       "1           en  [senior, software, engineer, data, platform, z...   \n",
       "2           en  [senior, software, engineer, data, platform, z...   \n",
       "3           en  [senior, data, engineer, mwt, quandoo, gmbh, b...   \n",
       "4           en           [data, engineer, wmd, digittyio, berlin]   \n",
       "\n",
       "                                  job_text_tokenized  \\\n",
       "0  [you, are, responsible, for, improvement, of, ...   \n",
       "1  [we, are, looking, for, a, senior, software, e...   \n",
       "2  [we, are, looking, for, a, senior, software, e...   \n",
       "3  [as, a, member, of, the, data, engineering, te...   \n",
       "4  [we, are, digittyio, an, international, startu...   \n",
       "\n",
       "                        job_text_tokenized_titlecase  \\\n",
       "0  [You, are, responsible, for, improvement, of, ...   \n",
       "1  [We, are, looking, for, a, Senior, Software, E...   \n",
       "2  [We, are, looking, for, a, Senior, Software, E...   \n",
       "3  [As, a, member, of, the, Data, Engineering, Te...   \n",
       "4  [We, are, digittyio, an, international, startu...   \n",
       "\n",
       "                            job_title_tokenized  \n",
       "0    [data, scientist, matching, engineer, mwd]  \n",
       "1  [senior, software, engineer, data, platform]  \n",
       "2  [senior, software, engineer, data, platform]  \n",
       "3                 [senior, data, engineer, mwt]  \n",
       "4                         [data, engineer, wmd]  "
      ]
     },
     "execution_count": 6,
     "metadata": {},
     "output_type": "execute_result"
    }
   ],
   "source": [
    "df_eng.head()"
   ]
  },
  {
   "cell_type": "code",
   "execution_count": 7,
   "id": "retired-extent",
   "metadata": {},
   "outputs": [],
   "source": [
    "# join strings\n",
    "def join_strings(text):\n",
    "    return ' '.join(text)"
   ]
  },
  {
   "cell_type": "code",
   "execution_count": 8,
   "id": "better-prague",
   "metadata": {},
   "outputs": [],
   "source": [
    "# lemmatize\n",
    "def lemmatize_words(word):\n",
    "    lemmatizer = WordNetLemmatizer()\n",
    "    lemmatized = lemmatizer.lemmatize(word)\n",
    "\n",
    "    return lemmatized"
   ]
  },
  {
   "cell_type": "code",
   "execution_count": 9,
   "id": "caring-soldier",
   "metadata": {},
   "outputs": [],
   "source": [
    "# remove stopwords\n",
    "def remove_stopwords(text):\n",
    "\n",
    "    stop_words = set(stopwords.words('english'))\n",
    "    word_tokens = word_tokenize(text) \n",
    "    text = [w for w in word_tokens if not w in stop_words] \n",
    "  \n",
    "    return text\n",
    "\n",
    "#['heute', 'weiter', 'zur', 'bewerbung', 'diesen', 'job', 'melden']"
   ]
  },
  {
   "cell_type": "code",
   "execution_count": 10,
   "id": "fiscal-fraction",
   "metadata": {},
   "outputs": [],
   "source": [
    "# process text\n",
    "df_eng['clean'] = df_eng['job_text_tokenized'].apply(join_strings).apply(lemmatize_words).apply(remove_stopwords)"
   ]
  },
  {
   "cell_type": "code",
   "execution_count": 11,
   "id": "nutritional-summary",
   "metadata": {},
   "outputs": [
    {
     "data": {
      "text/plain": [
       "0      [responsible, improvement, taledos, search, ma...\n",
       "1      [looking, senior, software, engineer, extensiv...\n",
       "2      [looking, senior, software, engineer, extensiv...\n",
       "3      [member, data, engineering, team, responsible,...\n",
       "4      [digittyio, international, startup, headquarte...\n",
       "                             ...                        \n",
       "702    [zalando, fulfillment, solutions, team, lookin...\n",
       "703    [caya, digitizes, small, mediumsized, business...\n",
       "704    [position, youll, first, point, contact, comes...\n",
       "705    [position, youll, first, point, contact, comes...\n",
       "706    [digitize, logistics, industry, bn, market, eu...\n",
       "Name: clean, Length: 707, dtype: object"
      ]
     },
     "execution_count": 11,
     "metadata": {},
     "output_type": "execute_result"
    }
   ],
   "source": [
    "df_eng['clean']"
   ]
  },
  {
   "cell_type": "markdown",
   "id": "derived-tourism",
   "metadata": {},
   "source": [
    "## model d2v - whole text"
   ]
  },
  {
   "cell_type": "code",
   "execution_count": 12,
   "id": "indirect-agency",
   "metadata": {},
   "outputs": [
    {
     "data": {
      "text/plain": [
       "TaggedDocument(words=['responsible', 'improvement', 'taledos', 'search', 'matching', 'engine', 'candidates', 'jobs', 'business', 'drivers', 'data', 'science', 'develop', 'compare', 'different', 'algorithmic', 'approaches', 'andor', 'ml', 'models', 'monitor', 'production', 'performance', 'measure', 'success', 'work', 'update', 'outdated', 'models', 'research', 'discuss', 'algorithmical', 'well', 'model', 'improvements', 'regularly', 'knowledgeable', 'developed', 'ai', 'community', 'propose', 'whats', 'applicable', 'taledo', 'expect', 'curious', 'nature', 'like', 'solve', 'challenging', 'problems', 'proficient', 'python', 'worked', 'relevant', 'libraries', 'know', 'use', 'data', 'handling', 'numpy', 'pandas', 'dask', 'psycopg', 'mldl', 'scikitlearn', 'xgboost', 'keras', 'pytorch', 'spacy', 'visualization', 'seaborn', 'matplotlib', 'experience', 'evaluating', 'different', 'approaches', 'choosing', 'appropriate', 'metric', 'worked', 'search', 'matching', 'nlp', 'using', 'various', 'approaches', 'mldl', 'besides', 'success', 'stories', 'also', 'know', 'hasnt', 'worked', 'experience', 'elasticsearch', 'plus', 'translate', 'user', 'talk', 'observed', 'behaviour', 'algorithmic', 'approach', 'switch', 'fluently', 'levels', 'details', 'big', 'picture', 'algorithmical', 'details', 'creative', 'generate', 'ideas', 'revolutionizing', 'industry', 'wed', 'love', 'see', 'exceptional', 'ideas', 'youve', 'handson', 'like', 'get', 'things', 'done', 'work', 'autonomously', 'proactive', 'speak', 'fluent', 'english', 'berlin', 'plus', 'offer', 'work', 'challenging', 'domain', 'matching', 'candidates', 'jobs', 'work', 'mission', 'real', 'impact', 'people', 'direct', 'impact', 'candidates', 'career', 'development', 'work', 'decides', 'put', 'cv', 'furthermore', 'support', 'companies', 'important', 'asset', 'people', 'responsibility', 'start', 'flat', 'hierarchy', 'environment', 'doer', 'maker', 'mindset', 'contribute', 'directly', 'taledos', 'growth', 'story', 'leave', 'footprint', 'trustful', 'environment', 'open', 'conversations', 'transparency', 'blame', 'shame', 'culture', 'team', 'personal', 'development', 'plan', 'discussed', 'manager', 'individually', 'frequent', 'feedback', 'manager', 'knowledge', 'sharing', 'constant', 'learning', 'eg', 'educational', 'budget', 'hackathons', 'flexible', 'working', 'hours', 'home', 'office', 'maybe', 'attractive', 'corona', 'office', 'additional', 'vacation', 'days', 'based', 'tenure', 'seniority', 'international', 'team', 'team', 'events', 'socializing', 'activities', 'taledo', 'allinone', 'suite', 'talent', 'acquisition', 'relations', 'offer', 'talent', 'marketing', 'recruiting', 'service', 'candidate', 'management', 'single', 'platform', 'part', 'solution', 'matching', 'top', 'candidates', 'best', 'companies', 'germany', 'received', 'funding', 'eu', 'besides', 'technology', 'team', 'recruiting', 'experts', 'dont', 'lose', 'human', 'touch', 'oftentimes', 'missing', 'recruiting', 'solutions', 'heute', 'weiter', 'zur', 'bewerbung', 'diesen', 'job', 'melden'], tags=['tag_0'])"
      ]
     },
     "execution_count": 12,
     "metadata": {},
     "output_type": "execute_result"
    }
   ],
   "source": [
    "# tag texts\n",
    "\n",
    "texts = df_eng['clean']\n",
    "texts_tagged = [TaggedDocument(text, tags=['tag_'+str(tag)]) for tag, text in enumerate(texts)]\n",
    "texts_tagged[0]"
   ]
  },
  {
   "cell_type": "code",
   "execution_count": 13,
   "id": "virtual-romance",
   "metadata": {},
   "outputs": [
    {
     "data": {
      "text/plain": [
       "707"
      ]
     },
     "execution_count": 13,
     "metadata": {},
     "output_type": "execute_result"
    }
   ],
   "source": [
    "len(texts_tagged)"
   ]
  },
  {
   "cell_type": "code",
   "execution_count": 14,
   "id": "checked-marsh",
   "metadata": {},
   "outputs": [],
   "source": [
    "# build vocabulary with CBOW (dm=0) - ie build model\n",
    "model_dbow = Doc2Vec(documents=texts_tagged,\n",
    "                     dm=0,\n",
    "                     alpha=0.025,\n",
    "                     vector_size=len(texts_tagged), \n",
    "                     min_count=0)"
   ]
  },
  {
   "cell_type": "code",
   "execution_count": 15,
   "id": "heard-procurement",
   "metadata": {},
   "outputs": [
    {
     "data": {
      "text/plain": [
       "<gensim.models.doc2vec.Doc2Vec at 0x1088540d0>"
      ]
     },
     "execution_count": 15,
     "metadata": {},
     "output_type": "execute_result"
    }
   ],
   "source": [
    "model_dbow"
   ]
  },
  {
   "cell_type": "code",
   "execution_count": null,
   "id": "rural-updating",
   "metadata": {},
   "outputs": [],
   "source": [
    "for epoch in range(10):\n",
    "    if epoch % 2 == 0:\n",
    "        print(f'training epoch {epoch}')\n",
    "    model.tr"
   ]
  },
  {
   "cell_type": "code",
   "execution_count": null,
   "id": "accurate-oasis",
   "metadata": {},
   "outputs": [],
   "source": []
  },
  {
   "cell_type": "code",
   "execution_count": null,
   "id": "warming-blanket",
   "metadata": {},
   "outputs": [],
   "source": [
    "\n",
    "for epoch in range(30):\n",
    "    model_dbow.train(utils.shuffle([x for x in tqdm(train_tagged.values)]), total_examples=len(train_tagged.values), epochs=1)\n",
    "    model_dbow.alpha -= 0.002\n",
    "    model_dbow.min_alpha = model_dbow.alpha\n"
   ]
  },
  {
   "cell_type": "code",
   "execution_count": null,
   "id": "extreme-transparency",
   "metadata": {},
   "outputs": [],
   "source": [
    "model_dbow = Doc2Vec(dm=0, vector_size=300, negative=5, hs=0, min_count=2, sample = 0, workers=cores)\n",
    "model_dbow.build_vocab([x for x in tqdm(train_tagged.values)])"
   ]
  }
 ],
 "metadata": {
  "kernelspec": {
   "display_name": "Python 3",
   "language": "python",
   "name": "python3"
  },
  "language_info": {
   "codemirror_mode": {
    "name": "ipython",
    "version": 3
   },
   "file_extension": ".py",
   "mimetype": "text/x-python",
   "name": "python",
   "nbconvert_exporter": "python",
   "pygments_lexer": "ipython3",
   "version": "3.8.6"
  }
 },
 "nbformat": 4,
 "nbformat_minor": 5
}
