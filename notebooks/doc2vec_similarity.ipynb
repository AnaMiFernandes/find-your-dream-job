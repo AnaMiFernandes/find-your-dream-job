{
 "cells": [
  {
   "cell_type": "markdown",
   "id": "double-passage",
   "metadata": {},
   "source": [
    "# vectorizing job offers"
   ]
  },
  {
   "cell_type": "markdown",
   "id": "bored-adams",
   "metadata": {},
   "source": [
    "## aim\n",
    "- cluster job offeres by similarity based on a dictionary of skills\n",
    "\n",
    "## outline\n",
    "- preprocess doc2vec with full job offers\n",
    "- train model\n",
    "- test similarity of job descriptions\n",
    "- cluster offers (Kmeans, KNN)\n",
    "\n",
    "## outcome\n",
    "unicorns in a meadow"
   ]
  },
  {
   "cell_type": "code",
   "execution_count": 2,
   "id": "assigned-patrick",
   "metadata": {},
   "outputs": [],
   "source": [
    "import pandas as pd\n",
    "import numpy as np\n",
    "import matplotlib.pyplot as plt\n",
    "from nltk.corpus import stopwords \n",
    "from nltk.tokenize import word_tokenize\n",
    "from nltk.stem import WordNetLemmatizer\n",
    "import gensim\n",
    "import joblib\n",
    "from gensim.models.doc2vec import Doc2Vec, TaggedDocument\n",
    "from pprint import pprint\n",
    "\n",
    "\n",
    "%matplotlib inline"
   ]
  },
  {
   "cell_type": "code",
   "execution_count": 3,
   "id": "abroad-trial",
   "metadata": {},
   "outputs": [],
   "source": [
    "df = joblib.load('../../../raw_data/indeed/ip_2021-03-03.joblib')"
   ]
  },
  {
   "cell_type": "code",
   "execution_count": 4,
   "id": "featured-rates",
   "metadata": {},
   "outputs": [
    {
     "data": {
      "text/plain": [
       "(954, 11)"
      ]
     },
     "execution_count": 4,
     "metadata": {},
     "output_type": "execute_result"
    }
   ],
   "source": [
    "df.shape"
   ]
  },
  {
   "cell_type": "code",
   "execution_count": 5,
   "id": "private-instrument",
   "metadata": {},
   "outputs": [
    {
     "data": {
      "text/html": [
       "<div>\n",
       "<style scoped>\n",
       "    .dataframe tbody tr th:only-of-type {\n",
       "        vertical-align: middle;\n",
       "    }\n",
       "\n",
       "    .dataframe tbody tr th {\n",
       "        vertical-align: top;\n",
       "    }\n",
       "\n",
       "    .dataframe thead th {\n",
       "        text-align: right;\n",
       "    }\n",
       "</style>\n",
       "<table border=\"1\" class=\"dataframe\">\n",
       "  <thead>\n",
       "    <tr style=\"text-align: right;\">\n",
       "      <th></th>\n",
       "      <th>job_title</th>\n",
       "      <th>job_text</th>\n",
       "      <th>company</th>\n",
       "      <th>location</th>\n",
       "      <th>job_info</th>\n",
       "      <th>query_text</th>\n",
       "      <th>tag_language</th>\n",
       "      <th>job_info_tokenized</th>\n",
       "      <th>job_text_tokenized</th>\n",
       "      <th>job_text_tokenized_titlecase</th>\n",
       "      <th>job_title_tokenized</th>\n",
       "    </tr>\n",
       "  </thead>\n",
       "  <tbody>\n",
       "    <tr>\n",
       "      <th>0</th>\n",
       "      <td>Data Scientist / Matching Engineer (m/w/d)</td>\n",
       "      <td>You are responsible for improvement of Taledo’...</td>\n",
       "      <td>Taledo</td>\n",
       "      <td>Berlin</td>\n",
       "      <td>Data Scientist / Matching Engineer (m/w/d)\\nTa...</td>\n",
       "      <td>data engineer</td>\n",
       "      <td>en</td>\n",
       "      <td>[data, scientist, matching, engineer, mwd, tal...</td>\n",
       "      <td>[you, are, responsible, for, improvement, of, ...</td>\n",
       "      <td>[You, are, responsible, for, improvement, of, ...</td>\n",
       "      <td>[data, scientist, matching, engineer, mwd]</td>\n",
       "    </tr>\n",
       "    <tr>\n",
       "      <th>1</th>\n",
       "      <td>(Junior) Data Engineer (f/m/x)</td>\n",
       "      <td>Über die Stelle\\nUnser Data Team braucht Unter...</td>\n",
       "      <td>Customlytics GmbH</td>\n",
       "      <td>Berlin</td>\n",
       "      <td>(Junior) Data Engineer (f/m/x)\\nCustomlytics G...</td>\n",
       "      <td>data engineer</td>\n",
       "      <td>de</td>\n",
       "      <td>[junior, data, engineer, fmx, customlytics, gm...</td>\n",
       "      <td>[über, die, stelle, unser, data, team, braucht...</td>\n",
       "      <td>[Über, die, Stelle, Unser, Data, Team, braucht...</td>\n",
       "      <td>[junior, data, engineer, fmx]</td>\n",
       "    </tr>\n",
       "    <tr>\n",
       "      <th>2</th>\n",
       "      <td>Junior Data Scientist (m/w/d) docmetric</td>\n",
       "      <td>Kennziffer:\\nreq6004\\nStandort:\\nBerlin\\nJob S...</td>\n",
       "      <td>CompuGroup Medical</td>\n",
       "      <td>Berlin</td>\n",
       "      <td>Junior Data Scientist (m/w/d) docmetric\\nCompu...</td>\n",
       "      <td>data engineer</td>\n",
       "      <td>de</td>\n",
       "      <td>[junior, data, scientist, mwd, docmetric, comp...</td>\n",
       "      <td>[kennziffer, req, standort, berlin, job, segme...</td>\n",
       "      <td>[Kennziffer, req, Standort, Berlin, Job, Segme...</td>\n",
       "      <td>[junior, data, scientist, mwd, docmetric]</td>\n",
       "    </tr>\n",
       "  </tbody>\n",
       "</table>\n",
       "</div>"
      ],
      "text/plain": [
       "                                    job_title  \\\n",
       "0  Data Scientist / Matching Engineer (m/w/d)   \n",
       "1              (Junior) Data Engineer (f/m/x)   \n",
       "2     Junior Data Scientist (m/w/d) docmetric   \n",
       "\n",
       "                                            job_text             company  \\\n",
       "0  You are responsible for improvement of Taledo’...              Taledo   \n",
       "1  Über die Stelle\\nUnser Data Team braucht Unter...   Customlytics GmbH   \n",
       "2  Kennziffer:\\nreq6004\\nStandort:\\nBerlin\\nJob S...  CompuGroup Medical   \n",
       "\n",
       "  location                                           job_info     query_text  \\\n",
       "0   Berlin  Data Scientist / Matching Engineer (m/w/d)\\nTa...  data engineer   \n",
       "1   Berlin  (Junior) Data Engineer (f/m/x)\\nCustomlytics G...  data engineer   \n",
       "2   Berlin  Junior Data Scientist (m/w/d) docmetric\\nCompu...  data engineer   \n",
       "\n",
       "  tag_language                                 job_info_tokenized  \\\n",
       "0           en  [data, scientist, matching, engineer, mwd, tal...   \n",
       "1           de  [junior, data, engineer, fmx, customlytics, gm...   \n",
       "2           de  [junior, data, scientist, mwd, docmetric, comp...   \n",
       "\n",
       "                                  job_text_tokenized  \\\n",
       "0  [you, are, responsible, for, improvement, of, ...   \n",
       "1  [über, die, stelle, unser, data, team, braucht...   \n",
       "2  [kennziffer, req, standort, berlin, job, segme...   \n",
       "\n",
       "                        job_text_tokenized_titlecase  \\\n",
       "0  [You, are, responsible, for, improvement, of, ...   \n",
       "1  [Über, die, Stelle, Unser, Data, Team, braucht...   \n",
       "2  [Kennziffer, req, Standort, Berlin, Job, Segme...   \n",
       "\n",
       "                          job_title_tokenized  \n",
       "0  [data, scientist, matching, engineer, mwd]  \n",
       "1               [junior, data, engineer, fmx]  \n",
       "2   [junior, data, scientist, mwd, docmetric]  "
      ]
     },
     "execution_count": 5,
     "metadata": {},
     "output_type": "execute_result"
    }
   ],
   "source": [
    "df.head(3)"
   ]
  },
  {
   "cell_type": "code",
   "execution_count": 6,
   "id": "banner-antique",
   "metadata": {},
   "outputs": [],
   "source": [
    "# select english jobs\n",
    "df_eng = df.copy()\n",
    "df_eng = df_eng[df_eng['tag_language'] == 'en']\n",
    "df_eng.reset_index(inplace=True)\n",
    "df_eng.drop(columns='index', inplace=True)"
   ]
  },
  {
   "cell_type": "code",
   "execution_count": 7,
   "id": "hollywood-botswana",
   "metadata": {},
   "outputs": [
    {
     "data": {
      "text/html": [
       "<div>\n",
       "<style scoped>\n",
       "    .dataframe tbody tr th:only-of-type {\n",
       "        vertical-align: middle;\n",
       "    }\n",
       "\n",
       "    .dataframe tbody tr th {\n",
       "        vertical-align: top;\n",
       "    }\n",
       "\n",
       "    .dataframe thead th {\n",
       "        text-align: right;\n",
       "    }\n",
       "</style>\n",
       "<table border=\"1\" class=\"dataframe\">\n",
       "  <thead>\n",
       "    <tr style=\"text-align: right;\">\n",
       "      <th></th>\n",
       "      <th>job_title</th>\n",
       "      <th>job_text</th>\n",
       "      <th>company</th>\n",
       "      <th>location</th>\n",
       "      <th>job_info</th>\n",
       "      <th>query_text</th>\n",
       "      <th>tag_language</th>\n",
       "      <th>job_info_tokenized</th>\n",
       "      <th>job_text_tokenized</th>\n",
       "      <th>job_text_tokenized_titlecase</th>\n",
       "      <th>job_title_tokenized</th>\n",
       "    </tr>\n",
       "  </thead>\n",
       "  <tbody>\n",
       "    <tr>\n",
       "      <th>0</th>\n",
       "      <td>Data Scientist / Matching Engineer (m/w/d)</td>\n",
       "      <td>You are responsible for improvement of Taledo’...</td>\n",
       "      <td>Taledo</td>\n",
       "      <td>Berlin</td>\n",
       "      <td>Data Scientist / Matching Engineer (m/w/d)\\nTa...</td>\n",
       "      <td>data engineer</td>\n",
       "      <td>en</td>\n",
       "      <td>[data, scientist, matching, engineer, mwd, tal...</td>\n",
       "      <td>[you, are, responsible, for, improvement, of, ...</td>\n",
       "      <td>[You, are, responsible, for, improvement, of, ...</td>\n",
       "      <td>[data, scientist, matching, engineer, mwd]</td>\n",
       "    </tr>\n",
       "    <tr>\n",
       "      <th>1</th>\n",
       "      <td>Senior Software Engineer - Data Platform</td>\n",
       "      <td>We are looking for a Senior Software Engineer ...</td>\n",
       "      <td>Zalando SE</td>\n",
       "      <td>Berlin</td>\n",
       "      <td>Senior Software Engineer - Data Platform\\nZala...</td>\n",
       "      <td>data engineer</td>\n",
       "      <td>en</td>\n",
       "      <td>[senior, software, engineer, data, platform, z...</td>\n",
       "      <td>[we, are, looking, for, a, senior, software, e...</td>\n",
       "      <td>[We, are, looking, for, a, Senior, Software, E...</td>\n",
       "      <td>[senior, software, engineer, data, platform]</td>\n",
       "    </tr>\n",
       "    <tr>\n",
       "      <th>2</th>\n",
       "      <td>Senior Software Engineer - Data Platform</td>\n",
       "      <td>We are looking for a Senior Software Engineer ...</td>\n",
       "      <td>Zalando</td>\n",
       "      <td>Berlin</td>\n",
       "      <td>Senior Software Engineer - Data Platform\\nZala...</td>\n",
       "      <td>data engineer</td>\n",
       "      <td>en</td>\n",
       "      <td>[senior, software, engineer, data, platform, z...</td>\n",
       "      <td>[we, are, looking, for, a, senior, software, e...</td>\n",
       "      <td>[We, are, looking, for, a, Senior, Software, E...</td>\n",
       "      <td>[senior, software, engineer, data, platform]</td>\n",
       "    </tr>\n",
       "    <tr>\n",
       "      <th>3</th>\n",
       "      <td>Senior Data Engineer (m/w/t)</td>\n",
       "      <td>As a member of the Data Engineering Team, you ...</td>\n",
       "      <td>Quandoo GmbH</td>\n",
       "      <td>Berlin</td>\n",
       "      <td>Senior Data Engineer (m/w/t)\\nQuandoo GmbH17 B...</td>\n",
       "      <td>data engineer</td>\n",
       "      <td>en</td>\n",
       "      <td>[senior, data, engineer, mwt, quandoo, gmbh, b...</td>\n",
       "      <td>[as, a, member, of, the, data, engineering, te...</td>\n",
       "      <td>[As, a, member, of, the, Data, Engineering, Te...</td>\n",
       "      <td>[senior, data, engineer, mwt]</td>\n",
       "    </tr>\n",
       "    <tr>\n",
       "      <th>4</th>\n",
       "      <td>Data Engineer (w/m/d)</td>\n",
       "      <td>We are digitty.io – an international start-up ...</td>\n",
       "      <td>digitty.io</td>\n",
       "      <td>Berlin</td>\n",
       "      <td>Data Engineer (w/m/d)\\ndigitty.io - Berlin</td>\n",
       "      <td>data engineer</td>\n",
       "      <td>en</td>\n",
       "      <td>[data, engineer, wmd, digittyio, berlin]</td>\n",
       "      <td>[we, are, digittyio, an, international, startu...</td>\n",
       "      <td>[We, are, digittyio, an, international, startu...</td>\n",
       "      <td>[data, engineer, wmd]</td>\n",
       "    </tr>\n",
       "  </tbody>\n",
       "</table>\n",
       "</div>"
      ],
      "text/plain": [
       "                                    job_title  \\\n",
       "0  Data Scientist / Matching Engineer (m/w/d)   \n",
       "1    Senior Software Engineer - Data Platform   \n",
       "2    Senior Software Engineer - Data Platform   \n",
       "3                Senior Data Engineer (m/w/t)   \n",
       "4                       Data Engineer (w/m/d)   \n",
       "\n",
       "                                            job_text       company location  \\\n",
       "0  You are responsible for improvement of Taledo’...        Taledo   Berlin   \n",
       "1  We are looking for a Senior Software Engineer ...    Zalando SE   Berlin   \n",
       "2  We are looking for a Senior Software Engineer ...       Zalando   Berlin   \n",
       "3  As a member of the Data Engineering Team, you ...  Quandoo GmbH   Berlin   \n",
       "4  We are digitty.io – an international start-up ...    digitty.io   Berlin   \n",
       "\n",
       "                                            job_info     query_text  \\\n",
       "0  Data Scientist / Matching Engineer (m/w/d)\\nTa...  data engineer   \n",
       "1  Senior Software Engineer - Data Platform\\nZala...  data engineer   \n",
       "2  Senior Software Engineer - Data Platform\\nZala...  data engineer   \n",
       "3  Senior Data Engineer (m/w/t)\\nQuandoo GmbH17 B...  data engineer   \n",
       "4         Data Engineer (w/m/d)\\ndigitty.io - Berlin  data engineer   \n",
       "\n",
       "  tag_language                                 job_info_tokenized  \\\n",
       "0           en  [data, scientist, matching, engineer, mwd, tal...   \n",
       "1           en  [senior, software, engineer, data, platform, z...   \n",
       "2           en  [senior, software, engineer, data, platform, z...   \n",
       "3           en  [senior, data, engineer, mwt, quandoo, gmbh, b...   \n",
       "4           en           [data, engineer, wmd, digittyio, berlin]   \n",
       "\n",
       "                                  job_text_tokenized  \\\n",
       "0  [you, are, responsible, for, improvement, of, ...   \n",
       "1  [we, are, looking, for, a, senior, software, e...   \n",
       "2  [we, are, looking, for, a, senior, software, e...   \n",
       "3  [as, a, member, of, the, data, engineering, te...   \n",
       "4  [we, are, digittyio, an, international, startu...   \n",
       "\n",
       "                        job_text_tokenized_titlecase  \\\n",
       "0  [You, are, responsible, for, improvement, of, ...   \n",
       "1  [We, are, looking, for, a, Senior, Software, E...   \n",
       "2  [We, are, looking, for, a, Senior, Software, E...   \n",
       "3  [As, a, member, of, the, Data, Engineering, Te...   \n",
       "4  [We, are, digittyio, an, international, startu...   \n",
       "\n",
       "                            job_title_tokenized  \n",
       "0    [data, scientist, matching, engineer, mwd]  \n",
       "1  [senior, software, engineer, data, platform]  \n",
       "2  [senior, software, engineer, data, platform]  \n",
       "3                 [senior, data, engineer, mwt]  \n",
       "4                         [data, engineer, wmd]  "
      ]
     },
     "execution_count": 7,
     "metadata": {},
     "output_type": "execute_result"
    }
   ],
   "source": [
    "df_eng.head()"
   ]
  },
  {
   "cell_type": "code",
   "execution_count": 8,
   "id": "initial-student",
   "metadata": {},
   "outputs": [],
   "source": [
    "# join strings\n",
    "def join_strings(text):\n",
    "    return ' '.join(text)"
   ]
  },
  {
   "cell_type": "code",
   "execution_count": 9,
   "id": "certified-departure",
   "metadata": {},
   "outputs": [],
   "source": [
    "# lemmatize\n",
    "def lemmatize_words(word):\n",
    "    lemmatizer = WordNetLemmatizer()\n",
    "    lemmatized = lemmatizer.lemmatize(word)\n",
    "\n",
    "    return lemmatized"
   ]
  },
  {
   "cell_type": "code",
   "execution_count": 10,
   "id": "joint-values",
   "metadata": {},
   "outputs": [],
   "source": [
    "# remove stopwords\n",
    "def remove_stopwords(text):\n",
    "\n",
    "    stop_words = set(stopwords.words('english'))\n",
    "    word_tokens = word_tokenize(text) \n",
    "    text = [w for w in word_tokens if not w in stop_words] \n",
    "  \n",
    "    return text\n",
    "\n",
    "#['heute', 'weiter', 'zur', 'bewerbung', 'diesen', 'job', 'melden']"
   ]
  },
  {
   "cell_type": "code",
   "execution_count": 11,
   "id": "beautiful-advance",
   "metadata": {},
   "outputs": [],
   "source": [
    "# process text\n",
    "df_eng['clean'] = df_eng['job_text_tokenized'].apply(join_strings).apply(lemmatize_words)\\\n",
    "    .apply(remove_stopwords)"
   ]
  },
  {
   "cell_type": "code",
   "execution_count": 2,
   "id": "military-tyler",
   "metadata": {},
   "outputs": [
    {
     "ename": "NameError",
     "evalue": "name 'df_eng' is not defined",
     "output_type": "error",
     "traceback": [
      "\u001b[0;31m---------------------------------------------------------------------------\u001b[0m",
      "\u001b[0;31mNameError\u001b[0m                                 Traceback (most recent call last)",
      "\u001b[0;32m<ipython-input-2-44c38f623d4d>\u001b[0m in \u001b[0;36m<module>\u001b[0;34m\u001b[0m\n\u001b[0;32m----> 1\u001b[0;31m \u001b[0mdf_eng\u001b[0m\u001b[0;34m[\u001b[0m\u001b[0;34m'clean'\u001b[0m\u001b[0;34m]\u001b[0m\u001b[0;34m\u001b[0m\u001b[0;34m\u001b[0m\u001b[0m\n\u001b[0m",
      "\u001b[0;31mNameError\u001b[0m: name 'df_eng' is not defined"
     ]
    }
   ],
   "source": [
    "df_eng['clean']"
   ]
  },
  {
   "cell_type": "markdown",
   "id": "subjective-scale",
   "metadata": {},
   "source": [
    "## model doc2vec"
   ]
  },
  {
   "cell_type": "markdown",
   "id": "sticky-deficit",
   "metadata": {},
   "source": [
    "Conclusions :)\n",
    "- model performs ok, but tends to cluster according to company\n",
    "- texts with very high similarity are duplicated job adds (maybe filter out > 0.95?) \n",
    "- looks like the model first shows offers based on duplicates, then company, then position (probably because of semantics)"
   ]
  },
  {
   "cell_type": "code",
   "execution_count": 13,
   "id": "certified-plane",
   "metadata": {},
   "outputs": [
    {
     "data": {
      "text/plain": [
       "TaggedDocument(words=['responsible', 'improvement', 'taledos', 'search', 'matching', 'engine', 'candidates', 'jobs', 'business', 'drivers', 'data', 'science', 'develop', 'compare', 'different', 'algorithmic', 'approaches', 'andor', 'ml', 'models', 'monitor', 'production', 'performance', 'measure', 'success', 'work', 'update', 'outdated', 'models', 'research', 'discuss', 'algorithmical', 'well', 'model', 'improvements', 'regularly', 'knowledgeable', 'developed', 'ai', 'community', 'propose', 'whats', 'applicable', 'taledo', 'expect', 'curious', 'nature', 'like', 'solve', 'challenging', 'problems', 'proficient', 'python', 'worked', 'relevant', 'libraries', 'know', 'use', 'data', 'handling', 'numpy', 'pandas', 'dask', 'psycopg', 'mldl', 'scikitlearn', 'xgboost', 'keras', 'pytorch', 'spacy', 'visualization', 'seaborn', 'matplotlib', 'experience', 'evaluating', 'different', 'approaches', 'choosing', 'appropriate', 'metric', 'worked', 'search', 'matching', 'nlp', 'using', 'various', 'approaches', 'mldl', 'besides', 'success', 'stories', 'also', 'know', 'hasnt', 'worked', 'experience', 'elasticsearch', 'plus', 'translate', 'user', 'talk', 'observed', 'behaviour', 'algorithmic', 'approach', 'switch', 'fluently', 'levels', 'details', 'big', 'picture', 'algorithmical', 'details', 'creative', 'generate', 'ideas', 'revolutionizing', 'industry', 'wed', 'love', 'see', 'exceptional', 'ideas', 'youve', 'handson', 'like', 'get', 'things', 'done', 'work', 'autonomously', 'proactive', 'speak', 'fluent', 'english', 'berlin', 'plus', 'offer', 'work', 'challenging', 'domain', 'matching', 'candidates', 'jobs', 'work', 'mission', 'real', 'impact', 'people', 'direct', 'impact', 'candidates', 'career', 'development', 'work', 'decides', 'put', 'cv', 'furthermore', 'support', 'companies', 'important', 'asset', 'people', 'responsibility', 'start', 'flat', 'hierarchy', 'environment', 'doer', 'maker', 'mindset', 'contribute', 'directly', 'taledos', 'growth', 'story', 'leave', 'footprint', 'trustful', 'environment', 'open', 'conversations', 'transparency', 'blame', 'shame', 'culture', 'team', 'personal', 'development', 'plan', 'discussed', 'manager', 'individually', 'frequent', 'feedback', 'manager', 'knowledge', 'sharing', 'constant', 'learning', 'eg', 'educational', 'budget', 'hackathons', 'flexible', 'working', 'hours', 'home', 'office', 'maybe', 'attractive', 'corona', 'office', 'additional', 'vacation', 'days', 'based', 'tenure', 'seniority', 'international', 'team', 'team', 'events', 'socializing', 'activities', 'taledo', 'allinone', 'suite', 'talent', 'acquisition', 'relations', 'offer', 'talent', 'marketing', 'recruiting', 'service', 'candidate', 'management', 'single', 'platform', 'part', 'solution', 'matching', 'top', 'candidates', 'best', 'companies', 'germany', 'received', 'funding', 'eu', 'besides', 'technology', 'team', 'recruiting', 'experts', 'dont', 'lose', 'human', 'touch', 'oftentimes', 'missing', 'recruiting', 'solutions', 'heute', 'weiter', 'zur', 'bewerbung', 'diesen', 'job', 'melden'], tags=['tag_0'])"
      ]
     },
     "execution_count": 13,
     "metadata": {},
     "output_type": "execute_result"
    }
   ],
   "source": [
    "# tag texts\n",
    "texts = df_eng['clean']\n",
    "texts_tagged = [TaggedDocument(text, tags=['tag_'+str(tag)]) for tag, text in enumerate(texts)]\n",
    "texts_tagged[0]"
   ]
  },
  {
   "cell_type": "code",
   "execution_count": 14,
   "id": "popular-observation",
   "metadata": {},
   "outputs": [
    {
     "data": {
      "text/plain": [
       "707"
      ]
     },
     "execution_count": 14,
     "metadata": {},
     "output_type": "execute_result"
    }
   ],
   "source": [
    "len(texts_tagged)"
   ]
  },
  {
   "cell_type": "code",
   "execution_count": 15,
   "id": "fabulous-million",
   "metadata": {},
   "outputs": [],
   "source": [
    "# build vocabulary with CBOW (dm=0) - instanciate model\n",
    "model_dbow = Doc2Vec(documents=texts_tagged,\n",
    "                     dm=0,\n",
    "                     alpha=0.025,\n",
    "                     vector_size=len(texts_tagged), \n",
    "                     min_count=1)"
   ]
  },
  {
   "cell_type": "code",
   "execution_count": 16,
   "id": "amateur-disclaimer",
   "metadata": {},
   "outputs": [
    {
     "data": {
      "text/plain": [
       "707"
      ]
     },
     "execution_count": 16,
     "metadata": {},
     "output_type": "execute_result"
    }
   ],
   "source": [
    "model_dbow.corpus_count"
   ]
  },
  {
   "cell_type": "code",
   "execution_count": 17,
   "id": "concrete-academy",
   "metadata": {},
   "outputs": [
    {
     "name": "stdout",
     "output_type": "stream",
     "text": [
      "training epoch 0\n",
      "training epoch 2\n",
      "training epoch 4\n",
      "training epoch 6\n",
      "training epoch 8\n",
      "training epoch 10\n",
      "training epoch 12\n",
      "training epoch 14\n",
      "training epoch 16\n",
      "training epoch 18\n"
     ]
    }
   ],
   "source": [
    "# train the model\n",
    "for epoch in range(10):\n",
    "    if epoch % 2 == 0:\n",
    "        print(f'training epoch {epoch}')\n",
    "    model_dbow.train(texts_tagged, total_examples=model_dbow.corpus_count, epochs=10)"
   ]
  },
  {
   "cell_type": "code",
   "execution_count": 18,
   "id": "entire-sussex",
   "metadata": {},
   "outputs": [],
   "source": [
    "def find_similar_jobs(tokenized_job):\n",
    "    ''' input: tokenized job offers \n",
    "        returns tags of top 5 most similar job offers and similarity probabilities\n",
    "    '''\n",
    "    \n",
    "    # infer vector from text\n",
    "    infer_vector = model_dbow.infer_vector(tokenized_job)\n",
    "    # finds similar texts\n",
    "    similar_documents = model_dbow.docvecs.most_similar([infer_vector], topn = 5)\n",
    "    \n",
    "    return similar_documents"
   ]
  },
  {
   "cell_type": "code",
   "execution_count": 19,
   "id": "female-texture",
   "metadata": {},
   "outputs": [
    {
     "data": {
      "text/plain": [
       "[('tag_0', 0.9779205322265625),\n",
       " ('tag_192', 0.7734708786010742),\n",
       " ('tag_273', 0.302062064409256),\n",
       " ('tag_396', 0.2912944257259369),\n",
       " ('tag_277', 0.28880682587623596)]"
      ]
     },
     "execution_count": 19,
     "metadata": {},
     "output_type": "execute_result"
    }
   ],
   "source": [
    "input_text_index = 0\n",
    "find_similar_jobs(texts[input_text_index])"
   ]
  },
  {
   "cell_type": "code",
   "execution_count": 20,
   "id": "owned-arlington",
   "metadata": {
    "scrolled": false,
    "tags": []
   },
   "outputs": [
    {
     "data": {
      "text/plain": [
       "('Data Scientist / Matching Engineer (m/w/d)',\n",
       " 'Taledo',\n",
       " \"You are responsible for improvement of Taledo’s Search / Matching engine between candidates and jobs and other business drivers through Data Science. You develop and compare different algorithmic approaches and/or ML models. You monitor production performance to measure the success of your work. You update outdated models. You research and discuss algorithmical as well as model improvements regularly. You are knowledgeable about what is being developed in the AI community and propose what’s applicable to Taledo.\\n\\nWhat we expect:\\nYou are curious by nature. You like to solve challenging problems\\nYou are proficient in python\\nYou have worked with relevant libraries and know when to use which: data handling (numpy, pandas, dask, psycopg2), ML/DL (scikit-learn, xgboost, keras, pytorch, spacy) and visualization (seaborn, matplotlib)\\nYou have experience evaluating different approaches and choosing an appropriate metric\\nYou have worked in Search, Matching and NLP using various approaches (ML/DL) Besides success stories, you also know what hasn’t worked\\nHaving experience in ElasticSearch is a plus\\nYou can translate a user talk or observed behaviour into an algorithmic approach. You can switch fluently between levels of details, from big picture to algorithmical details\\nYou are creative and generate ideas. We are revolutionizing an industry, so we'd love to see what exceptional ideas you’ve had before!\\nYou are hands-on and like to get things done. You work autonomously and you are proactive\\nYou speak fluent English\\nBeing in Berlin is a plus\\n\\nWhat we offer:\\nWork in a very challenging domain: matching between candidates and jobs\\nWork on a mission that has real impact on people: We have a direct impact on candidates' career development, our work decides what they will put on their CV. Furthermore, we support companies with the most important asset: the people.\\nResponsibility from the start in a flat hierarchy environment with a ‘doer & maker’ mindset. Contribute directly to Taledo's growth story and leave your footprint!\\nTrustful environment with open conversations and transparency\\nNo blame & no shame culture - we are a team\\nPersonal development plan, discussed with your manager individually\\nFrequent feedback from and to your manager\\nKnowledge sharing and constant learning (e.g. educational budget, hackathons)\\nFlexible working hours & home office. Maybe more attractive during Corona: we have an office too :-)\\nAdditional vacation days based on tenure and seniority\\nInternational team\\nTeam events and socializing activities\\n\\nTaledo is All-in-One Suite for Talent Acquisition & Relations. We offer: Talent marketing, recruiting service and candidate management - on a single platform. Part of that solution is matching top candidates with the best companies in Germany, for which we have received funding from the EU. Besides our technology, we have our own team of recruiting experts so that we don’t lose the human touch oftentimes missing in recruiting solutions.\\nHeute\\n- Weiter zur Bewerbung\\nDiesen Job melden\")"
      ]
     },
     "execution_count": 20,
     "metadata": {},
     "output_type": "execute_result"
    }
   ],
   "source": [
    "num = 0\n",
    "df_eng['job_title'][num], df_eng['company'][num], df_eng['job_text'][num]"
   ]
  },
  {
   "cell_type": "code",
   "execution_count": 21,
   "id": "funded-survival",
   "metadata": {
    "scrolled": true,
    "tags": []
   },
   "outputs": [
    {
     "data": {
      "text/plain": [
       "('',\n",
       " 'Taledo',\n",
       " \"Head of Data is responsible for driving Taledo’s business through data and taking full ownership for that. In this regard, you know how to manage yourself and the data scientist who will collaborate with you (e.g. 1on1s). By strategically thinking about the data department, you define an impactful roadmap, deliver it and measure the success of your work. You are operationally involved in retrieving insights from data, to guide our product and business development teams to success. You are conducting workshops with recruiting experts to improve the matching engine. You assist the data science modelling with insights and evaluation, ideally you can support the data scientist also operationally.\\n\\nWhat we expect:\\nYou have a great success story in the field of Data\\nYou are confident in joining a grown product with the aim to take full ownership\\nYou like to generate insights from data and drive business with it (KPIs, cohors, segmentation, exploration). Experience with DWH setups is a nice to have\\nYou have worked in Search, Matching and NLP using various approaches (ML/DL) Besides success stories, you also know what hasn’t worked\\nYou can translate a user talk or observed behaviour into an algorithmic approach. You can switch fluently between levels of details, from big picture to algorithmical details\\nYou are creative and generate ideas. We are revolutionizing an industry, so we'd love to see what exceptional ideas you’ve had before!\\nYou bring relevant coding skills (python, python-frameworks, advanced SQL)\\nYou are hands-on and like to get things done. You work autonomously and you are proactive\\nYou have experience in leadership, you can and like to manage others\\nYou have experience in stakeholder management\\nYou speak fluent English (German is nice to have)\\nYou are located in Berlin, or are willing to visit Berlin from time to time - to get to know us\\n\\nWhat we offer:\\nWork in a very challenging domain: matching between candidates and jobs\\nWork on a mission that has real impact on people: We have a direct impact on candidates' career development, our work decides what they will put on their CV. Furthermore, we support companies with the most important asset: the people.\\nResponsibility from the start in a flat hierarchy environment with a ‘doer & maker’ mindset. Contribute directly to Taledo's growth story and leave your footprint!\\nTrustful environment with open conversations and transparency\\nNo blame & no shame culture - we are a team\\nPersonal development plan, discussed with your manager individually\\nFrequent feedback from and to your manager\\nKnowledge sharing and constant learning (e.g. educational budget, hackathons)\\nFlexible working hours & home office. Maybe more attractive during Corona: we have an office too :-)\\nAdditional vacation days based on tenure and seniority\\nInternational team\\nTeam events and socializing activities\\n\\nTaledo is All-in-One Suite for Talent Acquisition & Relations. We offer: Talent marketing, recruiting service and candidate management - on a single platform. Part of that solution is matching top candidates with the best companies in Germany, for which we have received funding from the EU. Besides our technology, we have our own team of recruiting experts so that we don’t lose the human touch oftentimes missing in recruiting solutions.\\nHeute\\n- Weiter zur Bewerbung\\nDiesen Job melden\")"
      ]
     },
     "execution_count": 21,
     "metadata": {},
     "output_type": "execute_result"
    }
   ],
   "source": [
    "num = 192\n",
    "df_eng['job_title'][num], df_eng['company'][num], df_eng['job_text'][num]"
   ]
  },
  {
   "cell_type": "code",
   "execution_count": null,
   "id": "primary-advocacy",
   "metadata": {},
   "outputs": [],
   "source": []
  }
 ],
 "metadata": {
  "kernelspec": {
   "display_name": "Python 3",
   "language": "python",
   "name": "python3"
  },
  "language_info": {
   "codemirror_mode": {
    "name": "ipython",
    "version": 3
   },
   "file_extension": ".py",
   "mimetype": "text/x-python",
   "name": "python",
   "nbconvert_exporter": "python",
   "pygments_lexer": "ipython3",
   "version": "3.8.6"
  }
 },
 "nbformat": 4,
 "nbformat_minor": 5
}
