{
 "cells": [
  {
   "cell_type": "markdown",
   "id": "plastic-bahamas",
   "metadata": {},
   "source": [
    "# doc2vec implementation"
   ]
  },
  {
   "cell_type": "code",
   "execution_count": 4,
   "id": "available-basic",
   "metadata": {},
   "outputs": [],
   "source": [
    "from gensim.models.doc2vec import Doc2Vec"
   ]
  },
  {
   "cell_type": "code",
   "execution_count": 2,
   "id": "three-grammar",
   "metadata": {},
   "outputs": [],
   "source": [
    "# load model from folder, loads all model files\n",
    "model_loaded = Doc2Vec.load('../../../models/doc2vec_3000_20_epochs')"
   ]
  },
  {
   "cell_type": "code",
   "execution_count": 3,
   "id": "horizontal-trailer",
   "metadata": {},
   "outputs": [],
   "source": [
    "def similar_jobs(tokenized_job, offers):\n",
    "    ''' input: tokenized job offers, number of offers \n",
    "        returns tags of top x most similar job offers and similarity probabilities\n",
    "    '''\n",
    "\n",
    "    # infers vector from text \n",
    "    infer_vector = model_loaded.infer_vector(tokenized_job)\n",
    "    # find similar offers\n",
    "    similar_documents = model_loaded.docvecs.most_similar([infer_vector], topn = offers)\n",
    "\n",
    "    return similar_documents"
   ]
  },
  {
   "cell_type": "code",
   "execution_count": null,
   "id": "packed-reservation",
   "metadata": {},
   "outputs": [],
   "source": [
    "def print_top_jobs(text_index, offers=5):\n",
    "    \n",
    "    \"\"\" input: index of text in dataframe and number of offers we want to see\n",
    "        output: prints text of the offers\n",
    "    \"\"\"\n",
    "    \n",
    "    tags = similar_jobs(texts[text_index], offers)\n",
    "    tags = [list(i) for i in tags]\n",
    "    \n",
    "    print(f\"{tags}\\n\")\n",
    "    print(f\"{df_eng['job_title'][text_index], df_eng['company'][text_index], df_eng['job_text'][text_index]} \\\n",
    "        \\n-------------END------------\\n \")\n",
    "    \n",
    "    for tag in tags: \n",
    "        num = int(tag[0].strip('tag_'))\n",
    "        \n",
    "        print(f\"{df_eng['job_title'][num], df_eng['company'][num], df_eng['job_text'][num]} \\\n",
    "        \\n-------------END------------\\n \") \n",
    "    "
   ]
  },
  {
   "cell_type": "code",
   "execution_count": null,
   "id": "anonymous-stationery",
   "metadata": {
    "tags": []
   },
   "outputs": [],
   "source": [
    "print_top_jobs(400, 10) # duplicates 3050; 2020; 400\n",
    "#print_top_jobs(5000) "
   ]
  }
 ],
 "metadata": {
  "kernelspec": {
   "display_name": "Python 3",
   "language": "python",
   "name": "python3"
  },
  "language_info": {
   "codemirror_mode": {
    "name": "ipython",
    "version": 3
   },
   "file_extension": ".py",
   "mimetype": "text/x-python",
   "name": "python",
   "nbconvert_exporter": "python",
   "pygments_lexer": "ipython3",
   "version": "3.8.6"
  }
 },
 "nbformat": 4,
 "nbformat_minor": 5
}
